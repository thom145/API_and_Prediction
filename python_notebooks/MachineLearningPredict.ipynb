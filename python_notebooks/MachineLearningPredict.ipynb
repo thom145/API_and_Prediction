{
 "cells": [
  {
   "cell_type": "code",
   "execution_count": 1,
   "metadata": {},
   "outputs": [],
   "source": [
    "from datetime import timedelta\n",
    "from joblib import Memory\n",
    "\n",
    "import joblib as joblib\n",
    "import pandas as pd\n",
    "import numpy as np"
   ]
  },
  {
   "cell_type": "markdown",
   "metadata": {},
   "source": [
    "# Load data"
   ]
  },
  {
   "cell_type": "code",
   "execution_count": 2,
   "metadata": {},
   "outputs": [],
   "source": [
    "# data that went through pipeline\n",
    "pipline_data = pd.read_csv('../data/transformed/prediction_pipelined_data.csv') \n",
    "# original cleaned dataset\n",
    "original_data = pd.read_csv('../data/original/avro-issues.csv')"
   ]
  },
  {
   "cell_type": "code",
   "execution_count": 3,
   "metadata": {},
   "outputs": [],
   "source": [
    "# Create data to make a prediction on# \n",
    "X = pipline_data.drop(columns = ['Unnamed: 0', 'resolutiondate', 'hours_needed', 'index']).to_numpy()"
   ]
  },
  {
   "cell_type": "markdown",
   "metadata": {},
   "source": [
    "## Load machine learning algorithm"
   ]
  },
  {
   "cell_type": "code",
   "execution_count": 4,
   "metadata": {},
   "outputs": [],
   "source": [
    "# load the model from disk\n",
    "filename = '../model/machine_learning_model.sav'\n",
    "loaded_model = joblib.load(filename)"
   ]
  },
  {
   "cell_type": "code",
   "execution_count": 5,
   "metadata": {},
   "outputs": [],
   "source": [
    "# make prediction on dataset\n",
    "result = loaded_model.predict(X) \n",
    "original_data['prediction'] = result # add results to original dataset"
   ]
  },
  {
   "cell_type": "code",
   "execution_count": 6,
   "metadata": {},
   "outputs": [],
   "source": [
    "original_data['created'] = pd.to_datetime(original_data['created']) # change datetype\n",
    "original_data['prediction'] = original_data['prediction'].astype(int) # from hours to integer\n",
    "\n",
    "hours_predicted = [] \n",
    "\n",
    "for hour in original_data['prediction']:\n",
    "    if len(str(hour)) > 5:\n",
    "        hour = int(str(abs(hour))[:3])\n",
    "        hours_predicted.append(timedelta(hours = hour))\n",
    "    else:\n",
    "        hours_predicted.append(timedelta(hours = abs(hour)))\n",
    "\n",
    "original_data['hours_predicted'] = hours_predicted\n",
    "original_data['predicted_date'] = original_data['created'] + original_data['hours_predicted']\n",
    "original_data['resolutiondate'] = original_data['resolutiondate'].fillna(0)\n",
    "original_data = original_data[['key','created','prediction', 'predicted_date' ,'resolutiondate']]"
   ]
  },
  {
   "cell_type": "code",
   "execution_count": 7,
   "metadata": {},
   "outputs": [],
   "source": [
    "combination_list = []\n",
    "for key in range(len(original_data)):\n",
    "    if original_data['resolutiondate'][key] == 0:\n",
    "        combination_list.append(original_data['predicted_date'][key])\n",
    "    else:\n",
    "        combination_list.append(original_data['resolutiondate'][key])\n",
    "        \n",
    "original_data['combined_prediction_resolution'] = combination_list"
   ]
  },
  {
   "cell_type": "code",
   "execution_count": 8,
   "metadata": {},
   "outputs": [],
   "source": [
    "# change date format for final csv file\n",
    "columns = {'predicted_date': 'predicted_date_formated', \n",
    "           'created': 'created_date_formated'}\n",
    "\n",
    "for column in columns.keys():\n",
    "    new_name = columns[column]\n",
    "    original_data[new_name] = pd.to_datetime(original_data[column])\n",
    "    original_data[new_name]  = [time.strftime('%Y-%m-%d') for time in original_data[new_name] ]"
   ]
  },
  {
   "cell_type": "markdown",
   "metadata": {},
   "source": [
    "# Save final data "
   ]
  },
  {
   "cell_type": "code",
   "execution_count": 9,
   "metadata": {},
   "outputs": [],
   "source": [
    "# data that will be used in app.py\n",
    "original_data.to_csv('../data/result/prediction.csv') "
   ]
  }
 ],
 "metadata": {
  "kernelspec": {
   "display_name": "Python 3",
   "language": "python",
   "name": "python3"
  },
  "language_info": {
   "codemirror_mode": {
    "name": "ipython",
    "version": 3
   },
   "file_extension": ".py",
   "mimetype": "text/x-python",
   "name": "python",
   "nbconvert_exporter": "python",
   "pygments_lexer": "ipython3",
   "version": "3.7.3"
  }
 },
 "nbformat": 4,
 "nbformat_minor": 2
}
