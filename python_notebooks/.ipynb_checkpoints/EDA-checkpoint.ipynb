{
 "cells": [
  {
   "cell_type": "markdown",
   "metadata": {},
   "source": [
    "# Exploratory Data Analysis"
   ]
  },
  {
   "cell_type": "markdown",
   "metadata": {},
   "source": [
    "## Loading Dataset"
   ]
  },
  {
   "cell_type": "code",
   "execution_count": 278,
   "metadata": {},
   "outputs": [],
   "source": [
    "import pandas as pd\n",
    "\n",
    "df = pd.read_csv(\"../data/transformed/avro_dataset.csv\")"
   ]
  },
  {
   "cell_type": "code",
   "execution_count": 2,
   "metadata": {},
   "outputs": [],
   "source": [
    "#df = df.dropna(subset=['resolutiondate']).reset_index()"
   ]
  },
  {
   "cell_type": "markdown",
   "metadata": {},
   "source": [
    "# Basic Graphs"
   ]
  },
  {
   "cell_type": "code",
   "execution_count": 7,
   "metadata": {},
   "outputs": [
    {
     "data": {
      "application/vnd.plotly.v1+json": {
       "config": {
        "plotlyServerURL": "https://plot.ly"
       },
       "data": [
        {
         "alignmentgroup": "True",
         "bingroup": "x",
         "hovertemplate": "status=%{x}<br>count=%{y}<extra></extra>",
         "legendgroup": "",
         "marker": {
          "color": "#636efa"
         },
         "name": "",
         "offsetgroup": "",
         "orientation": "v",
         "showlegend": false,
         "type": "histogram",
         "x": [
          306,
          124,
          67,
          71,
          50,
          42,
          40,
          42,
          31,
          34,
          14,
          21,
          22,
          22,
          15,
          14,
          11,
          13,
          12,
          18,
          15,
          18,
          8,
          7,
          3,
          5,
          8,
          7,
          4,
          6,
          3,
          6,
          5,
          5,
          7,
          15,
          3,
          4,
          7,
          3,
          2,
          9,
          6,
          3,
          1,
          1,
          7,
          8,
          3,
          2,
          3,
          2,
          4,
          3,
          5,
          6,
          3,
          1,
          2,
          3,
          4,
          5,
          5,
          3,
          2,
          1,
          4,
          1,
          9,
          2,
          3,
          3,
          1,
          1,
          2,
          1,
          1,
          1,
          8,
          5,
          2,
          2,
          2,
          1,
          1,
          1,
          1,
          2,
          2,
          1,
          1,
          3,
          5,
          1,
          1,
          3,
          1,
          2,
          1,
          3,
          2,
          4,
          3,
          1,
          4,
          2,
          1,
          2,
          1,
          2,
          1,
          2,
          3,
          2
         ],
         "xaxis": "x",
         "yaxis": "y"
        },
        {
         "alignmentgroup": "True",
         "boxpoints": "all",
         "customdata": [
          [
           306
          ],
          [
           124
          ],
          [
           67
          ],
          [
           71
          ],
          [
           50
          ],
          [
           42
          ],
          [
           40
          ],
          [
           42
          ],
          [
           31
          ],
          [
           34
          ],
          [
           14
          ],
          [
           21
          ],
          [
           22
          ],
          [
           22
          ],
          [
           15
          ],
          [
           14
          ],
          [
           11
          ],
          [
           13
          ],
          [
           12
          ],
          [
           18
          ],
          [
           15
          ],
          [
           18
          ],
          [
           8
          ],
          [
           7
          ],
          [
           3
          ],
          [
           5
          ],
          [
           8
          ],
          [
           7
          ],
          [
           4
          ],
          [
           6
          ],
          [
           3
          ],
          [
           6
          ],
          [
           5
          ],
          [
           5
          ],
          [
           7
          ],
          [
           15
          ],
          [
           3
          ],
          [
           4
          ],
          [
           7
          ],
          [
           3
          ],
          [
           2
          ],
          [
           9
          ],
          [
           6
          ],
          [
           3
          ],
          [
           1
          ],
          [
           1
          ],
          [
           7
          ],
          [
           8
          ],
          [
           3
          ],
          [
           2
          ],
          [
           3
          ],
          [
           2
          ],
          [
           4
          ],
          [
           3
          ],
          [
           5
          ],
          [
           6
          ],
          [
           3
          ],
          [
           1
          ],
          [
           2
          ],
          [
           3
          ],
          [
           4
          ],
          [
           5
          ],
          [
           5
          ],
          [
           3
          ],
          [
           2
          ],
          [
           1
          ],
          [
           4
          ],
          [
           1
          ],
          [
           9
          ],
          [
           2
          ],
          [
           3
          ],
          [
           3
          ],
          [
           1
          ],
          [
           1
          ],
          [
           2
          ],
          [
           1
          ],
          [
           1
          ],
          [
           1
          ],
          [
           8
          ],
          [
           5
          ],
          [
           2
          ],
          [
           2
          ],
          [
           2
          ],
          [
           1
          ],
          [
           1
          ],
          [
           1
          ],
          [
           1
          ],
          [
           2
          ],
          [
           2
          ],
          [
           1
          ],
          [
           1
          ],
          [
           3
          ],
          [
           5
          ],
          [
           1
          ],
          [
           1
          ],
          [
           3
          ],
          [
           1
          ],
          [
           2
          ],
          [
           1
          ],
          [
           3
          ],
          [
           2
          ],
          [
           4
          ],
          [
           3
          ],
          [
           1
          ],
          [
           4
          ],
          [
           2
          ],
          [
           1
          ],
          [
           2
          ],
          [
           1
          ],
          [
           2
          ],
          [
           1
          ],
          [
           2
          ],
          [
           3
          ],
          [
           2
          ]
         ],
         "fillcolor": "rgba(255,255,255,0)",
         "hoveron": "points",
         "hovertemplate": "status=%{customdata[0]}<extra></extra>",
         "jitter": 0,
         "legendgroup": "",
         "line": {
          "color": "rgba(255,255,255,0)"
         },
         "marker": {
          "color": "#636efa",
          "symbol": "line-ns-open"
         },
         "name": "",
         "offsetgroup": "",
         "showlegend": false,
         "type": "box",
         "x": [
          306,
          124,
          67,
          71,
          50,
          42,
          40,
          42,
          31,
          34,
          14,
          21,
          22,
          22,
          15,
          14,
          11,
          13,
          12,
          18,
          15,
          18,
          8,
          7,
          3,
          5,
          8,
          7,
          4,
          6,
          3,
          6,
          5,
          5,
          7,
          15,
          3,
          4,
          7,
          3,
          2,
          9,
          6,
          3,
          1,
          1,
          7,
          8,
          3,
          2,
          3,
          2,
          4,
          3,
          5,
          6,
          3,
          1,
          2,
          3,
          4,
          5,
          5,
          3,
          2,
          1,
          4,
          1,
          9,
          2,
          3,
          3,
          1,
          1,
          2,
          1,
          1,
          1,
          8,
          5,
          2,
          2,
          2,
          1,
          1,
          1,
          1,
          2,
          2,
          1,
          1,
          3,
          5,
          1,
          1,
          3,
          1,
          2,
          1,
          3,
          2,
          4,
          3,
          1,
          4,
          2,
          1,
          2,
          1,
          2,
          1,
          2,
          3,
          2
         ],
         "xaxis": "x2",
         "yaxis": "y2"
        }
       ],
       "layout": {
        "barmode": "relative",
        "legend": {
         "tracegroupgap": 0
        },
        "margin": {
         "t": 60
        },
        "template": {
         "data": {
          "bar": [
           {
            "error_x": {
             "color": "#2a3f5f"
            },
            "error_y": {
             "color": "#2a3f5f"
            },
            "marker": {
             "line": {
              "color": "#E5ECF6",
              "width": 0.5
             }
            },
            "type": "bar"
           }
          ],
          "barpolar": [
           {
            "marker": {
             "line": {
              "color": "#E5ECF6",
              "width": 0.5
             }
            },
            "type": "barpolar"
           }
          ],
          "carpet": [
           {
            "aaxis": {
             "endlinecolor": "#2a3f5f",
             "gridcolor": "white",
             "linecolor": "white",
             "minorgridcolor": "white",
             "startlinecolor": "#2a3f5f"
            },
            "baxis": {
             "endlinecolor": "#2a3f5f",
             "gridcolor": "white",
             "linecolor": "white",
             "minorgridcolor": "white",
             "startlinecolor": "#2a3f5f"
            },
            "type": "carpet"
           }
          ],
          "choropleth": [
           {
            "colorbar": {
             "outlinewidth": 0,
             "ticks": ""
            },
            "type": "choropleth"
           }
          ],
          "contour": [
           {
            "colorbar": {
             "outlinewidth": 0,
             "ticks": ""
            },
            "colorscale": [
             [
              0,
              "#0d0887"
             ],
             [
              0.1111111111111111,
              "#46039f"
             ],
             [
              0.2222222222222222,
              "#7201a8"
             ],
             [
              0.3333333333333333,
              "#9c179e"
             ],
             [
              0.4444444444444444,
              "#bd3786"
             ],
             [
              0.5555555555555556,
              "#d8576b"
             ],
             [
              0.6666666666666666,
              "#ed7953"
             ],
             [
              0.7777777777777778,
              "#fb9f3a"
             ],
             [
              0.8888888888888888,
              "#fdca26"
             ],
             [
              1,
              "#f0f921"
             ]
            ],
            "type": "contour"
           }
          ],
          "contourcarpet": [
           {
            "colorbar": {
             "outlinewidth": 0,
             "ticks": ""
            },
            "type": "contourcarpet"
           }
          ],
          "heatmap": [
           {
            "colorbar": {
             "outlinewidth": 0,
             "ticks": ""
            },
            "colorscale": [
             [
              0,
              "#0d0887"
             ],
             [
              0.1111111111111111,
              "#46039f"
             ],
             [
              0.2222222222222222,
              "#7201a8"
             ],
             [
              0.3333333333333333,
              "#9c179e"
             ],
             [
              0.4444444444444444,
              "#bd3786"
             ],
             [
              0.5555555555555556,
              "#d8576b"
             ],
             [
              0.6666666666666666,
              "#ed7953"
             ],
             [
              0.7777777777777778,
              "#fb9f3a"
             ],
             [
              0.8888888888888888,
              "#fdca26"
             ],
             [
              1,
              "#f0f921"
             ]
            ],
            "type": "heatmap"
           }
          ],
          "heatmapgl": [
           {
            "colorbar": {
             "outlinewidth": 0,
             "ticks": ""
            },
            "colorscale": [
             [
              0,
              "#0d0887"
             ],
             [
              0.1111111111111111,
              "#46039f"
             ],
             [
              0.2222222222222222,
              "#7201a8"
             ],
             [
              0.3333333333333333,
              "#9c179e"
             ],
             [
              0.4444444444444444,
              "#bd3786"
             ],
             [
              0.5555555555555556,
              "#d8576b"
             ],
             [
              0.6666666666666666,
              "#ed7953"
             ],
             [
              0.7777777777777778,
              "#fb9f3a"
             ],
             [
              0.8888888888888888,
              "#fdca26"
             ],
             [
              1,
              "#f0f921"
             ]
            ],
            "type": "heatmapgl"
           }
          ],
          "histogram": [
           {
            "marker": {
             "colorbar": {
              "outlinewidth": 0,
              "ticks": ""
             }
            },
            "type": "histogram"
           }
          ],
          "histogram2d": [
           {
            "colorbar": {
             "outlinewidth": 0,
             "ticks": ""
            },
            "colorscale": [
             [
              0,
              "#0d0887"
             ],
             [
              0.1111111111111111,
              "#46039f"
             ],
             [
              0.2222222222222222,
              "#7201a8"
             ],
             [
              0.3333333333333333,
              "#9c179e"
             ],
             [
              0.4444444444444444,
              "#bd3786"
             ],
             [
              0.5555555555555556,
              "#d8576b"
             ],
             [
              0.6666666666666666,
              "#ed7953"
             ],
             [
              0.7777777777777778,
              "#fb9f3a"
             ],
             [
              0.8888888888888888,
              "#fdca26"
             ],
             [
              1,
              "#f0f921"
             ]
            ],
            "type": "histogram2d"
           }
          ],
          "histogram2dcontour": [
           {
            "colorbar": {
             "outlinewidth": 0,
             "ticks": ""
            },
            "colorscale": [
             [
              0,
              "#0d0887"
             ],
             [
              0.1111111111111111,
              "#46039f"
             ],
             [
              0.2222222222222222,
              "#7201a8"
             ],
             [
              0.3333333333333333,
              "#9c179e"
             ],
             [
              0.4444444444444444,
              "#bd3786"
             ],
             [
              0.5555555555555556,
              "#d8576b"
             ],
             [
              0.6666666666666666,
              "#ed7953"
             ],
             [
              0.7777777777777778,
              "#fb9f3a"
             ],
             [
              0.8888888888888888,
              "#fdca26"
             ],
             [
              1,
              "#f0f921"
             ]
            ],
            "type": "histogram2dcontour"
           }
          ],
          "mesh3d": [
           {
            "colorbar": {
             "outlinewidth": 0,
             "ticks": ""
            },
            "type": "mesh3d"
           }
          ],
          "parcoords": [
           {
            "line": {
             "colorbar": {
              "outlinewidth": 0,
              "ticks": ""
             }
            },
            "type": "parcoords"
           }
          ],
          "pie": [
           {
            "automargin": true,
            "type": "pie"
           }
          ],
          "scatter": [
           {
            "marker": {
             "colorbar": {
              "outlinewidth": 0,
              "ticks": ""
             }
            },
            "type": "scatter"
           }
          ],
          "scatter3d": [
           {
            "line": {
             "colorbar": {
              "outlinewidth": 0,
              "ticks": ""
             }
            },
            "marker": {
             "colorbar": {
              "outlinewidth": 0,
              "ticks": ""
             }
            },
            "type": "scatter3d"
           }
          ],
          "scattercarpet": [
           {
            "marker": {
             "colorbar": {
              "outlinewidth": 0,
              "ticks": ""
             }
            },
            "type": "scattercarpet"
           }
          ],
          "scattergeo": [
           {
            "marker": {
             "colorbar": {
              "outlinewidth": 0,
              "ticks": ""
             }
            },
            "type": "scattergeo"
           }
          ],
          "scattergl": [
           {
            "marker": {
             "colorbar": {
              "outlinewidth": 0,
              "ticks": ""
             }
            },
            "type": "scattergl"
           }
          ],
          "scattermapbox": [
           {
            "marker": {
             "colorbar": {
              "outlinewidth": 0,
              "ticks": ""
             }
            },
            "type": "scattermapbox"
           }
          ],
          "scatterpolar": [
           {
            "marker": {
             "colorbar": {
              "outlinewidth": 0,
              "ticks": ""
             }
            },
            "type": "scatterpolar"
           }
          ],
          "scatterpolargl": [
           {
            "marker": {
             "colorbar": {
              "outlinewidth": 0,
              "ticks": ""
             }
            },
            "type": "scatterpolargl"
           }
          ],
          "scatterternary": [
           {
            "marker": {
             "colorbar": {
              "outlinewidth": 0,
              "ticks": ""
             }
            },
            "type": "scatterternary"
           }
          ],
          "surface": [
           {
            "colorbar": {
             "outlinewidth": 0,
             "ticks": ""
            },
            "colorscale": [
             [
              0,
              "#0d0887"
             ],
             [
              0.1111111111111111,
              "#46039f"
             ],
             [
              0.2222222222222222,
              "#7201a8"
             ],
             [
              0.3333333333333333,
              "#9c179e"
             ],
             [
              0.4444444444444444,
              "#bd3786"
             ],
             [
              0.5555555555555556,
              "#d8576b"
             ],
             [
              0.6666666666666666,
              "#ed7953"
             ],
             [
              0.7777777777777778,
              "#fb9f3a"
             ],
             [
              0.8888888888888888,
              "#fdca26"
             ],
             [
              1,
              "#f0f921"
             ]
            ],
            "type": "surface"
           }
          ],
          "table": [
           {
            "cells": {
             "fill": {
              "color": "#EBF0F8"
             },
             "line": {
              "color": "white"
             }
            },
            "header": {
             "fill": {
              "color": "#C8D4E3"
             },
             "line": {
              "color": "white"
             }
            },
            "type": "table"
           }
          ]
         },
         "layout": {
          "annotationdefaults": {
           "arrowcolor": "#2a3f5f",
           "arrowhead": 0,
           "arrowwidth": 1
          },
          "coloraxis": {
           "colorbar": {
            "outlinewidth": 0,
            "ticks": ""
           }
          },
          "colorscale": {
           "diverging": [
            [
             0,
             "#8e0152"
            ],
            [
             0.1,
             "#c51b7d"
            ],
            [
             0.2,
             "#de77ae"
            ],
            [
             0.3,
             "#f1b6da"
            ],
            [
             0.4,
             "#fde0ef"
            ],
            [
             0.5,
             "#f7f7f7"
            ],
            [
             0.6,
             "#e6f5d0"
            ],
            [
             0.7,
             "#b8e186"
            ],
            [
             0.8,
             "#7fbc41"
            ],
            [
             0.9,
             "#4d9221"
            ],
            [
             1,
             "#276419"
            ]
           ],
           "sequential": [
            [
             0,
             "#0d0887"
            ],
            [
             0.1111111111111111,
             "#46039f"
            ],
            [
             0.2222222222222222,
             "#7201a8"
            ],
            [
             0.3333333333333333,
             "#9c179e"
            ],
            [
             0.4444444444444444,
             "#bd3786"
            ],
            [
             0.5555555555555556,
             "#d8576b"
            ],
            [
             0.6666666666666666,
             "#ed7953"
            ],
            [
             0.7777777777777778,
             "#fb9f3a"
            ],
            [
             0.8888888888888888,
             "#fdca26"
            ],
            [
             1,
             "#f0f921"
            ]
           ],
           "sequentialminus": [
            [
             0,
             "#0d0887"
            ],
            [
             0.1111111111111111,
             "#46039f"
            ],
            [
             0.2222222222222222,
             "#7201a8"
            ],
            [
             0.3333333333333333,
             "#9c179e"
            ],
            [
             0.4444444444444444,
             "#bd3786"
            ],
            [
             0.5555555555555556,
             "#d8576b"
            ],
            [
             0.6666666666666666,
             "#ed7953"
            ],
            [
             0.7777777777777778,
             "#fb9f3a"
            ],
            [
             0.8888888888888888,
             "#fdca26"
            ],
            [
             1,
             "#f0f921"
            ]
           ]
          },
          "colorway": [
           "#636efa",
           "#EF553B",
           "#00cc96",
           "#ab63fa",
           "#FFA15A",
           "#19d3f3",
           "#FF6692",
           "#B6E880",
           "#FF97FF",
           "#FECB52"
          ],
          "font": {
           "color": "#2a3f5f"
          },
          "geo": {
           "bgcolor": "white",
           "lakecolor": "white",
           "landcolor": "#E5ECF6",
           "showlakes": true,
           "showland": true,
           "subunitcolor": "white"
          },
          "hoverlabel": {
           "align": "left"
          },
          "hovermode": "closest",
          "mapbox": {
           "style": "light"
          },
          "paper_bgcolor": "white",
          "plot_bgcolor": "#E5ECF6",
          "polar": {
           "angularaxis": {
            "gridcolor": "white",
            "linecolor": "white",
            "ticks": ""
           },
           "bgcolor": "#E5ECF6",
           "radialaxis": {
            "gridcolor": "white",
            "linecolor": "white",
            "ticks": ""
           }
          },
          "scene": {
           "xaxis": {
            "backgroundcolor": "#E5ECF6",
            "gridcolor": "white",
            "gridwidth": 2,
            "linecolor": "white",
            "showbackground": true,
            "ticks": "",
            "zerolinecolor": "white"
           },
           "yaxis": {
            "backgroundcolor": "#E5ECF6",
            "gridcolor": "white",
            "gridwidth": 2,
            "linecolor": "white",
            "showbackground": true,
            "ticks": "",
            "zerolinecolor": "white"
           },
           "zaxis": {
            "backgroundcolor": "#E5ECF6",
            "gridcolor": "white",
            "gridwidth": 2,
            "linecolor": "white",
            "showbackground": true,
            "ticks": "",
            "zerolinecolor": "white"
           }
          },
          "shapedefaults": {
           "line": {
            "color": "#2a3f5f"
           }
          },
          "ternary": {
           "aaxis": {
            "gridcolor": "white",
            "linecolor": "white",
            "ticks": ""
           },
           "baxis": {
            "gridcolor": "white",
            "linecolor": "white",
            "ticks": ""
           },
           "bgcolor": "#E5ECF6",
           "caxis": {
            "gridcolor": "white",
            "linecolor": "white",
            "ticks": ""
           }
          },
          "title": {
           "x": 0.05
          },
          "xaxis": {
           "automargin": true,
           "gridcolor": "white",
           "linecolor": "white",
           "ticks": "",
           "title": {
            "standoff": 15
           },
           "zerolinecolor": "white",
           "zerolinewidth": 2
          },
          "yaxis": {
           "automargin": true,
           "gridcolor": "white",
           "linecolor": "white",
           "ticks": "",
           "title": {
            "standoff": 15
           },
           "zerolinecolor": "white",
           "zerolinewidth": 2
          }
         }
        },
        "xaxis": {
         "anchor": "y",
         "domain": [
          0,
          1
         ],
         "title": {
          "text": "status"
         }
        },
        "xaxis2": {
         "anchor": "y2",
         "domain": [
          0,
          1
         ],
         "matches": "x",
         "showgrid": true,
         "showticklabels": false
        },
        "yaxis": {
         "anchor": "x",
         "domain": [
          0,
          0.8316
         ],
         "title": {
          "text": "count"
         }
        },
        "yaxis2": {
         "anchor": "x2",
         "domain": [
          0.8416,
          1
         ],
         "matches": "y2",
         "showgrid": false,
         "showline": false,
         "showticklabels": false,
         "ticks": ""
        }
       }
      },
      "text/html": [
       "<div>\n",
       "        \n",
       "        \n",
       "            <div id=\"5e234da5-f725-458d-9286-1494f752d93d\" class=\"plotly-graph-div\" style=\"height:525px; width:100%;\"></div>\n",
       "            <script type=\"text/javascript\">\n",
       "                require([\"plotly\"], function(Plotly) {\n",
       "                    window.PLOTLYENV=window.PLOTLYENV || {};\n",
       "                    \n",
       "                if (document.getElementById(\"5e234da5-f725-458d-9286-1494f752d93d\")) {\n",
       "                    Plotly.newPlot(\n",
       "                        '5e234da5-f725-458d-9286-1494f752d93d',\n",
       "                        [{\"alignmentgroup\": \"True\", \"bingroup\": \"x\", \"hovertemplate\": \"status=%{x}<br>count=%{y}<extra></extra>\", \"legendgroup\": \"\", \"marker\": {\"color\": \"#636efa\"}, \"name\": \"\", \"offsetgroup\": \"\", \"orientation\": \"v\", \"showlegend\": false, \"type\": \"histogram\", \"x\": [306, 124, 67, 71, 50, 42, 40, 42, 31, 34, 14, 21, 22, 22, 15, 14, 11, 13, 12, 18, 15, 18, 8, 7, 3, 5, 8, 7, 4, 6, 3, 6, 5, 5, 7, 15, 3, 4, 7, 3, 2, 9, 6, 3, 1, 1, 7, 8, 3, 2, 3, 2, 4, 3, 5, 6, 3, 1, 2, 3, 4, 5, 5, 3, 2, 1, 4, 1, 9, 2, 3, 3, 1, 1, 2, 1, 1, 1, 8, 5, 2, 2, 2, 1, 1, 1, 1, 2, 2, 1, 1, 3, 5, 1, 1, 3, 1, 2, 1, 3, 2, 4, 3, 1, 4, 2, 1, 2, 1, 2, 1, 2, 3, 2], \"xaxis\": \"x\", \"yaxis\": \"y\"}, {\"alignmentgroup\": \"True\", \"boxpoints\": \"all\", \"customdata\": [[306], [124], [67], [71], [50], [42], [40], [42], [31], [34], [14], [21], [22], [22], [15], [14], [11], [13], [12], [18], [15], [18], [8], [7], [3], [5], [8], [7], [4], [6], [3], [6], [5], [5], [7], [15], [3], [4], [7], [3], [2], [9], [6], [3], [1], [1], [7], [8], [3], [2], [3], [2], [4], [3], [5], [6], [3], [1], [2], [3], [4], [5], [5], [3], [2], [1], [4], [1], [9], [2], [3], [3], [1], [1], [2], [1], [1], [1], [8], [5], [2], [2], [2], [1], [1], [1], [1], [2], [2], [1], [1], [3], [5], [1], [1], [3], [1], [2], [1], [3], [2], [4], [3], [1], [4], [2], [1], [2], [1], [2], [1], [2], [3], [2]], \"fillcolor\": \"rgba(255,255,255,0)\", \"hoveron\": \"points\", \"hovertemplate\": \"status=%{customdata[0]}<extra></extra>\", \"jitter\": 0, \"legendgroup\": \"\", \"line\": {\"color\": \"rgba(255,255,255,0)\"}, \"marker\": {\"color\": \"#636efa\", \"symbol\": \"line-ns-open\"}, \"name\": \"\", \"offsetgroup\": \"\", \"showlegend\": false, \"type\": \"box\", \"x\": [306, 124, 67, 71, 50, 42, 40, 42, 31, 34, 14, 21, 22, 22, 15, 14, 11, 13, 12, 18, 15, 18, 8, 7, 3, 5, 8, 7, 4, 6, 3, 6, 5, 5, 7, 15, 3, 4, 7, 3, 2, 9, 6, 3, 1, 1, 7, 8, 3, 2, 3, 2, 4, 3, 5, 6, 3, 1, 2, 3, 4, 5, 5, 3, 2, 1, 4, 1, 9, 2, 3, 3, 1, 1, 2, 1, 1, 1, 8, 5, 2, 2, 2, 1, 1, 1, 1, 2, 2, 1, 1, 3, 5, 1, 1, 3, 1, 2, 1, 3, 2, 4, 3, 1, 4, 2, 1, 2, 1, 2, 1, 2, 3, 2], \"xaxis\": \"x2\", \"yaxis\": \"y2\"}],\n",
       "                        {\"barmode\": \"relative\", \"legend\": {\"tracegroupgap\": 0}, \"margin\": {\"t\": 60}, \"template\": {\"data\": {\"bar\": [{\"error_x\": {\"color\": \"#2a3f5f\"}, \"error_y\": {\"color\": \"#2a3f5f\"}, \"marker\": {\"line\": {\"color\": \"#E5ECF6\", \"width\": 0.5}}, \"type\": \"bar\"}], \"barpolar\": [{\"marker\": {\"line\": {\"color\": \"#E5ECF6\", \"width\": 0.5}}, \"type\": \"barpolar\"}], \"carpet\": [{\"aaxis\": {\"endlinecolor\": \"#2a3f5f\", \"gridcolor\": \"white\", \"linecolor\": \"white\", \"minorgridcolor\": \"white\", \"startlinecolor\": \"#2a3f5f\"}, \"baxis\": {\"endlinecolor\": \"#2a3f5f\", \"gridcolor\": \"white\", \"linecolor\": \"white\", \"minorgridcolor\": \"white\", \"startlinecolor\": \"#2a3f5f\"}, \"type\": \"carpet\"}], \"choropleth\": [{\"colorbar\": {\"outlinewidth\": 0, \"ticks\": \"\"}, \"type\": \"choropleth\"}], \"contour\": [{\"colorbar\": {\"outlinewidth\": 0, \"ticks\": \"\"}, \"colorscale\": [[0.0, \"#0d0887\"], [0.1111111111111111, \"#46039f\"], [0.2222222222222222, \"#7201a8\"], [0.3333333333333333, \"#9c179e\"], [0.4444444444444444, \"#bd3786\"], [0.5555555555555556, \"#d8576b\"], [0.6666666666666666, \"#ed7953\"], [0.7777777777777778, \"#fb9f3a\"], [0.8888888888888888, \"#fdca26\"], [1.0, \"#f0f921\"]], \"type\": \"contour\"}], \"contourcarpet\": [{\"colorbar\": {\"outlinewidth\": 0, \"ticks\": \"\"}, \"type\": \"contourcarpet\"}], \"heatmap\": [{\"colorbar\": {\"outlinewidth\": 0, \"ticks\": \"\"}, \"colorscale\": [[0.0, \"#0d0887\"], [0.1111111111111111, \"#46039f\"], [0.2222222222222222, \"#7201a8\"], [0.3333333333333333, \"#9c179e\"], [0.4444444444444444, \"#bd3786\"], [0.5555555555555556, \"#d8576b\"], [0.6666666666666666, \"#ed7953\"], [0.7777777777777778, \"#fb9f3a\"], [0.8888888888888888, \"#fdca26\"], [1.0, \"#f0f921\"]], \"type\": \"heatmap\"}], \"heatmapgl\": [{\"colorbar\": {\"outlinewidth\": 0, \"ticks\": \"\"}, \"colorscale\": [[0.0, \"#0d0887\"], [0.1111111111111111, \"#46039f\"], [0.2222222222222222, \"#7201a8\"], [0.3333333333333333, \"#9c179e\"], [0.4444444444444444, \"#bd3786\"], [0.5555555555555556, \"#d8576b\"], [0.6666666666666666, \"#ed7953\"], [0.7777777777777778, \"#fb9f3a\"], [0.8888888888888888, \"#fdca26\"], [1.0, \"#f0f921\"]], \"type\": \"heatmapgl\"}], \"histogram\": [{\"marker\": {\"colorbar\": {\"outlinewidth\": 0, \"ticks\": \"\"}}, \"type\": \"histogram\"}], \"histogram2d\": [{\"colorbar\": {\"outlinewidth\": 0, \"ticks\": \"\"}, \"colorscale\": [[0.0, \"#0d0887\"], [0.1111111111111111, \"#46039f\"], [0.2222222222222222, \"#7201a8\"], [0.3333333333333333, \"#9c179e\"], [0.4444444444444444, \"#bd3786\"], [0.5555555555555556, \"#d8576b\"], [0.6666666666666666, \"#ed7953\"], [0.7777777777777778, \"#fb9f3a\"], [0.8888888888888888, \"#fdca26\"], [1.0, \"#f0f921\"]], \"type\": \"histogram2d\"}], \"histogram2dcontour\": [{\"colorbar\": {\"outlinewidth\": 0, \"ticks\": \"\"}, \"colorscale\": [[0.0, \"#0d0887\"], [0.1111111111111111, \"#46039f\"], [0.2222222222222222, \"#7201a8\"], [0.3333333333333333, \"#9c179e\"], [0.4444444444444444, \"#bd3786\"], [0.5555555555555556, \"#d8576b\"], [0.6666666666666666, \"#ed7953\"], [0.7777777777777778, \"#fb9f3a\"], [0.8888888888888888, \"#fdca26\"], [1.0, \"#f0f921\"]], \"type\": \"histogram2dcontour\"}], \"mesh3d\": [{\"colorbar\": {\"outlinewidth\": 0, \"ticks\": \"\"}, \"type\": \"mesh3d\"}], \"parcoords\": [{\"line\": {\"colorbar\": {\"outlinewidth\": 0, \"ticks\": \"\"}}, \"type\": \"parcoords\"}], \"pie\": [{\"automargin\": true, \"type\": \"pie\"}], \"scatter\": [{\"marker\": {\"colorbar\": {\"outlinewidth\": 0, \"ticks\": \"\"}}, \"type\": \"scatter\"}], \"scatter3d\": [{\"line\": {\"colorbar\": {\"outlinewidth\": 0, \"ticks\": \"\"}}, \"marker\": {\"colorbar\": {\"outlinewidth\": 0, \"ticks\": \"\"}}, \"type\": \"scatter3d\"}], \"scattercarpet\": [{\"marker\": {\"colorbar\": {\"outlinewidth\": 0, \"ticks\": \"\"}}, \"type\": \"scattercarpet\"}], \"scattergeo\": [{\"marker\": {\"colorbar\": {\"outlinewidth\": 0, \"ticks\": \"\"}}, \"type\": \"scattergeo\"}], \"scattergl\": [{\"marker\": {\"colorbar\": {\"outlinewidth\": 0, \"ticks\": \"\"}}, \"type\": \"scattergl\"}], \"scattermapbox\": [{\"marker\": {\"colorbar\": {\"outlinewidth\": 0, \"ticks\": \"\"}}, \"type\": \"scattermapbox\"}], \"scatterpolar\": [{\"marker\": {\"colorbar\": {\"outlinewidth\": 0, \"ticks\": \"\"}}, \"type\": \"scatterpolar\"}], \"scatterpolargl\": [{\"marker\": {\"colorbar\": {\"outlinewidth\": 0, \"ticks\": \"\"}}, \"type\": \"scatterpolargl\"}], \"scatterternary\": [{\"marker\": {\"colorbar\": {\"outlinewidth\": 0, \"ticks\": \"\"}}, \"type\": \"scatterternary\"}], \"surface\": [{\"colorbar\": {\"outlinewidth\": 0, \"ticks\": \"\"}, \"colorscale\": [[0.0, \"#0d0887\"], [0.1111111111111111, \"#46039f\"], [0.2222222222222222, \"#7201a8\"], [0.3333333333333333, \"#9c179e\"], [0.4444444444444444, \"#bd3786\"], [0.5555555555555556, \"#d8576b\"], [0.6666666666666666, \"#ed7953\"], [0.7777777777777778, \"#fb9f3a\"], [0.8888888888888888, \"#fdca26\"], [1.0, \"#f0f921\"]], \"type\": \"surface\"}], \"table\": [{\"cells\": {\"fill\": {\"color\": \"#EBF0F8\"}, \"line\": {\"color\": \"white\"}}, \"header\": {\"fill\": {\"color\": \"#C8D4E3\"}, \"line\": {\"color\": \"white\"}}, \"type\": \"table\"}]}, \"layout\": {\"annotationdefaults\": {\"arrowcolor\": \"#2a3f5f\", \"arrowhead\": 0, \"arrowwidth\": 1}, \"coloraxis\": {\"colorbar\": {\"outlinewidth\": 0, \"ticks\": \"\"}}, \"colorscale\": {\"diverging\": [[0, \"#8e0152\"], [0.1, \"#c51b7d\"], [0.2, \"#de77ae\"], [0.3, \"#f1b6da\"], [0.4, \"#fde0ef\"], [0.5, \"#f7f7f7\"], [0.6, \"#e6f5d0\"], [0.7, \"#b8e186\"], [0.8, \"#7fbc41\"], [0.9, \"#4d9221\"], [1, \"#276419\"]], \"sequential\": [[0.0, \"#0d0887\"], [0.1111111111111111, \"#46039f\"], [0.2222222222222222, \"#7201a8\"], [0.3333333333333333, \"#9c179e\"], [0.4444444444444444, \"#bd3786\"], [0.5555555555555556, \"#d8576b\"], [0.6666666666666666, \"#ed7953\"], [0.7777777777777778, \"#fb9f3a\"], [0.8888888888888888, \"#fdca26\"], [1.0, \"#f0f921\"]], \"sequentialminus\": [[0.0, \"#0d0887\"], [0.1111111111111111, \"#46039f\"], [0.2222222222222222, \"#7201a8\"], [0.3333333333333333, \"#9c179e\"], [0.4444444444444444, \"#bd3786\"], [0.5555555555555556, \"#d8576b\"], [0.6666666666666666, \"#ed7953\"], [0.7777777777777778, \"#fb9f3a\"], [0.8888888888888888, \"#fdca26\"], [1.0, \"#f0f921\"]]}, \"colorway\": [\"#636efa\", \"#EF553B\", \"#00cc96\", \"#ab63fa\", \"#FFA15A\", \"#19d3f3\", \"#FF6692\", \"#B6E880\", \"#FF97FF\", \"#FECB52\"], \"font\": {\"color\": \"#2a3f5f\"}, \"geo\": {\"bgcolor\": \"white\", \"lakecolor\": \"white\", \"landcolor\": \"#E5ECF6\", \"showlakes\": true, \"showland\": true, \"subunitcolor\": \"white\"}, \"hoverlabel\": {\"align\": \"left\"}, \"hovermode\": \"closest\", \"mapbox\": {\"style\": \"light\"}, \"paper_bgcolor\": \"white\", \"plot_bgcolor\": \"#E5ECF6\", \"polar\": {\"angularaxis\": {\"gridcolor\": \"white\", \"linecolor\": \"white\", \"ticks\": \"\"}, \"bgcolor\": \"#E5ECF6\", \"radialaxis\": {\"gridcolor\": \"white\", \"linecolor\": \"white\", \"ticks\": \"\"}}, \"scene\": {\"xaxis\": {\"backgroundcolor\": \"#E5ECF6\", \"gridcolor\": \"white\", \"gridwidth\": 2, \"linecolor\": \"white\", \"showbackground\": true, \"ticks\": \"\", \"zerolinecolor\": \"white\"}, \"yaxis\": {\"backgroundcolor\": \"#E5ECF6\", \"gridcolor\": \"white\", \"gridwidth\": 2, \"linecolor\": \"white\", \"showbackground\": true, \"ticks\": \"\", \"zerolinecolor\": \"white\"}, \"zaxis\": {\"backgroundcolor\": \"#E5ECF6\", \"gridcolor\": \"white\", \"gridwidth\": 2, \"linecolor\": \"white\", \"showbackground\": true, \"ticks\": \"\", \"zerolinecolor\": \"white\"}}, \"shapedefaults\": {\"line\": {\"color\": \"#2a3f5f\"}}, \"ternary\": {\"aaxis\": {\"gridcolor\": \"white\", \"linecolor\": \"white\", \"ticks\": \"\"}, \"baxis\": {\"gridcolor\": \"white\", \"linecolor\": \"white\", \"ticks\": \"\"}, \"bgcolor\": \"#E5ECF6\", \"caxis\": {\"gridcolor\": \"white\", \"linecolor\": \"white\", \"ticks\": \"\"}}, \"title\": {\"x\": 0.05}, \"xaxis\": {\"automargin\": true, \"gridcolor\": \"white\", \"linecolor\": \"white\", \"ticks\": \"\", \"title\": {\"standoff\": 15}, \"zerolinecolor\": \"white\", \"zerolinewidth\": 2}, \"yaxis\": {\"automargin\": true, \"gridcolor\": \"white\", \"linecolor\": \"white\", \"ticks\": \"\", \"title\": {\"standoff\": 15}, \"zerolinecolor\": \"white\", \"zerolinewidth\": 2}}}, \"xaxis\": {\"anchor\": \"y\", \"domain\": [0.0, 1.0], \"title\": {\"text\": \"status\"}}, \"xaxis2\": {\"anchor\": \"y2\", \"domain\": [0.0, 1.0], \"matches\": \"x\", \"showgrid\": true, \"showticklabels\": false}, \"yaxis\": {\"anchor\": \"x\", \"domain\": [0.0, 0.8316], \"title\": {\"text\": \"count\"}}, \"yaxis2\": {\"anchor\": \"x2\", \"domain\": [0.8416, 1.0], \"matches\": \"y2\", \"showgrid\": false, \"showline\": false, \"showticklabels\": false, \"ticks\": \"\"}},\n",
       "                        {\"responsive\": true}\n",
       "                    ).then(function(){\n",
       "                            \n",
       "var gd = document.getElementById('5e234da5-f725-458d-9286-1494f752d93d');\n",
       "var x = new MutationObserver(function (mutations, observer) {{\n",
       "        var display = window.getComputedStyle(gd).display;\n",
       "        if (!display || display === 'none') {{\n",
       "            console.log([gd, 'removed!']);\n",
       "            Plotly.purge(gd);\n",
       "            observer.disconnect();\n",
       "        }}\n",
       "}});\n",
       "\n",
       "// Listen for the removal of the full notebook cells\n",
       "var notebookContainer = gd.closest('#notebook-container');\n",
       "if (notebookContainer) {{\n",
       "    x.observe(notebookContainer, {childList: true});\n",
       "}}\n",
       "\n",
       "// Listen for the clearing of the current output cell\n",
       "var outputEl = gd.closest('.output');\n",
       "if (outputEl) {{\n",
       "    x.observe(outputEl, {childList: true});\n",
       "}}\n",
       "\n",
       "                        })\n",
       "                };\n",
       "                });\n",
       "            </script>\n",
       "        </div>"
      ]
     },
     "metadata": {},
     "output_type": "display_data"
    }
   ],
   "source": [
    "import plotly.figure_factory as ff\n",
    "import plotly.express as px\n",
    "\n",
    "start = df[['days_needed', 'status']].groupby('days_needed').count()\n",
    "fig = px.histogram(start, x=\"status\", marginal=\"rug\",\n",
    "                   hover_data=start.columns)\n",
    "fig.show()"
   ]
  },
  {
   "cell_type": "code",
   "execution_count": 8,
   "metadata": {},
   "outputs": [],
   "source": [
    "df['created_date'] = pd.to_datetime(df['created_date'])\n",
    "df['created_date'] = [time.strftime('%Y-%m-%d') for time in df['created_date']]"
   ]
  },
  {
   "cell_type": "markdown",
   "metadata": {},
   "source": [
    "## Number of cases created"
   ]
  },
  {
   "cell_type": "code",
   "execution_count": 9,
   "metadata": {},
   "outputs": [
    {
     "data": {
      "application/vnd.plotly.v1+json": {
       "config": {
        "plotlyServerURL": "https://plot.ly"
       },
       "data": [
        {
         "hovertemplate": "x=%{x}<br>status=%{y}<extra></extra>",
         "legendgroup": "",
         "line": {
          "color": "#636efa",
          "dash": "solid"
         },
         "mode": "lines",
         "name": "",
         "showlegend": false,
         "type": "scatter",
         "x": [
          "2009-04-09",
          "2009-04-10",
          "2009-04-11",
          "2009-04-13",
          "2009-04-14",
          "2009-04-15",
          "2009-04-21",
          "2009-04-24",
          "2009-04-25",
          "2009-04-29",
          "2009-05-01",
          "2009-05-06",
          "2009-05-11",
          "2009-05-12",
          "2009-05-13",
          "2009-05-14",
          "2009-05-15",
          "2009-05-22",
          "2009-05-26",
          "2009-05-27",
          "2009-05-31",
          "2009-06-01",
          "2009-06-02",
          "2009-06-03",
          "2009-06-06",
          "2009-06-10",
          "2009-06-13",
          "2009-06-16",
          "2009-06-17",
          "2009-06-18",
          "2009-06-19",
          "2009-06-20",
          "2009-06-22",
          "2009-06-24",
          "2009-06-25",
          "2009-06-29",
          "2009-06-30",
          "2009-07-03",
          "2009-07-04",
          "2009-07-06",
          "2009-07-09",
          "2009-07-15",
          "2009-07-18",
          "2009-07-20",
          "2009-07-22",
          "2009-07-23",
          "2009-07-28",
          "2009-07-31",
          "2009-08-11",
          "2009-08-12",
          "2009-08-14",
          "2009-08-15",
          "2009-08-16",
          "2009-08-18",
          "2009-08-19",
          "2009-08-20",
          "2009-08-27",
          "2009-08-28",
          "2009-09-01",
          "2009-09-02",
          "2009-09-04",
          "2009-09-08",
          "2009-09-11",
          "2009-09-19",
          "2009-09-21",
          "2009-09-22",
          "2009-09-23",
          "2009-09-24",
          "2009-09-25",
          "2009-09-28",
          "2009-09-29",
          "2009-09-30",
          "2009-10-02",
          "2009-10-05",
          "2009-10-07",
          "2009-10-08",
          "2009-10-13",
          "2009-10-14",
          "2009-10-15",
          "2009-10-16",
          "2009-10-19",
          "2009-10-20",
          "2009-10-21",
          "2009-10-22",
          "2009-10-23",
          "2009-10-24",
          "2009-10-26",
          "2009-10-29",
          "2009-10-30",
          "2009-11-02",
          "2009-11-03",
          "2009-11-04",
          "2009-11-05",
          "2009-11-06",
          "2009-11-09",
          "2009-11-10",
          "2009-11-11",
          "2009-11-12",
          "2009-11-13",
          "2009-11-14",
          "2009-11-15",
          "2009-11-16",
          "2009-11-17",
          "2009-11-18",
          "2009-11-19",
          "2009-11-20",
          "2009-11-21",
          "2009-11-24",
          "2009-11-25",
          "2009-11-30",
          "2009-12-01",
          "2009-12-04",
          "2009-12-08",
          "2009-12-11",
          "2009-12-14",
          "2009-12-15",
          "2009-12-18",
          "2009-12-22",
          "2009-12-23",
          "2009-12-29",
          "2009-12-30",
          "2009-12-31",
          "2010-01-04",
          "2010-01-05",
          "2010-01-07",
          "2010-01-08",
          "2010-01-09",
          "2010-01-10",
          "2010-01-11",
          "2010-01-12",
          "2010-01-13",
          "2010-01-14",
          "2010-01-15",
          "2010-01-16",
          "2010-01-18",
          "2010-01-19",
          "2010-01-20",
          "2010-01-21",
          "2010-01-22",
          "2010-01-23",
          "2010-01-24",
          "2010-01-25",
          "2010-01-26",
          "2010-01-27",
          "2010-01-28",
          "2010-01-29",
          "2010-01-30",
          "2010-01-31",
          "2010-02-03",
          "2010-02-04",
          "2010-02-05",
          "2010-02-06",
          "2010-02-09",
          "2010-02-12",
          "2010-02-13",
          "2010-02-15",
          "2010-02-16",
          "2010-02-17",
          "2010-02-19",
          "2010-02-20",
          "2010-02-22",
          "2010-02-23",
          "2010-02-25",
          "2010-02-26",
          "2010-03-02",
          "2010-03-03",
          "2010-03-04",
          "2010-03-05",
          "2010-03-06",
          "2010-03-08",
          "2010-03-12",
          "2010-03-14",
          "2010-03-15",
          "2010-03-16",
          "2010-03-17",
          "2010-03-18",
          "2010-03-19",
          "2010-03-21",
          "2010-03-22",
          "2010-03-24",
          "2010-03-26",
          "2010-03-30",
          "2010-04-02",
          "2010-04-03",
          "2010-04-04",
          "2010-04-05",
          "2010-04-06",
          "2010-04-08",
          "2010-04-09",
          "2010-04-11",
          "2010-04-15",
          "2010-04-17",
          "2010-04-19",
          "2010-04-24",
          "2010-04-25",
          "2010-04-28",
          "2010-04-30",
          "2010-05-13",
          "2010-05-14",
          "2010-05-15",
          "2010-05-18",
          "2010-05-22",
          "2010-05-27",
          "2010-05-30",
          "2010-05-31",
          "2010-06-02",
          "2010-06-03",
          "2010-06-04",
          "2010-06-07",
          "2010-06-09",
          "2010-06-11",
          "2010-06-14",
          "2010-06-15",
          "2010-06-17",
          "2010-06-22",
          "2010-06-23",
          "2010-06-24",
          "2010-06-30",
          "2010-07-01",
          "2010-07-06",
          "2010-07-12",
          "2010-07-14",
          "2010-07-15",
          "2010-07-19",
          "2010-07-22",
          "2010-07-27",
          "2010-08-03",
          "2010-08-04",
          "2010-08-05",
          "2010-08-06",
          "2010-08-12",
          "2010-08-13",
          "2010-08-16",
          "2010-08-17",
          "2010-08-19",
          "2010-08-20",
          "2010-08-24",
          "2010-08-25",
          "2010-08-26",
          "2010-08-27",
          "2010-08-28",
          "2010-08-30",
          "2010-09-01",
          "2010-09-02",
          "2010-09-03",
          "2010-09-07",
          "2010-09-08",
          "2010-09-09",
          "2010-09-10",
          "2010-09-12",
          "2010-09-16",
          "2010-09-17",
          "2010-09-19",
          "2010-09-24",
          "2010-09-25",
          "2010-09-30",
          "2010-10-06",
          "2010-10-14",
          "2010-10-24",
          "2010-10-25",
          "2010-10-27",
          "2010-11-01",
          "2010-11-04",
          "2010-11-08",
          "2010-11-17",
          "2010-11-18",
          "2010-11-19",
          "2010-11-22",
          "2010-11-23",
          "2010-11-24",
          "2010-11-30",
          "2010-12-01",
          "2010-12-02",
          "2010-12-04",
          "2010-12-05",
          "2010-12-12",
          "2010-12-13",
          "2010-12-15",
          "2010-12-17",
          "2010-12-21",
          "2010-12-23",
          "2010-12-30",
          "2011-01-02",
          "2011-01-04",
          "2011-01-05",
          "2011-01-08",
          "2011-01-10",
          "2011-01-11",
          "2011-01-14",
          "2011-01-18",
          "2011-01-19",
          "2011-01-20",
          "2011-01-22",
          "2011-01-24",
          "2011-01-28",
          "2011-02-01",
          "2011-02-04",
          "2011-02-08",
          "2011-02-09",
          "2011-02-13",
          "2011-02-14",
          "2011-02-15",
          "2011-02-17",
          "2011-02-20",
          "2011-02-21",
          "2011-02-22",
          "2011-03-05",
          "2011-03-09",
          "2011-03-11",
          "2011-03-13",
          "2011-03-19",
          "2011-03-21",
          "2011-03-22",
          "2011-03-24",
          "2011-03-28",
          "2011-03-29",
          "2011-03-30",
          "2011-03-31",
          "2011-04-04",
          "2011-04-05",
          "2011-04-06",
          "2011-04-08",
          "2011-04-12",
          "2011-04-20",
          "2011-04-21",
          "2011-04-22",
          "2011-04-23",
          "2011-04-26",
          "2011-04-27",
          "2011-04-29",
          "2011-05-03",
          "2011-05-12",
          "2011-05-13",
          "2011-05-17",
          "2011-05-18",
          "2011-05-19",
          "2011-05-20",
          "2011-05-25",
          "2011-05-26",
          "2011-05-31",
          "2011-06-04",
          "2011-06-07",
          "2011-06-10",
          "2011-06-16",
          "2011-06-23",
          "2011-06-24",
          "2011-06-28",
          "2011-06-29",
          "2011-06-30",
          "2011-07-06",
          "2011-07-07",
          "2011-07-10",
          "2011-07-14",
          "2011-07-22",
          "2011-07-24",
          "2011-07-26",
          "2011-07-28",
          "2011-08-01",
          "2011-08-03",
          "2011-08-09",
          "2011-08-10",
          "2011-08-11",
          "2011-08-15",
          "2011-08-16",
          "2011-08-18",
          "2011-08-22",
          "2011-08-23",
          "2011-08-30",
          "2011-09-06",
          "2011-09-08",
          "2011-09-16",
          "2011-09-18",
          "2011-09-20",
          "2011-09-21",
          "2011-09-23",
          "2011-09-25",
          "2011-09-26",
          "2011-09-27",
          "2011-10-01",
          "2011-10-02",
          "2011-10-04",
          "2011-10-05",
          "2011-10-06",
          "2011-10-07",
          "2011-10-08",
          "2011-10-10",
          "2011-10-12",
          "2011-10-14",
          "2011-10-15",
          "2011-10-16",
          "2011-10-17",
          "2011-10-19",
          "2011-10-21",
          "2011-10-22",
          "2011-10-23",
          "2011-10-25",
          "2011-10-27",
          "2011-10-28",
          "2011-11-03",
          "2011-11-04",
          "2011-11-07",
          "2011-11-21",
          "2011-11-22",
          "2011-11-25",
          "2011-11-28",
          "2011-11-29",
          "2011-11-30",
          "2011-12-02",
          "2011-12-08",
          "2011-12-12",
          "2011-12-13",
          "2011-12-15",
          "2011-12-19",
          "2011-12-22",
          "2012-01-16",
          "2012-01-17",
          "2012-01-18",
          "2012-01-19",
          "2012-01-20",
          "2012-01-24",
          "2012-01-25",
          "2012-01-27",
          "2012-01-30",
          "2012-01-31",
          "2012-02-04",
          "2012-02-07",
          "2012-02-08",
          "2012-02-10",
          "2012-02-14",
          "2012-02-15",
          "2012-02-19",
          "2012-02-22",
          "2012-02-23",
          "2012-02-29",
          "2012-03-01",
          "2012-03-06",
          "2012-03-09",
          "2012-03-14",
          "2012-03-16",
          "2012-03-22",
          "2012-03-23",
          "2012-03-27",
          "2012-03-30",
          "2012-04-04",
          "2012-04-07",
          "2012-04-13",
          "2012-04-15",
          "2012-04-17",
          "2012-04-18",
          "2012-04-19",
          "2012-04-20",
          "2012-04-22",
          "2012-04-23",
          "2012-04-27",
          "2012-04-29",
          "2012-05-04",
          "2012-05-06",
          "2012-05-10",
          "2012-05-11",
          "2012-05-12",
          "2012-05-14",
          "2012-05-15",
          "2012-05-16",
          "2012-05-17",
          "2012-05-19",
          "2012-05-20",
          "2012-05-21",
          "2012-05-24",
          "2012-05-25",
          "2012-05-26",
          "2012-05-28",
          "2012-06-01",
          "2012-06-02",
          "2012-06-07",
          "2012-06-08",
          "2012-06-09",
          "2012-06-11",
          "2012-06-13",
          "2012-06-15",
          "2012-06-18",
          "2012-06-20",
          "2012-06-21",
          "2012-06-27",
          "2012-07-12",
          "2012-07-17",
          "2012-07-19",
          "2012-07-22",
          "2012-07-27",
          "2012-08-05",
          "2012-08-13",
          "2012-08-15",
          "2012-08-21",
          "2012-08-28",
          "2012-08-31",
          "2012-09-05",
          "2012-09-07",
          "2012-09-10",
          "2012-09-11",
          "2012-09-12",
          "2012-09-13",
          "2012-09-14",
          "2012-09-18",
          "2012-09-19",
          "2012-09-22",
          "2012-09-27",
          "2012-10-01",
          "2012-10-17",
          "2012-10-24",
          "2012-10-30",
          "2012-11-03",
          "2012-11-08",
          "2012-11-09",
          "2012-11-14",
          "2012-11-16",
          "2012-11-19",
          "2012-11-21",
          "2012-11-22",
          "2012-12-07",
          "2012-12-13",
          "2012-12-19",
          "2012-12-20",
          "2013-01-05",
          "2013-01-09",
          "2013-01-10",
          "2013-01-11",
          "2013-01-15",
          "2013-02-01",
          "2013-02-06",
          "2013-02-07",
          "2013-02-10",
          "2013-02-11",
          "2013-02-12",
          "2013-02-14",
          "2013-02-19",
          "2013-02-20",
          "2013-02-28",
          "2013-03-06",
          "2013-03-10",
          "2013-03-12",
          "2013-03-21",
          "2013-03-22",
          "2013-04-03",
          "2013-04-04",
          "2013-04-09",
          "2013-04-10",
          "2013-04-11",
          "2013-04-13",
          "2013-04-17",
          "2013-04-18",
          "2013-04-21",
          "2013-04-22",
          "2013-04-29",
          "2013-04-30",
          "2013-05-01",
          "2013-05-06",
          "2013-05-07",
          "2013-05-08",
          "2013-05-10",
          "2013-05-15",
          "2013-05-21",
          "2013-05-28",
          "2013-06-06",
          "2013-06-20",
          "2013-07-02",
          "2013-07-18",
          "2013-07-21",
          "2013-07-22",
          "2013-08-01",
          "2013-08-14",
          "2013-08-21",
          "2013-08-26",
          "2013-08-27",
          "2013-08-28",
          "2013-09-05",
          "2013-09-10",
          "2013-09-17",
          "2013-09-20",
          "2013-09-30",
          "2013-10-04",
          "2013-10-08",
          "2013-10-17",
          "2013-11-04",
          "2013-11-05",
          "2013-11-11",
          "2013-11-12",
          "2013-11-22",
          "2013-11-25",
          "2013-12-03",
          "2013-12-04",
          "2013-12-08",
          "2013-12-12",
          "2013-12-13",
          "2013-12-16",
          "2013-12-17",
          "2013-12-20",
          "2013-12-26",
          "2014-01-02",
          "2014-01-04",
          "2014-01-05",
          "2014-01-08",
          "2014-01-10",
          "2014-01-13",
          "2014-01-15",
          "2014-01-16",
          "2014-01-21",
          "2014-01-23",
          "2014-01-24",
          "2014-01-27",
          "2014-01-29",
          "2014-02-07",
          "2014-02-12",
          "2014-02-15",
          "2014-02-20",
          "2014-02-24",
          "2014-02-27",
          "2014-03-01",
          "2014-03-02",
          "2014-03-03",
          "2014-03-07",
          "2014-03-14",
          "2014-04-22",
          "2014-04-24",
          "2014-04-30",
          "2014-05-01",
          "2014-05-12",
          "2014-05-13",
          "2014-05-15",
          "2014-05-20",
          "2014-05-22",
          "2014-05-30",
          "2014-06-11",
          "2014-06-23",
          "2014-06-27",
          "2014-06-29",
          "2014-06-30",
          "2014-07-02",
          "2014-07-11",
          "2014-07-12",
          "2014-07-17",
          "2014-07-24",
          "2014-07-28",
          "2014-07-30",
          "2014-08-08",
          "2014-09-08",
          "2014-09-12",
          "2014-09-17",
          "2014-09-19",
          "2014-09-20",
          "2014-10-02",
          "2014-10-08",
          "2014-10-22",
          "2014-10-24",
          "2014-11-01",
          "2014-11-09",
          "2014-11-14",
          "2014-11-26",
          "2014-11-27",
          "2014-12-01",
          "2014-12-10",
          "2014-12-11",
          "2014-12-16",
          "2014-12-19",
          "2015-01-10",
          "2015-01-14",
          "2015-01-19",
          "2015-02-02",
          "2015-03-04",
          "2015-03-19",
          "2015-03-29",
          "2015-03-31",
          "2015-04-07",
          "2015-04-08",
          "2015-05-28",
          "2015-05-29",
          "2015-06-03",
          "2015-06-10",
          "2015-06-12",
          "2015-06-16",
          "2015-06-17",
          "2015-06-23",
          "2015-06-25",
          "2015-07-06",
          "2015-07-07",
          "2015-07-08",
          "2015-07-11",
          "2015-07-27",
          "2015-08-06",
          "2015-08-07",
          "2015-08-27",
          "2015-09-11",
          "2015-09-13",
          "2015-10-08",
          "2015-10-14",
          "2015-11-04",
          "2015-11-08",
          "2015-11-23",
          "2015-12-03",
          "2015-12-04",
          "2015-12-15",
          "2015-12-21",
          "2015-12-23",
          "2015-12-30",
          "2016-01-10",
          "2016-01-11",
          "2016-01-17",
          "2016-01-19",
          "2016-02-02",
          "2016-02-04",
          "2016-02-10",
          "2016-02-22",
          "2016-02-24",
          "2016-03-08",
          "2016-03-10",
          "2016-03-17",
          "2016-04-02",
          "2016-04-06",
          "2016-04-08",
          "2016-04-09",
          "2016-04-12",
          "2016-04-20",
          "2016-04-21",
          "2016-04-25",
          "2016-04-27",
          "2016-05-02",
          "2016-05-03",
          "2016-05-05",
          "2016-05-07",
          "2016-05-13",
          "2016-05-18",
          "2016-05-19",
          "2016-05-25",
          "2016-06-06",
          "2016-06-07",
          "2016-06-15",
          "2016-06-16",
          "2016-06-22",
          "2016-06-28",
          "2016-06-29",
          "2016-06-30",
          "2016-07-04",
          "2016-07-07",
          "2016-07-10",
          "2016-07-11",
          "2016-07-18",
          "2016-07-24",
          "2016-07-25",
          "2016-08-03",
          "2016-08-04",
          "2016-08-08",
          "2016-08-21",
          "2016-08-23",
          "2016-08-31",
          "2016-09-01",
          "2016-09-04",
          "2016-09-13",
          "2016-09-14",
          "2016-09-16",
          "2016-09-17",
          "2016-09-19",
          "2016-09-22",
          "2016-10-05",
          "2016-10-10",
          "2016-10-19",
          "2016-10-21",
          "2016-10-26",
          "2016-10-28",
          "2016-11-03",
          "2016-11-04",
          "2016-11-05",
          "2016-11-07",
          "2016-11-11",
          "2016-11-14",
          "2016-11-22",
          "2016-11-30",
          "2016-12-01",
          "2016-12-17",
          "2016-12-19",
          "2016-12-22",
          "2016-12-30",
          "2017-01-02",
          "2017-01-06",
          "2017-01-11",
          "2017-01-24",
          "2017-01-25",
          "2017-01-28",
          "2017-01-29",
          "2017-01-30",
          "2017-02-06",
          "2017-02-08",
          "2017-02-15",
          "2017-03-23",
          "2017-03-26",
          "2017-03-28",
          "2017-04-05",
          "2017-04-07",
          "2017-04-10",
          "2017-04-11",
          "2017-04-12",
          "2017-04-14",
          "2017-05-10",
          "2017-05-31",
          "2017-06-12",
          "2017-06-15",
          "2017-06-16",
          "2017-07-14",
          "2017-07-17",
          "2017-07-18",
          "2017-07-28",
          "2017-08-01",
          "2017-08-03",
          "2017-08-04",
          "2017-08-14",
          "2017-08-30",
          "2017-09-14",
          "2017-09-20",
          "2017-10-06",
          "2017-10-09",
          "2017-10-26",
          "2017-10-27",
          "2017-11-23",
          "2017-12-04",
          "2017-12-05",
          "2017-12-08",
          "2017-12-12",
          "2017-12-13",
          "2017-12-14",
          "2017-12-18",
          "2018-01-03",
          "2018-01-04",
          "2018-01-16",
          "2018-01-18",
          "2018-02-12",
          "2018-02-17",
          "2018-03-02",
          "2018-03-09",
          "2018-04-04",
          "2018-04-05",
          "2018-04-06"
         ],
         "xaxis": "x",
         "y": [
          2,
          2,
          3,
          3,
          4,
          1,
          1,
          4,
          1,
          1,
          1,
          1,
          1,
          1,
          2,
          1,
          1,
          2,
          1,
          1,
          1,
          2,
          2,
          2,
          1,
          1,
          2,
          2,
          1,
          1,
          1,
          2,
          1,
          1,
          2,
          2,
          2,
          6,
          1,
          1,
          1,
          1,
          1,
          1,
          1,
          2,
          2,
          1,
          1,
          1,
          2,
          2,
          1,
          5,
          3,
          1,
          1,
          2,
          1,
          1,
          1,
          1,
          2,
          1,
          1,
          2,
          2,
          1,
          3,
          3,
          1,
          2,
          1,
          3,
          2,
          2,
          2,
          3,
          2,
          2,
          1,
          7,
          4,
          1,
          1,
          2,
          1,
          2,
          1,
          1,
          2,
          1,
          1,
          2,
          1,
          4,
          2,
          2,
          1,
          1,
          1,
          6,
          1,
          7,
          5,
          9,
          3,
          3,
          3,
          1,
          4,
          1,
          1,
          1,
          4,
          1,
          4,
          2,
          1,
          2,
          3,
          6,
          3,
          5,
          3,
          2,
          2,
          2,
          2,
          3,
          10,
          9,
          8,
          1,
          3,
          6,
          3,
          4,
          4,
          2,
          1,
          1,
          3,
          4,
          2,
          2,
          1,
          2,
          3,
          7,
          2,
          2,
          4,
          1,
          1,
          1,
          1,
          1,
          3,
          1,
          2,
          1,
          1,
          2,
          8,
          3,
          3,
          2,
          1,
          1,
          1,
          1,
          1,
          1,
          2,
          1,
          1,
          1,
          1,
          2,
          1,
          1,
          4,
          1,
          1,
          3,
          2,
          1,
          1,
          2,
          2,
          1,
          1,
          1,
          4,
          1,
          2,
          2,
          1,
          1,
          1,
          1,
          1,
          1,
          1,
          1,
          3,
          1,
          2,
          1,
          1,
          2,
          1,
          4,
          1,
          1,
          2,
          1,
          2,
          1,
          1,
          1,
          1,
          1,
          1,
          1,
          3,
          2,
          1,
          1,
          1,
          3,
          2,
          1,
          2,
          1,
          1,
          3,
          4,
          4,
          1,
          3,
          4,
          2,
          1,
          1,
          1,
          1,
          1,
          1,
          2,
          2,
          1,
          1,
          1,
          1,
          1,
          1,
          2,
          1,
          1,
          2,
          3,
          1,
          1,
          1,
          1,
          1,
          1,
          1,
          1,
          1,
          1,
          1,
          2,
          1,
          1,
          1,
          2,
          1,
          2,
          1,
          1,
          1,
          2,
          2,
          1,
          1,
          3,
          2,
          1,
          2,
          1,
          3,
          3,
          5,
          1,
          1,
          3,
          1,
          1,
          1,
          1,
          1,
          1,
          2,
          1,
          2,
          1,
          1,
          1,
          1,
          2,
          1,
          1,
          1,
          2,
          1,
          2,
          1,
          2,
          1,
          1,
          1,
          1,
          1,
          1,
          1,
          1,
          1,
          1,
          2,
          1,
          1,
          1,
          1,
          1,
          1,
          1,
          2,
          1,
          1,
          1,
          2,
          1,
          1,
          1,
          1,
          2,
          1,
          1,
          1,
          2,
          1,
          1,
          1,
          1,
          1,
          1,
          2,
          1,
          1,
          2,
          1,
          1,
          1,
          1,
          1,
          1,
          2,
          2,
          1,
          1,
          1,
          1,
          1,
          1,
          3,
          1,
          1,
          6,
          4,
          2,
          1,
          4,
          4,
          3,
          2,
          2,
          2,
          3,
          3,
          1,
          1,
          1,
          2,
          2,
          1,
          2,
          1,
          1,
          1,
          1,
          1,
          3,
          1,
          2,
          1,
          2,
          3,
          1,
          1,
          1,
          1,
          2,
          2,
          1,
          1,
          2,
          4,
          3,
          2,
          1,
          1,
          2,
          3,
          1,
          2,
          1,
          1,
          1,
          1,
          2,
          2,
          1,
          1,
          1,
          1,
          1,
          1,
          2,
          1,
          1,
          1,
          1,
          1,
          1,
          1,
          1,
          1,
          2,
          1,
          1,
          1,
          2,
          3,
          1,
          1,
          4,
          2,
          2,
          1,
          2,
          1,
          1,
          1,
          3,
          1,
          1,
          1,
          1,
          1,
          1,
          2,
          1,
          1,
          1,
          1,
          1,
          1,
          2,
          1,
          1,
          1,
          1,
          1,
          1,
          1,
          2,
          1,
          2,
          2,
          1,
          2,
          1,
          2,
          2,
          3,
          1,
          5,
          4,
          2,
          1,
          1,
          2,
          1,
          1,
          1,
          1,
          1,
          4,
          2,
          1,
          2,
          1,
          1,
          1,
          2,
          1,
          1,
          1,
          1,
          1,
          2,
          3,
          1,
          4,
          1,
          2,
          2,
          2,
          2,
          3,
          2,
          2,
          4,
          1,
          1,
          1,
          2,
          1,
          2,
          1,
          1,
          3,
          1,
          1,
          1,
          1,
          1,
          3,
          1,
          2,
          1,
          3,
          2,
          2,
          1,
          2,
          1,
          1,
          1,
          1,
          1,
          1,
          2,
          1,
          1,
          1,
          1,
          1,
          1,
          1,
          1,
          1,
          1,
          1,
          1,
          1,
          2,
          2,
          1,
          2,
          4,
          1,
          1,
          1,
          1,
          1,
          1,
          1,
          1,
          1,
          1,
          1,
          1,
          1,
          1,
          1,
          2,
          1,
          1,
          1,
          1,
          1,
          1,
          1,
          1,
          1,
          1,
          3,
          2,
          1,
          1,
          1,
          1,
          2,
          1,
          2,
          1,
          1,
          1,
          1,
          1,
          1,
          1,
          1,
          1,
          1,
          1,
          1,
          1,
          1,
          1,
          1,
          1,
          1,
          1,
          1,
          1,
          1,
          1,
          1,
          1,
          1,
          1,
          1,
          1,
          1,
          1,
          1,
          1,
          1,
          1,
          1,
          1,
          1,
          1,
          1,
          2,
          1,
          1,
          1,
          1,
          1,
          1,
          1,
          1,
          1,
          2,
          1,
          1,
          1,
          2,
          1,
          1,
          1,
          1,
          1,
          1,
          2,
          1,
          2,
          1,
          1,
          1,
          1,
          1,
          1,
          10,
          1,
          1,
          1,
          1,
          1,
          1,
          1,
          1,
          1,
          3,
          1,
          1,
          1,
          5,
          1,
          1,
          2,
          2,
          1,
          1,
          1,
          1,
          1,
          1,
          2,
          1,
          1,
          2,
          2,
          1,
          1,
          2,
          1,
          1,
          1,
          1,
          1,
          1,
          1,
          1,
          1,
          1,
          1,
          1,
          1,
          1,
          2,
          1,
          1,
          1,
          1,
          1,
          1,
          1,
          1,
          1,
          1,
          1,
          1,
          1,
          1,
          1,
          1,
          1,
          1,
          2,
          1,
          2,
          1,
          2,
          1,
          1,
          1,
          1,
          3,
          1,
          1,
          2,
          1,
          1,
          1,
          1,
          1,
          1,
          1,
          1,
          1,
          1,
          1,
          1,
          1,
          1,
          1,
          1,
          1,
          1,
          3,
          1,
          1,
          1,
          1,
          1,
          1,
          1,
          1,
          1,
          1,
          1,
          2,
          1,
          1,
          1,
          1,
          1,
          1,
          3,
          4,
          1,
          1,
          1,
          1,
          1,
          1,
          1,
          1,
          2,
          1,
          1,
          1,
          1,
          1,
          1,
          1,
          2,
          1,
          1,
          1,
          1,
          1,
          1,
          2,
          1,
          1,
          1,
          1,
          2,
          1,
          1
         ],
         "yaxis": "y"
        }
       ],
       "layout": {
        "legend": {
         "tracegroupgap": 0
        },
        "margin": {
         "t": 60
        },
        "template": {
         "data": {
          "bar": [
           {
            "error_x": {
             "color": "#2a3f5f"
            },
            "error_y": {
             "color": "#2a3f5f"
            },
            "marker": {
             "line": {
              "color": "#E5ECF6",
              "width": 0.5
             }
            },
            "type": "bar"
           }
          ],
          "barpolar": [
           {
            "marker": {
             "line": {
              "color": "#E5ECF6",
              "width": 0.5
             }
            },
            "type": "barpolar"
           }
          ],
          "carpet": [
           {
            "aaxis": {
             "endlinecolor": "#2a3f5f",
             "gridcolor": "white",
             "linecolor": "white",
             "minorgridcolor": "white",
             "startlinecolor": "#2a3f5f"
            },
            "baxis": {
             "endlinecolor": "#2a3f5f",
             "gridcolor": "white",
             "linecolor": "white",
             "minorgridcolor": "white",
             "startlinecolor": "#2a3f5f"
            },
            "type": "carpet"
           }
          ],
          "choropleth": [
           {
            "colorbar": {
             "outlinewidth": 0,
             "ticks": ""
            },
            "type": "choropleth"
           }
          ],
          "contour": [
           {
            "colorbar": {
             "outlinewidth": 0,
             "ticks": ""
            },
            "colorscale": [
             [
              0,
              "#0d0887"
             ],
             [
              0.1111111111111111,
              "#46039f"
             ],
             [
              0.2222222222222222,
              "#7201a8"
             ],
             [
              0.3333333333333333,
              "#9c179e"
             ],
             [
              0.4444444444444444,
              "#bd3786"
             ],
             [
              0.5555555555555556,
              "#d8576b"
             ],
             [
              0.6666666666666666,
              "#ed7953"
             ],
             [
              0.7777777777777778,
              "#fb9f3a"
             ],
             [
              0.8888888888888888,
              "#fdca26"
             ],
             [
              1,
              "#f0f921"
             ]
            ],
            "type": "contour"
           }
          ],
          "contourcarpet": [
           {
            "colorbar": {
             "outlinewidth": 0,
             "ticks": ""
            },
            "type": "contourcarpet"
           }
          ],
          "heatmap": [
           {
            "colorbar": {
             "outlinewidth": 0,
             "ticks": ""
            },
            "colorscale": [
             [
              0,
              "#0d0887"
             ],
             [
              0.1111111111111111,
              "#46039f"
             ],
             [
              0.2222222222222222,
              "#7201a8"
             ],
             [
              0.3333333333333333,
              "#9c179e"
             ],
             [
              0.4444444444444444,
              "#bd3786"
             ],
             [
              0.5555555555555556,
              "#d8576b"
             ],
             [
              0.6666666666666666,
              "#ed7953"
             ],
             [
              0.7777777777777778,
              "#fb9f3a"
             ],
             [
              0.8888888888888888,
              "#fdca26"
             ],
             [
              1,
              "#f0f921"
             ]
            ],
            "type": "heatmap"
           }
          ],
          "heatmapgl": [
           {
            "colorbar": {
             "outlinewidth": 0,
             "ticks": ""
            },
            "colorscale": [
             [
              0,
              "#0d0887"
             ],
             [
              0.1111111111111111,
              "#46039f"
             ],
             [
              0.2222222222222222,
              "#7201a8"
             ],
             [
              0.3333333333333333,
              "#9c179e"
             ],
             [
              0.4444444444444444,
              "#bd3786"
             ],
             [
              0.5555555555555556,
              "#d8576b"
             ],
             [
              0.6666666666666666,
              "#ed7953"
             ],
             [
              0.7777777777777778,
              "#fb9f3a"
             ],
             [
              0.8888888888888888,
              "#fdca26"
             ],
             [
              1,
              "#f0f921"
             ]
            ],
            "type": "heatmapgl"
           }
          ],
          "histogram": [
           {
            "marker": {
             "colorbar": {
              "outlinewidth": 0,
              "ticks": ""
             }
            },
            "type": "histogram"
           }
          ],
          "histogram2d": [
           {
            "colorbar": {
             "outlinewidth": 0,
             "ticks": ""
            },
            "colorscale": [
             [
              0,
              "#0d0887"
             ],
             [
              0.1111111111111111,
              "#46039f"
             ],
             [
              0.2222222222222222,
              "#7201a8"
             ],
             [
              0.3333333333333333,
              "#9c179e"
             ],
             [
              0.4444444444444444,
              "#bd3786"
             ],
             [
              0.5555555555555556,
              "#d8576b"
             ],
             [
              0.6666666666666666,
              "#ed7953"
             ],
             [
              0.7777777777777778,
              "#fb9f3a"
             ],
             [
              0.8888888888888888,
              "#fdca26"
             ],
             [
              1,
              "#f0f921"
             ]
            ],
            "type": "histogram2d"
           }
          ],
          "histogram2dcontour": [
           {
            "colorbar": {
             "outlinewidth": 0,
             "ticks": ""
            },
            "colorscale": [
             [
              0,
              "#0d0887"
             ],
             [
              0.1111111111111111,
              "#46039f"
             ],
             [
              0.2222222222222222,
              "#7201a8"
             ],
             [
              0.3333333333333333,
              "#9c179e"
             ],
             [
              0.4444444444444444,
              "#bd3786"
             ],
             [
              0.5555555555555556,
              "#d8576b"
             ],
             [
              0.6666666666666666,
              "#ed7953"
             ],
             [
              0.7777777777777778,
              "#fb9f3a"
             ],
             [
              0.8888888888888888,
              "#fdca26"
             ],
             [
              1,
              "#f0f921"
             ]
            ],
            "type": "histogram2dcontour"
           }
          ],
          "mesh3d": [
           {
            "colorbar": {
             "outlinewidth": 0,
             "ticks": ""
            },
            "type": "mesh3d"
           }
          ],
          "parcoords": [
           {
            "line": {
             "colorbar": {
              "outlinewidth": 0,
              "ticks": ""
             }
            },
            "type": "parcoords"
           }
          ],
          "pie": [
           {
            "automargin": true,
            "type": "pie"
           }
          ],
          "scatter": [
           {
            "marker": {
             "colorbar": {
              "outlinewidth": 0,
              "ticks": ""
             }
            },
            "type": "scatter"
           }
          ],
          "scatter3d": [
           {
            "line": {
             "colorbar": {
              "outlinewidth": 0,
              "ticks": ""
             }
            },
            "marker": {
             "colorbar": {
              "outlinewidth": 0,
              "ticks": ""
             }
            },
            "type": "scatter3d"
           }
          ],
          "scattercarpet": [
           {
            "marker": {
             "colorbar": {
              "outlinewidth": 0,
              "ticks": ""
             }
            },
            "type": "scattercarpet"
           }
          ],
          "scattergeo": [
           {
            "marker": {
             "colorbar": {
              "outlinewidth": 0,
              "ticks": ""
             }
            },
            "type": "scattergeo"
           }
          ],
          "scattergl": [
           {
            "marker": {
             "colorbar": {
              "outlinewidth": 0,
              "ticks": ""
             }
            },
            "type": "scattergl"
           }
          ],
          "scattermapbox": [
           {
            "marker": {
             "colorbar": {
              "outlinewidth": 0,
              "ticks": ""
             }
            },
            "type": "scattermapbox"
           }
          ],
          "scatterpolar": [
           {
            "marker": {
             "colorbar": {
              "outlinewidth": 0,
              "ticks": ""
             }
            },
            "type": "scatterpolar"
           }
          ],
          "scatterpolargl": [
           {
            "marker": {
             "colorbar": {
              "outlinewidth": 0,
              "ticks": ""
             }
            },
            "type": "scatterpolargl"
           }
          ],
          "scatterternary": [
           {
            "marker": {
             "colorbar": {
              "outlinewidth": 0,
              "ticks": ""
             }
            },
            "type": "scatterternary"
           }
          ],
          "surface": [
           {
            "colorbar": {
             "outlinewidth": 0,
             "ticks": ""
            },
            "colorscale": [
             [
              0,
              "#0d0887"
             ],
             [
              0.1111111111111111,
              "#46039f"
             ],
             [
              0.2222222222222222,
              "#7201a8"
             ],
             [
              0.3333333333333333,
              "#9c179e"
             ],
             [
              0.4444444444444444,
              "#bd3786"
             ],
             [
              0.5555555555555556,
              "#d8576b"
             ],
             [
              0.6666666666666666,
              "#ed7953"
             ],
             [
              0.7777777777777778,
              "#fb9f3a"
             ],
             [
              0.8888888888888888,
              "#fdca26"
             ],
             [
              1,
              "#f0f921"
             ]
            ],
            "type": "surface"
           }
          ],
          "table": [
           {
            "cells": {
             "fill": {
              "color": "#EBF0F8"
             },
             "line": {
              "color": "white"
             }
            },
            "header": {
             "fill": {
              "color": "#C8D4E3"
             },
             "line": {
              "color": "white"
             }
            },
            "type": "table"
           }
          ]
         },
         "layout": {
          "annotationdefaults": {
           "arrowcolor": "#2a3f5f",
           "arrowhead": 0,
           "arrowwidth": 1
          },
          "coloraxis": {
           "colorbar": {
            "outlinewidth": 0,
            "ticks": ""
           }
          },
          "colorscale": {
           "diverging": [
            [
             0,
             "#8e0152"
            ],
            [
             0.1,
             "#c51b7d"
            ],
            [
             0.2,
             "#de77ae"
            ],
            [
             0.3,
             "#f1b6da"
            ],
            [
             0.4,
             "#fde0ef"
            ],
            [
             0.5,
             "#f7f7f7"
            ],
            [
             0.6,
             "#e6f5d0"
            ],
            [
             0.7,
             "#b8e186"
            ],
            [
             0.8,
             "#7fbc41"
            ],
            [
             0.9,
             "#4d9221"
            ],
            [
             1,
             "#276419"
            ]
           ],
           "sequential": [
            [
             0,
             "#0d0887"
            ],
            [
             0.1111111111111111,
             "#46039f"
            ],
            [
             0.2222222222222222,
             "#7201a8"
            ],
            [
             0.3333333333333333,
             "#9c179e"
            ],
            [
             0.4444444444444444,
             "#bd3786"
            ],
            [
             0.5555555555555556,
             "#d8576b"
            ],
            [
             0.6666666666666666,
             "#ed7953"
            ],
            [
             0.7777777777777778,
             "#fb9f3a"
            ],
            [
             0.8888888888888888,
             "#fdca26"
            ],
            [
             1,
             "#f0f921"
            ]
           ],
           "sequentialminus": [
            [
             0,
             "#0d0887"
            ],
            [
             0.1111111111111111,
             "#46039f"
            ],
            [
             0.2222222222222222,
             "#7201a8"
            ],
            [
             0.3333333333333333,
             "#9c179e"
            ],
            [
             0.4444444444444444,
             "#bd3786"
            ],
            [
             0.5555555555555556,
             "#d8576b"
            ],
            [
             0.6666666666666666,
             "#ed7953"
            ],
            [
             0.7777777777777778,
             "#fb9f3a"
            ],
            [
             0.8888888888888888,
             "#fdca26"
            ],
            [
             1,
             "#f0f921"
            ]
           ]
          },
          "colorway": [
           "#636efa",
           "#EF553B",
           "#00cc96",
           "#ab63fa",
           "#FFA15A",
           "#19d3f3",
           "#FF6692",
           "#B6E880",
           "#FF97FF",
           "#FECB52"
          ],
          "font": {
           "color": "#2a3f5f"
          },
          "geo": {
           "bgcolor": "white",
           "lakecolor": "white",
           "landcolor": "#E5ECF6",
           "showlakes": true,
           "showland": true,
           "subunitcolor": "white"
          },
          "hoverlabel": {
           "align": "left"
          },
          "hovermode": "closest",
          "mapbox": {
           "style": "light"
          },
          "paper_bgcolor": "white",
          "plot_bgcolor": "#E5ECF6",
          "polar": {
           "angularaxis": {
            "gridcolor": "white",
            "linecolor": "white",
            "ticks": ""
           },
           "bgcolor": "#E5ECF6",
           "radialaxis": {
            "gridcolor": "white",
            "linecolor": "white",
            "ticks": ""
           }
          },
          "scene": {
           "xaxis": {
            "backgroundcolor": "#E5ECF6",
            "gridcolor": "white",
            "gridwidth": 2,
            "linecolor": "white",
            "showbackground": true,
            "ticks": "",
            "zerolinecolor": "white"
           },
           "yaxis": {
            "backgroundcolor": "#E5ECF6",
            "gridcolor": "white",
            "gridwidth": 2,
            "linecolor": "white",
            "showbackground": true,
            "ticks": "",
            "zerolinecolor": "white"
           },
           "zaxis": {
            "backgroundcolor": "#E5ECF6",
            "gridcolor": "white",
            "gridwidth": 2,
            "linecolor": "white",
            "showbackground": true,
            "ticks": "",
            "zerolinecolor": "white"
           }
          },
          "shapedefaults": {
           "line": {
            "color": "#2a3f5f"
           }
          },
          "ternary": {
           "aaxis": {
            "gridcolor": "white",
            "linecolor": "white",
            "ticks": ""
           },
           "baxis": {
            "gridcolor": "white",
            "linecolor": "white",
            "ticks": ""
           },
           "bgcolor": "#E5ECF6",
           "caxis": {
            "gridcolor": "white",
            "linecolor": "white",
            "ticks": ""
           }
          },
          "title": {
           "x": 0.05
          },
          "xaxis": {
           "automargin": true,
           "gridcolor": "white",
           "linecolor": "white",
           "ticks": "",
           "title": {
            "standoff": 15
           },
           "zerolinecolor": "white",
           "zerolinewidth": 2
          },
          "yaxis": {
           "automargin": true,
           "gridcolor": "white",
           "linecolor": "white",
           "ticks": "",
           "title": {
            "standoff": 15
           },
           "zerolinecolor": "white",
           "zerolinewidth": 2
          }
         }
        },
        "xaxis": {
         "anchor": "y",
         "domain": [
          0,
          1
         ],
         "rangeslider": {
          "visible": true
         },
         "title": {
          "text": "x"
         }
        },
        "yaxis": {
         "anchor": "x",
         "domain": [
          0,
          1
         ],
         "title": {
          "text": "status"
         }
        }
       }
      },
      "text/html": [
       "<div>\n",
       "        \n",
       "        \n",
       "            <div id=\"6070dcb1-b135-44b4-9be9-56c6d1a9c1d5\" class=\"plotly-graph-div\" style=\"height:525px; width:100%;\"></div>\n",
       "            <script type=\"text/javascript\">\n",
       "                require([\"plotly\"], function(Plotly) {\n",
       "                    window.PLOTLYENV=window.PLOTLYENV || {};\n",
       "                    \n",
       "                if (document.getElementById(\"6070dcb1-b135-44b4-9be9-56c6d1a9c1d5\")) {\n",
       "                    Plotly.newPlot(\n",
       "                        '6070dcb1-b135-44b4-9be9-56c6d1a9c1d5',\n",
       "                        [{\"hovertemplate\": \"x=%{x}<br>status=%{y}<extra></extra>\", \"legendgroup\": \"\", \"line\": {\"color\": \"#636efa\", \"dash\": \"solid\"}, \"mode\": \"lines\", \"name\": \"\", \"showlegend\": false, \"type\": \"scatter\", \"x\": [\"2009-04-09\", \"2009-04-10\", \"2009-04-11\", \"2009-04-13\", \"2009-04-14\", \"2009-04-15\", \"2009-04-21\", \"2009-04-24\", \"2009-04-25\", \"2009-04-29\", \"2009-05-01\", \"2009-05-06\", \"2009-05-11\", \"2009-05-12\", \"2009-05-13\", \"2009-05-14\", \"2009-05-15\", \"2009-05-22\", \"2009-05-26\", \"2009-05-27\", \"2009-05-31\", \"2009-06-01\", \"2009-06-02\", \"2009-06-03\", \"2009-06-06\", \"2009-06-10\", \"2009-06-13\", \"2009-06-16\", \"2009-06-17\", \"2009-06-18\", \"2009-06-19\", \"2009-06-20\", \"2009-06-22\", \"2009-06-24\", \"2009-06-25\", \"2009-06-29\", \"2009-06-30\", \"2009-07-03\", \"2009-07-04\", \"2009-07-06\", \"2009-07-09\", \"2009-07-15\", \"2009-07-18\", \"2009-07-20\", \"2009-07-22\", \"2009-07-23\", \"2009-07-28\", \"2009-07-31\", \"2009-08-11\", \"2009-08-12\", \"2009-08-14\", \"2009-08-15\", \"2009-08-16\", \"2009-08-18\", \"2009-08-19\", \"2009-08-20\", \"2009-08-27\", \"2009-08-28\", \"2009-09-01\", \"2009-09-02\", \"2009-09-04\", \"2009-09-08\", \"2009-09-11\", \"2009-09-19\", \"2009-09-21\", \"2009-09-22\", \"2009-09-23\", \"2009-09-24\", \"2009-09-25\", \"2009-09-28\", \"2009-09-29\", \"2009-09-30\", \"2009-10-02\", \"2009-10-05\", \"2009-10-07\", \"2009-10-08\", \"2009-10-13\", \"2009-10-14\", \"2009-10-15\", \"2009-10-16\", \"2009-10-19\", \"2009-10-20\", \"2009-10-21\", \"2009-10-22\", \"2009-10-23\", \"2009-10-24\", \"2009-10-26\", \"2009-10-29\", \"2009-10-30\", \"2009-11-02\", \"2009-11-03\", \"2009-11-04\", \"2009-11-05\", \"2009-11-06\", \"2009-11-09\", \"2009-11-10\", \"2009-11-11\", \"2009-11-12\", \"2009-11-13\", \"2009-11-14\", \"2009-11-15\", \"2009-11-16\", \"2009-11-17\", \"2009-11-18\", \"2009-11-19\", \"2009-11-20\", \"2009-11-21\", \"2009-11-24\", \"2009-11-25\", \"2009-11-30\", \"2009-12-01\", \"2009-12-04\", \"2009-12-08\", \"2009-12-11\", \"2009-12-14\", \"2009-12-15\", \"2009-12-18\", \"2009-12-22\", \"2009-12-23\", \"2009-12-29\", \"2009-12-30\", \"2009-12-31\", \"2010-01-04\", \"2010-01-05\", \"2010-01-07\", \"2010-01-08\", \"2010-01-09\", \"2010-01-10\", \"2010-01-11\", \"2010-01-12\", \"2010-01-13\", \"2010-01-14\", \"2010-01-15\", \"2010-01-16\", \"2010-01-18\", \"2010-01-19\", \"2010-01-20\", \"2010-01-21\", \"2010-01-22\", \"2010-01-23\", \"2010-01-24\", \"2010-01-25\", \"2010-01-26\", \"2010-01-27\", \"2010-01-28\", \"2010-01-29\", \"2010-01-30\", \"2010-01-31\", \"2010-02-03\", \"2010-02-04\", \"2010-02-05\", \"2010-02-06\", \"2010-02-09\", \"2010-02-12\", \"2010-02-13\", \"2010-02-15\", \"2010-02-16\", \"2010-02-17\", \"2010-02-19\", \"2010-02-20\", \"2010-02-22\", \"2010-02-23\", \"2010-02-25\", \"2010-02-26\", \"2010-03-02\", \"2010-03-03\", \"2010-03-04\", \"2010-03-05\", \"2010-03-06\", \"2010-03-08\", \"2010-03-12\", \"2010-03-14\", \"2010-03-15\", \"2010-03-16\", \"2010-03-17\", \"2010-03-18\", \"2010-03-19\", \"2010-03-21\", \"2010-03-22\", \"2010-03-24\", \"2010-03-26\", \"2010-03-30\", \"2010-04-02\", \"2010-04-03\", \"2010-04-04\", \"2010-04-05\", \"2010-04-06\", \"2010-04-08\", \"2010-04-09\", \"2010-04-11\", \"2010-04-15\", \"2010-04-17\", \"2010-04-19\", \"2010-04-24\", \"2010-04-25\", \"2010-04-28\", \"2010-04-30\", \"2010-05-13\", \"2010-05-14\", \"2010-05-15\", \"2010-05-18\", \"2010-05-22\", \"2010-05-27\", \"2010-05-30\", \"2010-05-31\", \"2010-06-02\", \"2010-06-03\", \"2010-06-04\", \"2010-06-07\", \"2010-06-09\", \"2010-06-11\", \"2010-06-14\", \"2010-06-15\", \"2010-06-17\", \"2010-06-22\", \"2010-06-23\", \"2010-06-24\", \"2010-06-30\", \"2010-07-01\", \"2010-07-06\", \"2010-07-12\", \"2010-07-14\", \"2010-07-15\", \"2010-07-19\", \"2010-07-22\", \"2010-07-27\", \"2010-08-03\", \"2010-08-04\", \"2010-08-05\", \"2010-08-06\", \"2010-08-12\", \"2010-08-13\", \"2010-08-16\", \"2010-08-17\", \"2010-08-19\", \"2010-08-20\", \"2010-08-24\", \"2010-08-25\", \"2010-08-26\", \"2010-08-27\", \"2010-08-28\", \"2010-08-30\", \"2010-09-01\", \"2010-09-02\", \"2010-09-03\", \"2010-09-07\", \"2010-09-08\", \"2010-09-09\", \"2010-09-10\", \"2010-09-12\", \"2010-09-16\", \"2010-09-17\", \"2010-09-19\", \"2010-09-24\", \"2010-09-25\", \"2010-09-30\", \"2010-10-06\", \"2010-10-14\", \"2010-10-24\", \"2010-10-25\", \"2010-10-27\", \"2010-11-01\", \"2010-11-04\", \"2010-11-08\", \"2010-11-17\", \"2010-11-18\", \"2010-11-19\", \"2010-11-22\", \"2010-11-23\", \"2010-11-24\", \"2010-11-30\", \"2010-12-01\", \"2010-12-02\", \"2010-12-04\", \"2010-12-05\", \"2010-12-12\", \"2010-12-13\", \"2010-12-15\", \"2010-12-17\", \"2010-12-21\", \"2010-12-23\", \"2010-12-30\", \"2011-01-02\", \"2011-01-04\", \"2011-01-05\", \"2011-01-08\", \"2011-01-10\", \"2011-01-11\", \"2011-01-14\", \"2011-01-18\", \"2011-01-19\", \"2011-01-20\", \"2011-01-22\", \"2011-01-24\", \"2011-01-28\", \"2011-02-01\", \"2011-02-04\", \"2011-02-08\", \"2011-02-09\", \"2011-02-13\", \"2011-02-14\", \"2011-02-15\", \"2011-02-17\", \"2011-02-20\", \"2011-02-21\", \"2011-02-22\", \"2011-03-05\", \"2011-03-09\", \"2011-03-11\", \"2011-03-13\", \"2011-03-19\", \"2011-03-21\", \"2011-03-22\", \"2011-03-24\", \"2011-03-28\", \"2011-03-29\", \"2011-03-30\", \"2011-03-31\", \"2011-04-04\", \"2011-04-05\", \"2011-04-06\", \"2011-04-08\", \"2011-04-12\", \"2011-04-20\", \"2011-04-21\", \"2011-04-22\", \"2011-04-23\", \"2011-04-26\", \"2011-04-27\", \"2011-04-29\", \"2011-05-03\", \"2011-05-12\", \"2011-05-13\", \"2011-05-17\", \"2011-05-18\", \"2011-05-19\", \"2011-05-20\", \"2011-05-25\", \"2011-05-26\", \"2011-05-31\", \"2011-06-04\", \"2011-06-07\", \"2011-06-10\", \"2011-06-16\", \"2011-06-23\", \"2011-06-24\", \"2011-06-28\", \"2011-06-29\", \"2011-06-30\", \"2011-07-06\", \"2011-07-07\", \"2011-07-10\", \"2011-07-14\", \"2011-07-22\", \"2011-07-24\", \"2011-07-26\", \"2011-07-28\", \"2011-08-01\", \"2011-08-03\", \"2011-08-09\", \"2011-08-10\", \"2011-08-11\", \"2011-08-15\", \"2011-08-16\", \"2011-08-18\", \"2011-08-22\", \"2011-08-23\", \"2011-08-30\", \"2011-09-06\", \"2011-09-08\", \"2011-09-16\", \"2011-09-18\", \"2011-09-20\", \"2011-09-21\", \"2011-09-23\", \"2011-09-25\", \"2011-09-26\", \"2011-09-27\", \"2011-10-01\", \"2011-10-02\", \"2011-10-04\", \"2011-10-05\", \"2011-10-06\", \"2011-10-07\", \"2011-10-08\", \"2011-10-10\", \"2011-10-12\", \"2011-10-14\", \"2011-10-15\", \"2011-10-16\", \"2011-10-17\", \"2011-10-19\", \"2011-10-21\", \"2011-10-22\", \"2011-10-23\", \"2011-10-25\", \"2011-10-27\", \"2011-10-28\", \"2011-11-03\", \"2011-11-04\", \"2011-11-07\", \"2011-11-21\", \"2011-11-22\", \"2011-11-25\", \"2011-11-28\", \"2011-11-29\", \"2011-11-30\", \"2011-12-02\", \"2011-12-08\", \"2011-12-12\", \"2011-12-13\", \"2011-12-15\", \"2011-12-19\", \"2011-12-22\", \"2012-01-16\", \"2012-01-17\", \"2012-01-18\", \"2012-01-19\", \"2012-01-20\", \"2012-01-24\", \"2012-01-25\", \"2012-01-27\", \"2012-01-30\", \"2012-01-31\", \"2012-02-04\", \"2012-02-07\", \"2012-02-08\", \"2012-02-10\", \"2012-02-14\", \"2012-02-15\", \"2012-02-19\", \"2012-02-22\", \"2012-02-23\", \"2012-02-29\", \"2012-03-01\", \"2012-03-06\", \"2012-03-09\", \"2012-03-14\", \"2012-03-16\", \"2012-03-22\", \"2012-03-23\", \"2012-03-27\", \"2012-03-30\", \"2012-04-04\", \"2012-04-07\", \"2012-04-13\", \"2012-04-15\", \"2012-04-17\", \"2012-04-18\", \"2012-04-19\", \"2012-04-20\", \"2012-04-22\", \"2012-04-23\", \"2012-04-27\", \"2012-04-29\", \"2012-05-04\", \"2012-05-06\", \"2012-05-10\", \"2012-05-11\", \"2012-05-12\", \"2012-05-14\", \"2012-05-15\", \"2012-05-16\", \"2012-05-17\", \"2012-05-19\", \"2012-05-20\", \"2012-05-21\", \"2012-05-24\", \"2012-05-25\", \"2012-05-26\", \"2012-05-28\", \"2012-06-01\", \"2012-06-02\", \"2012-06-07\", \"2012-06-08\", \"2012-06-09\", \"2012-06-11\", \"2012-06-13\", \"2012-06-15\", \"2012-06-18\", \"2012-06-20\", \"2012-06-21\", \"2012-06-27\", \"2012-07-12\", \"2012-07-17\", \"2012-07-19\", \"2012-07-22\", \"2012-07-27\", \"2012-08-05\", \"2012-08-13\", \"2012-08-15\", \"2012-08-21\", \"2012-08-28\", \"2012-08-31\", \"2012-09-05\", \"2012-09-07\", \"2012-09-10\", \"2012-09-11\", \"2012-09-12\", \"2012-09-13\", \"2012-09-14\", \"2012-09-18\", \"2012-09-19\", \"2012-09-22\", \"2012-09-27\", \"2012-10-01\", \"2012-10-17\", \"2012-10-24\", \"2012-10-30\", \"2012-11-03\", \"2012-11-08\", \"2012-11-09\", \"2012-11-14\", \"2012-11-16\", \"2012-11-19\", \"2012-11-21\", \"2012-11-22\", \"2012-12-07\", \"2012-12-13\", \"2012-12-19\", \"2012-12-20\", \"2013-01-05\", \"2013-01-09\", \"2013-01-10\", \"2013-01-11\", \"2013-01-15\", \"2013-02-01\", \"2013-02-06\", \"2013-02-07\", \"2013-02-10\", \"2013-02-11\", \"2013-02-12\", \"2013-02-14\", \"2013-02-19\", \"2013-02-20\", \"2013-02-28\", \"2013-03-06\", \"2013-03-10\", \"2013-03-12\", \"2013-03-21\", \"2013-03-22\", \"2013-04-03\", \"2013-04-04\", \"2013-04-09\", \"2013-04-10\", \"2013-04-11\", \"2013-04-13\", \"2013-04-17\", \"2013-04-18\", \"2013-04-21\", \"2013-04-22\", \"2013-04-29\", \"2013-04-30\", \"2013-05-01\", \"2013-05-06\", \"2013-05-07\", \"2013-05-08\", \"2013-05-10\", \"2013-05-15\", \"2013-05-21\", \"2013-05-28\", \"2013-06-06\", \"2013-06-20\", \"2013-07-02\", \"2013-07-18\", \"2013-07-21\", \"2013-07-22\", \"2013-08-01\", \"2013-08-14\", \"2013-08-21\", \"2013-08-26\", \"2013-08-27\", \"2013-08-28\", \"2013-09-05\", \"2013-09-10\", \"2013-09-17\", \"2013-09-20\", \"2013-09-30\", \"2013-10-04\", \"2013-10-08\", \"2013-10-17\", \"2013-11-04\", \"2013-11-05\", \"2013-11-11\", \"2013-11-12\", \"2013-11-22\", \"2013-11-25\", \"2013-12-03\", \"2013-12-04\", \"2013-12-08\", \"2013-12-12\", \"2013-12-13\", \"2013-12-16\", \"2013-12-17\", \"2013-12-20\", \"2013-12-26\", \"2014-01-02\", \"2014-01-04\", \"2014-01-05\", \"2014-01-08\", \"2014-01-10\", \"2014-01-13\", \"2014-01-15\", \"2014-01-16\", \"2014-01-21\", \"2014-01-23\", \"2014-01-24\", \"2014-01-27\", \"2014-01-29\", \"2014-02-07\", \"2014-02-12\", \"2014-02-15\", \"2014-02-20\", \"2014-02-24\", \"2014-02-27\", \"2014-03-01\", \"2014-03-02\", \"2014-03-03\", \"2014-03-07\", \"2014-03-14\", \"2014-04-22\", \"2014-04-24\", \"2014-04-30\", \"2014-05-01\", \"2014-05-12\", \"2014-05-13\", \"2014-05-15\", \"2014-05-20\", \"2014-05-22\", \"2014-05-30\", \"2014-06-11\", \"2014-06-23\", \"2014-06-27\", \"2014-06-29\", \"2014-06-30\", \"2014-07-02\", \"2014-07-11\", \"2014-07-12\", \"2014-07-17\", \"2014-07-24\", \"2014-07-28\", \"2014-07-30\", \"2014-08-08\", \"2014-09-08\", \"2014-09-12\", \"2014-09-17\", \"2014-09-19\", \"2014-09-20\", \"2014-10-02\", \"2014-10-08\", \"2014-10-22\", \"2014-10-24\", \"2014-11-01\", \"2014-11-09\", \"2014-11-14\", \"2014-11-26\", \"2014-11-27\", \"2014-12-01\", \"2014-12-10\", \"2014-12-11\", \"2014-12-16\", \"2014-12-19\", \"2015-01-10\", \"2015-01-14\", \"2015-01-19\", \"2015-02-02\", \"2015-03-04\", \"2015-03-19\", \"2015-03-29\", \"2015-03-31\", \"2015-04-07\", \"2015-04-08\", \"2015-05-28\", \"2015-05-29\", \"2015-06-03\", \"2015-06-10\", \"2015-06-12\", \"2015-06-16\", \"2015-06-17\", \"2015-06-23\", \"2015-06-25\", \"2015-07-06\", \"2015-07-07\", \"2015-07-08\", \"2015-07-11\", \"2015-07-27\", \"2015-08-06\", \"2015-08-07\", \"2015-08-27\", \"2015-09-11\", \"2015-09-13\", \"2015-10-08\", \"2015-10-14\", \"2015-11-04\", \"2015-11-08\", \"2015-11-23\", \"2015-12-03\", \"2015-12-04\", \"2015-12-15\", \"2015-12-21\", \"2015-12-23\", \"2015-12-30\", \"2016-01-10\", \"2016-01-11\", \"2016-01-17\", \"2016-01-19\", \"2016-02-02\", \"2016-02-04\", \"2016-02-10\", \"2016-02-22\", \"2016-02-24\", \"2016-03-08\", \"2016-03-10\", \"2016-03-17\", \"2016-04-02\", \"2016-04-06\", \"2016-04-08\", \"2016-04-09\", \"2016-04-12\", \"2016-04-20\", \"2016-04-21\", \"2016-04-25\", \"2016-04-27\", \"2016-05-02\", \"2016-05-03\", \"2016-05-05\", \"2016-05-07\", \"2016-05-13\", \"2016-05-18\", \"2016-05-19\", \"2016-05-25\", \"2016-06-06\", \"2016-06-07\", \"2016-06-15\", \"2016-06-16\", \"2016-06-22\", \"2016-06-28\", \"2016-06-29\", \"2016-06-30\", \"2016-07-04\", \"2016-07-07\", \"2016-07-10\", \"2016-07-11\", \"2016-07-18\", \"2016-07-24\", \"2016-07-25\", \"2016-08-03\", \"2016-08-04\", \"2016-08-08\", \"2016-08-21\", \"2016-08-23\", \"2016-08-31\", \"2016-09-01\", \"2016-09-04\", \"2016-09-13\", \"2016-09-14\", \"2016-09-16\", \"2016-09-17\", \"2016-09-19\", \"2016-09-22\", \"2016-10-05\", \"2016-10-10\", \"2016-10-19\", \"2016-10-21\", \"2016-10-26\", \"2016-10-28\", \"2016-11-03\", \"2016-11-04\", \"2016-11-05\", \"2016-11-07\", \"2016-11-11\", \"2016-11-14\", \"2016-11-22\", \"2016-11-30\", \"2016-12-01\", \"2016-12-17\", \"2016-12-19\", \"2016-12-22\", \"2016-12-30\", \"2017-01-02\", \"2017-01-06\", \"2017-01-11\", \"2017-01-24\", \"2017-01-25\", \"2017-01-28\", \"2017-01-29\", \"2017-01-30\", \"2017-02-06\", \"2017-02-08\", \"2017-02-15\", \"2017-03-23\", \"2017-03-26\", \"2017-03-28\", \"2017-04-05\", \"2017-04-07\", \"2017-04-10\", \"2017-04-11\", \"2017-04-12\", \"2017-04-14\", \"2017-05-10\", \"2017-05-31\", \"2017-06-12\", \"2017-06-15\", \"2017-06-16\", \"2017-07-14\", \"2017-07-17\", \"2017-07-18\", \"2017-07-28\", \"2017-08-01\", \"2017-08-03\", \"2017-08-04\", \"2017-08-14\", \"2017-08-30\", \"2017-09-14\", \"2017-09-20\", \"2017-10-06\", \"2017-10-09\", \"2017-10-26\", \"2017-10-27\", \"2017-11-23\", \"2017-12-04\", \"2017-12-05\", \"2017-12-08\", \"2017-12-12\", \"2017-12-13\", \"2017-12-14\", \"2017-12-18\", \"2018-01-03\", \"2018-01-04\", \"2018-01-16\", \"2018-01-18\", \"2018-02-12\", \"2018-02-17\", \"2018-03-02\", \"2018-03-09\", \"2018-04-04\", \"2018-04-05\", \"2018-04-06\"], \"xaxis\": \"x\", \"y\": [2, 2, 3, 3, 4, 1, 1, 4, 1, 1, 1, 1, 1, 1, 2, 1, 1, 2, 1, 1, 1, 2, 2, 2, 1, 1, 2, 2, 1, 1, 1, 2, 1, 1, 2, 2, 2, 6, 1, 1, 1, 1, 1, 1, 1, 2, 2, 1, 1, 1, 2, 2, 1, 5, 3, 1, 1, 2, 1, 1, 1, 1, 2, 1, 1, 2, 2, 1, 3, 3, 1, 2, 1, 3, 2, 2, 2, 3, 2, 2, 1, 7, 4, 1, 1, 2, 1, 2, 1, 1, 2, 1, 1, 2, 1, 4, 2, 2, 1, 1, 1, 6, 1, 7, 5, 9, 3, 3, 3, 1, 4, 1, 1, 1, 4, 1, 4, 2, 1, 2, 3, 6, 3, 5, 3, 2, 2, 2, 2, 3, 10, 9, 8, 1, 3, 6, 3, 4, 4, 2, 1, 1, 3, 4, 2, 2, 1, 2, 3, 7, 2, 2, 4, 1, 1, 1, 1, 1, 3, 1, 2, 1, 1, 2, 8, 3, 3, 2, 1, 1, 1, 1, 1, 1, 2, 1, 1, 1, 1, 2, 1, 1, 4, 1, 1, 3, 2, 1, 1, 2, 2, 1, 1, 1, 4, 1, 2, 2, 1, 1, 1, 1, 1, 1, 1, 1, 3, 1, 2, 1, 1, 2, 1, 4, 1, 1, 2, 1, 2, 1, 1, 1, 1, 1, 1, 1, 3, 2, 1, 1, 1, 3, 2, 1, 2, 1, 1, 3, 4, 4, 1, 3, 4, 2, 1, 1, 1, 1, 1, 1, 2, 2, 1, 1, 1, 1, 1, 1, 2, 1, 1, 2, 3, 1, 1, 1, 1, 1, 1, 1, 1, 1, 1, 1, 2, 1, 1, 1, 2, 1, 2, 1, 1, 1, 2, 2, 1, 1, 3, 2, 1, 2, 1, 3, 3, 5, 1, 1, 3, 1, 1, 1, 1, 1, 1, 2, 1, 2, 1, 1, 1, 1, 2, 1, 1, 1, 2, 1, 2, 1, 2, 1, 1, 1, 1, 1, 1, 1, 1, 1, 1, 2, 1, 1, 1, 1, 1, 1, 1, 2, 1, 1, 1, 2, 1, 1, 1, 1, 2, 1, 1, 1, 2, 1, 1, 1, 1, 1, 1, 2, 1, 1, 2, 1, 1, 1, 1, 1, 1, 2, 2, 1, 1, 1, 1, 1, 1, 3, 1, 1, 6, 4, 2, 1, 4, 4, 3, 2, 2, 2, 3, 3, 1, 1, 1, 2, 2, 1, 2, 1, 1, 1, 1, 1, 3, 1, 2, 1, 2, 3, 1, 1, 1, 1, 2, 2, 1, 1, 2, 4, 3, 2, 1, 1, 2, 3, 1, 2, 1, 1, 1, 1, 2, 2, 1, 1, 1, 1, 1, 1, 2, 1, 1, 1, 1, 1, 1, 1, 1, 1, 2, 1, 1, 1, 2, 3, 1, 1, 4, 2, 2, 1, 2, 1, 1, 1, 3, 1, 1, 1, 1, 1, 1, 2, 1, 1, 1, 1, 1, 1, 2, 1, 1, 1, 1, 1, 1, 1, 2, 1, 2, 2, 1, 2, 1, 2, 2, 3, 1, 5, 4, 2, 1, 1, 2, 1, 1, 1, 1, 1, 4, 2, 1, 2, 1, 1, 1, 2, 1, 1, 1, 1, 1, 2, 3, 1, 4, 1, 2, 2, 2, 2, 3, 2, 2, 4, 1, 1, 1, 2, 1, 2, 1, 1, 3, 1, 1, 1, 1, 1, 3, 1, 2, 1, 3, 2, 2, 1, 2, 1, 1, 1, 1, 1, 1, 2, 1, 1, 1, 1, 1, 1, 1, 1, 1, 1, 1, 1, 1, 2, 2, 1, 2, 4, 1, 1, 1, 1, 1, 1, 1, 1, 1, 1, 1, 1, 1, 1, 1, 2, 1, 1, 1, 1, 1, 1, 1, 1, 1, 1, 3, 2, 1, 1, 1, 1, 2, 1, 2, 1, 1, 1, 1, 1, 1, 1, 1, 1, 1, 1, 1, 1, 1, 1, 1, 1, 1, 1, 1, 1, 1, 1, 1, 1, 1, 1, 1, 1, 1, 1, 1, 1, 1, 1, 1, 1, 1, 1, 1, 2, 1, 1, 1, 1, 1, 1, 1, 1, 1, 2, 1, 1, 1, 2, 1, 1, 1, 1, 1, 1, 2, 1, 2, 1, 1, 1, 1, 1, 1, 10, 1, 1, 1, 1, 1, 1, 1, 1, 1, 3, 1, 1, 1, 5, 1, 1, 2, 2, 1, 1, 1, 1, 1, 1, 2, 1, 1, 2, 2, 1, 1, 2, 1, 1, 1, 1, 1, 1, 1, 1, 1, 1, 1, 1, 1, 1, 2, 1, 1, 1, 1, 1, 1, 1, 1, 1, 1, 1, 1, 1, 1, 1, 1, 1, 1, 2, 1, 2, 1, 2, 1, 1, 1, 1, 3, 1, 1, 2, 1, 1, 1, 1, 1, 1, 1, 1, 1, 1, 1, 1, 1, 1, 1, 1, 1, 1, 3, 1, 1, 1, 1, 1, 1, 1, 1, 1, 1, 1, 2, 1, 1, 1, 1, 1, 1, 3, 4, 1, 1, 1, 1, 1, 1, 1, 1, 2, 1, 1, 1, 1, 1, 1, 1, 2, 1, 1, 1, 1, 1, 1, 2, 1, 1, 1, 1, 2, 1, 1], \"yaxis\": \"y\"}],\n",
       "                        {\"legend\": {\"tracegroupgap\": 0}, \"margin\": {\"t\": 60}, \"template\": {\"data\": {\"bar\": [{\"error_x\": {\"color\": \"#2a3f5f\"}, \"error_y\": {\"color\": \"#2a3f5f\"}, \"marker\": {\"line\": {\"color\": \"#E5ECF6\", \"width\": 0.5}}, \"type\": \"bar\"}], \"barpolar\": [{\"marker\": {\"line\": {\"color\": \"#E5ECF6\", \"width\": 0.5}}, \"type\": \"barpolar\"}], \"carpet\": [{\"aaxis\": {\"endlinecolor\": \"#2a3f5f\", \"gridcolor\": \"white\", \"linecolor\": \"white\", \"minorgridcolor\": \"white\", \"startlinecolor\": \"#2a3f5f\"}, \"baxis\": {\"endlinecolor\": \"#2a3f5f\", \"gridcolor\": \"white\", \"linecolor\": \"white\", \"minorgridcolor\": \"white\", \"startlinecolor\": \"#2a3f5f\"}, \"type\": \"carpet\"}], \"choropleth\": [{\"colorbar\": {\"outlinewidth\": 0, \"ticks\": \"\"}, \"type\": \"choropleth\"}], \"contour\": [{\"colorbar\": {\"outlinewidth\": 0, \"ticks\": \"\"}, \"colorscale\": [[0.0, \"#0d0887\"], [0.1111111111111111, \"#46039f\"], [0.2222222222222222, \"#7201a8\"], [0.3333333333333333, \"#9c179e\"], [0.4444444444444444, \"#bd3786\"], [0.5555555555555556, \"#d8576b\"], [0.6666666666666666, \"#ed7953\"], [0.7777777777777778, \"#fb9f3a\"], [0.8888888888888888, \"#fdca26\"], [1.0, \"#f0f921\"]], \"type\": \"contour\"}], \"contourcarpet\": [{\"colorbar\": {\"outlinewidth\": 0, \"ticks\": \"\"}, \"type\": \"contourcarpet\"}], \"heatmap\": [{\"colorbar\": {\"outlinewidth\": 0, \"ticks\": \"\"}, \"colorscale\": [[0.0, \"#0d0887\"], [0.1111111111111111, \"#46039f\"], [0.2222222222222222, \"#7201a8\"], [0.3333333333333333, \"#9c179e\"], [0.4444444444444444, \"#bd3786\"], [0.5555555555555556, \"#d8576b\"], [0.6666666666666666, \"#ed7953\"], [0.7777777777777778, \"#fb9f3a\"], [0.8888888888888888, \"#fdca26\"], [1.0, \"#f0f921\"]], \"type\": \"heatmap\"}], \"heatmapgl\": [{\"colorbar\": {\"outlinewidth\": 0, \"ticks\": \"\"}, \"colorscale\": [[0.0, \"#0d0887\"], [0.1111111111111111, \"#46039f\"], [0.2222222222222222, \"#7201a8\"], [0.3333333333333333, \"#9c179e\"], [0.4444444444444444, \"#bd3786\"], [0.5555555555555556, \"#d8576b\"], [0.6666666666666666, \"#ed7953\"], [0.7777777777777778, \"#fb9f3a\"], [0.8888888888888888, \"#fdca26\"], [1.0, \"#f0f921\"]], \"type\": \"heatmapgl\"}], \"histogram\": [{\"marker\": {\"colorbar\": {\"outlinewidth\": 0, \"ticks\": \"\"}}, \"type\": \"histogram\"}], \"histogram2d\": [{\"colorbar\": {\"outlinewidth\": 0, \"ticks\": \"\"}, \"colorscale\": [[0.0, \"#0d0887\"], [0.1111111111111111, \"#46039f\"], [0.2222222222222222, \"#7201a8\"], [0.3333333333333333, \"#9c179e\"], [0.4444444444444444, \"#bd3786\"], [0.5555555555555556, \"#d8576b\"], [0.6666666666666666, \"#ed7953\"], [0.7777777777777778, \"#fb9f3a\"], [0.8888888888888888, \"#fdca26\"], [1.0, \"#f0f921\"]], \"type\": \"histogram2d\"}], \"histogram2dcontour\": [{\"colorbar\": {\"outlinewidth\": 0, \"ticks\": \"\"}, \"colorscale\": [[0.0, \"#0d0887\"], [0.1111111111111111, \"#46039f\"], [0.2222222222222222, \"#7201a8\"], [0.3333333333333333, \"#9c179e\"], [0.4444444444444444, \"#bd3786\"], [0.5555555555555556, \"#d8576b\"], [0.6666666666666666, \"#ed7953\"], [0.7777777777777778, \"#fb9f3a\"], [0.8888888888888888, \"#fdca26\"], [1.0, \"#f0f921\"]], \"type\": \"histogram2dcontour\"}], \"mesh3d\": [{\"colorbar\": {\"outlinewidth\": 0, \"ticks\": \"\"}, \"type\": \"mesh3d\"}], \"parcoords\": [{\"line\": {\"colorbar\": {\"outlinewidth\": 0, \"ticks\": \"\"}}, \"type\": \"parcoords\"}], \"pie\": [{\"automargin\": true, \"type\": \"pie\"}], \"scatter\": [{\"marker\": {\"colorbar\": {\"outlinewidth\": 0, \"ticks\": \"\"}}, \"type\": \"scatter\"}], \"scatter3d\": [{\"line\": {\"colorbar\": {\"outlinewidth\": 0, \"ticks\": \"\"}}, \"marker\": {\"colorbar\": {\"outlinewidth\": 0, \"ticks\": \"\"}}, \"type\": \"scatter3d\"}], \"scattercarpet\": [{\"marker\": {\"colorbar\": {\"outlinewidth\": 0, \"ticks\": \"\"}}, \"type\": \"scattercarpet\"}], \"scattergeo\": [{\"marker\": {\"colorbar\": {\"outlinewidth\": 0, \"ticks\": \"\"}}, \"type\": \"scattergeo\"}], \"scattergl\": [{\"marker\": {\"colorbar\": {\"outlinewidth\": 0, \"ticks\": \"\"}}, \"type\": \"scattergl\"}], \"scattermapbox\": [{\"marker\": {\"colorbar\": {\"outlinewidth\": 0, \"ticks\": \"\"}}, \"type\": \"scattermapbox\"}], \"scatterpolar\": [{\"marker\": {\"colorbar\": {\"outlinewidth\": 0, \"ticks\": \"\"}}, \"type\": \"scatterpolar\"}], \"scatterpolargl\": [{\"marker\": {\"colorbar\": {\"outlinewidth\": 0, \"ticks\": \"\"}}, \"type\": \"scatterpolargl\"}], \"scatterternary\": [{\"marker\": {\"colorbar\": {\"outlinewidth\": 0, \"ticks\": \"\"}}, \"type\": \"scatterternary\"}], \"surface\": [{\"colorbar\": {\"outlinewidth\": 0, \"ticks\": \"\"}, \"colorscale\": [[0.0, \"#0d0887\"], [0.1111111111111111, \"#46039f\"], [0.2222222222222222, \"#7201a8\"], [0.3333333333333333, \"#9c179e\"], [0.4444444444444444, \"#bd3786\"], [0.5555555555555556, \"#d8576b\"], [0.6666666666666666, \"#ed7953\"], [0.7777777777777778, \"#fb9f3a\"], [0.8888888888888888, \"#fdca26\"], [1.0, \"#f0f921\"]], \"type\": \"surface\"}], \"table\": [{\"cells\": {\"fill\": {\"color\": \"#EBF0F8\"}, \"line\": {\"color\": \"white\"}}, \"header\": {\"fill\": {\"color\": \"#C8D4E3\"}, \"line\": {\"color\": \"white\"}}, \"type\": \"table\"}]}, \"layout\": {\"annotationdefaults\": {\"arrowcolor\": \"#2a3f5f\", \"arrowhead\": 0, \"arrowwidth\": 1}, \"coloraxis\": {\"colorbar\": {\"outlinewidth\": 0, \"ticks\": \"\"}}, \"colorscale\": {\"diverging\": [[0, \"#8e0152\"], [0.1, \"#c51b7d\"], [0.2, \"#de77ae\"], [0.3, \"#f1b6da\"], [0.4, \"#fde0ef\"], [0.5, \"#f7f7f7\"], [0.6, \"#e6f5d0\"], [0.7, \"#b8e186\"], [0.8, \"#7fbc41\"], [0.9, \"#4d9221\"], [1, \"#276419\"]], \"sequential\": [[0.0, \"#0d0887\"], [0.1111111111111111, \"#46039f\"], [0.2222222222222222, \"#7201a8\"], [0.3333333333333333, \"#9c179e\"], [0.4444444444444444, \"#bd3786\"], [0.5555555555555556, \"#d8576b\"], [0.6666666666666666, \"#ed7953\"], [0.7777777777777778, \"#fb9f3a\"], [0.8888888888888888, \"#fdca26\"], [1.0, \"#f0f921\"]], \"sequentialminus\": [[0.0, \"#0d0887\"], [0.1111111111111111, \"#46039f\"], [0.2222222222222222, \"#7201a8\"], [0.3333333333333333, \"#9c179e\"], [0.4444444444444444, \"#bd3786\"], [0.5555555555555556, \"#d8576b\"], [0.6666666666666666, \"#ed7953\"], [0.7777777777777778, \"#fb9f3a\"], [0.8888888888888888, \"#fdca26\"], [1.0, \"#f0f921\"]]}, \"colorway\": [\"#636efa\", \"#EF553B\", \"#00cc96\", \"#ab63fa\", \"#FFA15A\", \"#19d3f3\", \"#FF6692\", \"#B6E880\", \"#FF97FF\", \"#FECB52\"], \"font\": {\"color\": \"#2a3f5f\"}, \"geo\": {\"bgcolor\": \"white\", \"lakecolor\": \"white\", \"landcolor\": \"#E5ECF6\", \"showlakes\": true, \"showland\": true, \"subunitcolor\": \"white\"}, \"hoverlabel\": {\"align\": \"left\"}, \"hovermode\": \"closest\", \"mapbox\": {\"style\": \"light\"}, \"paper_bgcolor\": \"white\", \"plot_bgcolor\": \"#E5ECF6\", \"polar\": {\"angularaxis\": {\"gridcolor\": \"white\", \"linecolor\": \"white\", \"ticks\": \"\"}, \"bgcolor\": \"#E5ECF6\", \"radialaxis\": {\"gridcolor\": \"white\", \"linecolor\": \"white\", \"ticks\": \"\"}}, \"scene\": {\"xaxis\": {\"backgroundcolor\": \"#E5ECF6\", \"gridcolor\": \"white\", \"gridwidth\": 2, \"linecolor\": \"white\", \"showbackground\": true, \"ticks\": \"\", \"zerolinecolor\": \"white\"}, \"yaxis\": {\"backgroundcolor\": \"#E5ECF6\", \"gridcolor\": \"white\", \"gridwidth\": 2, \"linecolor\": \"white\", \"showbackground\": true, \"ticks\": \"\", \"zerolinecolor\": \"white\"}, \"zaxis\": {\"backgroundcolor\": \"#E5ECF6\", \"gridcolor\": \"white\", \"gridwidth\": 2, \"linecolor\": \"white\", \"showbackground\": true, \"ticks\": \"\", \"zerolinecolor\": \"white\"}}, \"shapedefaults\": {\"line\": {\"color\": \"#2a3f5f\"}}, \"ternary\": {\"aaxis\": {\"gridcolor\": \"white\", \"linecolor\": \"white\", \"ticks\": \"\"}, \"baxis\": {\"gridcolor\": \"white\", \"linecolor\": \"white\", \"ticks\": \"\"}, \"bgcolor\": \"#E5ECF6\", \"caxis\": {\"gridcolor\": \"white\", \"linecolor\": \"white\", \"ticks\": \"\"}}, \"title\": {\"x\": 0.05}, \"xaxis\": {\"automargin\": true, \"gridcolor\": \"white\", \"linecolor\": \"white\", \"ticks\": \"\", \"title\": {\"standoff\": 15}, \"zerolinecolor\": \"white\", \"zerolinewidth\": 2}, \"yaxis\": {\"automargin\": true, \"gridcolor\": \"white\", \"linecolor\": \"white\", \"ticks\": \"\", \"title\": {\"standoff\": 15}, \"zerolinecolor\": \"white\", \"zerolinewidth\": 2}}}, \"xaxis\": {\"anchor\": \"y\", \"domain\": [0.0, 1.0], \"rangeslider\": {\"visible\": true}, \"title\": {\"text\": \"x\"}}, \"yaxis\": {\"anchor\": \"x\", \"domain\": [0.0, 1.0], \"title\": {\"text\": \"status\"}}},\n",
       "                        {\"responsive\": true}\n",
       "                    ).then(function(){\n",
       "                            \n",
       "var gd = document.getElementById('6070dcb1-b135-44b4-9be9-56c6d1a9c1d5');\n",
       "var x = new MutationObserver(function (mutations, observer) {{\n",
       "        var display = window.getComputedStyle(gd).display;\n",
       "        if (!display || display === 'none') {{\n",
       "            console.log([gd, 'removed!']);\n",
       "            Plotly.purge(gd);\n",
       "            observer.disconnect();\n",
       "        }}\n",
       "}});\n",
       "\n",
       "// Listen for the removal of the full notebook cells\n",
       "var notebookContainer = gd.closest('#notebook-container');\n",
       "if (notebookContainer) {{\n",
       "    x.observe(notebookContainer, {childList: true});\n",
       "}}\n",
       "\n",
       "// Listen for the clearing of the current output cell\n",
       "var outputEl = gd.closest('.output');\n",
       "if (outputEl) {{\n",
       "    x.observe(outputEl, {childList: true});\n",
       "}}\n",
       "\n",
       "                        })\n",
       "                };\n",
       "                });\n",
       "            </script>\n",
       "        </div>"
      ]
     },
     "metadata": {},
     "output_type": "display_data"
    }
   ],
   "source": [
    "created = df[['created_date', 'status']].groupby('created_date').count().reset_index()\n",
    "created = created.set_index(['created_date'])\n",
    "\n",
    "fig = px.line(created, x=created.index, y='status')\n",
    "fig.update_xaxes(rangeslider_visible=True)\n",
    "fig.show()"
   ]
  },
  {
   "cell_type": "markdown",
   "metadata": {},
   "source": [
    "## Days needed to solve problem"
   ]
  },
  {
   "cell_type": "code",
   "execution_count": 6,
   "metadata": {},
   "outputs": [
    {
     "data": {
      "application/vnd.plotly.v1+json": {
       "config": {
        "plotlyServerURL": "https://plot.ly"
       },
       "data": [
        {
         "hovertemplate": "x=%{x}<br>days_needed=%{y}<extra></extra>",
         "legendgroup": "",
         "line": {
          "color": "#636efa",
          "dash": "solid"
         },
         "mode": "lines",
         "name": "",
         "showlegend": false,
         "type": "scatter",
         "x": [
          "2009-04-09",
          "2009-04-10",
          "2009-04-11",
          "2009-04-13",
          "2009-04-14",
          "2009-04-15",
          "2009-04-21",
          "2009-04-24",
          "2009-04-25",
          "2009-04-29",
          "2009-05-01",
          "2009-05-06",
          "2009-05-11",
          "2009-05-12",
          "2009-05-13",
          "2009-05-14",
          "2009-05-15",
          "2009-05-22",
          "2009-05-26",
          "2009-05-27",
          "2009-05-31",
          "2009-06-01",
          "2009-06-02",
          "2009-06-03",
          "2009-06-06",
          "2009-06-10",
          "2009-06-13",
          "2009-06-16",
          "2009-06-17",
          "2009-06-18",
          "2009-06-19",
          "2009-06-20",
          "2009-06-22",
          "2009-06-24",
          "2009-06-25",
          "2009-06-29",
          "2009-06-30",
          "2009-07-03",
          "2009-07-04",
          "2009-07-06",
          "2009-07-09",
          "2009-07-15",
          "2009-07-18",
          "2009-07-20",
          "2009-07-22",
          "2009-07-23",
          "2009-07-28",
          "2009-07-31",
          "2009-08-11",
          "2009-08-12",
          "2009-08-14",
          "2009-08-15",
          "2009-08-16",
          "2009-08-18",
          "2009-08-19",
          "2009-08-20",
          "2009-08-27",
          "2009-08-28",
          "2009-09-01",
          "2009-09-02",
          "2009-09-04",
          "2009-09-08",
          "2009-09-11",
          "2009-09-19",
          "2009-09-21",
          "2009-09-22",
          "2009-09-23",
          "2009-09-24",
          "2009-09-25",
          "2009-09-28",
          "2009-09-29",
          "2009-09-30",
          "2009-10-02",
          "2009-10-05",
          "2009-10-07",
          "2009-10-08",
          "2009-10-13",
          "2009-10-14",
          "2009-10-15",
          "2009-10-16",
          "2009-10-19",
          "2009-10-20",
          "2009-10-21",
          "2009-10-22",
          "2009-10-23",
          "2009-10-24",
          "2009-10-26",
          "2009-10-29",
          "2009-10-30",
          "2009-11-02",
          "2009-11-03",
          "2009-11-04",
          "2009-11-05",
          "2009-11-06",
          "2009-11-09",
          "2009-11-10",
          "2009-11-11",
          "2009-11-12",
          "2009-11-13",
          "2009-11-14",
          "2009-11-15",
          "2009-11-16",
          "2009-11-17",
          "2009-11-18",
          "2009-11-19",
          "2009-11-20",
          "2009-11-21",
          "2009-11-24",
          "2009-11-25",
          "2009-11-30",
          "2009-12-01",
          "2009-12-04",
          "2009-12-08",
          "2009-12-11",
          "2009-12-14",
          "2009-12-15",
          "2009-12-18",
          "2009-12-22",
          "2009-12-23",
          "2009-12-29",
          "2009-12-30",
          "2009-12-31",
          "2010-01-04",
          "2010-01-05",
          "2010-01-07",
          "2010-01-08",
          "2010-01-09",
          "2010-01-10",
          "2010-01-11",
          "2010-01-12",
          "2010-01-13",
          "2010-01-14",
          "2010-01-15",
          "2010-01-16",
          "2010-01-18",
          "2010-01-19",
          "2010-01-20",
          "2010-01-21",
          "2010-01-22",
          "2010-01-23",
          "2010-01-24",
          "2010-01-25",
          "2010-01-26",
          "2010-01-27",
          "2010-01-28",
          "2010-01-29",
          "2010-01-30",
          "2010-01-31",
          "2010-02-03",
          "2010-02-04",
          "2010-02-05",
          "2010-02-06",
          "2010-02-09",
          "2010-02-12",
          "2010-02-13",
          "2010-02-15",
          "2010-02-16",
          "2010-02-17",
          "2010-02-19",
          "2010-02-20",
          "2010-02-22",
          "2010-02-23",
          "2010-02-25",
          "2010-02-26",
          "2010-03-02",
          "2010-03-03",
          "2010-03-04",
          "2010-03-05",
          "2010-03-06",
          "2010-03-08",
          "2010-03-12",
          "2010-03-14",
          "2010-03-15",
          "2010-03-16",
          "2010-03-17",
          "2010-03-18",
          "2010-03-19",
          "2010-03-21",
          "2010-03-22",
          "2010-03-24",
          "2010-03-26",
          "2010-03-30",
          "2010-04-02",
          "2010-04-03",
          "2010-04-04",
          "2010-04-05",
          "2010-04-06",
          "2010-04-08",
          "2010-04-09",
          "2010-04-11",
          "2010-04-15",
          "2010-04-17",
          "2010-04-19",
          "2010-04-24",
          "2010-04-25",
          "2010-04-28",
          "2010-04-30",
          "2010-05-13",
          "2010-05-14",
          "2010-05-15",
          "2010-05-18",
          "2010-05-22",
          "2010-05-27",
          "2010-05-30",
          "2010-05-31",
          "2010-06-02",
          "2010-06-03",
          "2010-06-04",
          "2010-06-07",
          "2010-06-09",
          "2010-06-11",
          "2010-06-14",
          "2010-06-15",
          "2010-06-17",
          "2010-06-22",
          "2010-06-23",
          "2010-06-24",
          "2010-06-30",
          "2010-07-01",
          "2010-07-06",
          "2010-07-12",
          "2010-07-14",
          "2010-07-15",
          "2010-07-19",
          "2010-07-22",
          "2010-07-27",
          "2010-08-03",
          "2010-08-04",
          "2010-08-05",
          "2010-08-06",
          "2010-08-12",
          "2010-08-13",
          "2010-08-16",
          "2010-08-17",
          "2010-08-19",
          "2010-08-20",
          "2010-08-24",
          "2010-08-25",
          "2010-08-26",
          "2010-08-27",
          "2010-08-28",
          "2010-08-30",
          "2010-09-01",
          "2010-09-02",
          "2010-09-03",
          "2010-09-07",
          "2010-09-08",
          "2010-09-09",
          "2010-09-10",
          "2010-09-12",
          "2010-09-16",
          "2010-09-17",
          "2010-09-19",
          "2010-09-24",
          "2010-09-25",
          "2010-09-30",
          "2010-10-06",
          "2010-10-14",
          "2010-10-24",
          "2010-10-25",
          "2010-10-27",
          "2010-11-01",
          "2010-11-04",
          "2010-11-08",
          "2010-11-17",
          "2010-11-18",
          "2010-11-19",
          "2010-11-22",
          "2010-11-23",
          "2010-11-24",
          "2010-11-30",
          "2010-12-01",
          "2010-12-02",
          "2010-12-04",
          "2010-12-05",
          "2010-12-12",
          "2010-12-13",
          "2010-12-15",
          "2010-12-17",
          "2010-12-21",
          "2010-12-23",
          "2010-12-30",
          "2011-01-02",
          "2011-01-04",
          "2011-01-05",
          "2011-01-08",
          "2011-01-10",
          "2011-01-11",
          "2011-01-14",
          "2011-01-18",
          "2011-01-19",
          "2011-01-20",
          "2011-01-22",
          "2011-01-24",
          "2011-01-28",
          "2011-02-01",
          "2011-02-04",
          "2011-02-08",
          "2011-02-09",
          "2011-02-13",
          "2011-02-14",
          "2011-02-15",
          "2011-02-17",
          "2011-02-20",
          "2011-02-21",
          "2011-02-22",
          "2011-03-05",
          "2011-03-09",
          "2011-03-11",
          "2011-03-13",
          "2011-03-19",
          "2011-03-21",
          "2011-03-22",
          "2011-03-24",
          "2011-03-28",
          "2011-03-29",
          "2011-03-30",
          "2011-03-31",
          "2011-04-04",
          "2011-04-05",
          "2011-04-06",
          "2011-04-08",
          "2011-04-12",
          "2011-04-20",
          "2011-04-21",
          "2011-04-22",
          "2011-04-23",
          "2011-04-26",
          "2011-04-27",
          "2011-04-29",
          "2011-05-03",
          "2011-05-12",
          "2011-05-13",
          "2011-05-17",
          "2011-05-18",
          "2011-05-19",
          "2011-05-20",
          "2011-05-25",
          "2011-05-26",
          "2011-05-31",
          "2011-06-04",
          "2011-06-07",
          "2011-06-10",
          "2011-06-16",
          "2011-06-23",
          "2011-06-24",
          "2011-06-28",
          "2011-06-29",
          "2011-06-30",
          "2011-07-06",
          "2011-07-07",
          "2011-07-10",
          "2011-07-14",
          "2011-07-22",
          "2011-07-24",
          "2011-07-26",
          "2011-07-28",
          "2011-08-01",
          "2011-08-03",
          "2011-08-09",
          "2011-08-10",
          "2011-08-11",
          "2011-08-15",
          "2011-08-16",
          "2011-08-18",
          "2011-08-22",
          "2011-08-23",
          "2011-08-30",
          "2011-09-06",
          "2011-09-08",
          "2011-09-16",
          "2011-09-18",
          "2011-09-20",
          "2011-09-21",
          "2011-09-23",
          "2011-09-25",
          "2011-09-26",
          "2011-09-27",
          "2011-10-01",
          "2011-10-02",
          "2011-10-04",
          "2011-10-05",
          "2011-10-06",
          "2011-10-07",
          "2011-10-08",
          "2011-10-10",
          "2011-10-12",
          "2011-10-14",
          "2011-10-15",
          "2011-10-16",
          "2011-10-17",
          "2011-10-19",
          "2011-10-21",
          "2011-10-22",
          "2011-10-23",
          "2011-10-25",
          "2011-10-27",
          "2011-10-28",
          "2011-11-03",
          "2011-11-04",
          "2011-11-07",
          "2011-11-21",
          "2011-11-22",
          "2011-11-25",
          "2011-11-28",
          "2011-11-29",
          "2011-11-30",
          "2011-12-02",
          "2011-12-08",
          "2011-12-12",
          "2011-12-13",
          "2011-12-15",
          "2011-12-19",
          "2011-12-22",
          "2012-01-16",
          "2012-01-17",
          "2012-01-18",
          "2012-01-19",
          "2012-01-20",
          "2012-01-24",
          "2012-01-25",
          "2012-01-27",
          "2012-01-30",
          "2012-01-31",
          "2012-02-04",
          "2012-02-07",
          "2012-02-08",
          "2012-02-10",
          "2012-02-14",
          "2012-02-15",
          "2012-02-19",
          "2012-02-22",
          "2012-02-23",
          "2012-02-29",
          "2012-03-01",
          "2012-03-06",
          "2012-03-09",
          "2012-03-14",
          "2012-03-16",
          "2012-03-22",
          "2012-03-23",
          "2012-03-27",
          "2012-03-30",
          "2012-04-04",
          "2012-04-07",
          "2012-04-13",
          "2012-04-15",
          "2012-04-17",
          "2012-04-18",
          "2012-04-19",
          "2012-04-20",
          "2012-04-22",
          "2012-04-23",
          "2012-04-27",
          "2012-04-29",
          "2012-05-04",
          "2012-05-06",
          "2012-05-10",
          "2012-05-11",
          "2012-05-12",
          "2012-05-14",
          "2012-05-15",
          "2012-05-16",
          "2012-05-17",
          "2012-05-19",
          "2012-05-20",
          "2012-05-21",
          "2012-05-24",
          "2012-05-25",
          "2012-05-26",
          "2012-05-28",
          "2012-06-01",
          "2012-06-02",
          "2012-06-07",
          "2012-06-08",
          "2012-06-09",
          "2012-06-11",
          "2012-06-13",
          "2012-06-15",
          "2012-06-18",
          "2012-06-20",
          "2012-06-21",
          "2012-06-27",
          "2012-07-12",
          "2012-07-17",
          "2012-07-19",
          "2012-07-22",
          "2012-07-27",
          "2012-08-05",
          "2012-08-13",
          "2012-08-15",
          "2012-08-21",
          "2012-08-28",
          "2012-08-31",
          "2012-09-05",
          "2012-09-07",
          "2012-09-10",
          "2012-09-11",
          "2012-09-12",
          "2012-09-13",
          "2012-09-14",
          "2012-09-18",
          "2012-09-19",
          "2012-09-22",
          "2012-09-27",
          "2012-10-01",
          "2012-10-17",
          "2012-10-24",
          "2012-10-30",
          "2012-11-03",
          "2012-11-08",
          "2012-11-09",
          "2012-11-14",
          "2012-11-16",
          "2012-11-19",
          "2012-11-21",
          "2012-11-22",
          "2012-12-07",
          "2012-12-13",
          "2012-12-19",
          "2012-12-20",
          "2013-01-05",
          "2013-01-09",
          "2013-01-10",
          "2013-01-11",
          "2013-01-15",
          "2013-02-01",
          "2013-02-06",
          "2013-02-07",
          "2013-02-10",
          "2013-02-11",
          "2013-02-12",
          "2013-02-14",
          "2013-02-19",
          "2013-02-20",
          "2013-02-28",
          "2013-03-06",
          "2013-03-10",
          "2013-03-12",
          "2013-03-21",
          "2013-03-22",
          "2013-04-03",
          "2013-04-04",
          "2013-04-09",
          "2013-04-10",
          "2013-04-11",
          "2013-04-13",
          "2013-04-17",
          "2013-04-18",
          "2013-04-21",
          "2013-04-22",
          "2013-04-29",
          "2013-04-30",
          "2013-05-01",
          "2013-05-06",
          "2013-05-07",
          "2013-05-08",
          "2013-05-10",
          "2013-05-15",
          "2013-05-21",
          "2013-05-28",
          "2013-06-06",
          "2013-06-20",
          "2013-07-02",
          "2013-07-18",
          "2013-07-21",
          "2013-07-22",
          "2013-08-01",
          "2013-08-14",
          "2013-08-21",
          "2013-08-26",
          "2013-08-27",
          "2013-08-28",
          "2013-09-05",
          "2013-09-10",
          "2013-09-17",
          "2013-09-20",
          "2013-09-30",
          "2013-10-04",
          "2013-10-08",
          "2013-10-17",
          "2013-11-04",
          "2013-11-05",
          "2013-11-11",
          "2013-11-12",
          "2013-11-22",
          "2013-11-25",
          "2013-12-03",
          "2013-12-04",
          "2013-12-08",
          "2013-12-12",
          "2013-12-13",
          "2013-12-16",
          "2013-12-17",
          "2013-12-20",
          "2013-12-26",
          "2014-01-02",
          "2014-01-04",
          "2014-01-05",
          "2014-01-08",
          "2014-01-10",
          "2014-01-13",
          "2014-01-15",
          "2014-01-16",
          "2014-01-21",
          "2014-01-23",
          "2014-01-24",
          "2014-01-27",
          "2014-01-29",
          "2014-02-07",
          "2014-02-12",
          "2014-02-15",
          "2014-02-20",
          "2014-02-24",
          "2014-02-27",
          "2014-03-01",
          "2014-03-02",
          "2014-03-03",
          "2014-03-07",
          "2014-03-14",
          "2014-04-22",
          "2014-04-24",
          "2014-04-30",
          "2014-05-01",
          "2014-05-12",
          "2014-05-13",
          "2014-05-15",
          "2014-05-20",
          "2014-05-22",
          "2014-05-30",
          "2014-06-11",
          "2014-06-23",
          "2014-06-27",
          "2014-06-29",
          "2014-06-30",
          "2014-07-02",
          "2014-07-11",
          "2014-07-12",
          "2014-07-17",
          "2014-07-24",
          "2014-07-28",
          "2014-07-30",
          "2014-08-08",
          "2014-09-08",
          "2014-09-12",
          "2014-09-17",
          "2014-09-19",
          "2014-09-20",
          "2014-10-02",
          "2014-10-08",
          "2014-10-22",
          "2014-10-24",
          "2014-11-01",
          "2014-11-09",
          "2014-11-14",
          "2014-11-26",
          "2014-11-27",
          "2014-12-01",
          "2014-12-10",
          "2014-12-11",
          "2014-12-16",
          "2014-12-19",
          "2015-01-10",
          "2015-01-14",
          "2015-01-19",
          "2015-02-02",
          "2015-03-04",
          "2015-03-19",
          "2015-03-29",
          "2015-03-31",
          "2015-04-07",
          "2015-04-08",
          "2015-05-28",
          "2015-05-29",
          "2015-06-03",
          "2015-06-10",
          "2015-06-12",
          "2015-06-16",
          "2015-06-17",
          "2015-06-23",
          "2015-06-25",
          "2015-07-06",
          "2015-07-07",
          "2015-07-08",
          "2015-07-11",
          "2015-07-27",
          "2015-08-06",
          "2015-08-07",
          "2015-08-27",
          "2015-09-11",
          "2015-09-13",
          "2015-10-08",
          "2015-10-14",
          "2015-11-04",
          "2015-11-08",
          "2015-11-23",
          "2015-12-03",
          "2015-12-04",
          "2015-12-15",
          "2015-12-21",
          "2015-12-23",
          "2015-12-30",
          "2016-01-10",
          "2016-01-11",
          "2016-01-17",
          "2016-01-19",
          "2016-02-02",
          "2016-02-04",
          "2016-02-10",
          "2016-02-22",
          "2016-02-24",
          "2016-03-08",
          "2016-03-10",
          "2016-03-17",
          "2016-04-02",
          "2016-04-06",
          "2016-04-08",
          "2016-04-09",
          "2016-04-12",
          "2016-04-20",
          "2016-04-21",
          "2016-04-25",
          "2016-04-27",
          "2016-05-02",
          "2016-05-03",
          "2016-05-05",
          "2016-05-07",
          "2016-05-13",
          "2016-05-18",
          "2016-05-19",
          "2016-05-25",
          "2016-06-06",
          "2016-06-07",
          "2016-06-15",
          "2016-06-16",
          "2016-06-22",
          "2016-06-28",
          "2016-06-29",
          "2016-06-30",
          "2016-07-04",
          "2016-07-07",
          "2016-07-10",
          "2016-07-11",
          "2016-07-18",
          "2016-07-24",
          "2016-07-25",
          "2016-08-03",
          "2016-08-04",
          "2016-08-08",
          "2016-08-21",
          "2016-08-23",
          "2016-08-31",
          "2016-09-01",
          "2016-09-04",
          "2016-09-13",
          "2016-09-14",
          "2016-09-16",
          "2016-09-17",
          "2016-09-19",
          "2016-09-22",
          "2016-10-05",
          "2016-10-10",
          "2016-10-19",
          "2016-10-21",
          "2016-10-26",
          "2016-10-28",
          "2016-11-03",
          "2016-11-04",
          "2016-11-05",
          "2016-11-07",
          "2016-11-11",
          "2016-11-14",
          "2016-11-22",
          "2016-11-30",
          "2016-12-01",
          "2016-12-17",
          "2016-12-19",
          "2016-12-22",
          "2016-12-30",
          "2017-01-02",
          "2017-01-06",
          "2017-01-11",
          "2017-01-24",
          "2017-01-25",
          "2017-01-28",
          "2017-01-29",
          "2017-01-30",
          "2017-02-06",
          "2017-02-08",
          "2017-02-15",
          "2017-03-23",
          "2017-03-26",
          "2017-03-28",
          "2017-04-05",
          "2017-04-07",
          "2017-04-10",
          "2017-04-11",
          "2017-04-12",
          "2017-04-14",
          "2017-05-10",
          "2017-05-31",
          "2017-06-12",
          "2017-06-15",
          "2017-06-16",
          "2017-07-14",
          "2017-07-17",
          "2017-07-18",
          "2017-07-28",
          "2017-08-01",
          "2017-08-03",
          "2017-08-04",
          "2017-08-14",
          "2017-08-30",
          "2017-09-14",
          "2017-09-20",
          "2017-10-06",
          "2017-10-09",
          "2017-10-26",
          "2017-10-27",
          "2017-11-23",
          "2017-12-04",
          "2017-12-05",
          "2017-12-08",
          "2017-12-12",
          "2017-12-13",
          "2017-12-14",
          "2017-12-18",
          "2018-01-03",
          "2018-01-04",
          "2018-01-16",
          "2018-01-18",
          "2018-02-12",
          "2018-02-17",
          "2018-03-02",
          "2018-03-09",
          "2018-04-04",
          "2018-04-05",
          "2018-04-06"
         ],
         "xaxis": "x",
         "y": [
          35,
          1.5,
          2.3333333333333335,
          26.333333333333332,
          9.5,
          6,
          0,
          35.25,
          41,
          36,
          16,
          47,
          51,
          44,
          10,
          0,
          7,
          17.5,
          0,
          0,
          1,
          47,
          0,
          11,
          2,
          12,
          20,
          15.5,
          0,
          0,
          3,
          3.5,
          22,
          55,
          31.5,
          11.5,
          0.5,
          4.166666666666667,
          0,
          25,
          0,
          1,
          2,
          123,
          6,
          15.5,
          2.5,
          11,
          7,
          0,
          8.5,
          6,
          2,
          17.6,
          27,
          5,
          0,
          4.5,
          0,
          1,
          3,
          13,
          6,
          2,
          1,
          1.5,
          1.5,
          0,
          0,
          71,
          0,
          52.5,
          5,
          36.666666666666664,
          0.5,
          0.5,
          1,
          5,
          6,
          59,
          0,
          34.714285714285715,
          5.25,
          0,
          13,
          19,
          0,
          1,
          6,
          1,
          0,
          70,
          6,
          16,
          1,
          0.25,
          0.5,
          0,
          1,
          1,
          63,
          1.6666666666666667,
          47,
          28,
          27.8,
          12.222222222222221,
          2.3333333333333335,
          2.3333333333333335,
          7.333333333333333,
          45,
          35.5,
          1,
          1,
          31,
          13,
          0,
          24.25,
          6.5,
          13,
          9,
          2,
          7.166666666666667,
          5.666666666666667,
          10.4,
          0.6666666666666666,
          18.5,
          2.5,
          1,
          4,
          0.6666666666666666,
          10,
          18.555555555555557,
          6.75,
          3,
          9.333333333333334,
          4.166666666666667,
          0,
          3,
          1,
          1.5,
          23,
          1,
          0,
          1.75,
          0.5,
          3.5,
          3,
          1,
          5.333333333333333,
          1.1428571428571428,
          1.5,
          0,
          0,
          7,
          3,
          1,
          2,
          26,
          9,
          5,
          1,
          0,
          4,
          4.5,
          1,
          36,
          19,
          0,
          6,
          0,
          0,
          20,
          19,
          2,
          0,
          0,
          0,
          13,
          1,
          4.5,
          7,
          1,
          33.75,
          3,
          0,
          1.3333333333333333,
          45,
          104,
          3,
          0,
          2,
          0,
          4,
          3,
          39,
          0,
          59.5,
          51,
          0,
          4,
          62,
          2,
          4,
          0,
          5,
          69,
          0,
          0,
          5,
          0,
          47,
          0.5,
          10,
          27.5,
          42,
          1,
          40.5,
          56,
          28,
          0,
          31,
          6,
          40,
          8,
          25,
          7,
          0.3333333333333333,
          6.5,
          20,
          4,
          6,
          9,
          1.5,
          6,
          0.5,
          3,
          0,
          1.3333333333333333,
          4.75,
          6.25,
          62,
          35.666666666666664,
          41.75,
          0,
          10,
          6,
          9,
          127,
          4,
          0,
          2.5,
          52.5,
          18,
          13,
          5,
          5,
          16,
          0,
          2,
          28,
          1,
          60,
          23,
          59,
          0,
          4,
          2,
          69,
          93,
          5,
          9,
          9,
          0,
          5,
          74,
          1,
          69,
          1,
          44,
          14,
          10.5,
          8,
          5,
          6,
          32.5,
          3,
          39,
          0,
          4.333333333333333,
          7,
          54,
          2.5,
          2,
          11.666666666666666,
          15.333333333333334,
          18.2,
          3,
          7,
          37,
          2,
          0,
          0,
          8,
          1,
          3,
          2,
          2,
          56.5,
          19,
          5,
          7,
          8,
          7.5,
          13,
          1,
          20,
          60.5,
          29,
          0,
          99,
          12,
          12,
          6,
          0,
          5,
          26,
          69,
          6,
          2,
          4,
          0,
          0,
          5,
          0,
          42,
          43,
          9,
          0,
          3,
          1,
          17,
          36,
          19,
          94,
          1,
          7,
          3,
          1,
          30,
          37,
          4,
          14,
          33.5,
          65,
          3,
          61,
          41,
          14,
          70,
          31,
          1,
          41,
          4.5,
          8,
          55,
          3,
          2,
          21,
          1,
          12,
          3,
          8,
          2,
          1,
          3,
          0,
          5,
          6,
          4,
          3,
          1,
          1.25,
          2.5,
          0,
          4.75,
          4,
          36.333333333333336,
          1.5,
          4,
          0,
          2,
          0.3333333333333333,
          0,
          6,
          1,
          5,
          3.5,
          0,
          0.5,
          33,
          87,
          28,
          0,
          18,
          11.666666666666666,
          10,
          3.5,
          53,
          31.5,
          0,
          57,
          1,
          7,
          35,
          1,
          21.5,
          0,
          35,
          10,
          4,
          23,
          11.5,
          9,
          1,
          4,
          0,
          1,
          59.5,
          7,
          13,
          9,
          8,
          0.5,
          0,
          1,
          0,
          63,
          2,
          62,
          36,
          55,
          50,
          51,
          0,
          4,
          34,
          1,
          29,
          24,
          22,
          27,
          16,
          15,
          20,
          13.5,
          11,
          3,
          7,
          7.75,
          8.5,
          4.5,
          4,
          2.5,
          1,
          1,
          0,
          6.333333333333333,
          112,
          13,
          67,
          21,
          11,
          13,
          22.5,
          94,
          6,
          0,
          9,
          18,
          4,
          7.5,
          11,
          35,
          0,
          2,
          56,
          1,
          124,
          7.5,
          31,
          2,
          14.5,
          11,
          4.5,
          5,
          6.5,
          0.5,
          1,
          50,
          0.8,
          21.25,
          3,
          7,
          2,
          62.5,
          58,
          42,
          21,
          6,
          10,
          25.5,
          9.5,
          7,
          7.5,
          9,
          7,
          27,
          36.5,
          57,
          0,
          29,
          40,
          15,
          16.5,
          4.333333333333333,
          2,
          30.25,
          1,
          2.5,
          2,
          1,
          4.5,
          1.6666666666666667,
          0,
          22,
          18,
          0,
          8,
          47,
          79,
          38,
          10,
          69,
          83,
          34,
          94,
          0,
          6,
          4,
          3,
          1.6666666666666667,
          21,
          8,
          7,
          2,
          49.5,
          1,
          17,
          6.5,
          77,
          71,
          13,
          0,
          7,
          20,
          23.5,
          22,
          0,
          126,
          119,
          17,
          8,
          112,
          67,
          1,
          9,
          88,
          101,
          98,
          18,
          14,
          1,
          1,
          26.75,
          29,
          26,
          19,
          9,
          12,
          7,
          0,
          6,
          21,
          24,
          18,
          13,
          5,
          2,
          3,
          0.5,
          0,
          15,
          20,
          11,
          127,
          4,
          3,
          0,
          6,
          23,
          41.333333333333336,
          18.5,
          110,
          17,
          103,
          13,
          10.5,
          117,
          43.5,
          0,
          84,
          69,
          37,
          64,
          2,
          0,
          8,
          8,
          19,
          6,
          0,
          7,
          6,
          8,
          0,
          1,
          4,
          23,
          0,
          60,
          0,
          5,
          110,
          1,
          66,
          5,
          2,
          9,
          1,
          30,
          26,
          14,
          5,
          4,
          12,
          7,
          20,
          14,
          5,
          3.5,
          1,
          23,
          4,
          20,
          9,
          64,
          126,
          0,
          1,
          8.5,
          1,
          0,
          41,
          66.5,
          82,
          15,
          12,
          9,
          7,
          1,
          9,
          7,
          34.5,
          2,
          46,
          46,
          1,
          61,
          110,
          70.2,
          23,
          0,
          57,
          21,
          16,
          55,
          0,
          4,
          35,
          15,
          20,
          20,
          26,
          5,
          87,
          2,
          8,
          37.5,
          19,
          0,
          0,
          67,
          22,
          41,
          18,
          10,
          1,
          8,
          11.5,
          0,
          32,
          1.5,
          4,
          6,
          2,
          3,
          3,
          1,
          35,
          107,
          125,
          122,
          125,
          0,
          4,
          0,
          9.5,
          2,
          74,
          62,
          14,
          56,
          110,
          48,
          41,
          34,
          0,
          27,
          89,
          22,
          27,
          0,
          65,
          3,
          1,
          4,
          10,
          4.5,
          0,
          7.5,
          115,
          5,
          118,
          119,
          15,
          0,
          0,
          0,
          0,
          73,
          98,
          86,
          0,
          0,
          15,
          108,
          22,
          47,
          51,
          37,
          33,
          16,
          12,
          2,
          12,
          0,
          11.666666666666666,
          21,
          0,
          47,
          3,
          11,
          14,
          0,
          0,
          79,
          41,
          98,
          3,
          11,
          0,
          39,
          0,
          35,
          13,
          8.666666666666666,
          32,
          46,
          0,
          10,
          69,
          18,
          12,
          0,
          83,
          3.5,
          48,
          12,
          0,
          14,
          31,
          0,
          115,
          4.5,
          9,
          8,
          14,
          19,
          12,
          0,
          17.5,
          9,
          13,
          3,
          5,
          19,
          18,
          17
         ],
         "yaxis": "y"
        }
       ],
       "layout": {
        "legend": {
         "tracegroupgap": 0
        },
        "margin": {
         "t": 60
        },
        "template": {
         "data": {
          "bar": [
           {
            "error_x": {
             "color": "#2a3f5f"
            },
            "error_y": {
             "color": "#2a3f5f"
            },
            "marker": {
             "line": {
              "color": "#E5ECF6",
              "width": 0.5
             }
            },
            "type": "bar"
           }
          ],
          "barpolar": [
           {
            "marker": {
             "line": {
              "color": "#E5ECF6",
              "width": 0.5
             }
            },
            "type": "barpolar"
           }
          ],
          "carpet": [
           {
            "aaxis": {
             "endlinecolor": "#2a3f5f",
             "gridcolor": "white",
             "linecolor": "white",
             "minorgridcolor": "white",
             "startlinecolor": "#2a3f5f"
            },
            "baxis": {
             "endlinecolor": "#2a3f5f",
             "gridcolor": "white",
             "linecolor": "white",
             "minorgridcolor": "white",
             "startlinecolor": "#2a3f5f"
            },
            "type": "carpet"
           }
          ],
          "choropleth": [
           {
            "colorbar": {
             "outlinewidth": 0,
             "ticks": ""
            },
            "type": "choropleth"
           }
          ],
          "contour": [
           {
            "colorbar": {
             "outlinewidth": 0,
             "ticks": ""
            },
            "colorscale": [
             [
              0,
              "#0d0887"
             ],
             [
              0.1111111111111111,
              "#46039f"
             ],
             [
              0.2222222222222222,
              "#7201a8"
             ],
             [
              0.3333333333333333,
              "#9c179e"
             ],
             [
              0.4444444444444444,
              "#bd3786"
             ],
             [
              0.5555555555555556,
              "#d8576b"
             ],
             [
              0.6666666666666666,
              "#ed7953"
             ],
             [
              0.7777777777777778,
              "#fb9f3a"
             ],
             [
              0.8888888888888888,
              "#fdca26"
             ],
             [
              1,
              "#f0f921"
             ]
            ],
            "type": "contour"
           }
          ],
          "contourcarpet": [
           {
            "colorbar": {
             "outlinewidth": 0,
             "ticks": ""
            },
            "type": "contourcarpet"
           }
          ],
          "heatmap": [
           {
            "colorbar": {
             "outlinewidth": 0,
             "ticks": ""
            },
            "colorscale": [
             [
              0,
              "#0d0887"
             ],
             [
              0.1111111111111111,
              "#46039f"
             ],
             [
              0.2222222222222222,
              "#7201a8"
             ],
             [
              0.3333333333333333,
              "#9c179e"
             ],
             [
              0.4444444444444444,
              "#bd3786"
             ],
             [
              0.5555555555555556,
              "#d8576b"
             ],
             [
              0.6666666666666666,
              "#ed7953"
             ],
             [
              0.7777777777777778,
              "#fb9f3a"
             ],
             [
              0.8888888888888888,
              "#fdca26"
             ],
             [
              1,
              "#f0f921"
             ]
            ],
            "type": "heatmap"
           }
          ],
          "heatmapgl": [
           {
            "colorbar": {
             "outlinewidth": 0,
             "ticks": ""
            },
            "colorscale": [
             [
              0,
              "#0d0887"
             ],
             [
              0.1111111111111111,
              "#46039f"
             ],
             [
              0.2222222222222222,
              "#7201a8"
             ],
             [
              0.3333333333333333,
              "#9c179e"
             ],
             [
              0.4444444444444444,
              "#bd3786"
             ],
             [
              0.5555555555555556,
              "#d8576b"
             ],
             [
              0.6666666666666666,
              "#ed7953"
             ],
             [
              0.7777777777777778,
              "#fb9f3a"
             ],
             [
              0.8888888888888888,
              "#fdca26"
             ],
             [
              1,
              "#f0f921"
             ]
            ],
            "type": "heatmapgl"
           }
          ],
          "histogram": [
           {
            "marker": {
             "colorbar": {
              "outlinewidth": 0,
              "ticks": ""
             }
            },
            "type": "histogram"
           }
          ],
          "histogram2d": [
           {
            "colorbar": {
             "outlinewidth": 0,
             "ticks": ""
            },
            "colorscale": [
             [
              0,
              "#0d0887"
             ],
             [
              0.1111111111111111,
              "#46039f"
             ],
             [
              0.2222222222222222,
              "#7201a8"
             ],
             [
              0.3333333333333333,
              "#9c179e"
             ],
             [
              0.4444444444444444,
              "#bd3786"
             ],
             [
              0.5555555555555556,
              "#d8576b"
             ],
             [
              0.6666666666666666,
              "#ed7953"
             ],
             [
              0.7777777777777778,
              "#fb9f3a"
             ],
             [
              0.8888888888888888,
              "#fdca26"
             ],
             [
              1,
              "#f0f921"
             ]
            ],
            "type": "histogram2d"
           }
          ],
          "histogram2dcontour": [
           {
            "colorbar": {
             "outlinewidth": 0,
             "ticks": ""
            },
            "colorscale": [
             [
              0,
              "#0d0887"
             ],
             [
              0.1111111111111111,
              "#46039f"
             ],
             [
              0.2222222222222222,
              "#7201a8"
             ],
             [
              0.3333333333333333,
              "#9c179e"
             ],
             [
              0.4444444444444444,
              "#bd3786"
             ],
             [
              0.5555555555555556,
              "#d8576b"
             ],
             [
              0.6666666666666666,
              "#ed7953"
             ],
             [
              0.7777777777777778,
              "#fb9f3a"
             ],
             [
              0.8888888888888888,
              "#fdca26"
             ],
             [
              1,
              "#f0f921"
             ]
            ],
            "type": "histogram2dcontour"
           }
          ],
          "mesh3d": [
           {
            "colorbar": {
             "outlinewidth": 0,
             "ticks": ""
            },
            "type": "mesh3d"
           }
          ],
          "parcoords": [
           {
            "line": {
             "colorbar": {
              "outlinewidth": 0,
              "ticks": ""
             }
            },
            "type": "parcoords"
           }
          ],
          "pie": [
           {
            "automargin": true,
            "type": "pie"
           }
          ],
          "scatter": [
           {
            "marker": {
             "colorbar": {
              "outlinewidth": 0,
              "ticks": ""
             }
            },
            "type": "scatter"
           }
          ],
          "scatter3d": [
           {
            "line": {
             "colorbar": {
              "outlinewidth": 0,
              "ticks": ""
             }
            },
            "marker": {
             "colorbar": {
              "outlinewidth": 0,
              "ticks": ""
             }
            },
            "type": "scatter3d"
           }
          ],
          "scattercarpet": [
           {
            "marker": {
             "colorbar": {
              "outlinewidth": 0,
              "ticks": ""
             }
            },
            "type": "scattercarpet"
           }
          ],
          "scattergeo": [
           {
            "marker": {
             "colorbar": {
              "outlinewidth": 0,
              "ticks": ""
             }
            },
            "type": "scattergeo"
           }
          ],
          "scattergl": [
           {
            "marker": {
             "colorbar": {
              "outlinewidth": 0,
              "ticks": ""
             }
            },
            "type": "scattergl"
           }
          ],
          "scattermapbox": [
           {
            "marker": {
             "colorbar": {
              "outlinewidth": 0,
              "ticks": ""
             }
            },
            "type": "scattermapbox"
           }
          ],
          "scatterpolar": [
           {
            "marker": {
             "colorbar": {
              "outlinewidth": 0,
              "ticks": ""
             }
            },
            "type": "scatterpolar"
           }
          ],
          "scatterpolargl": [
           {
            "marker": {
             "colorbar": {
              "outlinewidth": 0,
              "ticks": ""
             }
            },
            "type": "scatterpolargl"
           }
          ],
          "scatterternary": [
           {
            "marker": {
             "colorbar": {
              "outlinewidth": 0,
              "ticks": ""
             }
            },
            "type": "scatterternary"
           }
          ],
          "surface": [
           {
            "colorbar": {
             "outlinewidth": 0,
             "ticks": ""
            },
            "colorscale": [
             [
              0,
              "#0d0887"
             ],
             [
              0.1111111111111111,
              "#46039f"
             ],
             [
              0.2222222222222222,
              "#7201a8"
             ],
             [
              0.3333333333333333,
              "#9c179e"
             ],
             [
              0.4444444444444444,
              "#bd3786"
             ],
             [
              0.5555555555555556,
              "#d8576b"
             ],
             [
              0.6666666666666666,
              "#ed7953"
             ],
             [
              0.7777777777777778,
              "#fb9f3a"
             ],
             [
              0.8888888888888888,
              "#fdca26"
             ],
             [
              1,
              "#f0f921"
             ]
            ],
            "type": "surface"
           }
          ],
          "table": [
           {
            "cells": {
             "fill": {
              "color": "#EBF0F8"
             },
             "line": {
              "color": "white"
             }
            },
            "header": {
             "fill": {
              "color": "#C8D4E3"
             },
             "line": {
              "color": "white"
             }
            },
            "type": "table"
           }
          ]
         },
         "layout": {
          "annotationdefaults": {
           "arrowcolor": "#2a3f5f",
           "arrowhead": 0,
           "arrowwidth": 1
          },
          "coloraxis": {
           "colorbar": {
            "outlinewidth": 0,
            "ticks": ""
           }
          },
          "colorscale": {
           "diverging": [
            [
             0,
             "#8e0152"
            ],
            [
             0.1,
             "#c51b7d"
            ],
            [
             0.2,
             "#de77ae"
            ],
            [
             0.3,
             "#f1b6da"
            ],
            [
             0.4,
             "#fde0ef"
            ],
            [
             0.5,
             "#f7f7f7"
            ],
            [
             0.6,
             "#e6f5d0"
            ],
            [
             0.7,
             "#b8e186"
            ],
            [
             0.8,
             "#7fbc41"
            ],
            [
             0.9,
             "#4d9221"
            ],
            [
             1,
             "#276419"
            ]
           ],
           "sequential": [
            [
             0,
             "#0d0887"
            ],
            [
             0.1111111111111111,
             "#46039f"
            ],
            [
             0.2222222222222222,
             "#7201a8"
            ],
            [
             0.3333333333333333,
             "#9c179e"
            ],
            [
             0.4444444444444444,
             "#bd3786"
            ],
            [
             0.5555555555555556,
             "#d8576b"
            ],
            [
             0.6666666666666666,
             "#ed7953"
            ],
            [
             0.7777777777777778,
             "#fb9f3a"
            ],
            [
             0.8888888888888888,
             "#fdca26"
            ],
            [
             1,
             "#f0f921"
            ]
           ],
           "sequentialminus": [
            [
             0,
             "#0d0887"
            ],
            [
             0.1111111111111111,
             "#46039f"
            ],
            [
             0.2222222222222222,
             "#7201a8"
            ],
            [
             0.3333333333333333,
             "#9c179e"
            ],
            [
             0.4444444444444444,
             "#bd3786"
            ],
            [
             0.5555555555555556,
             "#d8576b"
            ],
            [
             0.6666666666666666,
             "#ed7953"
            ],
            [
             0.7777777777777778,
             "#fb9f3a"
            ],
            [
             0.8888888888888888,
             "#fdca26"
            ],
            [
             1,
             "#f0f921"
            ]
           ]
          },
          "colorway": [
           "#636efa",
           "#EF553B",
           "#00cc96",
           "#ab63fa",
           "#FFA15A",
           "#19d3f3",
           "#FF6692",
           "#B6E880",
           "#FF97FF",
           "#FECB52"
          ],
          "font": {
           "color": "#2a3f5f"
          },
          "geo": {
           "bgcolor": "white",
           "lakecolor": "white",
           "landcolor": "#E5ECF6",
           "showlakes": true,
           "showland": true,
           "subunitcolor": "white"
          },
          "hoverlabel": {
           "align": "left"
          },
          "hovermode": "closest",
          "mapbox": {
           "style": "light"
          },
          "paper_bgcolor": "white",
          "plot_bgcolor": "#E5ECF6",
          "polar": {
           "angularaxis": {
            "gridcolor": "white",
            "linecolor": "white",
            "ticks": ""
           },
           "bgcolor": "#E5ECF6",
           "radialaxis": {
            "gridcolor": "white",
            "linecolor": "white",
            "ticks": ""
           }
          },
          "scene": {
           "xaxis": {
            "backgroundcolor": "#E5ECF6",
            "gridcolor": "white",
            "gridwidth": 2,
            "linecolor": "white",
            "showbackground": true,
            "ticks": "",
            "zerolinecolor": "white"
           },
           "yaxis": {
            "backgroundcolor": "#E5ECF6",
            "gridcolor": "white",
            "gridwidth": 2,
            "linecolor": "white",
            "showbackground": true,
            "ticks": "",
            "zerolinecolor": "white"
           },
           "zaxis": {
            "backgroundcolor": "#E5ECF6",
            "gridcolor": "white",
            "gridwidth": 2,
            "linecolor": "white",
            "showbackground": true,
            "ticks": "",
            "zerolinecolor": "white"
           }
          },
          "shapedefaults": {
           "line": {
            "color": "#2a3f5f"
           }
          },
          "ternary": {
           "aaxis": {
            "gridcolor": "white",
            "linecolor": "white",
            "ticks": ""
           },
           "baxis": {
            "gridcolor": "white",
            "linecolor": "white",
            "ticks": ""
           },
           "bgcolor": "#E5ECF6",
           "caxis": {
            "gridcolor": "white",
            "linecolor": "white",
            "ticks": ""
           }
          },
          "title": {
           "x": 0.05
          },
          "xaxis": {
           "automargin": true,
           "gridcolor": "white",
           "linecolor": "white",
           "ticks": "",
           "title": {
            "standoff": 15
           },
           "zerolinecolor": "white",
           "zerolinewidth": 2
          },
          "yaxis": {
           "automargin": true,
           "gridcolor": "white",
           "linecolor": "white",
           "ticks": "",
           "title": {
            "standoff": 15
           },
           "zerolinecolor": "white",
           "zerolinewidth": 2
          }
         }
        },
        "xaxis": {
         "anchor": "y",
         "domain": [
          0,
          1
         ],
         "rangeslider": {
          "visible": true
         },
         "title": {
          "text": "x"
         }
        },
        "yaxis": {
         "anchor": "x",
         "domain": [
          0,
          1
         ],
         "title": {
          "text": "days_needed"
         }
        }
       }
      },
      "text/html": [
       "<div>\n",
       "        \n",
       "        \n",
       "            <div id=\"e2235543-0427-4190-9de9-faa68d08e5f1\" class=\"plotly-graph-div\" style=\"height:525px; width:100%;\"></div>\n",
       "            <script type=\"text/javascript\">\n",
       "                require([\"plotly\"], function(Plotly) {\n",
       "                    window.PLOTLYENV=window.PLOTLYENV || {};\n",
       "                    \n",
       "                if (document.getElementById(\"e2235543-0427-4190-9de9-faa68d08e5f1\")) {\n",
       "                    Plotly.newPlot(\n",
       "                        'e2235543-0427-4190-9de9-faa68d08e5f1',\n",
       "                        [{\"hovertemplate\": \"x=%{x}<br>days_needed=%{y}<extra></extra>\", \"legendgroup\": \"\", \"line\": {\"color\": \"#636efa\", \"dash\": \"solid\"}, \"mode\": \"lines\", \"name\": \"\", \"showlegend\": false, \"type\": \"scatter\", \"x\": [\"2009-04-09\", \"2009-04-10\", \"2009-04-11\", \"2009-04-13\", \"2009-04-14\", \"2009-04-15\", \"2009-04-21\", \"2009-04-24\", \"2009-04-25\", \"2009-04-29\", \"2009-05-01\", \"2009-05-06\", \"2009-05-11\", \"2009-05-12\", \"2009-05-13\", \"2009-05-14\", \"2009-05-15\", \"2009-05-22\", \"2009-05-26\", \"2009-05-27\", \"2009-05-31\", \"2009-06-01\", \"2009-06-02\", \"2009-06-03\", \"2009-06-06\", \"2009-06-10\", \"2009-06-13\", \"2009-06-16\", \"2009-06-17\", \"2009-06-18\", \"2009-06-19\", \"2009-06-20\", \"2009-06-22\", \"2009-06-24\", \"2009-06-25\", \"2009-06-29\", \"2009-06-30\", \"2009-07-03\", \"2009-07-04\", \"2009-07-06\", \"2009-07-09\", \"2009-07-15\", \"2009-07-18\", \"2009-07-20\", \"2009-07-22\", \"2009-07-23\", \"2009-07-28\", \"2009-07-31\", \"2009-08-11\", \"2009-08-12\", \"2009-08-14\", \"2009-08-15\", \"2009-08-16\", \"2009-08-18\", \"2009-08-19\", \"2009-08-20\", \"2009-08-27\", \"2009-08-28\", \"2009-09-01\", \"2009-09-02\", \"2009-09-04\", \"2009-09-08\", \"2009-09-11\", \"2009-09-19\", \"2009-09-21\", \"2009-09-22\", \"2009-09-23\", \"2009-09-24\", \"2009-09-25\", \"2009-09-28\", \"2009-09-29\", \"2009-09-30\", \"2009-10-02\", \"2009-10-05\", \"2009-10-07\", \"2009-10-08\", \"2009-10-13\", \"2009-10-14\", \"2009-10-15\", \"2009-10-16\", \"2009-10-19\", \"2009-10-20\", \"2009-10-21\", \"2009-10-22\", \"2009-10-23\", \"2009-10-24\", \"2009-10-26\", \"2009-10-29\", \"2009-10-30\", \"2009-11-02\", \"2009-11-03\", \"2009-11-04\", \"2009-11-05\", \"2009-11-06\", \"2009-11-09\", \"2009-11-10\", \"2009-11-11\", \"2009-11-12\", \"2009-11-13\", \"2009-11-14\", \"2009-11-15\", \"2009-11-16\", \"2009-11-17\", \"2009-11-18\", \"2009-11-19\", \"2009-11-20\", \"2009-11-21\", \"2009-11-24\", \"2009-11-25\", \"2009-11-30\", \"2009-12-01\", \"2009-12-04\", \"2009-12-08\", \"2009-12-11\", \"2009-12-14\", \"2009-12-15\", \"2009-12-18\", \"2009-12-22\", \"2009-12-23\", \"2009-12-29\", \"2009-12-30\", \"2009-12-31\", \"2010-01-04\", \"2010-01-05\", \"2010-01-07\", \"2010-01-08\", \"2010-01-09\", \"2010-01-10\", \"2010-01-11\", \"2010-01-12\", \"2010-01-13\", \"2010-01-14\", \"2010-01-15\", \"2010-01-16\", \"2010-01-18\", \"2010-01-19\", \"2010-01-20\", \"2010-01-21\", \"2010-01-22\", \"2010-01-23\", \"2010-01-24\", \"2010-01-25\", \"2010-01-26\", \"2010-01-27\", \"2010-01-28\", \"2010-01-29\", \"2010-01-30\", \"2010-01-31\", \"2010-02-03\", \"2010-02-04\", \"2010-02-05\", \"2010-02-06\", \"2010-02-09\", \"2010-02-12\", \"2010-02-13\", \"2010-02-15\", \"2010-02-16\", \"2010-02-17\", \"2010-02-19\", \"2010-02-20\", \"2010-02-22\", \"2010-02-23\", \"2010-02-25\", \"2010-02-26\", \"2010-03-02\", \"2010-03-03\", \"2010-03-04\", \"2010-03-05\", \"2010-03-06\", \"2010-03-08\", \"2010-03-12\", \"2010-03-14\", \"2010-03-15\", \"2010-03-16\", \"2010-03-17\", \"2010-03-18\", \"2010-03-19\", \"2010-03-21\", \"2010-03-22\", \"2010-03-24\", \"2010-03-26\", \"2010-03-30\", \"2010-04-02\", \"2010-04-03\", \"2010-04-04\", \"2010-04-05\", \"2010-04-06\", \"2010-04-08\", \"2010-04-09\", \"2010-04-11\", \"2010-04-15\", \"2010-04-17\", \"2010-04-19\", \"2010-04-24\", \"2010-04-25\", \"2010-04-28\", \"2010-04-30\", \"2010-05-13\", \"2010-05-14\", \"2010-05-15\", \"2010-05-18\", \"2010-05-22\", \"2010-05-27\", \"2010-05-30\", \"2010-05-31\", \"2010-06-02\", \"2010-06-03\", \"2010-06-04\", \"2010-06-07\", \"2010-06-09\", \"2010-06-11\", \"2010-06-14\", \"2010-06-15\", \"2010-06-17\", \"2010-06-22\", \"2010-06-23\", \"2010-06-24\", \"2010-06-30\", \"2010-07-01\", \"2010-07-06\", \"2010-07-12\", \"2010-07-14\", \"2010-07-15\", \"2010-07-19\", \"2010-07-22\", \"2010-07-27\", \"2010-08-03\", \"2010-08-04\", \"2010-08-05\", \"2010-08-06\", \"2010-08-12\", \"2010-08-13\", \"2010-08-16\", \"2010-08-17\", \"2010-08-19\", \"2010-08-20\", \"2010-08-24\", \"2010-08-25\", \"2010-08-26\", \"2010-08-27\", \"2010-08-28\", \"2010-08-30\", \"2010-09-01\", \"2010-09-02\", \"2010-09-03\", \"2010-09-07\", \"2010-09-08\", \"2010-09-09\", \"2010-09-10\", \"2010-09-12\", \"2010-09-16\", \"2010-09-17\", \"2010-09-19\", \"2010-09-24\", \"2010-09-25\", \"2010-09-30\", \"2010-10-06\", \"2010-10-14\", \"2010-10-24\", \"2010-10-25\", \"2010-10-27\", \"2010-11-01\", \"2010-11-04\", \"2010-11-08\", \"2010-11-17\", \"2010-11-18\", \"2010-11-19\", \"2010-11-22\", \"2010-11-23\", \"2010-11-24\", \"2010-11-30\", \"2010-12-01\", \"2010-12-02\", \"2010-12-04\", \"2010-12-05\", \"2010-12-12\", \"2010-12-13\", \"2010-12-15\", \"2010-12-17\", \"2010-12-21\", \"2010-12-23\", \"2010-12-30\", \"2011-01-02\", \"2011-01-04\", \"2011-01-05\", \"2011-01-08\", \"2011-01-10\", \"2011-01-11\", \"2011-01-14\", \"2011-01-18\", \"2011-01-19\", \"2011-01-20\", \"2011-01-22\", \"2011-01-24\", \"2011-01-28\", \"2011-02-01\", \"2011-02-04\", \"2011-02-08\", \"2011-02-09\", \"2011-02-13\", \"2011-02-14\", \"2011-02-15\", \"2011-02-17\", \"2011-02-20\", \"2011-02-21\", \"2011-02-22\", \"2011-03-05\", \"2011-03-09\", \"2011-03-11\", \"2011-03-13\", \"2011-03-19\", \"2011-03-21\", \"2011-03-22\", \"2011-03-24\", \"2011-03-28\", \"2011-03-29\", \"2011-03-30\", \"2011-03-31\", \"2011-04-04\", \"2011-04-05\", \"2011-04-06\", \"2011-04-08\", \"2011-04-12\", \"2011-04-20\", \"2011-04-21\", \"2011-04-22\", \"2011-04-23\", \"2011-04-26\", \"2011-04-27\", \"2011-04-29\", \"2011-05-03\", \"2011-05-12\", \"2011-05-13\", \"2011-05-17\", \"2011-05-18\", \"2011-05-19\", \"2011-05-20\", \"2011-05-25\", \"2011-05-26\", \"2011-05-31\", \"2011-06-04\", \"2011-06-07\", \"2011-06-10\", \"2011-06-16\", \"2011-06-23\", \"2011-06-24\", \"2011-06-28\", \"2011-06-29\", \"2011-06-30\", \"2011-07-06\", \"2011-07-07\", \"2011-07-10\", \"2011-07-14\", \"2011-07-22\", \"2011-07-24\", \"2011-07-26\", \"2011-07-28\", \"2011-08-01\", \"2011-08-03\", \"2011-08-09\", \"2011-08-10\", \"2011-08-11\", \"2011-08-15\", \"2011-08-16\", \"2011-08-18\", \"2011-08-22\", \"2011-08-23\", \"2011-08-30\", \"2011-09-06\", \"2011-09-08\", \"2011-09-16\", \"2011-09-18\", \"2011-09-20\", \"2011-09-21\", \"2011-09-23\", \"2011-09-25\", \"2011-09-26\", \"2011-09-27\", \"2011-10-01\", \"2011-10-02\", \"2011-10-04\", \"2011-10-05\", \"2011-10-06\", \"2011-10-07\", \"2011-10-08\", \"2011-10-10\", \"2011-10-12\", \"2011-10-14\", \"2011-10-15\", \"2011-10-16\", \"2011-10-17\", \"2011-10-19\", \"2011-10-21\", \"2011-10-22\", \"2011-10-23\", \"2011-10-25\", \"2011-10-27\", \"2011-10-28\", \"2011-11-03\", \"2011-11-04\", \"2011-11-07\", \"2011-11-21\", \"2011-11-22\", \"2011-11-25\", \"2011-11-28\", \"2011-11-29\", \"2011-11-30\", \"2011-12-02\", \"2011-12-08\", \"2011-12-12\", \"2011-12-13\", \"2011-12-15\", \"2011-12-19\", \"2011-12-22\", \"2012-01-16\", \"2012-01-17\", \"2012-01-18\", \"2012-01-19\", \"2012-01-20\", \"2012-01-24\", \"2012-01-25\", \"2012-01-27\", \"2012-01-30\", \"2012-01-31\", \"2012-02-04\", \"2012-02-07\", \"2012-02-08\", \"2012-02-10\", \"2012-02-14\", \"2012-02-15\", \"2012-02-19\", \"2012-02-22\", \"2012-02-23\", \"2012-02-29\", \"2012-03-01\", \"2012-03-06\", \"2012-03-09\", \"2012-03-14\", \"2012-03-16\", \"2012-03-22\", \"2012-03-23\", \"2012-03-27\", \"2012-03-30\", \"2012-04-04\", \"2012-04-07\", \"2012-04-13\", \"2012-04-15\", \"2012-04-17\", \"2012-04-18\", \"2012-04-19\", \"2012-04-20\", \"2012-04-22\", \"2012-04-23\", \"2012-04-27\", \"2012-04-29\", \"2012-05-04\", \"2012-05-06\", \"2012-05-10\", \"2012-05-11\", \"2012-05-12\", \"2012-05-14\", \"2012-05-15\", \"2012-05-16\", \"2012-05-17\", \"2012-05-19\", \"2012-05-20\", \"2012-05-21\", \"2012-05-24\", \"2012-05-25\", \"2012-05-26\", \"2012-05-28\", \"2012-06-01\", \"2012-06-02\", \"2012-06-07\", \"2012-06-08\", \"2012-06-09\", \"2012-06-11\", \"2012-06-13\", \"2012-06-15\", \"2012-06-18\", \"2012-06-20\", \"2012-06-21\", \"2012-06-27\", \"2012-07-12\", \"2012-07-17\", \"2012-07-19\", \"2012-07-22\", \"2012-07-27\", \"2012-08-05\", \"2012-08-13\", \"2012-08-15\", \"2012-08-21\", \"2012-08-28\", \"2012-08-31\", \"2012-09-05\", \"2012-09-07\", \"2012-09-10\", \"2012-09-11\", \"2012-09-12\", \"2012-09-13\", \"2012-09-14\", \"2012-09-18\", \"2012-09-19\", \"2012-09-22\", \"2012-09-27\", \"2012-10-01\", \"2012-10-17\", \"2012-10-24\", \"2012-10-30\", \"2012-11-03\", \"2012-11-08\", \"2012-11-09\", \"2012-11-14\", \"2012-11-16\", \"2012-11-19\", \"2012-11-21\", \"2012-11-22\", \"2012-12-07\", \"2012-12-13\", \"2012-12-19\", \"2012-12-20\", \"2013-01-05\", \"2013-01-09\", \"2013-01-10\", \"2013-01-11\", \"2013-01-15\", \"2013-02-01\", \"2013-02-06\", \"2013-02-07\", \"2013-02-10\", \"2013-02-11\", \"2013-02-12\", \"2013-02-14\", \"2013-02-19\", \"2013-02-20\", \"2013-02-28\", \"2013-03-06\", \"2013-03-10\", \"2013-03-12\", \"2013-03-21\", \"2013-03-22\", \"2013-04-03\", \"2013-04-04\", \"2013-04-09\", \"2013-04-10\", \"2013-04-11\", \"2013-04-13\", \"2013-04-17\", \"2013-04-18\", \"2013-04-21\", \"2013-04-22\", \"2013-04-29\", \"2013-04-30\", \"2013-05-01\", \"2013-05-06\", \"2013-05-07\", \"2013-05-08\", \"2013-05-10\", \"2013-05-15\", \"2013-05-21\", \"2013-05-28\", \"2013-06-06\", \"2013-06-20\", \"2013-07-02\", \"2013-07-18\", \"2013-07-21\", \"2013-07-22\", \"2013-08-01\", \"2013-08-14\", \"2013-08-21\", \"2013-08-26\", \"2013-08-27\", \"2013-08-28\", \"2013-09-05\", \"2013-09-10\", \"2013-09-17\", \"2013-09-20\", \"2013-09-30\", \"2013-10-04\", \"2013-10-08\", \"2013-10-17\", \"2013-11-04\", \"2013-11-05\", \"2013-11-11\", \"2013-11-12\", \"2013-11-22\", \"2013-11-25\", \"2013-12-03\", \"2013-12-04\", \"2013-12-08\", \"2013-12-12\", \"2013-12-13\", \"2013-12-16\", \"2013-12-17\", \"2013-12-20\", \"2013-12-26\", \"2014-01-02\", \"2014-01-04\", \"2014-01-05\", \"2014-01-08\", \"2014-01-10\", \"2014-01-13\", \"2014-01-15\", \"2014-01-16\", \"2014-01-21\", \"2014-01-23\", \"2014-01-24\", \"2014-01-27\", \"2014-01-29\", \"2014-02-07\", \"2014-02-12\", \"2014-02-15\", \"2014-02-20\", \"2014-02-24\", \"2014-02-27\", \"2014-03-01\", \"2014-03-02\", \"2014-03-03\", \"2014-03-07\", \"2014-03-14\", \"2014-04-22\", \"2014-04-24\", \"2014-04-30\", \"2014-05-01\", \"2014-05-12\", \"2014-05-13\", \"2014-05-15\", \"2014-05-20\", \"2014-05-22\", \"2014-05-30\", \"2014-06-11\", \"2014-06-23\", \"2014-06-27\", \"2014-06-29\", \"2014-06-30\", \"2014-07-02\", \"2014-07-11\", \"2014-07-12\", \"2014-07-17\", \"2014-07-24\", \"2014-07-28\", \"2014-07-30\", \"2014-08-08\", \"2014-09-08\", \"2014-09-12\", \"2014-09-17\", \"2014-09-19\", \"2014-09-20\", \"2014-10-02\", \"2014-10-08\", \"2014-10-22\", \"2014-10-24\", \"2014-11-01\", \"2014-11-09\", \"2014-11-14\", \"2014-11-26\", \"2014-11-27\", \"2014-12-01\", \"2014-12-10\", \"2014-12-11\", \"2014-12-16\", \"2014-12-19\", \"2015-01-10\", \"2015-01-14\", \"2015-01-19\", \"2015-02-02\", \"2015-03-04\", \"2015-03-19\", \"2015-03-29\", \"2015-03-31\", \"2015-04-07\", \"2015-04-08\", \"2015-05-28\", \"2015-05-29\", \"2015-06-03\", \"2015-06-10\", \"2015-06-12\", \"2015-06-16\", \"2015-06-17\", \"2015-06-23\", \"2015-06-25\", \"2015-07-06\", \"2015-07-07\", \"2015-07-08\", \"2015-07-11\", \"2015-07-27\", \"2015-08-06\", \"2015-08-07\", \"2015-08-27\", \"2015-09-11\", \"2015-09-13\", \"2015-10-08\", \"2015-10-14\", \"2015-11-04\", \"2015-11-08\", \"2015-11-23\", \"2015-12-03\", \"2015-12-04\", \"2015-12-15\", \"2015-12-21\", \"2015-12-23\", \"2015-12-30\", \"2016-01-10\", \"2016-01-11\", \"2016-01-17\", \"2016-01-19\", \"2016-02-02\", \"2016-02-04\", \"2016-02-10\", \"2016-02-22\", \"2016-02-24\", \"2016-03-08\", \"2016-03-10\", \"2016-03-17\", \"2016-04-02\", \"2016-04-06\", \"2016-04-08\", \"2016-04-09\", \"2016-04-12\", \"2016-04-20\", \"2016-04-21\", \"2016-04-25\", \"2016-04-27\", \"2016-05-02\", \"2016-05-03\", \"2016-05-05\", \"2016-05-07\", \"2016-05-13\", \"2016-05-18\", \"2016-05-19\", \"2016-05-25\", \"2016-06-06\", \"2016-06-07\", \"2016-06-15\", \"2016-06-16\", \"2016-06-22\", \"2016-06-28\", \"2016-06-29\", \"2016-06-30\", \"2016-07-04\", \"2016-07-07\", \"2016-07-10\", \"2016-07-11\", \"2016-07-18\", \"2016-07-24\", \"2016-07-25\", \"2016-08-03\", \"2016-08-04\", \"2016-08-08\", \"2016-08-21\", \"2016-08-23\", \"2016-08-31\", \"2016-09-01\", \"2016-09-04\", \"2016-09-13\", \"2016-09-14\", \"2016-09-16\", \"2016-09-17\", \"2016-09-19\", \"2016-09-22\", \"2016-10-05\", \"2016-10-10\", \"2016-10-19\", \"2016-10-21\", \"2016-10-26\", \"2016-10-28\", \"2016-11-03\", \"2016-11-04\", \"2016-11-05\", \"2016-11-07\", \"2016-11-11\", \"2016-11-14\", \"2016-11-22\", \"2016-11-30\", \"2016-12-01\", \"2016-12-17\", \"2016-12-19\", \"2016-12-22\", \"2016-12-30\", \"2017-01-02\", \"2017-01-06\", \"2017-01-11\", \"2017-01-24\", \"2017-01-25\", \"2017-01-28\", \"2017-01-29\", \"2017-01-30\", \"2017-02-06\", \"2017-02-08\", \"2017-02-15\", \"2017-03-23\", \"2017-03-26\", \"2017-03-28\", \"2017-04-05\", \"2017-04-07\", \"2017-04-10\", \"2017-04-11\", \"2017-04-12\", \"2017-04-14\", \"2017-05-10\", \"2017-05-31\", \"2017-06-12\", \"2017-06-15\", \"2017-06-16\", \"2017-07-14\", \"2017-07-17\", \"2017-07-18\", \"2017-07-28\", \"2017-08-01\", \"2017-08-03\", \"2017-08-04\", \"2017-08-14\", \"2017-08-30\", \"2017-09-14\", \"2017-09-20\", \"2017-10-06\", \"2017-10-09\", \"2017-10-26\", \"2017-10-27\", \"2017-11-23\", \"2017-12-04\", \"2017-12-05\", \"2017-12-08\", \"2017-12-12\", \"2017-12-13\", \"2017-12-14\", \"2017-12-18\", \"2018-01-03\", \"2018-01-04\", \"2018-01-16\", \"2018-01-18\", \"2018-02-12\", \"2018-02-17\", \"2018-03-02\", \"2018-03-09\", \"2018-04-04\", \"2018-04-05\", \"2018-04-06\"], \"xaxis\": \"x\", \"y\": [35.0, 1.5, 2.3333333333333335, 26.333333333333332, 9.5, 6.0, 0.0, 35.25, 41.0, 36.0, 16.0, 47.0, 51.0, 44.0, 10.0, 0.0, 7.0, 17.5, 0.0, 0.0, 1.0, 47.0, 0.0, 11.0, 2.0, 12.0, 20.0, 15.5, 0.0, 0.0, 3.0, 3.5, 22.0, 55.0, 31.5, 11.5, 0.5, 4.166666666666667, 0.0, 25.0, 0.0, 1.0, 2.0, 123.0, 6.0, 15.5, 2.5, 11.0, 7.0, 0.0, 8.5, 6.0, 2.0, 17.6, 27.0, 5.0, 0.0, 4.5, 0.0, 1.0, 3.0, 13.0, 6.0, 2.0, 1.0, 1.5, 1.5, 0.0, 0.0, 71.0, 0.0, 52.5, 5.0, 36.666666666666664, 0.5, 0.5, 1.0, 5.0, 6.0, 59.0, 0.0, 34.714285714285715, 5.25, 0.0, 13.0, 19.0, 0.0, 1.0, 6.0, 1.0, 0.0, 70.0, 6.0, 16.0, 1.0, 0.25, 0.5, 0.0, 1.0, 1.0, 63.0, 1.6666666666666667, 47.0, 28.0, 27.8, 12.222222222222221, 2.3333333333333335, 2.3333333333333335, 7.333333333333333, 45.0, 35.5, 1.0, 1.0, 31.0, 13.0, 0.0, 24.25, 6.5, 13.0, 9.0, 2.0, 7.166666666666667, 5.666666666666667, 10.4, 0.6666666666666666, 18.5, 2.5, 1.0, 4.0, 0.6666666666666666, 10.0, 18.555555555555557, 6.75, 3.0, 9.333333333333334, 4.166666666666667, 0.0, 3.0, 1.0, 1.5, 23.0, 1.0, 0.0, 1.75, 0.5, 3.5, 3.0, 1.0, 5.333333333333333, 1.1428571428571428, 1.5, 0.0, 0.0, 7.0, 3.0, 1.0, 2.0, 26.0, 9.0, 5.0, 1.0, 0.0, 4.0, 4.5, 1.0, 36.0, 19.0, 0.0, 6.0, 0.0, 0.0, 20.0, 19.0, 2.0, 0.0, 0.0, 0.0, 13.0, 1.0, 4.5, 7.0, 1.0, 33.75, 3.0, 0.0, 1.3333333333333333, 45.0, 104.0, 3.0, 0.0, 2.0, 0.0, 4.0, 3.0, 39.0, 0.0, 59.5, 51.0, 0.0, 4.0, 62.0, 2.0, 4.0, 0.0, 5.0, 69.0, 0.0, 0.0, 5.0, 0.0, 47.0, 0.5, 10.0, 27.5, 42.0, 1.0, 40.5, 56.0, 28.0, 0.0, 31.0, 6.0, 40.0, 8.0, 25.0, 7.0, 0.3333333333333333, 6.5, 20.0, 4.0, 6.0, 9.0, 1.5, 6.0, 0.5, 3.0, 0.0, 1.3333333333333333, 4.75, 6.25, 62.0, 35.666666666666664, 41.75, 0.0, 10.0, 6.0, 9.0, 127.0, 4.0, 0.0, 2.5, 52.5, 18.0, 13.0, 5.0, 5.0, 16.0, 0.0, 2.0, 28.0, 1.0, 60.0, 23.0, 59.0, 0.0, 4.0, 2.0, 69.0, 93.0, 5.0, 9.0, 9.0, 0.0, 5.0, 74.0, 1.0, 69.0, 1.0, 44.0, 14.0, 10.5, 8.0, 5.0, 6.0, 32.5, 3.0, 39.0, 0.0, 4.333333333333333, 7.0, 54.0, 2.5, 2.0, 11.666666666666666, 15.333333333333334, 18.2, 3.0, 7.0, 37.0, 2.0, 0.0, 0.0, 8.0, 1.0, 3.0, 2.0, 2.0, 56.5, 19.0, 5.0, 7.0, 8.0, 7.5, 13.0, 1.0, 20.0, 60.5, 29.0, 0.0, 99.0, 12.0, 12.0, 6.0, 0.0, 5.0, 26.0, 69.0, 6.0, 2.0, 4.0, 0.0, 0.0, 5.0, 0.0, 42.0, 43.0, 9.0, 0.0, 3.0, 1.0, 17.0, 36.0, 19.0, 94.0, 1.0, 7.0, 3.0, 1.0, 30.0, 37.0, 4.0, 14.0, 33.5, 65.0, 3.0, 61.0, 41.0, 14.0, 70.0, 31.0, 1.0, 41.0, 4.5, 8.0, 55.0, 3.0, 2.0, 21.0, 1.0, 12.0, 3.0, 8.0, 2.0, 1.0, 3.0, 0.0, 5.0, 6.0, 4.0, 3.0, 1.0, 1.25, 2.5, 0.0, 4.75, 4.0, 36.333333333333336, 1.5, 4.0, 0.0, 2.0, 0.3333333333333333, 0.0, 6.0, 1.0, 5.0, 3.5, 0.0, 0.5, 33.0, 87.0, 28.0, 0.0, 18.0, 11.666666666666666, 10.0, 3.5, 53.0, 31.5, 0.0, 57.0, 1.0, 7.0, 35.0, 1.0, 21.5, 0.0, 35.0, 10.0, 4.0, 23.0, 11.5, 9.0, 1.0, 4.0, 0.0, 1.0, 59.5, 7.0, 13.0, 9.0, 8.0, 0.5, 0.0, 1.0, 0.0, 63.0, 2.0, 62.0, 36.0, 55.0, 50.0, 51.0, 0.0, 4.0, 34.0, 1.0, 29.0, 24.0, 22.0, 27.0, 16.0, 15.0, 20.0, 13.5, 11.0, 3.0, 7.0, 7.75, 8.5, 4.5, 4.0, 2.5, 1.0, 1.0, 0.0, 6.333333333333333, 112.0, 13.0, 67.0, 21.0, 11.0, 13.0, 22.5, 94.0, 6.0, 0.0, 9.0, 18.0, 4.0, 7.5, 11.0, 35.0, 0.0, 2.0, 56.0, 1.0, 124.0, 7.5, 31.0, 2.0, 14.5, 11.0, 4.5, 5.0, 6.5, 0.5, 1.0, 50.0, 0.8, 21.25, 3.0, 7.0, 2.0, 62.5, 58.0, 42.0, 21.0, 6.0, 10.0, 25.5, 9.5, 7.0, 7.5, 9.0, 7.0, 27.0, 36.5, 57.0, 0.0, 29.0, 40.0, 15.0, 16.5, 4.333333333333333, 2.0, 30.25, 1.0, 2.5, 2.0, 1.0, 4.5, 1.6666666666666667, 0.0, 22.0, 18.0, 0.0, 8.0, 47.0, 79.0, 38.0, 10.0, 69.0, 83.0, 34.0, 94.0, 0.0, 6.0, 4.0, 3.0, 1.6666666666666667, 21.0, 8.0, 7.0, 2.0, 49.5, 1.0, 17.0, 6.5, 77.0, 71.0, 13.0, 0.0, 7.0, 20.0, 23.5, 22.0, 0.0, 126.0, 119.0, 17.0, 8.0, 112.0, 67.0, 1.0, 9.0, 88.0, 101.0, 98.0, 18.0, 14.0, 1.0, 1.0, 26.75, 29.0, 26.0, 19.0, 9.0, 12.0, 7.0, 0.0, 6.0, 21.0, 24.0, 18.0, 13.0, 5.0, 2.0, 3.0, 0.5, 0.0, 15.0, 20.0, 11.0, 127.0, 4.0, 3.0, 0.0, 6.0, 23.0, 41.333333333333336, 18.5, 110.0, 17.0, 103.0, 13.0, 10.5, 117.0, 43.5, 0.0, 84.0, 69.0, 37.0, 64.0, 2.0, 0.0, 8.0, 8.0, 19.0, 6.0, 0.0, 7.0, 6.0, 8.0, 0.0, 1.0, 4.0, 23.0, 0.0, 60.0, 0.0, 5.0, 110.0, 1.0, 66.0, 5.0, 2.0, 9.0, 1.0, 30.0, 26.0, 14.0, 5.0, 4.0, 12.0, 7.0, 20.0, 14.0, 5.0, 3.5, 1.0, 23.0, 4.0, 20.0, 9.0, 64.0, 126.0, 0.0, 1.0, 8.5, 1.0, 0.0, 41.0, 66.5, 82.0, 15.0, 12.0, 9.0, 7.0, 1.0, 9.0, 7.0, 34.5, 2.0, 46.0, 46.0, 1.0, 61.0, 110.0, 70.2, 23.0, 0.0, 57.0, 21.0, 16.0, 55.0, 0.0, 4.0, 35.0, 15.0, 20.0, 20.0, 26.0, 5.0, 87.0, 2.0, 8.0, 37.5, 19.0, 0.0, 0.0, 67.0, 22.0, 41.0, 18.0, 10.0, 1.0, 8.0, 11.5, 0.0, 32.0, 1.5, 4.0, 6.0, 2.0, 3.0, 3.0, 1.0, 35.0, 107.0, 125.0, 122.0, 125.0, 0.0, 4.0, 0.0, 9.5, 2.0, 74.0, 62.0, 14.0, 56.0, 110.0, 48.0, 41.0, 34.0, 0.0, 27.0, 89.0, 22.0, 27.0, 0.0, 65.0, 3.0, 1.0, 4.0, 10.0, 4.5, 0.0, 7.5, 115.0, 5.0, 118.0, 119.0, 15.0, 0.0, 0.0, 0.0, 0.0, 73.0, 98.0, 86.0, 0.0, 0.0, 15.0, 108.0, 22.0, 47.0, 51.0, 37.0, 33.0, 16.0, 12.0, 2.0, 12.0, 0.0, 11.666666666666666, 21.0, 0.0, 47.0, 3.0, 11.0, 14.0, 0.0, 0.0, 79.0, 41.0, 98.0, 3.0, 11.0, 0.0, 39.0, 0.0, 35.0, 13.0, 8.666666666666666, 32.0, 46.0, 0.0, 10.0, 69.0, 18.0, 12.0, 0.0, 83.0, 3.5, 48.0, 12.0, 0.0, 14.0, 31.0, 0.0, 115.0, 4.5, 9.0, 8.0, 14.0, 19.0, 12.0, 0.0, 17.5, 9.0, 13.0, 3.0, 5.0, 19.0, 18.0, 17.0], \"yaxis\": \"y\"}],\n",
       "                        {\"legend\": {\"tracegroupgap\": 0}, \"margin\": {\"t\": 60}, \"template\": {\"data\": {\"bar\": [{\"error_x\": {\"color\": \"#2a3f5f\"}, \"error_y\": {\"color\": \"#2a3f5f\"}, \"marker\": {\"line\": {\"color\": \"#E5ECF6\", \"width\": 0.5}}, \"type\": \"bar\"}], \"barpolar\": [{\"marker\": {\"line\": {\"color\": \"#E5ECF6\", \"width\": 0.5}}, \"type\": \"barpolar\"}], \"carpet\": [{\"aaxis\": {\"endlinecolor\": \"#2a3f5f\", \"gridcolor\": \"white\", \"linecolor\": \"white\", \"minorgridcolor\": \"white\", \"startlinecolor\": \"#2a3f5f\"}, \"baxis\": {\"endlinecolor\": \"#2a3f5f\", \"gridcolor\": \"white\", \"linecolor\": \"white\", \"minorgridcolor\": \"white\", \"startlinecolor\": \"#2a3f5f\"}, \"type\": \"carpet\"}], \"choropleth\": [{\"colorbar\": {\"outlinewidth\": 0, \"ticks\": \"\"}, \"type\": \"choropleth\"}], \"contour\": [{\"colorbar\": {\"outlinewidth\": 0, \"ticks\": \"\"}, \"colorscale\": [[0.0, \"#0d0887\"], [0.1111111111111111, \"#46039f\"], [0.2222222222222222, \"#7201a8\"], [0.3333333333333333, \"#9c179e\"], [0.4444444444444444, \"#bd3786\"], [0.5555555555555556, \"#d8576b\"], [0.6666666666666666, \"#ed7953\"], [0.7777777777777778, \"#fb9f3a\"], [0.8888888888888888, \"#fdca26\"], [1.0, \"#f0f921\"]], \"type\": \"contour\"}], \"contourcarpet\": [{\"colorbar\": {\"outlinewidth\": 0, \"ticks\": \"\"}, \"type\": \"contourcarpet\"}], \"heatmap\": [{\"colorbar\": {\"outlinewidth\": 0, \"ticks\": \"\"}, \"colorscale\": [[0.0, \"#0d0887\"], [0.1111111111111111, \"#46039f\"], [0.2222222222222222, \"#7201a8\"], [0.3333333333333333, \"#9c179e\"], [0.4444444444444444, \"#bd3786\"], [0.5555555555555556, \"#d8576b\"], [0.6666666666666666, \"#ed7953\"], [0.7777777777777778, \"#fb9f3a\"], [0.8888888888888888, \"#fdca26\"], [1.0, \"#f0f921\"]], \"type\": \"heatmap\"}], \"heatmapgl\": [{\"colorbar\": {\"outlinewidth\": 0, \"ticks\": \"\"}, \"colorscale\": [[0.0, \"#0d0887\"], [0.1111111111111111, \"#46039f\"], [0.2222222222222222, \"#7201a8\"], [0.3333333333333333, \"#9c179e\"], [0.4444444444444444, \"#bd3786\"], [0.5555555555555556, \"#d8576b\"], [0.6666666666666666, \"#ed7953\"], [0.7777777777777778, \"#fb9f3a\"], [0.8888888888888888, \"#fdca26\"], [1.0, \"#f0f921\"]], \"type\": \"heatmapgl\"}], \"histogram\": [{\"marker\": {\"colorbar\": {\"outlinewidth\": 0, \"ticks\": \"\"}}, \"type\": \"histogram\"}], \"histogram2d\": [{\"colorbar\": {\"outlinewidth\": 0, \"ticks\": \"\"}, \"colorscale\": [[0.0, \"#0d0887\"], [0.1111111111111111, \"#46039f\"], [0.2222222222222222, \"#7201a8\"], [0.3333333333333333, \"#9c179e\"], [0.4444444444444444, \"#bd3786\"], [0.5555555555555556, \"#d8576b\"], [0.6666666666666666, \"#ed7953\"], [0.7777777777777778, \"#fb9f3a\"], [0.8888888888888888, \"#fdca26\"], [1.0, \"#f0f921\"]], \"type\": \"histogram2d\"}], \"histogram2dcontour\": [{\"colorbar\": {\"outlinewidth\": 0, \"ticks\": \"\"}, \"colorscale\": [[0.0, \"#0d0887\"], [0.1111111111111111, \"#46039f\"], [0.2222222222222222, \"#7201a8\"], [0.3333333333333333, \"#9c179e\"], [0.4444444444444444, \"#bd3786\"], [0.5555555555555556, \"#d8576b\"], [0.6666666666666666, \"#ed7953\"], [0.7777777777777778, \"#fb9f3a\"], [0.8888888888888888, \"#fdca26\"], [1.0, \"#f0f921\"]], \"type\": \"histogram2dcontour\"}], \"mesh3d\": [{\"colorbar\": {\"outlinewidth\": 0, \"ticks\": \"\"}, \"type\": \"mesh3d\"}], \"parcoords\": [{\"line\": {\"colorbar\": {\"outlinewidth\": 0, \"ticks\": \"\"}}, \"type\": \"parcoords\"}], \"pie\": [{\"automargin\": true, \"type\": \"pie\"}], \"scatter\": [{\"marker\": {\"colorbar\": {\"outlinewidth\": 0, \"ticks\": \"\"}}, \"type\": \"scatter\"}], \"scatter3d\": [{\"line\": {\"colorbar\": {\"outlinewidth\": 0, \"ticks\": \"\"}}, \"marker\": {\"colorbar\": {\"outlinewidth\": 0, \"ticks\": \"\"}}, \"type\": \"scatter3d\"}], \"scattercarpet\": [{\"marker\": {\"colorbar\": {\"outlinewidth\": 0, \"ticks\": \"\"}}, \"type\": \"scattercarpet\"}], \"scattergeo\": [{\"marker\": {\"colorbar\": {\"outlinewidth\": 0, \"ticks\": \"\"}}, \"type\": \"scattergeo\"}], \"scattergl\": [{\"marker\": {\"colorbar\": {\"outlinewidth\": 0, \"ticks\": \"\"}}, \"type\": \"scattergl\"}], \"scattermapbox\": [{\"marker\": {\"colorbar\": {\"outlinewidth\": 0, \"ticks\": \"\"}}, \"type\": \"scattermapbox\"}], \"scatterpolar\": [{\"marker\": {\"colorbar\": {\"outlinewidth\": 0, \"ticks\": \"\"}}, \"type\": \"scatterpolar\"}], \"scatterpolargl\": [{\"marker\": {\"colorbar\": {\"outlinewidth\": 0, \"ticks\": \"\"}}, \"type\": \"scatterpolargl\"}], \"scatterternary\": [{\"marker\": {\"colorbar\": {\"outlinewidth\": 0, \"ticks\": \"\"}}, \"type\": \"scatterternary\"}], \"surface\": [{\"colorbar\": {\"outlinewidth\": 0, \"ticks\": \"\"}, \"colorscale\": [[0.0, \"#0d0887\"], [0.1111111111111111, \"#46039f\"], [0.2222222222222222, \"#7201a8\"], [0.3333333333333333, \"#9c179e\"], [0.4444444444444444, \"#bd3786\"], [0.5555555555555556, \"#d8576b\"], [0.6666666666666666, \"#ed7953\"], [0.7777777777777778, \"#fb9f3a\"], [0.8888888888888888, \"#fdca26\"], [1.0, \"#f0f921\"]], \"type\": \"surface\"}], \"table\": [{\"cells\": {\"fill\": {\"color\": \"#EBF0F8\"}, \"line\": {\"color\": \"white\"}}, \"header\": {\"fill\": {\"color\": \"#C8D4E3\"}, \"line\": {\"color\": \"white\"}}, \"type\": \"table\"}]}, \"layout\": {\"annotationdefaults\": {\"arrowcolor\": \"#2a3f5f\", \"arrowhead\": 0, \"arrowwidth\": 1}, \"coloraxis\": {\"colorbar\": {\"outlinewidth\": 0, \"ticks\": \"\"}}, \"colorscale\": {\"diverging\": [[0, \"#8e0152\"], [0.1, \"#c51b7d\"], [0.2, \"#de77ae\"], [0.3, \"#f1b6da\"], [0.4, \"#fde0ef\"], [0.5, \"#f7f7f7\"], [0.6, \"#e6f5d0\"], [0.7, \"#b8e186\"], [0.8, \"#7fbc41\"], [0.9, \"#4d9221\"], [1, \"#276419\"]], \"sequential\": [[0.0, \"#0d0887\"], [0.1111111111111111, \"#46039f\"], [0.2222222222222222, \"#7201a8\"], [0.3333333333333333, \"#9c179e\"], [0.4444444444444444, \"#bd3786\"], [0.5555555555555556, \"#d8576b\"], [0.6666666666666666, \"#ed7953\"], [0.7777777777777778, \"#fb9f3a\"], [0.8888888888888888, \"#fdca26\"], [1.0, \"#f0f921\"]], \"sequentialminus\": [[0.0, \"#0d0887\"], [0.1111111111111111, \"#46039f\"], [0.2222222222222222, \"#7201a8\"], [0.3333333333333333, \"#9c179e\"], [0.4444444444444444, \"#bd3786\"], [0.5555555555555556, \"#d8576b\"], [0.6666666666666666, \"#ed7953\"], [0.7777777777777778, \"#fb9f3a\"], [0.8888888888888888, \"#fdca26\"], [1.0, \"#f0f921\"]]}, \"colorway\": [\"#636efa\", \"#EF553B\", \"#00cc96\", \"#ab63fa\", \"#FFA15A\", \"#19d3f3\", \"#FF6692\", \"#B6E880\", \"#FF97FF\", \"#FECB52\"], \"font\": {\"color\": \"#2a3f5f\"}, \"geo\": {\"bgcolor\": \"white\", \"lakecolor\": \"white\", \"landcolor\": \"#E5ECF6\", \"showlakes\": true, \"showland\": true, \"subunitcolor\": \"white\"}, \"hoverlabel\": {\"align\": \"left\"}, \"hovermode\": \"closest\", \"mapbox\": {\"style\": \"light\"}, \"paper_bgcolor\": \"white\", \"plot_bgcolor\": \"#E5ECF6\", \"polar\": {\"angularaxis\": {\"gridcolor\": \"white\", \"linecolor\": \"white\", \"ticks\": \"\"}, \"bgcolor\": \"#E5ECF6\", \"radialaxis\": {\"gridcolor\": \"white\", \"linecolor\": \"white\", \"ticks\": \"\"}}, \"scene\": {\"xaxis\": {\"backgroundcolor\": \"#E5ECF6\", \"gridcolor\": \"white\", \"gridwidth\": 2, \"linecolor\": \"white\", \"showbackground\": true, \"ticks\": \"\", \"zerolinecolor\": \"white\"}, \"yaxis\": {\"backgroundcolor\": \"#E5ECF6\", \"gridcolor\": \"white\", \"gridwidth\": 2, \"linecolor\": \"white\", \"showbackground\": true, \"ticks\": \"\", \"zerolinecolor\": \"white\"}, \"zaxis\": {\"backgroundcolor\": \"#E5ECF6\", \"gridcolor\": \"white\", \"gridwidth\": 2, \"linecolor\": \"white\", \"showbackground\": true, \"ticks\": \"\", \"zerolinecolor\": \"white\"}}, \"shapedefaults\": {\"line\": {\"color\": \"#2a3f5f\"}}, \"ternary\": {\"aaxis\": {\"gridcolor\": \"white\", \"linecolor\": \"white\", \"ticks\": \"\"}, \"baxis\": {\"gridcolor\": \"white\", \"linecolor\": \"white\", \"ticks\": \"\"}, \"bgcolor\": \"#E5ECF6\", \"caxis\": {\"gridcolor\": \"white\", \"linecolor\": \"white\", \"ticks\": \"\"}}, \"title\": {\"x\": 0.05}, \"xaxis\": {\"automargin\": true, \"gridcolor\": \"white\", \"linecolor\": \"white\", \"ticks\": \"\", \"title\": {\"standoff\": 15}, \"zerolinecolor\": \"white\", \"zerolinewidth\": 2}, \"yaxis\": {\"automargin\": true, \"gridcolor\": \"white\", \"linecolor\": \"white\", \"ticks\": \"\", \"title\": {\"standoff\": 15}, \"zerolinecolor\": \"white\", \"zerolinewidth\": 2}}}, \"xaxis\": {\"anchor\": \"y\", \"domain\": [0.0, 1.0], \"rangeslider\": {\"visible\": true}, \"title\": {\"text\": \"x\"}}, \"yaxis\": {\"anchor\": \"x\", \"domain\": [0.0, 1.0], \"title\": {\"text\": \"days_needed\"}}},\n",
       "                        {\"responsive\": true}\n",
       "                    ).then(function(){\n",
       "                            \n",
       "var gd = document.getElementById('e2235543-0427-4190-9de9-faa68d08e5f1');\n",
       "var x = new MutationObserver(function (mutations, observer) {{\n",
       "        var display = window.getComputedStyle(gd).display;\n",
       "        if (!display || display === 'none') {{\n",
       "            console.log([gd, 'removed!']);\n",
       "            Plotly.purge(gd);\n",
       "            observer.disconnect();\n",
       "        }}\n",
       "}});\n",
       "\n",
       "// Listen for the removal of the full notebook cells\n",
       "var notebookContainer = gd.closest('#notebook-container');\n",
       "if (notebookContainer) {{\n",
       "    x.observe(notebookContainer, {childList: true});\n",
       "}}\n",
       "\n",
       "// Listen for the clearing of the current output cell\n",
       "var outputEl = gd.closest('.output');\n",
       "if (outputEl) {{\n",
       "    x.observe(outputEl, {childList: true});\n",
       "}}\n",
       "\n",
       "                        })\n",
       "                };\n",
       "                });\n",
       "            </script>\n",
       "        </div>"
      ]
     },
     "metadata": {},
     "output_type": "display_data"
    }
   ],
   "source": [
    "created = df[['created_date', 'days_needed']].groupby('created_date').mean().reset_index()\n",
    "created = created.set_index(['created_date'])\n",
    "\n",
    "fig = px.line(created, x=created.index, y='days_needed')\n",
    "fig.update_xaxes(rangeslider_visible=True)\n",
    "fig.show()"
   ]
  },
  {
   "cell_type": "markdown",
   "metadata": {},
   "source": [
    "## Steps taken"
   ]
  },
  {
   "cell_type": "code",
   "execution_count": 7,
   "metadata": {},
   "outputs": [
    {
     "data": {
      "application/vnd.plotly.v1+json": {
       "config": {
        "plotlyServerURL": "https://plot.ly"
       },
       "data": [
        {
         "alignmentgroup": "True",
         "hovertemplate": "status=%{x}<br>y=%{y}<extra></extra>",
         "legendgroup": "",
         "marker": {
          "color": "#636efa"
         },
         "name": "",
         "offsetgroup": "",
         "orientation": "h",
         "showlegend": false,
         "textposition": "auto",
         "type": "bar",
         "x": [
          17,
          13,
          7,
          757,
          6,
          498,
          11,
          1
         ],
         "xaxis": "x",
         "y": [
          "Non-existent-Open-In Progress-Patch Available-Resolved",
          "Non-existent-Open-In Progress-Resolved",
          "Non-existent-Open-Patch Available-In Progress-Resolved",
          "Non-existent-Open-Patch Available-Resolved",
          "Non-existent-Open-Patch Available-Resolved-Reopened",
          "Non-existent-Open-Resolved",
          "Non-existent-Open-Resolved-Reopened",
          "Non-existent-Open-Resolved-Reopened-Patch Available"
         ],
         "yaxis": "y"
        }
       ],
       "layout": {
        "barmode": "relative",
        "legend": {
         "tracegroupgap": 0
        },
        "margin": {
         "t": 60
        },
        "template": {
         "data": {
          "bar": [
           {
            "error_x": {
             "color": "#2a3f5f"
            },
            "error_y": {
             "color": "#2a3f5f"
            },
            "marker": {
             "line": {
              "color": "#E5ECF6",
              "width": 0.5
             }
            },
            "type": "bar"
           }
          ],
          "barpolar": [
           {
            "marker": {
             "line": {
              "color": "#E5ECF6",
              "width": 0.5
             }
            },
            "type": "barpolar"
           }
          ],
          "carpet": [
           {
            "aaxis": {
             "endlinecolor": "#2a3f5f",
             "gridcolor": "white",
             "linecolor": "white",
             "minorgridcolor": "white",
             "startlinecolor": "#2a3f5f"
            },
            "baxis": {
             "endlinecolor": "#2a3f5f",
             "gridcolor": "white",
             "linecolor": "white",
             "minorgridcolor": "white",
             "startlinecolor": "#2a3f5f"
            },
            "type": "carpet"
           }
          ],
          "choropleth": [
           {
            "colorbar": {
             "outlinewidth": 0,
             "ticks": ""
            },
            "type": "choropleth"
           }
          ],
          "contour": [
           {
            "colorbar": {
             "outlinewidth": 0,
             "ticks": ""
            },
            "colorscale": [
             [
              0,
              "#0d0887"
             ],
             [
              0.1111111111111111,
              "#46039f"
             ],
             [
              0.2222222222222222,
              "#7201a8"
             ],
             [
              0.3333333333333333,
              "#9c179e"
             ],
             [
              0.4444444444444444,
              "#bd3786"
             ],
             [
              0.5555555555555556,
              "#d8576b"
             ],
             [
              0.6666666666666666,
              "#ed7953"
             ],
             [
              0.7777777777777778,
              "#fb9f3a"
             ],
             [
              0.8888888888888888,
              "#fdca26"
             ],
             [
              1,
              "#f0f921"
             ]
            ],
            "type": "contour"
           }
          ],
          "contourcarpet": [
           {
            "colorbar": {
             "outlinewidth": 0,
             "ticks": ""
            },
            "type": "contourcarpet"
           }
          ],
          "heatmap": [
           {
            "colorbar": {
             "outlinewidth": 0,
             "ticks": ""
            },
            "colorscale": [
             [
              0,
              "#0d0887"
             ],
             [
              0.1111111111111111,
              "#46039f"
             ],
             [
              0.2222222222222222,
              "#7201a8"
             ],
             [
              0.3333333333333333,
              "#9c179e"
             ],
             [
              0.4444444444444444,
              "#bd3786"
             ],
             [
              0.5555555555555556,
              "#d8576b"
             ],
             [
              0.6666666666666666,
              "#ed7953"
             ],
             [
              0.7777777777777778,
              "#fb9f3a"
             ],
             [
              0.8888888888888888,
              "#fdca26"
             ],
             [
              1,
              "#f0f921"
             ]
            ],
            "type": "heatmap"
           }
          ],
          "heatmapgl": [
           {
            "colorbar": {
             "outlinewidth": 0,
             "ticks": ""
            },
            "colorscale": [
             [
              0,
              "#0d0887"
             ],
             [
              0.1111111111111111,
              "#46039f"
             ],
             [
              0.2222222222222222,
              "#7201a8"
             ],
             [
              0.3333333333333333,
              "#9c179e"
             ],
             [
              0.4444444444444444,
              "#bd3786"
             ],
             [
              0.5555555555555556,
              "#d8576b"
             ],
             [
              0.6666666666666666,
              "#ed7953"
             ],
             [
              0.7777777777777778,
              "#fb9f3a"
             ],
             [
              0.8888888888888888,
              "#fdca26"
             ],
             [
              1,
              "#f0f921"
             ]
            ],
            "type": "heatmapgl"
           }
          ],
          "histogram": [
           {
            "marker": {
             "colorbar": {
              "outlinewidth": 0,
              "ticks": ""
             }
            },
            "type": "histogram"
           }
          ],
          "histogram2d": [
           {
            "colorbar": {
             "outlinewidth": 0,
             "ticks": ""
            },
            "colorscale": [
             [
              0,
              "#0d0887"
             ],
             [
              0.1111111111111111,
              "#46039f"
             ],
             [
              0.2222222222222222,
              "#7201a8"
             ],
             [
              0.3333333333333333,
              "#9c179e"
             ],
             [
              0.4444444444444444,
              "#bd3786"
             ],
             [
              0.5555555555555556,
              "#d8576b"
             ],
             [
              0.6666666666666666,
              "#ed7953"
             ],
             [
              0.7777777777777778,
              "#fb9f3a"
             ],
             [
              0.8888888888888888,
              "#fdca26"
             ],
             [
              1,
              "#f0f921"
             ]
            ],
            "type": "histogram2d"
           }
          ],
          "histogram2dcontour": [
           {
            "colorbar": {
             "outlinewidth": 0,
             "ticks": ""
            },
            "colorscale": [
             [
              0,
              "#0d0887"
             ],
             [
              0.1111111111111111,
              "#46039f"
             ],
             [
              0.2222222222222222,
              "#7201a8"
             ],
             [
              0.3333333333333333,
              "#9c179e"
             ],
             [
              0.4444444444444444,
              "#bd3786"
             ],
             [
              0.5555555555555556,
              "#d8576b"
             ],
             [
              0.6666666666666666,
              "#ed7953"
             ],
             [
              0.7777777777777778,
              "#fb9f3a"
             ],
             [
              0.8888888888888888,
              "#fdca26"
             ],
             [
              1,
              "#f0f921"
             ]
            ],
            "type": "histogram2dcontour"
           }
          ],
          "mesh3d": [
           {
            "colorbar": {
             "outlinewidth": 0,
             "ticks": ""
            },
            "type": "mesh3d"
           }
          ],
          "parcoords": [
           {
            "line": {
             "colorbar": {
              "outlinewidth": 0,
              "ticks": ""
             }
            },
            "type": "parcoords"
           }
          ],
          "pie": [
           {
            "automargin": true,
            "type": "pie"
           }
          ],
          "scatter": [
           {
            "marker": {
             "colorbar": {
              "outlinewidth": 0,
              "ticks": ""
             }
            },
            "type": "scatter"
           }
          ],
          "scatter3d": [
           {
            "line": {
             "colorbar": {
              "outlinewidth": 0,
              "ticks": ""
             }
            },
            "marker": {
             "colorbar": {
              "outlinewidth": 0,
              "ticks": ""
             }
            },
            "type": "scatter3d"
           }
          ],
          "scattercarpet": [
           {
            "marker": {
             "colorbar": {
              "outlinewidth": 0,
              "ticks": ""
             }
            },
            "type": "scattercarpet"
           }
          ],
          "scattergeo": [
           {
            "marker": {
             "colorbar": {
              "outlinewidth": 0,
              "ticks": ""
             }
            },
            "type": "scattergeo"
           }
          ],
          "scattergl": [
           {
            "marker": {
             "colorbar": {
              "outlinewidth": 0,
              "ticks": ""
             }
            },
            "type": "scattergl"
           }
          ],
          "scattermapbox": [
           {
            "marker": {
             "colorbar": {
              "outlinewidth": 0,
              "ticks": ""
             }
            },
            "type": "scattermapbox"
           }
          ],
          "scatterpolar": [
           {
            "marker": {
             "colorbar": {
              "outlinewidth": 0,
              "ticks": ""
             }
            },
            "type": "scatterpolar"
           }
          ],
          "scatterpolargl": [
           {
            "marker": {
             "colorbar": {
              "outlinewidth": 0,
              "ticks": ""
             }
            },
            "type": "scatterpolargl"
           }
          ],
          "scatterternary": [
           {
            "marker": {
             "colorbar": {
              "outlinewidth": 0,
              "ticks": ""
             }
            },
            "type": "scatterternary"
           }
          ],
          "surface": [
           {
            "colorbar": {
             "outlinewidth": 0,
             "ticks": ""
            },
            "colorscale": [
             [
              0,
              "#0d0887"
             ],
             [
              0.1111111111111111,
              "#46039f"
             ],
             [
              0.2222222222222222,
              "#7201a8"
             ],
             [
              0.3333333333333333,
              "#9c179e"
             ],
             [
              0.4444444444444444,
              "#bd3786"
             ],
             [
              0.5555555555555556,
              "#d8576b"
             ],
             [
              0.6666666666666666,
              "#ed7953"
             ],
             [
              0.7777777777777778,
              "#fb9f3a"
             ],
             [
              0.8888888888888888,
              "#fdca26"
             ],
             [
              1,
              "#f0f921"
             ]
            ],
            "type": "surface"
           }
          ],
          "table": [
           {
            "cells": {
             "fill": {
              "color": "#EBF0F8"
             },
             "line": {
              "color": "white"
             }
            },
            "header": {
             "fill": {
              "color": "#C8D4E3"
             },
             "line": {
              "color": "white"
             }
            },
            "type": "table"
           }
          ]
         },
         "layout": {
          "annotationdefaults": {
           "arrowcolor": "#2a3f5f",
           "arrowhead": 0,
           "arrowwidth": 1
          },
          "coloraxis": {
           "colorbar": {
            "outlinewidth": 0,
            "ticks": ""
           }
          },
          "colorscale": {
           "diverging": [
            [
             0,
             "#8e0152"
            ],
            [
             0.1,
             "#c51b7d"
            ],
            [
             0.2,
             "#de77ae"
            ],
            [
             0.3,
             "#f1b6da"
            ],
            [
             0.4,
             "#fde0ef"
            ],
            [
             0.5,
             "#f7f7f7"
            ],
            [
             0.6,
             "#e6f5d0"
            ],
            [
             0.7,
             "#b8e186"
            ],
            [
             0.8,
             "#7fbc41"
            ],
            [
             0.9,
             "#4d9221"
            ],
            [
             1,
             "#276419"
            ]
           ],
           "sequential": [
            [
             0,
             "#0d0887"
            ],
            [
             0.1111111111111111,
             "#46039f"
            ],
            [
             0.2222222222222222,
             "#7201a8"
            ],
            [
             0.3333333333333333,
             "#9c179e"
            ],
            [
             0.4444444444444444,
             "#bd3786"
            ],
            [
             0.5555555555555556,
             "#d8576b"
            ],
            [
             0.6666666666666666,
             "#ed7953"
            ],
            [
             0.7777777777777778,
             "#fb9f3a"
            ],
            [
             0.8888888888888888,
             "#fdca26"
            ],
            [
             1,
             "#f0f921"
            ]
           ],
           "sequentialminus": [
            [
             0,
             "#0d0887"
            ],
            [
             0.1111111111111111,
             "#46039f"
            ],
            [
             0.2222222222222222,
             "#7201a8"
            ],
            [
             0.3333333333333333,
             "#9c179e"
            ],
            [
             0.4444444444444444,
             "#bd3786"
            ],
            [
             0.5555555555555556,
             "#d8576b"
            ],
            [
             0.6666666666666666,
             "#ed7953"
            ],
            [
             0.7777777777777778,
             "#fb9f3a"
            ],
            [
             0.8888888888888888,
             "#fdca26"
            ],
            [
             1,
             "#f0f921"
            ]
           ]
          },
          "colorway": [
           "#636efa",
           "#EF553B",
           "#00cc96",
           "#ab63fa",
           "#FFA15A",
           "#19d3f3",
           "#FF6692",
           "#B6E880",
           "#FF97FF",
           "#FECB52"
          ],
          "font": {
           "color": "#2a3f5f"
          },
          "geo": {
           "bgcolor": "white",
           "lakecolor": "white",
           "landcolor": "#E5ECF6",
           "showlakes": true,
           "showland": true,
           "subunitcolor": "white"
          },
          "hoverlabel": {
           "align": "left"
          },
          "hovermode": "closest",
          "mapbox": {
           "style": "light"
          },
          "paper_bgcolor": "white",
          "plot_bgcolor": "#E5ECF6",
          "polar": {
           "angularaxis": {
            "gridcolor": "white",
            "linecolor": "white",
            "ticks": ""
           },
           "bgcolor": "#E5ECF6",
           "radialaxis": {
            "gridcolor": "white",
            "linecolor": "white",
            "ticks": ""
           }
          },
          "scene": {
           "xaxis": {
            "backgroundcolor": "#E5ECF6",
            "gridcolor": "white",
            "gridwidth": 2,
            "linecolor": "white",
            "showbackground": true,
            "ticks": "",
            "zerolinecolor": "white"
           },
           "yaxis": {
            "backgroundcolor": "#E5ECF6",
            "gridcolor": "white",
            "gridwidth": 2,
            "linecolor": "white",
            "showbackground": true,
            "ticks": "",
            "zerolinecolor": "white"
           },
           "zaxis": {
            "backgroundcolor": "#E5ECF6",
            "gridcolor": "white",
            "gridwidth": 2,
            "linecolor": "white",
            "showbackground": true,
            "ticks": "",
            "zerolinecolor": "white"
           }
          },
          "shapedefaults": {
           "line": {
            "color": "#2a3f5f"
           }
          },
          "ternary": {
           "aaxis": {
            "gridcolor": "white",
            "linecolor": "white",
            "ticks": ""
           },
           "baxis": {
            "gridcolor": "white",
            "linecolor": "white",
            "ticks": ""
           },
           "bgcolor": "#E5ECF6",
           "caxis": {
            "gridcolor": "white",
            "linecolor": "white",
            "ticks": ""
           }
          },
          "title": {
           "x": 0.05
          },
          "xaxis": {
           "automargin": true,
           "gridcolor": "white",
           "linecolor": "white",
           "ticks": "",
           "title": {
            "standoff": 15
           },
           "zerolinecolor": "white",
           "zerolinewidth": 2
          },
          "yaxis": {
           "automargin": true,
           "gridcolor": "white",
           "linecolor": "white",
           "ticks": "",
           "title": {
            "standoff": 15
           },
           "zerolinecolor": "white",
           "zerolinewidth": 2
          }
         }
        },
        "xaxis": {
         "anchor": "y",
         "domain": [
          0,
          1
         ],
         "title": {
          "text": "status"
         }
        },
        "yaxis": {
         "anchor": "x",
         "domain": [
          0,
          1
         ],
         "title": {
          "text": "y"
         }
        }
       }
      },
      "text/html": [
       "<div>\n",
       "        \n",
       "        \n",
       "            <div id=\"19a78125-2455-477f-8329-107f8c85b1e3\" class=\"plotly-graph-div\" style=\"height:525px; width:100%;\"></div>\n",
       "            <script type=\"text/javascript\">\n",
       "                require([\"plotly\"], function(Plotly) {\n",
       "                    window.PLOTLYENV=window.PLOTLYENV || {};\n",
       "                    \n",
       "                if (document.getElementById(\"19a78125-2455-477f-8329-107f8c85b1e3\")) {\n",
       "                    Plotly.newPlot(\n",
       "                        '19a78125-2455-477f-8329-107f8c85b1e3',\n",
       "                        [{\"alignmentgroup\": \"True\", \"hovertemplate\": \"status=%{x}<br>y=%{y}<extra></extra>\", \"legendgroup\": \"\", \"marker\": {\"color\": \"#636efa\"}, \"name\": \"\", \"offsetgroup\": \"\", \"orientation\": \"h\", \"showlegend\": false, \"textposition\": \"auto\", \"type\": \"bar\", \"x\": [17, 13, 7, 757, 6, 498, 11, 1], \"xaxis\": \"x\", \"y\": [\"Non-existent-Open-In Progress-Patch Available-Resolved\", \"Non-existent-Open-In Progress-Resolved\", \"Non-existent-Open-Patch Available-In Progress-Resolved\", \"Non-existent-Open-Patch Available-Resolved\", \"Non-existent-Open-Patch Available-Resolved-Reopened\", \"Non-existent-Open-Resolved\", \"Non-existent-Open-Resolved-Reopened\", \"Non-existent-Open-Resolved-Reopened-Patch Available\"], \"yaxis\": \"y\"}],\n",
       "                        {\"barmode\": \"relative\", \"legend\": {\"tracegroupgap\": 0}, \"margin\": {\"t\": 60}, \"template\": {\"data\": {\"bar\": [{\"error_x\": {\"color\": \"#2a3f5f\"}, \"error_y\": {\"color\": \"#2a3f5f\"}, \"marker\": {\"line\": {\"color\": \"#E5ECF6\", \"width\": 0.5}}, \"type\": \"bar\"}], \"barpolar\": [{\"marker\": {\"line\": {\"color\": \"#E5ECF6\", \"width\": 0.5}}, \"type\": \"barpolar\"}], \"carpet\": [{\"aaxis\": {\"endlinecolor\": \"#2a3f5f\", \"gridcolor\": \"white\", \"linecolor\": \"white\", \"minorgridcolor\": \"white\", \"startlinecolor\": \"#2a3f5f\"}, \"baxis\": {\"endlinecolor\": \"#2a3f5f\", \"gridcolor\": \"white\", \"linecolor\": \"white\", \"minorgridcolor\": \"white\", \"startlinecolor\": \"#2a3f5f\"}, \"type\": \"carpet\"}], \"choropleth\": [{\"colorbar\": {\"outlinewidth\": 0, \"ticks\": \"\"}, \"type\": \"choropleth\"}], \"contour\": [{\"colorbar\": {\"outlinewidth\": 0, \"ticks\": \"\"}, \"colorscale\": [[0.0, \"#0d0887\"], [0.1111111111111111, \"#46039f\"], [0.2222222222222222, \"#7201a8\"], [0.3333333333333333, \"#9c179e\"], [0.4444444444444444, \"#bd3786\"], [0.5555555555555556, \"#d8576b\"], [0.6666666666666666, \"#ed7953\"], [0.7777777777777778, \"#fb9f3a\"], [0.8888888888888888, \"#fdca26\"], [1.0, \"#f0f921\"]], \"type\": \"contour\"}], \"contourcarpet\": [{\"colorbar\": {\"outlinewidth\": 0, \"ticks\": \"\"}, \"type\": \"contourcarpet\"}], \"heatmap\": [{\"colorbar\": {\"outlinewidth\": 0, \"ticks\": \"\"}, \"colorscale\": [[0.0, \"#0d0887\"], [0.1111111111111111, \"#46039f\"], [0.2222222222222222, \"#7201a8\"], [0.3333333333333333, \"#9c179e\"], [0.4444444444444444, \"#bd3786\"], [0.5555555555555556, \"#d8576b\"], [0.6666666666666666, \"#ed7953\"], [0.7777777777777778, \"#fb9f3a\"], [0.8888888888888888, \"#fdca26\"], [1.0, \"#f0f921\"]], \"type\": \"heatmap\"}], \"heatmapgl\": [{\"colorbar\": {\"outlinewidth\": 0, \"ticks\": \"\"}, \"colorscale\": [[0.0, \"#0d0887\"], [0.1111111111111111, \"#46039f\"], [0.2222222222222222, \"#7201a8\"], [0.3333333333333333, \"#9c179e\"], [0.4444444444444444, \"#bd3786\"], [0.5555555555555556, \"#d8576b\"], [0.6666666666666666, \"#ed7953\"], [0.7777777777777778, \"#fb9f3a\"], [0.8888888888888888, \"#fdca26\"], [1.0, \"#f0f921\"]], \"type\": \"heatmapgl\"}], \"histogram\": [{\"marker\": {\"colorbar\": {\"outlinewidth\": 0, \"ticks\": \"\"}}, \"type\": \"histogram\"}], \"histogram2d\": [{\"colorbar\": {\"outlinewidth\": 0, \"ticks\": \"\"}, \"colorscale\": [[0.0, \"#0d0887\"], [0.1111111111111111, \"#46039f\"], [0.2222222222222222, \"#7201a8\"], [0.3333333333333333, \"#9c179e\"], [0.4444444444444444, \"#bd3786\"], [0.5555555555555556, \"#d8576b\"], [0.6666666666666666, \"#ed7953\"], [0.7777777777777778, \"#fb9f3a\"], [0.8888888888888888, \"#fdca26\"], [1.0, \"#f0f921\"]], \"type\": \"histogram2d\"}], \"histogram2dcontour\": [{\"colorbar\": {\"outlinewidth\": 0, \"ticks\": \"\"}, \"colorscale\": [[0.0, \"#0d0887\"], [0.1111111111111111, \"#46039f\"], [0.2222222222222222, \"#7201a8\"], [0.3333333333333333, \"#9c179e\"], [0.4444444444444444, \"#bd3786\"], [0.5555555555555556, \"#d8576b\"], [0.6666666666666666, \"#ed7953\"], [0.7777777777777778, \"#fb9f3a\"], [0.8888888888888888, \"#fdca26\"], [1.0, \"#f0f921\"]], \"type\": \"histogram2dcontour\"}], \"mesh3d\": [{\"colorbar\": {\"outlinewidth\": 0, \"ticks\": \"\"}, \"type\": \"mesh3d\"}], \"parcoords\": [{\"line\": {\"colorbar\": {\"outlinewidth\": 0, \"ticks\": \"\"}}, \"type\": \"parcoords\"}], \"pie\": [{\"automargin\": true, \"type\": \"pie\"}], \"scatter\": [{\"marker\": {\"colorbar\": {\"outlinewidth\": 0, \"ticks\": \"\"}}, \"type\": \"scatter\"}], \"scatter3d\": [{\"line\": {\"colorbar\": {\"outlinewidth\": 0, \"ticks\": \"\"}}, \"marker\": {\"colorbar\": {\"outlinewidth\": 0, \"ticks\": \"\"}}, \"type\": \"scatter3d\"}], \"scattercarpet\": [{\"marker\": {\"colorbar\": {\"outlinewidth\": 0, \"ticks\": \"\"}}, \"type\": \"scattercarpet\"}], \"scattergeo\": [{\"marker\": {\"colorbar\": {\"outlinewidth\": 0, \"ticks\": \"\"}}, \"type\": \"scattergeo\"}], \"scattergl\": [{\"marker\": {\"colorbar\": {\"outlinewidth\": 0, \"ticks\": \"\"}}, \"type\": \"scattergl\"}], \"scattermapbox\": [{\"marker\": {\"colorbar\": {\"outlinewidth\": 0, \"ticks\": \"\"}}, \"type\": \"scattermapbox\"}], \"scatterpolar\": [{\"marker\": {\"colorbar\": {\"outlinewidth\": 0, \"ticks\": \"\"}}, \"type\": \"scatterpolar\"}], \"scatterpolargl\": [{\"marker\": {\"colorbar\": {\"outlinewidth\": 0, \"ticks\": \"\"}}, \"type\": \"scatterpolargl\"}], \"scatterternary\": [{\"marker\": {\"colorbar\": {\"outlinewidth\": 0, \"ticks\": \"\"}}, \"type\": \"scatterternary\"}], \"surface\": [{\"colorbar\": {\"outlinewidth\": 0, \"ticks\": \"\"}, \"colorscale\": [[0.0, \"#0d0887\"], [0.1111111111111111, \"#46039f\"], [0.2222222222222222, \"#7201a8\"], [0.3333333333333333, \"#9c179e\"], [0.4444444444444444, \"#bd3786\"], [0.5555555555555556, \"#d8576b\"], [0.6666666666666666, \"#ed7953\"], [0.7777777777777778, \"#fb9f3a\"], [0.8888888888888888, \"#fdca26\"], [1.0, \"#f0f921\"]], \"type\": \"surface\"}], \"table\": [{\"cells\": {\"fill\": {\"color\": \"#EBF0F8\"}, \"line\": {\"color\": \"white\"}}, \"header\": {\"fill\": {\"color\": \"#C8D4E3\"}, \"line\": {\"color\": \"white\"}}, \"type\": \"table\"}]}, \"layout\": {\"annotationdefaults\": {\"arrowcolor\": \"#2a3f5f\", \"arrowhead\": 0, \"arrowwidth\": 1}, \"coloraxis\": {\"colorbar\": {\"outlinewidth\": 0, \"ticks\": \"\"}}, \"colorscale\": {\"diverging\": [[0, \"#8e0152\"], [0.1, \"#c51b7d\"], [0.2, \"#de77ae\"], [0.3, \"#f1b6da\"], [0.4, \"#fde0ef\"], [0.5, \"#f7f7f7\"], [0.6, \"#e6f5d0\"], [0.7, \"#b8e186\"], [0.8, \"#7fbc41\"], [0.9, \"#4d9221\"], [1, \"#276419\"]], \"sequential\": [[0.0, \"#0d0887\"], [0.1111111111111111, \"#46039f\"], [0.2222222222222222, \"#7201a8\"], [0.3333333333333333, \"#9c179e\"], [0.4444444444444444, \"#bd3786\"], [0.5555555555555556, \"#d8576b\"], [0.6666666666666666, \"#ed7953\"], [0.7777777777777778, \"#fb9f3a\"], [0.8888888888888888, \"#fdca26\"], [1.0, \"#f0f921\"]], \"sequentialminus\": [[0.0, \"#0d0887\"], [0.1111111111111111, \"#46039f\"], [0.2222222222222222, \"#7201a8\"], [0.3333333333333333, \"#9c179e\"], [0.4444444444444444, \"#bd3786\"], [0.5555555555555556, \"#d8576b\"], [0.6666666666666666, \"#ed7953\"], [0.7777777777777778, \"#fb9f3a\"], [0.8888888888888888, \"#fdca26\"], [1.0, \"#f0f921\"]]}, \"colorway\": [\"#636efa\", \"#EF553B\", \"#00cc96\", \"#ab63fa\", \"#FFA15A\", \"#19d3f3\", \"#FF6692\", \"#B6E880\", \"#FF97FF\", \"#FECB52\"], \"font\": {\"color\": \"#2a3f5f\"}, \"geo\": {\"bgcolor\": \"white\", \"lakecolor\": \"white\", \"landcolor\": \"#E5ECF6\", \"showlakes\": true, \"showland\": true, \"subunitcolor\": \"white\"}, \"hoverlabel\": {\"align\": \"left\"}, \"hovermode\": \"closest\", \"mapbox\": {\"style\": \"light\"}, \"paper_bgcolor\": \"white\", \"plot_bgcolor\": \"#E5ECF6\", \"polar\": {\"angularaxis\": {\"gridcolor\": \"white\", \"linecolor\": \"white\", \"ticks\": \"\"}, \"bgcolor\": \"#E5ECF6\", \"radialaxis\": {\"gridcolor\": \"white\", \"linecolor\": \"white\", \"ticks\": \"\"}}, \"scene\": {\"xaxis\": {\"backgroundcolor\": \"#E5ECF6\", \"gridcolor\": \"white\", \"gridwidth\": 2, \"linecolor\": \"white\", \"showbackground\": true, \"ticks\": \"\", \"zerolinecolor\": \"white\"}, \"yaxis\": {\"backgroundcolor\": \"#E5ECF6\", \"gridcolor\": \"white\", \"gridwidth\": 2, \"linecolor\": \"white\", \"showbackground\": true, \"ticks\": \"\", \"zerolinecolor\": \"white\"}, \"zaxis\": {\"backgroundcolor\": \"#E5ECF6\", \"gridcolor\": \"white\", \"gridwidth\": 2, \"linecolor\": \"white\", \"showbackground\": true, \"ticks\": \"\", \"zerolinecolor\": \"white\"}}, \"shapedefaults\": {\"line\": {\"color\": \"#2a3f5f\"}}, \"ternary\": {\"aaxis\": {\"gridcolor\": \"white\", \"linecolor\": \"white\", \"ticks\": \"\"}, \"baxis\": {\"gridcolor\": \"white\", \"linecolor\": \"white\", \"ticks\": \"\"}, \"bgcolor\": \"#E5ECF6\", \"caxis\": {\"gridcolor\": \"white\", \"linecolor\": \"white\", \"ticks\": \"\"}}, \"title\": {\"x\": 0.05}, \"xaxis\": {\"automargin\": true, \"gridcolor\": \"white\", \"linecolor\": \"white\", \"ticks\": \"\", \"title\": {\"standoff\": 15}, \"zerolinecolor\": \"white\", \"zerolinewidth\": 2}, \"yaxis\": {\"automargin\": true, \"gridcolor\": \"white\", \"linecolor\": \"white\", \"ticks\": \"\", \"title\": {\"standoff\": 15}, \"zerolinecolor\": \"white\", \"zerolinewidth\": 2}}}, \"xaxis\": {\"anchor\": \"y\", \"domain\": [0.0, 1.0], \"title\": {\"text\": \"status\"}}, \"yaxis\": {\"anchor\": \"x\", \"domain\": [0.0, 1.0], \"title\": {\"text\": \"y\"}}},\n",
       "                        {\"responsive\": true}\n",
       "                    ).then(function(){\n",
       "                            \n",
       "var gd = document.getElementById('19a78125-2455-477f-8329-107f8c85b1e3');\n",
       "var x = new MutationObserver(function (mutations, observer) {{\n",
       "        var display = window.getComputedStyle(gd).display;\n",
       "        if (!display || display === 'none') {{\n",
       "            console.log([gd, 'removed!']);\n",
       "            Plotly.purge(gd);\n",
       "            observer.disconnect();\n",
       "        }}\n",
       "}});\n",
       "\n",
       "// Listen for the removal of the full notebook cells\n",
       "var notebookContainer = gd.closest('#notebook-container');\n",
       "if (notebookContainer) {{\n",
       "    x.observe(notebookContainer, {childList: true});\n",
       "}}\n",
       "\n",
       "// Listen for the clearing of the current output cell\n",
       "var outputEl = gd.closest('.output');\n",
       "if (outputEl) {{\n",
       "    x.observe(outputEl, {childList: true});\n",
       "}}\n",
       "\n",
       "                        })\n",
       "                };\n",
       "                });\n",
       "            </script>\n",
       "        </div>"
      ]
     },
     "metadata": {},
     "output_type": "display_data"
    }
   ],
   "source": [
    "test = df[['steps_taken', 'status']].groupby('steps_taken').count()\n",
    "fig = px.bar(test, y = test.index, x = test[\"status\"], orientation='h')\n",
    "fig.show()"
   ]
  },
  {
   "cell_type": "code",
   "execution_count": 8,
   "metadata": {},
   "outputs": [
    {
     "data": {
      "application/vnd.plotly.v1+json": {
       "config": {
        "plotlyServerURL": "https://plot.ly"
       },
       "data": [
        {
         "name": "Non-existent-Open-Resolved",
         "type": "box",
         "x": [
          17,
          18,
          19,
          19,
          3,
          35,
          0,
          14,
          8,
          9,
          6,
          3,
          0,
          14,
          0,
          12,
          48,
          2,
          5,
          0,
          69,
          0,
          4,
          0,
          41,
          47,
          0,
          0,
          86,
          98,
          0,
          0,
          0,
          0,
          35,
          118,
          3,
          0,
          7,
          1,
          1,
          3,
          0,
          27,
          0,
          19,
          0,
          4,
          0,
          1,
          4,
          0,
          3,
          1,
          10,
          18,
          18,
          22,
          0,
          0,
          19,
          73,
          0,
          16,
          2,
          1,
          26,
          20,
          4,
          57,
          0,
          83,
          1,
          46,
          7,
          1,
          7,
          12,
          15,
          86,
          0,
          0,
          1,
          0,
          64,
          9,
          4,
          1,
          0,
          7,
          7,
          12,
          1,
          5,
          66,
          8,
          7,
          8,
          0,
          2,
          64,
          0,
          5,
          82,
          11,
          13,
          0,
          6,
          0,
          11,
          15,
          2,
          24,
          21,
          6,
          0,
          9,
          29,
          9,
          32,
          35,
          1,
          1,
          8,
          101,
          1,
          126,
          0,
          0,
          21,
          0,
          94,
          83,
          83,
          47,
          0,
          0,
          9,
          0,
          5,
          0,
          6,
          40,
          12,
          7,
          12,
          0,
          10,
          7,
          0,
          3,
          4,
          2,
          0,
          9,
          4,
          0,
          24,
          5,
          0,
          0,
          124,
          0,
          0,
          0,
          10,
          0,
          1,
          20,
          0,
          36,
          0,
          0,
          0,
          13,
          42,
          1,
          1,
          0,
          17,
          0,
          21,
          1,
          7,
          1,
          57,
          0,
          0,
          0,
          33,
          1,
          7,
          6,
          0,
          3,
          4,
          4,
          4,
          4,
          0,
          1,
          1,
          10,
          0,
          3,
          1,
          8,
          3,
          3,
          59,
          14,
          61,
          65,
          0,
          67,
          0,
          60,
          1,
          7,
          71,
          36,
          17,
          0,
          3,
          0,
          9,
          0,
          0,
          0,
          4,
          6,
          5,
          0,
          99,
          1,
          3,
          0,
          0,
          2,
          69,
          19,
          23,
          17,
          2,
          0,
          21,
          2,
          5,
          0,
          54,
          5,
          13,
          0,
          0,
          0,
          2,
          4,
          5,
          42,
          1,
          115,
          33,
          5,
          93,
          69,
          2,
          0,
          1,
          2,
          2,
          5,
          5,
          0,
          0,
          4,
          127,
          0,
          1,
          0,
          0,
          0,
          107,
          62,
          0,
          0,
          1,
          0,
          0,
          4,
          0,
          3,
          0,
          1,
          1,
          13,
          9,
          20,
          8,
          0,
          0,
          1,
          8,
          6,
          31,
          0,
          56,
          1,
          34,
          7,
          10,
          0,
          0,
          10,
          0,
          0,
          0,
          2,
          4,
          0,
          102,
          0,
          4,
          115,
          0,
          0,
          1,
          0,
          0,
          3,
          1,
          0,
          41,
          90,
          1,
          0,
          0,
          0,
          0,
          0,
          2,
          19,
          0,
          6,
          0,
          0,
          11,
          0,
          9,
          1,
          1,
          1,
          1,
          3,
          0,
          0,
          0,
          0,
          2,
          0,
          0,
          0,
          0,
          0,
          0,
          0,
          0,
          0,
          3,
          4,
          1,
          0,
          0,
          0,
          4,
          0,
          0,
          0,
          0,
          0,
          0,
          0,
          19,
          0,
          0,
          63,
          0,
          21,
          0,
          35,
          47,
          19,
          0,
          34,
          0,
          0,
          0,
          2,
          0,
          8,
          2,
          0,
          4,
          1,
          3,
          41,
          7,
          0,
          1,
          7,
          11,
          13,
          1,
          31,
          1,
          7,
          9,
          7,
          0,
          56,
          0,
          46,
          46,
          56,
          0,
          63,
          0,
          0,
          0,
          1,
          27,
          70,
          0,
          1,
          6,
          19,
          13,
          0,
          0,
          21,
          1,
          63,
          71,
          0,
          0,
          0,
          1,
          0,
          108,
          1,
          1,
          6,
          99,
          107,
          0,
          0,
          1,
          2,
          12,
          1,
          0,
          0,
          37,
          0,
          15,
          9,
          7,
          3,
          6,
          2,
          25,
          0,
          2,
          11,
          16,
          7,
          63,
          0,
          55,
          0,
          0,
          1,
          12,
          22,
          0,
          0,
          1,
          93,
          1,
          0,
          7,
          44,
          47,
          81,
          17,
          0,
          0,
          14,
          1
         ]
        },
        {
         "name": "Non-existent-Open-Patch Available-Resolved",
         "type": "box",
         "x": [
          5,
          13,
          9,
          0,
          19,
          115,
          31,
          83,
          12,
          18,
          10,
          46,
          55,
          55,
          11,
          35,
          39,
          0,
          11,
          3,
          3,
          98,
          79,
          0,
          0,
          11,
          0,
          21,
          15,
          0,
          20,
          12,
          2,
          12,
          33,
          37,
          51,
          47,
          22,
          108,
          15,
          0,
          73,
          0,
          6,
          4,
          119,
          5,
          115,
          12,
          0,
          9,
          65,
          89,
          27,
          34,
          41,
          48,
          110,
          56,
          14,
          62,
          74,
          107,
          35,
          3,
          3,
          2,
          6,
          3,
          0,
          20,
          8,
          8,
          41,
          67,
          2,
          87,
          9,
          1,
          6,
          20,
          15,
          15,
          35,
          0,
          16,
          21,
          23,
          82,
          82,
          38,
          38,
          82,
          82,
          38,
          95,
          82,
          61,
          46,
          2,
          68,
          1,
          0,
          18,
          9,
          82,
          41,
          1,
          17,
          126,
          20,
          23,
          5,
          14,
          20,
          4,
          5,
          14,
          26,
          30,
          9,
          2,
          1,
          110,
          5,
          0,
          60,
          0,
          23,
          4,
          1,
          0,
          6,
          0,
          6,
          8,
          37,
          69,
          84,
          117,
          10,
          17,
          25,
          12,
          105,
          19,
          23,
          3,
          4,
          127,
          20,
          0,
          0,
          1,
          3,
          5,
          13,
          18,
          7,
          12,
          19,
          26,
          31,
          1,
          20,
          8,
          28,
          98,
          88,
          9,
          67,
          112,
          8,
          17,
          119,
          22,
          17,
          30,
          20,
          7,
          13,
          71,
          0,
          13,
          17,
          1,
          1,
          82,
          17,
          2,
          1,
          3,
          7,
          15,
          1,
          0,
          1,
          4,
          3,
          4,
          6,
          6,
          69,
          10,
          10,
          38,
          126,
          32,
          8,
          26,
          3,
          43,
          35,
          0,
          0,
          0,
          7,
          2,
          1,
          1,
          0,
          4,
          5,
          1,
          3,
          3,
          3,
          112,
          2,
          3,
          4,
          8,
          25,
          15,
          29,
          0,
          57,
          0,
          73,
          7,
          9,
          3,
          7,
          6,
          96,
          0,
          6,
          21,
          42,
          58,
          61,
          64,
          2,
          6,
          3,
          3,
          76,
          0,
          0,
          0,
          0,
          50,
          0,
          1,
          1,
          5,
          9,
          11,
          4,
          31,
          15,
          1,
          56,
          2,
          35,
          11,
          15,
          18,
          9,
          6,
          94,
          35,
          11,
          21,
          67,
          13,
          112,
          16,
          1,
          2,
          1,
          1,
          4,
          4,
          3,
          6,
          9,
          8,
          4,
          9,
          9,
          9,
          7,
          3,
          11,
          11,
          11,
          18,
          9,
          15,
          16,
          52,
          2,
          22,
          24,
          29,
          1,
          34,
          4,
          51,
          50,
          56,
          54,
          62,
          2,
          63,
          1,
          0,
          1,
          8,
          9,
          7,
          20,
          99,
          1,
          0,
          0,
          0,
          3,
          5,
          1,
          9,
          12,
          11,
          13,
          14,
          14,
          3,
          35,
          22,
          35,
          0,
          0,
          1,
          62,
          53,
          7,
          10,
          7,
          7,
          21,
          18,
          28,
          87,
          0,
          0,
          7,
          0,
          3,
          1,
          0,
          0,
          0,
          1,
          6,
          0,
          0,
          0,
          0,
          8,
          0,
          103,
          1,
          5,
          8,
          3,
          4,
          4,
          5,
          0,
          0,
          3,
          0,
          0,
          0,
          2,
          2,
          2,
          3,
          4,
          2,
          6,
          5,
          2,
          2,
          4,
          12,
          12,
          1,
          21,
          2,
          55,
          8,
          8,
          1,
          41,
          1,
          70,
          41,
          3,
          14,
          4,
          37,
          3,
          1,
          117,
          19,
          2,
          43,
          42,
          5,
          2,
          69,
          26,
          6,
          12,
          12,
          12,
          0,
          0,
          29,
          91,
          30,
          20,
          13,
          8,
          7,
          8,
          7,
          5,
          0,
          2,
          2,
          2,
          1,
          8,
          16,
          26,
          7,
          3,
          19,
          23,
          7,
          27,
          14,
          9,
          39,
          60,
          6,
          5,
          8,
          15,
          6,
          14,
          69,
          1,
          5,
          0,
          9,
          9,
          4,
          0,
          59,
          34,
          35,
          77,
          43,
          28,
          0,
          16,
          5,
          13,
          18,
          2,
          103,
          9,
          6,
          10,
          0,
          61,
          105,
          18,
          0,
          6,
          2,
          5,
          6,
          4,
          5,
          7,
          25,
          40,
          53,
          3,
          48,
          42,
          35,
          34,
          1,
          47,
          0,
          0,
          69,
          5,
          0,
          4,
          62,
          123,
          11,
          11,
          11,
          3,
          4,
          3,
          104,
          69,
          21,
          2,
          1,
          3,
          2,
          2,
          7,
          9,
          1,
          13,
          20,
          0,
          14,
          32,
          99,
          1,
          4,
          5,
          4,
          5,
          27,
          0,
          2,
          1,
          3,
          7,
          0,
          3,
          0,
          1,
          6,
          1,
          0,
          0,
          0,
          16,
          1,
          1,
          3,
          0,
          0,
          2,
          0,
          0,
          1,
          23,
          3,
          0,
          0,
          0,
          0,
          12,
          5,
          6,
          0,
          14,
          28,
          0,
          0,
          3,
          0,
          10,
          19,
          3,
          0,
          3,
          0,
          1,
          21,
          21,
          1,
          0,
          1,
          4,
          33,
          2,
          0,
          0,
          7,
          8,
          6,
          3,
          7,
          8,
          13,
          8,
          0,
          5,
          16,
          2,
          13,
          6,
          52,
          21,
          0,
          1,
          21,
          29,
          1,
          7,
          7,
          29,
          99,
          45,
          6,
          0,
          3,
          4,
          0,
          54,
          0,
          0,
          0,
          0,
          0,
          0,
          1,
          46,
          0,
          5,
          2,
          1,
          1,
          78,
          53,
          47,
          0,
          2,
          3,
          2,
          3,
          1,
          1,
          0,
          0,
          0,
          1,
          1,
          5,
          6,
          0,
          0,
          2,
          0,
          19,
          0,
          0,
          17,
          8,
          34,
          84,
          12,
          6,
          1,
          8,
          1,
          0,
          1,
          1,
          5,
          0,
          106,
          0,
          0,
          1,
          2,
          1,
          2,
          0,
          13,
          3,
          6,
          3,
          5,
          2,
          35,
          0,
          38,
          2,
          3,
          13,
          4,
          0,
          11,
          2,
          26,
          5,
          1,
          0,
          11,
          0,
          1,
          0,
          0,
          1,
          22,
          4,
          3,
          3,
          0,
          31,
          2,
          0,
          0,
          3,
          32,
          0,
          20,
          0,
          51,
          16,
          36,
          6,
          0,
          38,
          0,
          3,
          3,
          3,
          0
         ]
        }
       ],
       "layout": {
        "template": {
         "data": {
          "bar": [
           {
            "error_x": {
             "color": "#2a3f5f"
            },
            "error_y": {
             "color": "#2a3f5f"
            },
            "marker": {
             "line": {
              "color": "#E5ECF6",
              "width": 0.5
             }
            },
            "type": "bar"
           }
          ],
          "barpolar": [
           {
            "marker": {
             "line": {
              "color": "#E5ECF6",
              "width": 0.5
             }
            },
            "type": "barpolar"
           }
          ],
          "carpet": [
           {
            "aaxis": {
             "endlinecolor": "#2a3f5f",
             "gridcolor": "white",
             "linecolor": "white",
             "minorgridcolor": "white",
             "startlinecolor": "#2a3f5f"
            },
            "baxis": {
             "endlinecolor": "#2a3f5f",
             "gridcolor": "white",
             "linecolor": "white",
             "minorgridcolor": "white",
             "startlinecolor": "#2a3f5f"
            },
            "type": "carpet"
           }
          ],
          "choropleth": [
           {
            "colorbar": {
             "outlinewidth": 0,
             "ticks": ""
            },
            "type": "choropleth"
           }
          ],
          "contour": [
           {
            "colorbar": {
             "outlinewidth": 0,
             "ticks": ""
            },
            "colorscale": [
             [
              0,
              "#0d0887"
             ],
             [
              0.1111111111111111,
              "#46039f"
             ],
             [
              0.2222222222222222,
              "#7201a8"
             ],
             [
              0.3333333333333333,
              "#9c179e"
             ],
             [
              0.4444444444444444,
              "#bd3786"
             ],
             [
              0.5555555555555556,
              "#d8576b"
             ],
             [
              0.6666666666666666,
              "#ed7953"
             ],
             [
              0.7777777777777778,
              "#fb9f3a"
             ],
             [
              0.8888888888888888,
              "#fdca26"
             ],
             [
              1,
              "#f0f921"
             ]
            ],
            "type": "contour"
           }
          ],
          "contourcarpet": [
           {
            "colorbar": {
             "outlinewidth": 0,
             "ticks": ""
            },
            "type": "contourcarpet"
           }
          ],
          "heatmap": [
           {
            "colorbar": {
             "outlinewidth": 0,
             "ticks": ""
            },
            "colorscale": [
             [
              0,
              "#0d0887"
             ],
             [
              0.1111111111111111,
              "#46039f"
             ],
             [
              0.2222222222222222,
              "#7201a8"
             ],
             [
              0.3333333333333333,
              "#9c179e"
             ],
             [
              0.4444444444444444,
              "#bd3786"
             ],
             [
              0.5555555555555556,
              "#d8576b"
             ],
             [
              0.6666666666666666,
              "#ed7953"
             ],
             [
              0.7777777777777778,
              "#fb9f3a"
             ],
             [
              0.8888888888888888,
              "#fdca26"
             ],
             [
              1,
              "#f0f921"
             ]
            ],
            "type": "heatmap"
           }
          ],
          "heatmapgl": [
           {
            "colorbar": {
             "outlinewidth": 0,
             "ticks": ""
            },
            "colorscale": [
             [
              0,
              "#0d0887"
             ],
             [
              0.1111111111111111,
              "#46039f"
             ],
             [
              0.2222222222222222,
              "#7201a8"
             ],
             [
              0.3333333333333333,
              "#9c179e"
             ],
             [
              0.4444444444444444,
              "#bd3786"
             ],
             [
              0.5555555555555556,
              "#d8576b"
             ],
             [
              0.6666666666666666,
              "#ed7953"
             ],
             [
              0.7777777777777778,
              "#fb9f3a"
             ],
             [
              0.8888888888888888,
              "#fdca26"
             ],
             [
              1,
              "#f0f921"
             ]
            ],
            "type": "heatmapgl"
           }
          ],
          "histogram": [
           {
            "marker": {
             "colorbar": {
              "outlinewidth": 0,
              "ticks": ""
             }
            },
            "type": "histogram"
           }
          ],
          "histogram2d": [
           {
            "colorbar": {
             "outlinewidth": 0,
             "ticks": ""
            },
            "colorscale": [
             [
              0,
              "#0d0887"
             ],
             [
              0.1111111111111111,
              "#46039f"
             ],
             [
              0.2222222222222222,
              "#7201a8"
             ],
             [
              0.3333333333333333,
              "#9c179e"
             ],
             [
              0.4444444444444444,
              "#bd3786"
             ],
             [
              0.5555555555555556,
              "#d8576b"
             ],
             [
              0.6666666666666666,
              "#ed7953"
             ],
             [
              0.7777777777777778,
              "#fb9f3a"
             ],
             [
              0.8888888888888888,
              "#fdca26"
             ],
             [
              1,
              "#f0f921"
             ]
            ],
            "type": "histogram2d"
           }
          ],
          "histogram2dcontour": [
           {
            "colorbar": {
             "outlinewidth": 0,
             "ticks": ""
            },
            "colorscale": [
             [
              0,
              "#0d0887"
             ],
             [
              0.1111111111111111,
              "#46039f"
             ],
             [
              0.2222222222222222,
              "#7201a8"
             ],
             [
              0.3333333333333333,
              "#9c179e"
             ],
             [
              0.4444444444444444,
              "#bd3786"
             ],
             [
              0.5555555555555556,
              "#d8576b"
             ],
             [
              0.6666666666666666,
              "#ed7953"
             ],
             [
              0.7777777777777778,
              "#fb9f3a"
             ],
             [
              0.8888888888888888,
              "#fdca26"
             ],
             [
              1,
              "#f0f921"
             ]
            ],
            "type": "histogram2dcontour"
           }
          ],
          "mesh3d": [
           {
            "colorbar": {
             "outlinewidth": 0,
             "ticks": ""
            },
            "type": "mesh3d"
           }
          ],
          "parcoords": [
           {
            "line": {
             "colorbar": {
              "outlinewidth": 0,
              "ticks": ""
             }
            },
            "type": "parcoords"
           }
          ],
          "pie": [
           {
            "automargin": true,
            "type": "pie"
           }
          ],
          "scatter": [
           {
            "marker": {
             "colorbar": {
              "outlinewidth": 0,
              "ticks": ""
             }
            },
            "type": "scatter"
           }
          ],
          "scatter3d": [
           {
            "line": {
             "colorbar": {
              "outlinewidth": 0,
              "ticks": ""
             }
            },
            "marker": {
             "colorbar": {
              "outlinewidth": 0,
              "ticks": ""
             }
            },
            "type": "scatter3d"
           }
          ],
          "scattercarpet": [
           {
            "marker": {
             "colorbar": {
              "outlinewidth": 0,
              "ticks": ""
             }
            },
            "type": "scattercarpet"
           }
          ],
          "scattergeo": [
           {
            "marker": {
             "colorbar": {
              "outlinewidth": 0,
              "ticks": ""
             }
            },
            "type": "scattergeo"
           }
          ],
          "scattergl": [
           {
            "marker": {
             "colorbar": {
              "outlinewidth": 0,
              "ticks": ""
             }
            },
            "type": "scattergl"
           }
          ],
          "scattermapbox": [
           {
            "marker": {
             "colorbar": {
              "outlinewidth": 0,
              "ticks": ""
             }
            },
            "type": "scattermapbox"
           }
          ],
          "scatterpolar": [
           {
            "marker": {
             "colorbar": {
              "outlinewidth": 0,
              "ticks": ""
             }
            },
            "type": "scatterpolar"
           }
          ],
          "scatterpolargl": [
           {
            "marker": {
             "colorbar": {
              "outlinewidth": 0,
              "ticks": ""
             }
            },
            "type": "scatterpolargl"
           }
          ],
          "scatterternary": [
           {
            "marker": {
             "colorbar": {
              "outlinewidth": 0,
              "ticks": ""
             }
            },
            "type": "scatterternary"
           }
          ],
          "surface": [
           {
            "colorbar": {
             "outlinewidth": 0,
             "ticks": ""
            },
            "colorscale": [
             [
              0,
              "#0d0887"
             ],
             [
              0.1111111111111111,
              "#46039f"
             ],
             [
              0.2222222222222222,
              "#7201a8"
             ],
             [
              0.3333333333333333,
              "#9c179e"
             ],
             [
              0.4444444444444444,
              "#bd3786"
             ],
             [
              0.5555555555555556,
              "#d8576b"
             ],
             [
              0.6666666666666666,
              "#ed7953"
             ],
             [
              0.7777777777777778,
              "#fb9f3a"
             ],
             [
              0.8888888888888888,
              "#fdca26"
             ],
             [
              1,
              "#f0f921"
             ]
            ],
            "type": "surface"
           }
          ],
          "table": [
           {
            "cells": {
             "fill": {
              "color": "#EBF0F8"
             },
             "line": {
              "color": "white"
             }
            },
            "header": {
             "fill": {
              "color": "#C8D4E3"
             },
             "line": {
              "color": "white"
             }
            },
            "type": "table"
           }
          ]
         },
         "layout": {
          "annotationdefaults": {
           "arrowcolor": "#2a3f5f",
           "arrowhead": 0,
           "arrowwidth": 1
          },
          "coloraxis": {
           "colorbar": {
            "outlinewidth": 0,
            "ticks": ""
           }
          },
          "colorscale": {
           "diverging": [
            [
             0,
             "#8e0152"
            ],
            [
             0.1,
             "#c51b7d"
            ],
            [
             0.2,
             "#de77ae"
            ],
            [
             0.3,
             "#f1b6da"
            ],
            [
             0.4,
             "#fde0ef"
            ],
            [
             0.5,
             "#f7f7f7"
            ],
            [
             0.6,
             "#e6f5d0"
            ],
            [
             0.7,
             "#b8e186"
            ],
            [
             0.8,
             "#7fbc41"
            ],
            [
             0.9,
             "#4d9221"
            ],
            [
             1,
             "#276419"
            ]
           ],
           "sequential": [
            [
             0,
             "#0d0887"
            ],
            [
             0.1111111111111111,
             "#46039f"
            ],
            [
             0.2222222222222222,
             "#7201a8"
            ],
            [
             0.3333333333333333,
             "#9c179e"
            ],
            [
             0.4444444444444444,
             "#bd3786"
            ],
            [
             0.5555555555555556,
             "#d8576b"
            ],
            [
             0.6666666666666666,
             "#ed7953"
            ],
            [
             0.7777777777777778,
             "#fb9f3a"
            ],
            [
             0.8888888888888888,
             "#fdca26"
            ],
            [
             1,
             "#f0f921"
            ]
           ],
           "sequentialminus": [
            [
             0,
             "#0d0887"
            ],
            [
             0.1111111111111111,
             "#46039f"
            ],
            [
             0.2222222222222222,
             "#7201a8"
            ],
            [
             0.3333333333333333,
             "#9c179e"
            ],
            [
             0.4444444444444444,
             "#bd3786"
            ],
            [
             0.5555555555555556,
             "#d8576b"
            ],
            [
             0.6666666666666666,
             "#ed7953"
            ],
            [
             0.7777777777777778,
             "#fb9f3a"
            ],
            [
             0.8888888888888888,
             "#fdca26"
            ],
            [
             1,
             "#f0f921"
            ]
           ]
          },
          "colorway": [
           "#636efa",
           "#EF553B",
           "#00cc96",
           "#ab63fa",
           "#FFA15A",
           "#19d3f3",
           "#FF6692",
           "#B6E880",
           "#FF97FF",
           "#FECB52"
          ],
          "font": {
           "color": "#2a3f5f"
          },
          "geo": {
           "bgcolor": "white",
           "lakecolor": "white",
           "landcolor": "#E5ECF6",
           "showlakes": true,
           "showland": true,
           "subunitcolor": "white"
          },
          "hoverlabel": {
           "align": "left"
          },
          "hovermode": "closest",
          "mapbox": {
           "style": "light"
          },
          "paper_bgcolor": "white",
          "plot_bgcolor": "#E5ECF6",
          "polar": {
           "angularaxis": {
            "gridcolor": "white",
            "linecolor": "white",
            "ticks": ""
           },
           "bgcolor": "#E5ECF6",
           "radialaxis": {
            "gridcolor": "white",
            "linecolor": "white",
            "ticks": ""
           }
          },
          "scene": {
           "xaxis": {
            "backgroundcolor": "#E5ECF6",
            "gridcolor": "white",
            "gridwidth": 2,
            "linecolor": "white",
            "showbackground": true,
            "ticks": "",
            "zerolinecolor": "white"
           },
           "yaxis": {
            "backgroundcolor": "#E5ECF6",
            "gridcolor": "white",
            "gridwidth": 2,
            "linecolor": "white",
            "showbackground": true,
            "ticks": "",
            "zerolinecolor": "white"
           },
           "zaxis": {
            "backgroundcolor": "#E5ECF6",
            "gridcolor": "white",
            "gridwidth": 2,
            "linecolor": "white",
            "showbackground": true,
            "ticks": "",
            "zerolinecolor": "white"
           }
          },
          "shapedefaults": {
           "line": {
            "color": "#2a3f5f"
           }
          },
          "ternary": {
           "aaxis": {
            "gridcolor": "white",
            "linecolor": "white",
            "ticks": ""
           },
           "baxis": {
            "gridcolor": "white",
            "linecolor": "white",
            "ticks": ""
           },
           "bgcolor": "#E5ECF6",
           "caxis": {
            "gridcolor": "white",
            "linecolor": "white",
            "ticks": ""
           }
          },
          "title": {
           "x": 0.05
          },
          "xaxis": {
           "automargin": true,
           "gridcolor": "white",
           "linecolor": "white",
           "ticks": "",
           "title": {
            "standoff": 15
           },
           "zerolinecolor": "white",
           "zerolinewidth": 2
          },
          "yaxis": {
           "automargin": true,
           "gridcolor": "white",
           "linecolor": "white",
           "ticks": "",
           "title": {
            "standoff": 15
           },
           "zerolinecolor": "white",
           "zerolinewidth": 2
          }
         }
        }
       }
      },
      "text/html": [
       "<div>\n",
       "        \n",
       "        \n",
       "            <div id=\"0dc5201d-63cc-43af-88a1-e6813564315e\" class=\"plotly-graph-div\" style=\"height:525px; width:100%;\"></div>\n",
       "            <script type=\"text/javascript\">\n",
       "                require([\"plotly\"], function(Plotly) {\n",
       "                    window.PLOTLYENV=window.PLOTLYENV || {};\n",
       "                    \n",
       "                if (document.getElementById(\"0dc5201d-63cc-43af-88a1-e6813564315e\")) {\n",
       "                    Plotly.newPlot(\n",
       "                        '0dc5201d-63cc-43af-88a1-e6813564315e',\n",
       "                        [{\"name\": \"Non-existent-Open-Resolved\", \"type\": \"box\", \"x\": [17.0, 18.0, 19.0, 19.0, 3.0, 35.0, 0.0, 14.0, 8.0, 9.0, 6.0, 3.0, 0.0, 14.0, 0.0, 12.0, 48.0, 2.0, 5.0, 0.0, 69.0, 0.0, 4.0, 0.0, 41.0, 47.0, 0.0, 0.0, 86.0, 98.0, 0.0, 0.0, 0.0, 0.0, 35.0, 118.0, 3.0, 0.0, 7.0, 1.0, 1.0, 3.0, 0.0, 27.0, 0.0, 19.0, 0.0, 4.0, 0.0, 1.0, 4.0, 0.0, 3.0, 1.0, 10.0, 18.0, 18.0, 22.0, 0.0, 0.0, 19.0, 73.0, 0.0, 16.0, 2.0, 1.0, 26.0, 20.0, 4.0, 57.0, 0.0, 83.0, 1.0, 46.0, 7.0, 1.0, 7.0, 12.0, 15.0, 86.0, 0.0, 0.0, 1.0, 0.0, 64.0, 9.0, 4.0, 1.0, 0.0, 7.0, 7.0, 12.0, 1.0, 5.0, 66.0, 8.0, 7.0, 8.0, 0.0, 2.0, 64.0, 0.0, 5.0, 82.0, 11.0, 13.0, 0.0, 6.0, 0.0, 11.0, 15.0, 2.0, 24.0, 21.0, 6.0, 0.0, 9.0, 29.0, 9.0, 32.0, 35.0, 1.0, 1.0, 8.0, 101.0, 1.0, 126.0, 0.0, 0.0, 21.0, 0.0, 94.0, 83.0, 83.0, 47.0, 0.0, 0.0, 9.0, 0.0, 5.0, 0.0, 6.0, 40.0, 12.0, 7.0, 12.0, 0.0, 10.0, 7.0, 0.0, 3.0, 4.0, 2.0, 0.0, 9.0, 4.0, 0.0, 24.0, 5.0, 0.0, 0.0, 124.0, 0.0, 0.0, 0.0, 10.0, 0.0, 1.0, 20.0, 0.0, 36.0, 0.0, 0.0, 0.0, 13.0, 42.0, 1.0, 1.0, 0.0, 17.0, 0.0, 21.0, 1.0, 7.0, 1.0, 57.0, 0.0, 0.0, 0.0, 33.0, 1.0, 7.0, 6.0, 0.0, 3.0, 4.0, 4.0, 4.0, 4.0, 0.0, 1.0, 1.0, 10.0, 0.0, 3.0, 1.0, 8.0, 3.0, 3.0, 59.0, 14.0, 61.0, 65.0, 0.0, 67.0, 0.0, 60.0, 1.0, 7.0, 71.0, 36.0, 17.0, 0.0, 3.0, 0.0, 9.0, 0.0, 0.0, 0.0, 4.0, 6.0, 5.0, 0.0, 99.0, 1.0, 3.0, 0.0, 0.0, 2.0, 69.0, 19.0, 23.0, 17.0, 2.0, 0.0, 21.0, 2.0, 5.0, 0.0, 54.0, 5.0, 13.0, 0.0, 0.0, 0.0, 2.0, 4.0, 5.0, 42.0, 1.0, 115.0, 33.0, 5.0, 93.0, 69.0, 2.0, 0.0, 1.0, 2.0, 2.0, 5.0, 5.0, 0.0, 0.0, 4.0, 127.0, 0.0, 1.0, 0.0, 0.0, 0.0, 107.0, 62.0, 0.0, 0.0, 1.0, 0.0, 0.0, 4.0, 0.0, 3.0, 0.0, 1.0, 1.0, 13.0, 9.0, 20.0, 8.0, 0.0, 0.0, 1.0, 8.0, 6.0, 31.0, 0.0, 56.0, 1.0, 34.0, 7.0, 10.0, 0.0, 0.0, 10.0, 0.0, 0.0, 0.0, 2.0, 4.0, 0.0, 102.0, 0.0, 4.0, 115.0, 0.0, 0.0, 1.0, 0.0, 0.0, 3.0, 1.0, 0.0, 41.0, 90.0, 1.0, 0.0, 0.0, 0.0, 0.0, 0.0, 2.0, 19.0, 0.0, 6.0, 0.0, 0.0, 11.0, 0.0, 9.0, 1.0, 1.0, 1.0, 1.0, 3.0, 0.0, 0.0, 0.0, 0.0, 2.0, 0.0, 0.0, 0.0, 0.0, 0.0, 0.0, 0.0, 0.0, 0.0, 3.0, 4.0, 1.0, 0.0, 0.0, 0.0, 4.0, 0.0, 0.0, 0.0, 0.0, 0.0, 0.0, 0.0, 19.0, 0.0, 0.0, 63.0, 0.0, 21.0, 0.0, 35.0, 47.0, 19.0, 0.0, 34.0, 0.0, 0.0, 0.0, 2.0, 0.0, 8.0, 2.0, 0.0, 4.0, 1.0, 3.0, 41.0, 7.0, 0.0, 1.0, 7.0, 11.0, 13.0, 1.0, 31.0, 1.0, 7.0, 9.0, 7.0, 0.0, 56.0, 0.0, 46.0, 46.0, 56.0, 0.0, 63.0, 0.0, 0.0, 0.0, 1.0, 27.0, 70.0, 0.0, 1.0, 6.0, 19.0, 13.0, 0.0, 0.0, 21.0, 1.0, 63.0, 71.0, 0.0, 0.0, 0.0, 1.0, 0.0, 108.0, 1.0, 1.0, 6.0, 99.0, 107.0, 0.0, 0.0, 1.0, 2.0, 12.0, 1.0, 0.0, 0.0, 37.0, 0.0, 15.0, 9.0, 7.0, 3.0, 6.0, 2.0, 25.0, 0.0, 2.0, 11.0, 16.0, 7.0, 63.0, 0.0, 55.0, 0.0, 0.0, 1.0, 12.0, 22.0, 0.0, 0.0, 1.0, 93.0, 1.0, 0.0, 7.0, 44.0, 47.0, 81.0, 17.0, 0.0, 0.0, 14.0, 1.0]}, {\"name\": \"Non-existent-Open-Patch Available-Resolved\", \"type\": \"box\", \"x\": [5.0, 13.0, 9.0, 0.0, 19.0, 115.0, 31.0, 83.0, 12.0, 18.0, 10.0, 46.0, 55.0, 55.0, 11.0, 35.0, 39.0, 0.0, 11.0, 3.0, 3.0, 98.0, 79.0, 0.0, 0.0, 11.0, 0.0, 21.0, 15.0, 0.0, 20.0, 12.0, 2.0, 12.0, 33.0, 37.0, 51.0, 47.0, 22.0, 108.0, 15.0, 0.0, 73.0, 0.0, 6.0, 4.0, 119.0, 5.0, 115.0, 12.0, 0.0, 9.0, 65.0, 89.0, 27.0, 34.0, 41.0, 48.0, 110.0, 56.0, 14.0, 62.0, 74.0, 107.0, 35.0, 3.0, 3.0, 2.0, 6.0, 3.0, 0.0, 20.0, 8.0, 8.0, 41.0, 67.0, 2.0, 87.0, 9.0, 1.0, 6.0, 20.0, 15.0, 15.0, 35.0, 0.0, 16.0, 21.0, 23.0, 82.0, 82.0, 38.0, 38.0, 82.0, 82.0, 38.0, 95.0, 82.0, 61.0, 46.0, 2.0, 68.0, 1.0, 0.0, 18.0, 9.0, 82.0, 41.0, 1.0, 17.0, 126.0, 20.0, 23.0, 5.0, 14.0, 20.0, 4.0, 5.0, 14.0, 26.0, 30.0, 9.0, 2.0, 1.0, 110.0, 5.0, 0.0, 60.0, 0.0, 23.0, 4.0, 1.0, 0.0, 6.0, 0.0, 6.0, 8.0, 37.0, 69.0, 84.0, 117.0, 10.0, 17.0, 25.0, 12.0, 105.0, 19.0, 23.0, 3.0, 4.0, 127.0, 20.0, 0.0, 0.0, 1.0, 3.0, 5.0, 13.0, 18.0, 7.0, 12.0, 19.0, 26.0, 31.0, 1.0, 20.0, 8.0, 28.0, 98.0, 88.0, 9.0, 67.0, 112.0, 8.0, 17.0, 119.0, 22.0, 17.0, 30.0, 20.0, 7.0, 13.0, 71.0, 0.0, 13.0, 17.0, 1.0, 1.0, 82.0, 17.0, 2.0, 1.0, 3.0, 7.0, 15.0, 1.0, 0.0, 1.0, 4.0, 3.0, 4.0, 6.0, 6.0, 69.0, 10.0, 10.0, 38.0, 126.0, 32.0, 8.0, 26.0, 3.0, 43.0, 35.0, 0.0, 0.0, 0.0, 7.0, 2.0, 1.0, 1.0, 0.0, 4.0, 5.0, 1.0, 3.0, 3.0, 3.0, 112.0, 2.0, 3.0, 4.0, 8.0, 25.0, 15.0, 29.0, 0.0, 57.0, 0.0, 73.0, 7.0, 9.0, 3.0, 7.0, 6.0, 96.0, 0.0, 6.0, 21.0, 42.0, 58.0, 61.0, 64.0, 2.0, 6.0, 3.0, 3.0, 76.0, 0.0, 0.0, 0.0, 0.0, 50.0, 0.0, 1.0, 1.0, 5.0, 9.0, 11.0, 4.0, 31.0, 15.0, 1.0, 56.0, 2.0, 35.0, 11.0, 15.0, 18.0, 9.0, 6.0, 94.0, 35.0, 11.0, 21.0, 67.0, 13.0, 112.0, 16.0, 1.0, 2.0, 1.0, 1.0, 4.0, 4.0, 3.0, 6.0, 9.0, 8.0, 4.0, 9.0, 9.0, 9.0, 7.0, 3.0, 11.0, 11.0, 11.0, 18.0, 9.0, 15.0, 16.0, 52.0, 2.0, 22.0, 24.0, 29.0, 1.0, 34.0, 4.0, 51.0, 50.0, 56.0, 54.0, 62.0, 2.0, 63.0, 1.0, 0.0, 1.0, 8.0, 9.0, 7.0, 20.0, 99.0, 1.0, 0.0, 0.0, 0.0, 3.0, 5.0, 1.0, 9.0, 12.0, 11.0, 13.0, 14.0, 14.0, 3.0, 35.0, 22.0, 35.0, 0.0, 0.0, 1.0, 62.0, 53.0, 7.0, 10.0, 7.0, 7.0, 21.0, 18.0, 28.0, 87.0, 0.0, 0.0, 7.0, 0.0, 3.0, 1.0, 0.0, 0.0, 0.0, 1.0, 6.0, 0.0, 0.0, 0.0, 0.0, 8.0, 0.0, 103.0, 1.0, 5.0, 8.0, 3.0, 4.0, 4.0, 5.0, 0.0, 0.0, 3.0, 0.0, 0.0, 0.0, 2.0, 2.0, 2.0, 3.0, 4.0, 2.0, 6.0, 5.0, 2.0, 2.0, 4.0, 12.0, 12.0, 1.0, 21.0, 2.0, 55.0, 8.0, 8.0, 1.0, 41.0, 1.0, 70.0, 41.0, 3.0, 14.0, 4.0, 37.0, 3.0, 1.0, 117.0, 19.0, 2.0, 43.0, 42.0, 5.0, 2.0, 69.0, 26.0, 6.0, 12.0, 12.0, 12.0, 0.0, 0.0, 29.0, 91.0, 30.0, 20.0, 13.0, 8.0, 7.0, 8.0, 7.0, 5.0, 0.0, 2.0, 2.0, 2.0, 1.0, 8.0, 16.0, 26.0, 7.0, 3.0, 19.0, 23.0, 7.0, 27.0, 14.0, 9.0, 39.0, 60.0, 6.0, 5.0, 8.0, 15.0, 6.0, 14.0, 69.0, 1.0, 5.0, 0.0, 9.0, 9.0, 4.0, 0.0, 59.0, 34.0, 35.0, 77.0, 43.0, 28.0, 0.0, 16.0, 5.0, 13.0, 18.0, 2.0, 103.0, 9.0, 6.0, 10.0, 0.0, 61.0, 105.0, 18.0, 0.0, 6.0, 2.0, 5.0, 6.0, 4.0, 5.0, 7.0, 25.0, 40.0, 53.0, 3.0, 48.0, 42.0, 35.0, 34.0, 1.0, 47.0, 0.0, 0.0, 69.0, 5.0, 0.0, 4.0, 62.0, 123.0, 11.0, 11.0, 11.0, 3.0, 4.0, 3.0, 104.0, 69.0, 21.0, 2.0, 1.0, 3.0, 2.0, 2.0, 7.0, 9.0, 1.0, 13.0, 20.0, 0.0, 14.0, 32.0, 99.0, 1.0, 4.0, 5.0, 4.0, 5.0, 27.0, 0.0, 2.0, 1.0, 3.0, 7.0, 0.0, 3.0, 0.0, 1.0, 6.0, 1.0, 0.0, 0.0, 0.0, 16.0, 1.0, 1.0, 3.0, 0.0, 0.0, 2.0, 0.0, 0.0, 1.0, 23.0, 3.0, 0.0, 0.0, 0.0, 0.0, 12.0, 5.0, 6.0, 0.0, 14.0, 28.0, 0.0, 0.0, 3.0, 0.0, 10.0, 19.0, 3.0, 0.0, 3.0, 0.0, 1.0, 21.0, 21.0, 1.0, 0.0, 1.0, 4.0, 33.0, 2.0, 0.0, 0.0, 7.0, 8.0, 6.0, 3.0, 7.0, 8.0, 13.0, 8.0, 0.0, 5.0, 16.0, 2.0, 13.0, 6.0, 52.0, 21.0, 0.0, 1.0, 21.0, 29.0, 1.0, 7.0, 7.0, 29.0, 99.0, 45.0, 6.0, 0.0, 3.0, 4.0, 0.0, 54.0, 0.0, 0.0, 0.0, 0.0, 0.0, 0.0, 1.0, 46.0, 0.0, 5.0, 2.0, 1.0, 1.0, 78.0, 53.0, 47.0, 0.0, 2.0, 3.0, 2.0, 3.0, 1.0, 1.0, 0.0, 0.0, 0.0, 1.0, 1.0, 5.0, 6.0, 0.0, 0.0, 2.0, 0.0, 19.0, 0.0, 0.0, 17.0, 8.0, 34.0, 84.0, 12.0, 6.0, 1.0, 8.0, 1.0, 0.0, 1.0, 1.0, 5.0, 0.0, 106.0, 0.0, 0.0, 1.0, 2.0, 1.0, 2.0, 0.0, 13.0, 3.0, 6.0, 3.0, 5.0, 2.0, 35.0, 0.0, 38.0, 2.0, 3.0, 13.0, 4.0, 0.0, 11.0, 2.0, 26.0, 5.0, 1.0, 0.0, 11.0, 0.0, 1.0, 0.0, 0.0, 1.0, 22.0, 4.0, 3.0, 3.0, 0.0, 31.0, 2.0, 0.0, 0.0, 3.0, 32.0, 0.0, 20.0, 0.0, 51.0, 16.0, 36.0, 6.0, 0.0, 38.0, 0.0, 3.0, 3.0, 3.0, 0.0]}],\n",
       "                        {\"template\": {\"data\": {\"bar\": [{\"error_x\": {\"color\": \"#2a3f5f\"}, \"error_y\": {\"color\": \"#2a3f5f\"}, \"marker\": {\"line\": {\"color\": \"#E5ECF6\", \"width\": 0.5}}, \"type\": \"bar\"}], \"barpolar\": [{\"marker\": {\"line\": {\"color\": \"#E5ECF6\", \"width\": 0.5}}, \"type\": \"barpolar\"}], \"carpet\": [{\"aaxis\": {\"endlinecolor\": \"#2a3f5f\", \"gridcolor\": \"white\", \"linecolor\": \"white\", \"minorgridcolor\": \"white\", \"startlinecolor\": \"#2a3f5f\"}, \"baxis\": {\"endlinecolor\": \"#2a3f5f\", \"gridcolor\": \"white\", \"linecolor\": \"white\", \"minorgridcolor\": \"white\", \"startlinecolor\": \"#2a3f5f\"}, \"type\": \"carpet\"}], \"choropleth\": [{\"colorbar\": {\"outlinewidth\": 0, \"ticks\": \"\"}, \"type\": \"choropleth\"}], \"contour\": [{\"colorbar\": {\"outlinewidth\": 0, \"ticks\": \"\"}, \"colorscale\": [[0.0, \"#0d0887\"], [0.1111111111111111, \"#46039f\"], [0.2222222222222222, \"#7201a8\"], [0.3333333333333333, \"#9c179e\"], [0.4444444444444444, \"#bd3786\"], [0.5555555555555556, \"#d8576b\"], [0.6666666666666666, \"#ed7953\"], [0.7777777777777778, \"#fb9f3a\"], [0.8888888888888888, \"#fdca26\"], [1.0, \"#f0f921\"]], \"type\": \"contour\"}], \"contourcarpet\": [{\"colorbar\": {\"outlinewidth\": 0, \"ticks\": \"\"}, \"type\": \"contourcarpet\"}], \"heatmap\": [{\"colorbar\": {\"outlinewidth\": 0, \"ticks\": \"\"}, \"colorscale\": [[0.0, \"#0d0887\"], [0.1111111111111111, \"#46039f\"], [0.2222222222222222, \"#7201a8\"], [0.3333333333333333, \"#9c179e\"], [0.4444444444444444, \"#bd3786\"], [0.5555555555555556, \"#d8576b\"], [0.6666666666666666, \"#ed7953\"], [0.7777777777777778, \"#fb9f3a\"], [0.8888888888888888, \"#fdca26\"], [1.0, \"#f0f921\"]], \"type\": \"heatmap\"}], \"heatmapgl\": [{\"colorbar\": {\"outlinewidth\": 0, \"ticks\": \"\"}, \"colorscale\": [[0.0, \"#0d0887\"], [0.1111111111111111, \"#46039f\"], [0.2222222222222222, \"#7201a8\"], [0.3333333333333333, \"#9c179e\"], [0.4444444444444444, \"#bd3786\"], [0.5555555555555556, \"#d8576b\"], [0.6666666666666666, \"#ed7953\"], [0.7777777777777778, \"#fb9f3a\"], [0.8888888888888888, \"#fdca26\"], [1.0, \"#f0f921\"]], \"type\": \"heatmapgl\"}], \"histogram\": [{\"marker\": {\"colorbar\": {\"outlinewidth\": 0, \"ticks\": \"\"}}, \"type\": \"histogram\"}], \"histogram2d\": [{\"colorbar\": {\"outlinewidth\": 0, \"ticks\": \"\"}, \"colorscale\": [[0.0, \"#0d0887\"], [0.1111111111111111, \"#46039f\"], [0.2222222222222222, \"#7201a8\"], [0.3333333333333333, \"#9c179e\"], [0.4444444444444444, \"#bd3786\"], [0.5555555555555556, \"#d8576b\"], [0.6666666666666666, \"#ed7953\"], [0.7777777777777778, \"#fb9f3a\"], [0.8888888888888888, \"#fdca26\"], [1.0, \"#f0f921\"]], \"type\": \"histogram2d\"}], \"histogram2dcontour\": [{\"colorbar\": {\"outlinewidth\": 0, \"ticks\": \"\"}, \"colorscale\": [[0.0, \"#0d0887\"], [0.1111111111111111, \"#46039f\"], [0.2222222222222222, \"#7201a8\"], [0.3333333333333333, \"#9c179e\"], [0.4444444444444444, \"#bd3786\"], [0.5555555555555556, \"#d8576b\"], [0.6666666666666666, \"#ed7953\"], [0.7777777777777778, \"#fb9f3a\"], [0.8888888888888888, \"#fdca26\"], [1.0, \"#f0f921\"]], \"type\": \"histogram2dcontour\"}], \"mesh3d\": [{\"colorbar\": {\"outlinewidth\": 0, \"ticks\": \"\"}, \"type\": \"mesh3d\"}], \"parcoords\": [{\"line\": {\"colorbar\": {\"outlinewidth\": 0, \"ticks\": \"\"}}, \"type\": \"parcoords\"}], \"pie\": [{\"automargin\": true, \"type\": \"pie\"}], \"scatter\": [{\"marker\": {\"colorbar\": {\"outlinewidth\": 0, \"ticks\": \"\"}}, \"type\": \"scatter\"}], \"scatter3d\": [{\"line\": {\"colorbar\": {\"outlinewidth\": 0, \"ticks\": \"\"}}, \"marker\": {\"colorbar\": {\"outlinewidth\": 0, \"ticks\": \"\"}}, \"type\": \"scatter3d\"}], \"scattercarpet\": [{\"marker\": {\"colorbar\": {\"outlinewidth\": 0, \"ticks\": \"\"}}, \"type\": \"scattercarpet\"}], \"scattergeo\": [{\"marker\": {\"colorbar\": {\"outlinewidth\": 0, \"ticks\": \"\"}}, \"type\": \"scattergeo\"}], \"scattergl\": [{\"marker\": {\"colorbar\": {\"outlinewidth\": 0, \"ticks\": \"\"}}, \"type\": \"scattergl\"}], \"scattermapbox\": [{\"marker\": {\"colorbar\": {\"outlinewidth\": 0, \"ticks\": \"\"}}, \"type\": \"scattermapbox\"}], \"scatterpolar\": [{\"marker\": {\"colorbar\": {\"outlinewidth\": 0, \"ticks\": \"\"}}, \"type\": \"scatterpolar\"}], \"scatterpolargl\": [{\"marker\": {\"colorbar\": {\"outlinewidth\": 0, \"ticks\": \"\"}}, \"type\": \"scatterpolargl\"}], \"scatterternary\": [{\"marker\": {\"colorbar\": {\"outlinewidth\": 0, \"ticks\": \"\"}}, \"type\": \"scatterternary\"}], \"surface\": [{\"colorbar\": {\"outlinewidth\": 0, \"ticks\": \"\"}, \"colorscale\": [[0.0, \"#0d0887\"], [0.1111111111111111, \"#46039f\"], [0.2222222222222222, \"#7201a8\"], [0.3333333333333333, \"#9c179e\"], [0.4444444444444444, \"#bd3786\"], [0.5555555555555556, \"#d8576b\"], [0.6666666666666666, \"#ed7953\"], [0.7777777777777778, \"#fb9f3a\"], [0.8888888888888888, \"#fdca26\"], [1.0, \"#f0f921\"]], \"type\": \"surface\"}], \"table\": [{\"cells\": {\"fill\": {\"color\": \"#EBF0F8\"}, \"line\": {\"color\": \"white\"}}, \"header\": {\"fill\": {\"color\": \"#C8D4E3\"}, \"line\": {\"color\": \"white\"}}, \"type\": \"table\"}]}, \"layout\": {\"annotationdefaults\": {\"arrowcolor\": \"#2a3f5f\", \"arrowhead\": 0, \"arrowwidth\": 1}, \"coloraxis\": {\"colorbar\": {\"outlinewidth\": 0, \"ticks\": \"\"}}, \"colorscale\": {\"diverging\": [[0, \"#8e0152\"], [0.1, \"#c51b7d\"], [0.2, \"#de77ae\"], [0.3, \"#f1b6da\"], [0.4, \"#fde0ef\"], [0.5, \"#f7f7f7\"], [0.6, \"#e6f5d0\"], [0.7, \"#b8e186\"], [0.8, \"#7fbc41\"], [0.9, \"#4d9221\"], [1, \"#276419\"]], \"sequential\": [[0.0, \"#0d0887\"], [0.1111111111111111, \"#46039f\"], [0.2222222222222222, \"#7201a8\"], [0.3333333333333333, \"#9c179e\"], [0.4444444444444444, \"#bd3786\"], [0.5555555555555556, \"#d8576b\"], [0.6666666666666666, \"#ed7953\"], [0.7777777777777778, \"#fb9f3a\"], [0.8888888888888888, \"#fdca26\"], [1.0, \"#f0f921\"]], \"sequentialminus\": [[0.0, \"#0d0887\"], [0.1111111111111111, \"#46039f\"], [0.2222222222222222, \"#7201a8\"], [0.3333333333333333, \"#9c179e\"], [0.4444444444444444, \"#bd3786\"], [0.5555555555555556, \"#d8576b\"], [0.6666666666666666, \"#ed7953\"], [0.7777777777777778, \"#fb9f3a\"], [0.8888888888888888, \"#fdca26\"], [1.0, \"#f0f921\"]]}, \"colorway\": [\"#636efa\", \"#EF553B\", \"#00cc96\", \"#ab63fa\", \"#FFA15A\", \"#19d3f3\", \"#FF6692\", \"#B6E880\", \"#FF97FF\", \"#FECB52\"], \"font\": {\"color\": \"#2a3f5f\"}, \"geo\": {\"bgcolor\": \"white\", \"lakecolor\": \"white\", \"landcolor\": \"#E5ECF6\", \"showlakes\": true, \"showland\": true, \"subunitcolor\": \"white\"}, \"hoverlabel\": {\"align\": \"left\"}, \"hovermode\": \"closest\", \"mapbox\": {\"style\": \"light\"}, \"paper_bgcolor\": \"white\", \"plot_bgcolor\": \"#E5ECF6\", \"polar\": {\"angularaxis\": {\"gridcolor\": \"white\", \"linecolor\": \"white\", \"ticks\": \"\"}, \"bgcolor\": \"#E5ECF6\", \"radialaxis\": {\"gridcolor\": \"white\", \"linecolor\": \"white\", \"ticks\": \"\"}}, \"scene\": {\"xaxis\": {\"backgroundcolor\": \"#E5ECF6\", \"gridcolor\": \"white\", \"gridwidth\": 2, \"linecolor\": \"white\", \"showbackground\": true, \"ticks\": \"\", \"zerolinecolor\": \"white\"}, \"yaxis\": {\"backgroundcolor\": \"#E5ECF6\", \"gridcolor\": \"white\", \"gridwidth\": 2, \"linecolor\": \"white\", \"showbackground\": true, \"ticks\": \"\", \"zerolinecolor\": \"white\"}, \"zaxis\": {\"backgroundcolor\": \"#E5ECF6\", \"gridcolor\": \"white\", \"gridwidth\": 2, \"linecolor\": \"white\", \"showbackground\": true, \"ticks\": \"\", \"zerolinecolor\": \"white\"}}, \"shapedefaults\": {\"line\": {\"color\": \"#2a3f5f\"}}, \"ternary\": {\"aaxis\": {\"gridcolor\": \"white\", \"linecolor\": \"white\", \"ticks\": \"\"}, \"baxis\": {\"gridcolor\": \"white\", \"linecolor\": \"white\", \"ticks\": \"\"}, \"bgcolor\": \"#E5ECF6\", \"caxis\": {\"gridcolor\": \"white\", \"linecolor\": \"white\", \"ticks\": \"\"}}, \"title\": {\"x\": 0.05}, \"xaxis\": {\"automargin\": true, \"gridcolor\": \"white\", \"linecolor\": \"white\", \"ticks\": \"\", \"title\": {\"standoff\": 15}, \"zerolinecolor\": \"white\", \"zerolinewidth\": 2}, \"yaxis\": {\"automargin\": true, \"gridcolor\": \"white\", \"linecolor\": \"white\", \"ticks\": \"\", \"title\": {\"standoff\": 15}, \"zerolinecolor\": \"white\", \"zerolinewidth\": 2}}}},\n",
       "                        {\"responsive\": true}\n",
       "                    ).then(function(){\n",
       "                            \n",
       "var gd = document.getElementById('0dc5201d-63cc-43af-88a1-e6813564315e');\n",
       "var x = new MutationObserver(function (mutations, observer) {{\n",
       "        var display = window.getComputedStyle(gd).display;\n",
       "        if (!display || display === 'none') {{\n",
       "            console.log([gd, 'removed!']);\n",
       "            Plotly.purge(gd);\n",
       "            observer.disconnect();\n",
       "        }}\n",
       "}});\n",
       "\n",
       "// Listen for the removal of the full notebook cells\n",
       "var notebookContainer = gd.closest('#notebook-container');\n",
       "if (notebookContainer) {{\n",
       "    x.observe(notebookContainer, {childList: true});\n",
       "}}\n",
       "\n",
       "// Listen for the clearing of the current output cell\n",
       "var outputEl = gd.closest('.output');\n",
       "if (outputEl) {{\n",
       "    x.observe(outputEl, {childList: true});\n",
       "}}\n",
       "\n",
       "                        })\n",
       "                };\n",
       "                });\n",
       "            </script>\n",
       "        </div>"
      ]
     },
     "metadata": {},
     "output_type": "display_data"
    }
   ],
   "source": [
    "import plotly.graph_objects as go\n",
    "import numpy as np\n",
    "\n",
    "a = df.loc[df['steps_taken'] == 'Non-existent-Open-Resolved']\n",
    "b = df.loc[df['steps_taken'] == 'Non-existent-Open-Patch Available-Resolved']\n",
    "\n",
    "\n",
    "x0 = a['days_needed'].to_numpy()\n",
    "x1 = b['days_needed'].to_numpy()\n",
    "\n",
    "\n",
    "fig = go.Figure()\n",
    "# Use x instead of y argument for horizontal plot\n",
    "fig.add_trace(go.Box(x=x0, name=\"Non-existent-Open-Resolved\"))\n",
    "fig.add_trace(go.Box(x=x1, name = \"Non-existent-Open-Patch Available-Resolved\"))\n",
    "\n",
    "fig.show()"
   ]
  },
  {
   "cell_type": "markdown",
   "metadata": {},
   "source": [
    "## Time needed"
   ]
  },
  {
   "cell_type": "markdown",
   "metadata": {},
   "source": [
    "### per resolution"
   ]
  },
  {
   "cell_type": "code",
   "execution_count": 10,
   "metadata": {},
   "outputs": [
    {
     "data": {
      "application/vnd.plotly.v1+json": {
       "config": {
        "plotlyServerURL": "https://plot.ly"
       },
       "data": [
        {
         "alignmentgroup": "True",
         "hovertemplate": "days_needed=%{x}<br>resolution=%{y}<extra></extra>",
         "legendgroup": "",
         "marker": {
          "color": "#636efa"
         },
         "name": "",
         "notched": false,
         "offsetgroup": "",
         "orientation": "h",
         "showlegend": false,
         "type": "box",
         "x": [
          17,
          18,
          19,
          19,
          5,
          3,
          13,
          9,
          0,
          35,
          0,
          12,
          19,
          14,
          8,
          9,
          6,
          3,
          115,
          0,
          31,
          14,
          0,
          12,
          48,
          2,
          5,
          83,
          0,
          12,
          18,
          69,
          10,
          0,
          46,
          9,
          55,
          9,
          55,
          4,
          11,
          11,
          13,
          35,
          0,
          39,
          0,
          11,
          3,
          3,
          98,
          41,
          79,
          0,
          0,
          14,
          11,
          3,
          47,
          0,
          21,
          15,
          0,
          20,
          0,
          12,
          2,
          12,
          16,
          33,
          37,
          51,
          47,
          22,
          108,
          15,
          0,
          0,
          86,
          98,
          73,
          0,
          0,
          0,
          0,
          0,
          6,
          4,
          35,
          119,
          118,
          5,
          115,
          3,
          12,
          0,
          0,
          9,
          10,
          7,
          1,
          1,
          3,
          65,
          0,
          27,
          22,
          89,
          27,
          0,
          34,
          41,
          48,
          110,
          56,
          14,
          62,
          74,
          2,
          19,
          0,
          0,
          4,
          0,
          125,
          122,
          125,
          107,
          35,
          1,
          3,
          3,
          2,
          6,
          4,
          3,
          0,
          32,
          0,
          3,
          20,
          8,
          8,
          1,
          10,
          18,
          18,
          41,
          22,
          67,
          0,
          0,
          19,
          73,
          2,
          0,
          16,
          2,
          87,
          9,
          1,
          8,
          1,
          6,
          26,
          20,
          20,
          15,
          15,
          15,
          35,
          4,
          0,
          55,
          16,
          21,
          57,
          0,
          23,
          82,
          82,
          83,
          38,
          38,
          82,
          82,
          38,
          95,
          82,
          110,
          61,
          1,
          46,
          46,
          2,
          68,
          1,
          7,
          0,
          18,
          1,
          7,
          9,
          12,
          15,
          82,
          86,
          47,
          41,
          0,
          1,
          0,
          17,
          1,
          0,
          126,
          64,
          9,
          20,
          4,
          23,
          1,
          0,
          7,
          5,
          14,
          20,
          7,
          12,
          4,
          5,
          14,
          26,
          30,
          1,
          9,
          2,
          5,
          66,
          1,
          110,
          5,
          0,
          60,
          0,
          23,
          4,
          1,
          0,
          8,
          6,
          7,
          0,
          6,
          19,
          8,
          8,
          0,
          2,
          64,
          37,
          69,
          84,
          0,
          5,
          82,
          117,
          10,
          11,
          13,
          103,
          17,
          110,
          25,
          12,
          105,
          0,
          19,
          23,
          6,
          0,
          3,
          4,
          127,
          11,
          20,
          15,
          0,
          0,
          1,
          3,
          2,
          5,
          13,
          18,
          24,
          21,
          6,
          0,
          7,
          12,
          9,
          19,
          26,
          29,
          9,
          31,
          32,
          35,
          1,
          1,
          1,
          20,
          8,
          8,
          28,
          98,
          101,
          88,
          9,
          1,
          67,
          112,
          8,
          17,
          119,
          126,
          0,
          22,
          17,
          30,
          20,
          7,
          0,
          13,
          71,
          77,
          0,
          13,
          17,
          1,
          1,
          82,
          17,
          2,
          1,
          3,
          7,
          15,
          1,
          21,
          0,
          1,
          4,
          3,
          4,
          6,
          0,
          94,
          13,
          6,
          83,
          83,
          69,
          10,
          10,
          38,
          126,
          32,
          47,
          8,
          0,
          26,
          3,
          43,
          0,
          9,
          35,
          0,
          0,
          0,
          5,
          0,
          7,
          2,
          1,
          1,
          0,
          4,
          0,
          5,
          1,
          3,
          3,
          3,
          112,
          2,
          6,
          3,
          4,
          8,
          25,
          15,
          40,
          29,
          0,
          57,
          0,
          73,
          27,
          7,
          9,
          3,
          12,
          7,
          7,
          12,
          0,
          6,
          96,
          0,
          10,
          6,
          21,
          42,
          58,
          61,
          64,
          2,
          7,
          6,
          0,
          3,
          3,
          3,
          76,
          0,
          4,
          0,
          0,
          0,
          50,
          0,
          2,
          1,
          0,
          1,
          9,
          4,
          5,
          9,
          0,
          11,
          24,
          5,
          4,
          0,
          31,
          0,
          15,
          124,
          1,
          56,
          2,
          0,
          35,
          11,
          15,
          0,
          4,
          18,
          9,
          0,
          6,
          94,
          10,
          35,
          13,
          11,
          21,
          67,
          13,
          112,
          16,
          1,
          2,
          0,
          1,
          1,
          1,
          4,
          4,
          3,
          6,
          9,
          8,
          4,
          9,
          9,
          9,
          7,
          3,
          11,
          11,
          11,
          18,
          9,
          20,
          15,
          16,
          52,
          2,
          22,
          24,
          29,
          1,
          34,
          4,
          0,
          51,
          50,
          56,
          54,
          36,
          62,
          2,
          63,
          0,
          1,
          0,
          0,
          0,
          1,
          8,
          9,
          13,
          7,
          20,
          99,
          1,
          0,
          0,
          0,
          3,
          5,
          1,
          9,
          12,
          11,
          13,
          14,
          42,
          14,
          1,
          1,
          0,
          17,
          3,
          35,
          0,
          21,
          22,
          1,
          1,
          35,
          7,
          1,
          57,
          0,
          0,
          0,
          1,
          62,
          53,
          0,
          7,
          10,
          7,
          7,
          21,
          18,
          0,
          28,
          87,
          33,
          0,
          1,
          0,
          7,
          0,
          3,
          7,
          1,
          6,
          0,
          0,
          0,
          1,
          6,
          0,
          0,
          0,
          0,
          8,
          0,
          0,
          3,
          103,
          1,
          5,
          4,
          4,
          4,
          4,
          8,
          3,
          4,
          4,
          0,
          5,
          0,
          1,
          0,
          1,
          3,
          0,
          0,
          0,
          2,
          2,
          2,
          3,
          4,
          2,
          6,
          10,
          5,
          0,
          3,
          1,
          2,
          8,
          2,
          4,
          12,
          12,
          1,
          21,
          2,
          3,
          55,
          8,
          8,
          1,
          41,
          1,
          3,
          59,
          70,
          14,
          41,
          61,
          3,
          65,
          0,
          67,
          14,
          4,
          37,
          0,
          60,
          1,
          3,
          7,
          1,
          117,
          71,
          19,
          36,
          17,
          0,
          2,
          3,
          0,
          9,
          43,
          42,
          0,
          5,
          0,
          0,
          0,
          4,
          2,
          6,
          69,
          26,
          5,
          0,
          6,
          12,
          12,
          12,
          99,
          0,
          0,
          29,
          91,
          30,
          20,
          1,
          13,
          8,
          7,
          8,
          7,
          5,
          19,
          0,
          113,
          2,
          2,
          2,
          3,
          1,
          8,
          0,
          0,
          2,
          69,
          16,
          26,
          7,
          3,
          19,
          19,
          23,
          23,
          7,
          27,
          17,
          2,
          0,
          21,
          14,
          2,
          5,
          0,
          54,
          9,
          5,
          13,
          0,
          0,
          0,
          39,
          2,
          4,
          5,
          60,
          6,
          5,
          8,
          15,
          6,
          14,
          46,
          42,
          1,
          69,
          1,
          115,
          33,
          5,
          0,
          9,
          9,
          5,
          93,
          69,
          2,
          4,
          0,
          59,
          0,
          34,
          35,
          77,
          43,
          1,
          28,
          2,
          2,
          0,
          16,
          5,
          5,
          13,
          18,
          2,
          103,
          5,
          0,
          0,
          4,
          127,
          9,
          6,
          10,
          0,
          0,
          1,
          0,
          61,
          105,
          0,
          0,
          107,
          62,
          21,
          0,
          0,
          4,
          1,
          18,
          0,
          0,
          0,
          4,
          0,
          0,
          3,
          0,
          1,
          6,
          1,
          2,
          13,
          9,
          5,
          6,
          4,
          20,
          8,
          5,
          0,
          0,
          1,
          7,
          25,
          8,
          40,
          6,
          31,
          0,
          53,
          3,
          56,
          33,
          48,
          1,
          42,
          35,
          34,
          34,
          7,
          10,
          1,
          0,
          47,
          0,
          10,
          0,
          0,
          0,
          0,
          0,
          69,
          5,
          0,
          4,
          2,
          62,
          4,
          0,
          102,
          0,
          4,
          115,
          0,
          123,
          11,
          11,
          11,
          3,
          4,
          0,
          1,
          3,
          0,
          0,
          3,
          104,
          69,
          21,
          2,
          1,
          1,
          0,
          3,
          41,
          2,
          2,
          90,
          1,
          7,
          0,
          9,
          1,
          13,
          0,
          0,
          0,
          0,
          2,
          19,
          20,
          0,
          0,
          6,
          0,
          0,
          14,
          32,
          11,
          0,
          99,
          9,
          1,
          1,
          1,
          1,
          3,
          0,
          1,
          0,
          4,
          5,
          4,
          0,
          0,
          2,
          5,
          27,
          0,
          0,
          26,
          2,
          1,
          3,
          7,
          0,
          0,
          0,
          0,
          0,
          0,
          3,
          0,
          0,
          0,
          1,
          6,
          1,
          0,
          0,
          0,
          0,
          16,
          1,
          1,
          3,
          3,
          4,
          1,
          0,
          5,
          0,
          0,
          2,
          0,
          0,
          0,
          1,
          23,
          3,
          0,
          0,
          0,
          4,
          0,
          0,
          0,
          0,
          12,
          0,
          0,
          0,
          5,
          6,
          0,
          0,
          0,
          14,
          28,
          0,
          0,
          3,
          0,
          10,
          19,
          19,
          3,
          0,
          0,
          3,
          0,
          63,
          0,
          0,
          1,
          21,
          0,
          35,
          47,
          19,
          21,
          21,
          0,
          34,
          0,
          2,
          1,
          0,
          2,
          0,
          0,
          2,
          0,
          8,
          2,
          0,
          1,
          4,
          4,
          33,
          2,
          0,
          0,
          1,
          0,
          3,
          7,
          41,
          8,
          6,
          3,
          7,
          7,
          0,
          8,
          13,
          8,
          0,
          5,
          1,
          16,
          2,
          13,
          6,
          7,
          52,
          11,
          21,
          13,
          0,
          1,
          1,
          21,
          29,
          31,
          1,
          1,
          7,
          7,
          29,
          99,
          45,
          7,
          9,
          6,
          7,
          0,
          0,
          3,
          4,
          0,
          54,
          0,
          0,
          56,
          0,
          0,
          0,
          0,
          0,
          1,
          46,
          46,
          0,
          46,
          5,
          2,
          1,
          1,
          78,
          53,
          56,
          47,
          0,
          2,
          3,
          2,
          0,
          3,
          63,
          1,
          1,
          0,
          0,
          0,
          1,
          1,
          0,
          0,
          0,
          1,
          5,
          27,
          6,
          70,
          0,
          0,
          1,
          6,
          0,
          2,
          0,
          19,
          19,
          13,
          0,
          0,
          0,
          0,
          21,
          83,
          1,
          63,
          71,
          17,
          8,
          0,
          0,
          34,
          84,
          0,
          12,
          6,
          1,
          8,
          1,
          1,
          0,
          1,
          0,
          1,
          108,
          1,
          1,
          5,
          6,
          99,
          0,
          107,
          0,
          106,
          0,
          0,
          0,
          0,
          1,
          2,
          1,
          2,
          1,
          2,
          12,
          0,
          13,
          3,
          1,
          0,
          6,
          3,
          0,
          5,
          42,
          2,
          37,
          0,
          35,
          15,
          0,
          38,
          2,
          9,
          3,
          13,
          4,
          0,
          7,
          11,
          2,
          3,
          26,
          5,
          6,
          123,
          2,
          1,
          0,
          25,
          0,
          2,
          11,
          11,
          0,
          1,
          0,
          0,
          1,
          16,
          7,
          63,
          0,
          55,
          22,
          4,
          3,
          3,
          0,
          0,
          31,
          0,
          1,
          39,
          12,
          2,
          22,
          0,
          0,
          0,
          1,
          93,
          1,
          0,
          0,
          3,
          32,
          7,
          0,
          20,
          0,
          44,
          51,
          47,
          16,
          36,
          41,
          18,
          81,
          25,
          17,
          0,
          6,
          0,
          0,
          38,
          0,
          38,
          14,
          27,
          1,
          3,
          3,
          3,
          0,
          53,
          17
         ],
         "x0": " ",
         "xaxis": "x",
         "y": [
          "Not A Bug",
          "Not A Bug",
          "Not A Bug",
          "Not A Bug",
          "Fixed",
          "Invalid",
          "Fixed",
          "Fixed",
          "Fixed",
          "Fixed",
          "Fixed",
          "Not A Bug",
          "Fixed",
          "Fixed",
          "Fixed",
          "Fixed",
          "Fixed",
          "Fixed",
          "Fixed",
          "Invalid",
          "Fixed",
          "Not A Bug",
          "Fixed",
          "Not A Problem",
          "Not A Problem",
          "Cannot Reproduce",
          "Not A Bug",
          "Fixed",
          "Not A Problem",
          "Fixed",
          "Fixed",
          "Fixed",
          "Fixed",
          "Fixed",
          "Fixed",
          "Fixed",
          "Fixed",
          "Fixed",
          "Fixed",
          "Not A Problem",
          "Fixed",
          "Fixed",
          "Fixed",
          "Fixed",
          "Not A Problem",
          "Fixed",
          "Fixed",
          "Fixed",
          "Fixed",
          "Duplicate",
          "Fixed",
          "Invalid",
          "Fixed",
          "Fixed",
          "Fixed",
          "Duplicate",
          "Fixed",
          "Not A Bug",
          "Fixed",
          "Invalid",
          "Fixed",
          "Fixed",
          "Fixed",
          "Fixed",
          "Fixed",
          "Fixed",
          "Fixed",
          "Fixed",
          "Fixed",
          "Duplicate",
          "Fixed",
          "Fixed",
          "Fixed",
          "Fixed",
          "Fixed",
          "Fixed",
          "Fixed",
          "Not A Problem",
          "Fixed",
          "Duplicate",
          "Fixed",
          "Fixed",
          "Duplicate",
          "Information Provided",
          "Fixed",
          "Not A Bug",
          "Fixed",
          "Fixed",
          "Duplicate",
          "Fixed",
          "Duplicate",
          "Fixed",
          "Fixed",
          "Cannot Reproduce",
          "Fixed",
          "Fixed",
          "Duplicate",
          "Fixed",
          "Fixed",
          "Not A Problem",
          "Fixed",
          "Fixed",
          "Fixed",
          "Fixed",
          "Information Provided",
          "Fixed",
          "Fixed",
          "Fixed",
          "Fixed",
          "Fixed",
          "Fixed",
          "Fixed",
          "Fixed",
          "Fixed",
          "Fixed",
          "Fixed",
          "Fixed",
          "Fixed",
          "Fixed",
          "Duplicate",
          "Fixed",
          "Fixed",
          "Won't Fix",
          "Not A Problem",
          "Fixed",
          "Fixed",
          "Fixed",
          "Fixed",
          "Fixed",
          "Duplicate",
          "Fixed",
          "Fixed",
          "Fixed",
          "Fixed",
          "Not A Problem",
          "Fixed",
          "Fixed",
          "Fixed",
          "Duplicate",
          "Fixed",
          "Fixed",
          "Fixed",
          "Fixed",
          "Fixed",
          "Fixed",
          "Fixed",
          "Fixed",
          "Fixed",
          "Won't Fix",
          "Fixed",
          "Not A Problem",
          "Done",
          "Fixed",
          "Fixed",
          "Fixed",
          "Invalid",
          "Fixed",
          "Won't Fix",
          "Fixed",
          "Fixed",
          "Fixed",
          "Fixed",
          "Fixed",
          "Fixed",
          "Fixed",
          "Fixed",
          "Fixed",
          "Fixed",
          "Fixed",
          "Fixed",
          "Fixed",
          "Fixed",
          "Fixed",
          "Fixed",
          "Fixed",
          "Fixed",
          "Fixed",
          "Duplicate",
          "Fixed",
          "Fixed",
          "Fixed",
          "Fixed",
          "Fixed",
          "Fixed",
          "Fixed",
          "Fixed",
          "Fixed",
          "Fixed",
          "Fixed",
          "Fixed",
          "Fixed",
          "Fixed",
          "Fixed",
          "Fixed",
          "Fixed",
          "Fixed",
          "Fixed",
          "Fixed",
          "Fixed",
          "Fixed",
          "Duplicate",
          "Fixed",
          "Fixed",
          "Fixed",
          "Fixed",
          "Fixed",
          "Duplicate",
          "Fixed",
          "Fixed",
          "Invalid",
          "Invalid",
          "Fixed",
          "Fixed",
          "Fixed",
          "Not A Problem",
          "Fixed",
          "Invalid",
          "Not A Problem",
          "Fixed",
          "Fixed",
          "Fixed",
          "Fixed",
          "Fixed",
          "Fixed",
          "Fixed",
          "Fixed",
          "Fixed",
          "Not A Problem",
          "Fixed",
          "Fixed",
          "Fixed",
          "Fixed",
          "Fixed",
          "Fixed",
          "Fixed",
          "Fixed",
          "Fixed",
          "Duplicate",
          "Fixed",
          "Fixed",
          "Fixed",
          "Fixed",
          "Fixed",
          "Fixed",
          "Fixed",
          "Fixed",
          "Fixed",
          "Fixed",
          "Fixed",
          "Implemented",
          "Fixed",
          "Won't Fix",
          "Fixed",
          "Fixed",
          "Fixed",
          "Fixed",
          "Invalid",
          "Not A Problem",
          "Invalid",
          "Fixed",
          "Fixed",
          "Fixed",
          "Fixed",
          "Fixed",
          "Fixed",
          "Fixed",
          "Fixed",
          "Fixed",
          "Fixed",
          "Fixed",
          "Fixed",
          "Fixed",
          "Fixed",
          "Fixed",
          "Fixed",
          "Fixed",
          "Not A Problem",
          "Fixed",
          "Fixed",
          "Fixed",
          "Fixed",
          "Fixed",
          "Fixed",
          "Fixed",
          "Fixed",
          "Fixed",
          "Fixed",
          "Fixed",
          "Fixed",
          "Fixed",
          "Fixed",
          "Fixed",
          "Fixed",
          "Fixed",
          "Fixed",
          "Fixed",
          "Fixed",
          "Fixed",
          "Duplicate",
          "Fixed",
          "Fixed",
          "Not A Problem",
          "Fixed",
          "Fixed",
          "Fixed",
          "Fixed",
          "Fixed",
          "Fixed",
          "Fixed",
          "Fixed",
          "Not A Problem",
          "Not A Problem",
          "Fixed",
          "Fixed",
          "Invalid",
          "Fixed",
          "Fixed",
          "Fixed",
          "Fixed",
          "Fixed",
          "Fixed",
          "Fixed",
          "Fixed",
          "Fixed",
          "Fixed",
          "Duplicate",
          "Not A Problem",
          "Invalid",
          "Duplicate",
          "Fixed",
          "Fixed",
          "Fixed",
          "Fixed",
          "Fixed",
          "Fixed",
          "Fixed",
          "Fixed",
          "Fixed",
          "Duplicate",
          "Duplicate",
          "Fixed",
          "Fixed",
          "Fixed",
          "Fixed",
          "Fixed",
          "Fixed",
          "Fixed",
          "Fixed",
          "Fixed",
          "Fixed",
          "Fixed",
          "Fixed",
          "Fixed",
          "Fixed",
          "Fixed",
          "Fixed",
          "Fixed",
          "Invalid",
          "Fixed",
          "Fixed",
          "Fixed",
          "Fixed",
          "Fixed",
          "Fixed",
          "Fixed",
          "Fixed",
          "Fixed",
          "Fixed",
          "Duplicate",
          "Fixed",
          "Fixed",
          "Later",
          "Fixed",
          "Fixed",
          "Fixed",
          "Duplicate",
          "Fixed",
          "Fixed",
          "Fixed",
          "Fixed",
          "Fixed",
          "Fixed",
          "Fixed",
          "Fixed",
          "Fixed",
          "Fixed",
          "Fixed",
          "Fixed",
          "Fixed",
          "Invalid",
          "Fixed",
          "Fixed",
          "Fixed",
          "Fixed",
          "Duplicate",
          "Fixed",
          "Fixed",
          "Fixed",
          "Fixed",
          "Fixed",
          "Fixed",
          "Fixed",
          "Fixed",
          "Fixed",
          "Fixed",
          "Fixed",
          "Fixed",
          "Fixed",
          "Fixed",
          "Fixed",
          "Fixed",
          "Fixed",
          "Fixed",
          "Fixed",
          "Fixed",
          "Fixed",
          "Fixed",
          "Fixed",
          "Fixed",
          "Fixed",
          "Fixed",
          "Fixed",
          "Fixed",
          "Fixed",
          "Fixed",
          "Fixed",
          "Fixed",
          "Fixed",
          "Fixed",
          "Fixed",
          "Fixed",
          "Invalid",
          "Fixed",
          "Fixed",
          "Fixed",
          "Fixed",
          "Fixed",
          "Fixed",
          "Fixed",
          "Fixed",
          "Fixed",
          "Fixed",
          "Fixed",
          "Fixed",
          "Fixed",
          "Fixed",
          "Fixed",
          "Fixed",
          "Fixed",
          "Fixed",
          "Fixed",
          "Not A Problem",
          "Fixed",
          "Fixed",
          "Fixed",
          "Fixed",
          "Invalid",
          "Fixed",
          "Won't Fix",
          "Fixed",
          "Duplicate",
          "Fixed",
          "Fixed",
          "Fixed",
          "Fixed",
          "Duplicate",
          "Fixed",
          "Fixed",
          "Not A Problem",
          "Fixed",
          "Fixed",
          "Fixed",
          "Fixed",
          "Fixed",
          "Fixed",
          "Duplicate",
          "Fixed",
          "Fixed",
          "Fixed",
          "Fixed",
          "Fixed",
          "Fixed",
          "Won't Fix",
          "Fixed",
          "Fixed",
          "Fixed",
          "Fixed",
          "Fixed",
          "Fixed",
          "Invalid",
          "Fixed",
          "Fixed",
          "Fixed",
          "Fixed",
          "Fixed",
          "Fixed",
          "Fixed",
          "Fixed",
          "Fixed",
          "Fixed",
          "Fixed",
          "Fixed",
          "Fixed",
          "Fixed",
          "Fixed",
          "Fixed",
          "Fixed",
          "Fixed",
          "Fixed",
          "Fixed",
          "Fixed",
          "Fixed",
          "Fixed",
          "Fixed",
          "Fixed",
          "Fixed",
          "Fixed",
          "Fixed",
          "Invalid",
          "Fixed",
          "Fixed",
          "Fixed",
          "Fixed",
          "Fixed",
          "Fixed",
          "Fixed",
          "Duplicate",
          "Fixed",
          "Fixed",
          "Fixed",
          "Fixed",
          "Fixed",
          "Fixed",
          "Fixed",
          "Fixed",
          "Fixed",
          "Fixed",
          "Fixed",
          "Fixed",
          "Fixed",
          "Fixed",
          "Fixed",
          "Fixed",
          "Fixed",
          "Fixed",
          "Fixed",
          "Fixed",
          "Fixed",
          "Fixed",
          "Fixed",
          "Fixed",
          "Fixed",
          "Fixed",
          "Fixed",
          "Fixed",
          "Fixed",
          "Duplicate",
          "Fixed",
          "Duplicate",
          "Not A Problem",
          "Fixed",
          "Fixed",
          "Fixed",
          "Fixed",
          "Fixed",
          "Fixed",
          "Fixed",
          "Fixed",
          "Fixed",
          "Fixed",
          "Fixed",
          "Fixed",
          "Fixed",
          "Fixed",
          "Duplicate",
          "Fixed",
          "Fixed",
          "Fixed",
          "Fixed",
          "Fixed",
          "Fixed",
          "Duplicate",
          "Fixed",
          "Fixed",
          "Fixed",
          "Fixed",
          "Fixed",
          "Fixed",
          "Fixed",
          "Fixed",
          "Fixed",
          "Fixed",
          "Fixed",
          "Fixed",
          "Fixed",
          "Fixed",
          "Fixed",
          "Fixed",
          "Fixed",
          "Fixed",
          "Fixed",
          "Fixed",
          "Fixed",
          "Fixed",
          "Fixed",
          "Fixed",
          "Fixed",
          "Fixed",
          "Fixed",
          "Fixed",
          "Fixed",
          "Fixed",
          "Fixed",
          "Fixed",
          "Fixed",
          "Fixed",
          "Fixed",
          "Fixed",
          "Fixed",
          "Fixed",
          "Fixed",
          "Won't Fix",
          "Fixed",
          "Won't Fix",
          "Fixed",
          "Fixed",
          "Fixed",
          "Fixed",
          "Fixed",
          "Fixed",
          "Fixed",
          "Fixed",
          "Fixed",
          "Fixed",
          "Fixed",
          "Duplicate",
          "Fixed",
          "Fixed",
          "Fixed",
          "Fixed",
          "Fixed",
          "Fixed",
          "Fixed",
          "Fixed",
          "Fixed",
          "Fixed",
          "Fixed",
          "Fixed",
          "Fixed",
          "Fixed",
          "Not A Problem",
          "Fixed",
          "Won't Fix",
          "Not A Problem",
          "Fixed",
          "Fixed",
          "Fixed",
          "Fixed",
          "Fixed",
          "Cannot Reproduce",
          "Fixed",
          "Fixed",
          "Fixed",
          "Fixed",
          "Fixed",
          "Fixed",
          "Fixed",
          "Fixed",
          "Fixed",
          "Fixed",
          "Duplicate",
          "Fixed",
          "Fixed",
          "Fixed",
          "Fixed",
          "Fixed",
          "Fixed",
          "Fixed",
          "Fixed",
          "Fixed",
          "Fixed",
          "Fixed",
          "Fixed",
          "Invalid",
          "Fixed",
          "Fixed",
          "Fixed",
          "Invalid",
          "Fixed",
          "Fixed",
          "Fixed",
          "Fixed",
          "Later",
          "Fixed",
          "Fixed",
          "Fixed",
          "Fixed",
          "Fixed",
          "Fixed",
          "Fixed",
          "Fixed",
          "Fixed",
          "Fixed",
          "Not A Problem",
          "Fixed",
          "Fixed",
          "Fixed",
          "Cannot Reproduce",
          "Fixed",
          "Fixed",
          "Fixed",
          "Fixed",
          "Fixed",
          "Fixed",
          "Fixed",
          "Fixed",
          "Fixed",
          "Fixed",
          "Won't Fix",
          "Fixed",
          "Fixed",
          "Fixed",
          "Fixed",
          "Fixed",
          "Fixed",
          "Fixed",
          "Duplicate",
          "Fixed",
          "Fixed",
          "Fixed",
          "Fixed",
          "Fixed",
          "Fixed",
          "Fixed",
          "Fixed",
          "Fixed",
          "Fixed",
          "Fixed",
          "Fixed",
          "Fixed",
          "Fixed",
          "Fixed",
          "Fixed",
          "Fixed",
          "Fixed",
          "Fixed",
          "Fixed",
          "Fixed",
          "Duplicate",
          "Fixed",
          "Fixed",
          "Fixed",
          "Fixed",
          "Fixed",
          "Fixed",
          "Fixed",
          "Fixed",
          "Fixed",
          "Fixed",
          "Fixed",
          "Fixed",
          "Fixed",
          "Fixed",
          "Fixed",
          "Fixed",
          "Fixed",
          "Fixed",
          "Fixed",
          "Fixed",
          "Fixed",
          "Fixed",
          "Fixed",
          "Fixed",
          "Fixed",
          "Fixed",
          "Fixed",
          "Fixed",
          "Fixed",
          "Fixed",
          "Fixed",
          "Duplicate",
          "Fixed",
          "Fixed",
          "Fixed",
          "Fixed",
          "Fixed",
          "Fixed",
          "Fixed",
          "Fixed",
          "Fixed",
          "Fixed",
          "Fixed",
          "Fixed",
          "Fixed",
          "Fixed",
          "Fixed",
          "Fixed",
          "Fixed",
          "Fixed",
          "Fixed",
          "Fixed",
          "Fixed",
          "Fixed",
          "Fixed",
          "Fixed",
          "Fixed",
          "Fixed",
          "Fixed",
          "Fixed",
          "Fixed",
          "Fixed",
          "Fixed",
          "Invalid",
          "Fixed",
          "Fixed",
          "Fixed",
          "Fixed",
          "Not A Problem",
          "Fixed",
          "Fixed",
          "Fixed",
          "Fixed",
          "Fixed",
          "Fixed",
          "Fixed",
          "Fixed",
          "Fixed",
          "Fixed",
          "Fixed",
          "Fixed",
          "Fixed",
          "Fixed",
          "Fixed",
          "Fixed",
          "Fixed",
          "Fixed",
          "Fixed",
          "Fixed",
          "Fixed",
          "Fixed",
          "Fixed",
          "Fixed",
          "Duplicate",
          "Fixed",
          "Fixed",
          "Fixed",
          "Fixed",
          "Fixed",
          "Fixed",
          "Fixed",
          "Won't Fix",
          "Fixed",
          "Fixed",
          "Fixed",
          "Duplicate",
          "Fixed",
          "Fixed",
          "Duplicate",
          "Fixed",
          "Fixed",
          "Fixed",
          "Fixed",
          "Fixed",
          "Fixed",
          "Fixed",
          "Duplicate",
          "Fixed",
          "Fixed",
          "Duplicate",
          "Fixed",
          "Fixed",
          "Fixed",
          "Fixed",
          "Fixed",
          "Fixed",
          "Fixed",
          "Won't Fix",
          "Fixed",
          "Fixed",
          "Fixed",
          "Fixed",
          "Fixed",
          "Fixed",
          "Fixed",
          "Duplicate",
          "Fixed",
          "Fixed",
          "Invalid",
          "Fixed",
          "Won't Fix",
          "Fixed",
          "Fixed",
          "Fixed",
          "Fixed",
          "Fixed",
          "Fixed",
          "Fixed",
          "Fixed",
          "Fixed",
          "Fixed",
          "Fixed",
          "Fixed",
          "Duplicate",
          "Fixed",
          "Fixed",
          "Fixed",
          "Invalid",
          "Fixed",
          "Fixed",
          "Fixed",
          "Fixed",
          "Fixed",
          "Fixed",
          "Fixed",
          "Fixed",
          "Fixed",
          "Fixed",
          "Fixed",
          "Fixed",
          "Fixed",
          "Duplicate",
          "Fixed",
          "Fixed",
          "Fixed",
          "Fixed",
          "Fixed",
          "Fixed",
          "Fixed",
          "Fixed",
          "Fixed",
          "Fixed",
          "Fixed",
          "Fixed",
          "Fixed",
          "Fixed",
          "Fixed",
          "Fixed",
          "Fixed",
          "Fixed",
          "Fixed",
          "Fixed",
          "Fixed",
          "Fixed",
          "Fixed",
          "Fixed",
          "Fixed",
          "Fixed",
          "Fixed",
          "Fixed",
          "Fixed",
          "Fixed",
          "Fixed",
          "Fixed",
          "Fixed",
          "Fixed",
          "Fixed",
          "Fixed",
          "Fixed",
          "Fixed",
          "Fixed",
          "Fixed",
          "Fixed",
          "Fixed",
          "Fixed",
          "Fixed",
          "Fixed",
          "Fixed",
          "Fixed",
          "Fixed",
          "Fixed",
          "Fixed",
          "Fixed",
          "Fixed",
          "Fixed",
          "Fixed",
          "Fixed",
          "Fixed",
          "Fixed",
          "Fixed",
          "Fixed",
          "Fixed",
          "Fixed",
          "Fixed",
          "Fixed",
          "Fixed",
          "Fixed",
          "Fixed",
          "Fixed",
          "Fixed",
          "Fixed",
          "Fixed",
          "Fixed",
          "Fixed",
          "Fixed",
          "Fixed",
          "Fixed",
          "Fixed",
          "Fixed",
          "Fixed",
          "Fixed",
          "Fixed",
          "Fixed",
          "Fixed",
          "Fixed",
          "Fixed",
          "Fixed",
          "Fixed",
          "Fixed",
          "Fixed",
          "Fixed",
          "Fixed",
          "Fixed",
          "Fixed",
          "Fixed",
          "Fixed",
          "Fixed",
          "Fixed",
          "Fixed",
          "Fixed",
          "Fixed",
          "Fixed",
          "Fixed",
          "Fixed",
          "Won't Fix",
          "Fixed",
          "Fixed",
          "Fixed",
          "Won't Fix",
          "Fixed",
          "Fixed",
          "Fixed",
          "Duplicate",
          "Fixed",
          "Fixed",
          "Fixed",
          "Won't Fix",
          "Fixed",
          "Fixed",
          "Fixed",
          "Fixed",
          "Fixed",
          "Fixed",
          "Fixed",
          "Fixed",
          "Fixed",
          "Fixed",
          "Fixed",
          "Fixed",
          "Fixed",
          "Fixed",
          "Invalid",
          "Duplicate",
          "Fixed",
          "Fixed",
          "Fixed",
          "Not A Problem",
          "Fixed",
          "Duplicate",
          "Fixed",
          "Fixed",
          "Duplicate",
          "Fixed",
          "Fixed",
          "Fixed",
          "Fixed",
          "Fixed",
          "Fixed",
          "Fixed",
          "Fixed",
          "Fixed",
          "Fixed",
          "Fixed",
          "Fixed",
          "Fixed",
          "Fixed",
          "Fixed",
          "Won't Fix",
          "Fixed",
          "Fixed",
          "Fixed",
          "Fixed",
          "Fixed",
          "Fixed",
          "Fixed",
          "Fixed",
          "Fixed",
          "Fixed",
          "Fixed",
          "Won't Fix",
          "Fixed",
          "Invalid",
          "Fixed",
          "Fixed",
          "Fixed",
          "Fixed",
          "Fixed",
          "Fixed",
          "Fixed",
          "Fixed",
          "Fixed",
          "Fixed",
          "Fixed",
          "Fixed",
          "Fixed",
          "Fixed",
          "Fixed",
          "Fixed",
          "Fixed",
          "Fixed",
          "Fixed",
          "Won't Fix",
          "Fixed",
          "Fixed",
          "Fixed",
          "Fixed",
          "Fixed",
          "Fixed",
          "Fixed",
          "Won't Fix",
          "Fixed",
          "Won't Fix",
          "Fixed",
          "Duplicate",
          "Fixed",
          "Fixed",
          "Fixed",
          "Fixed",
          "Not A Problem",
          "Fixed",
          "Fixed",
          "Fixed",
          "Fixed",
          "Fixed",
          "Won't Fix",
          "Fixed",
          "Fixed",
          "Fixed",
          "Fixed",
          "Fixed",
          "Fixed",
          "Fixed",
          "Fixed",
          "Fixed",
          "Fixed",
          "Fixed",
          "Fixed",
          "Fixed",
          "Fixed",
          "Fixed",
          "Fixed",
          "Fixed",
          "Fixed",
          "Fixed",
          "Fixed",
          "Fixed",
          "Fixed",
          "Fixed",
          "Fixed",
          "Fixed",
          "Duplicate",
          "Fixed",
          "Fixed",
          "Fixed",
          "Fixed",
          "Fixed",
          "Duplicate",
          "Fixed",
          "Fixed",
          "Duplicate",
          "Fixed",
          "Fixed",
          "Fixed",
          "Fixed",
          "Fixed",
          "Fixed",
          "Fixed",
          "Fixed",
          "Fixed",
          "Fixed",
          "Fixed",
          "Fixed",
          "Fixed",
          "Fixed",
          "Fixed",
          "Fixed",
          "Fixed",
          "Fixed",
          "Fixed",
          "Fixed",
          "Fixed",
          "Fixed",
          "Fixed",
          "Fixed",
          "Fixed",
          "Not A Problem",
          "Fixed",
          "Duplicate",
          "Fixed",
          "Fixed",
          "Fixed",
          "Fixed",
          "Fixed",
          "Fixed",
          "Fixed",
          "Fixed",
          "Fixed",
          "Fixed",
          "Fixed",
          "Fixed",
          "Fixed",
          "Fixed",
          "Fixed",
          "Fixed",
          "Fixed",
          "Fixed",
          "Fixed",
          "Fixed",
          "Fixed",
          "Fixed",
          "Fixed",
          "Fixed",
          "Fixed",
          "Fixed",
          "Fixed",
          "Duplicate",
          "Fixed",
          "Invalid",
          "Won't Fix",
          "Fixed",
          "Fixed",
          "Fixed",
          "Fixed",
          "Fixed",
          "Fixed",
          "Fixed",
          "Fixed",
          "Fixed",
          "Fixed",
          "Fixed",
          "Fixed",
          "Fixed",
          "Fixed",
          "Fixed",
          "Fixed",
          "Fixed",
          "Fixed",
          "Fixed",
          "Fixed",
          "Fixed",
          "Fixed",
          "Fixed",
          "Fixed",
          "Duplicate",
          "Fixed",
          "Won't Fix",
          "Won't Fix",
          "Fixed",
          "Fixed",
          "Fixed",
          "Fixed",
          "Fixed",
          "Fixed",
          "Fixed",
          "Fixed",
          "Fixed",
          "Fixed",
          "Fixed",
          "Won't Fix",
          "Fixed",
          "Fixed",
          "Fixed",
          "Fixed",
          "Invalid",
          "Fixed",
          "Fixed",
          "Fixed",
          "Fixed",
          "Fixed",
          "Fixed",
          "Fixed",
          "Fixed",
          "Fixed",
          "Fixed",
          "Fixed",
          "Fixed",
          "Fixed",
          "Later",
          "Fixed",
          "Fixed",
          "Fixed",
          "Fixed",
          "Fixed",
          "Fixed",
          "Won't Fix",
          "Fixed",
          "Fixed",
          "Fixed",
          "Fixed",
          "Fixed",
          "Fixed",
          "Fixed",
          "Fixed",
          "Fixed",
          "Invalid",
          "Fixed",
          "Fixed",
          "Fixed",
          "Fixed",
          "Fixed",
          "Fixed"
         ],
         "y0": " ",
         "yaxis": "y"
        }
       ],
       "layout": {
        "boxmode": "group",
        "legend": {
         "tracegroupgap": 0
        },
        "margin": {
         "t": 60
        },
        "template": {
         "data": {
          "bar": [
           {
            "error_x": {
             "color": "#2a3f5f"
            },
            "error_y": {
             "color": "#2a3f5f"
            },
            "marker": {
             "line": {
              "color": "#E5ECF6",
              "width": 0.5
             }
            },
            "type": "bar"
           }
          ],
          "barpolar": [
           {
            "marker": {
             "line": {
              "color": "#E5ECF6",
              "width": 0.5
             }
            },
            "type": "barpolar"
           }
          ],
          "carpet": [
           {
            "aaxis": {
             "endlinecolor": "#2a3f5f",
             "gridcolor": "white",
             "linecolor": "white",
             "minorgridcolor": "white",
             "startlinecolor": "#2a3f5f"
            },
            "baxis": {
             "endlinecolor": "#2a3f5f",
             "gridcolor": "white",
             "linecolor": "white",
             "minorgridcolor": "white",
             "startlinecolor": "#2a3f5f"
            },
            "type": "carpet"
           }
          ],
          "choropleth": [
           {
            "colorbar": {
             "outlinewidth": 0,
             "ticks": ""
            },
            "type": "choropleth"
           }
          ],
          "contour": [
           {
            "colorbar": {
             "outlinewidth": 0,
             "ticks": ""
            },
            "colorscale": [
             [
              0,
              "#0d0887"
             ],
             [
              0.1111111111111111,
              "#46039f"
             ],
             [
              0.2222222222222222,
              "#7201a8"
             ],
             [
              0.3333333333333333,
              "#9c179e"
             ],
             [
              0.4444444444444444,
              "#bd3786"
             ],
             [
              0.5555555555555556,
              "#d8576b"
             ],
             [
              0.6666666666666666,
              "#ed7953"
             ],
             [
              0.7777777777777778,
              "#fb9f3a"
             ],
             [
              0.8888888888888888,
              "#fdca26"
             ],
             [
              1,
              "#f0f921"
             ]
            ],
            "type": "contour"
           }
          ],
          "contourcarpet": [
           {
            "colorbar": {
             "outlinewidth": 0,
             "ticks": ""
            },
            "type": "contourcarpet"
           }
          ],
          "heatmap": [
           {
            "colorbar": {
             "outlinewidth": 0,
             "ticks": ""
            },
            "colorscale": [
             [
              0,
              "#0d0887"
             ],
             [
              0.1111111111111111,
              "#46039f"
             ],
             [
              0.2222222222222222,
              "#7201a8"
             ],
             [
              0.3333333333333333,
              "#9c179e"
             ],
             [
              0.4444444444444444,
              "#bd3786"
             ],
             [
              0.5555555555555556,
              "#d8576b"
             ],
             [
              0.6666666666666666,
              "#ed7953"
             ],
             [
              0.7777777777777778,
              "#fb9f3a"
             ],
             [
              0.8888888888888888,
              "#fdca26"
             ],
             [
              1,
              "#f0f921"
             ]
            ],
            "type": "heatmap"
           }
          ],
          "heatmapgl": [
           {
            "colorbar": {
             "outlinewidth": 0,
             "ticks": ""
            },
            "colorscale": [
             [
              0,
              "#0d0887"
             ],
             [
              0.1111111111111111,
              "#46039f"
             ],
             [
              0.2222222222222222,
              "#7201a8"
             ],
             [
              0.3333333333333333,
              "#9c179e"
             ],
             [
              0.4444444444444444,
              "#bd3786"
             ],
             [
              0.5555555555555556,
              "#d8576b"
             ],
             [
              0.6666666666666666,
              "#ed7953"
             ],
             [
              0.7777777777777778,
              "#fb9f3a"
             ],
             [
              0.8888888888888888,
              "#fdca26"
             ],
             [
              1,
              "#f0f921"
             ]
            ],
            "type": "heatmapgl"
           }
          ],
          "histogram": [
           {
            "marker": {
             "colorbar": {
              "outlinewidth": 0,
              "ticks": ""
             }
            },
            "type": "histogram"
           }
          ],
          "histogram2d": [
           {
            "colorbar": {
             "outlinewidth": 0,
             "ticks": ""
            },
            "colorscale": [
             [
              0,
              "#0d0887"
             ],
             [
              0.1111111111111111,
              "#46039f"
             ],
             [
              0.2222222222222222,
              "#7201a8"
             ],
             [
              0.3333333333333333,
              "#9c179e"
             ],
             [
              0.4444444444444444,
              "#bd3786"
             ],
             [
              0.5555555555555556,
              "#d8576b"
             ],
             [
              0.6666666666666666,
              "#ed7953"
             ],
             [
              0.7777777777777778,
              "#fb9f3a"
             ],
             [
              0.8888888888888888,
              "#fdca26"
             ],
             [
              1,
              "#f0f921"
             ]
            ],
            "type": "histogram2d"
           }
          ],
          "histogram2dcontour": [
           {
            "colorbar": {
             "outlinewidth": 0,
             "ticks": ""
            },
            "colorscale": [
             [
              0,
              "#0d0887"
             ],
             [
              0.1111111111111111,
              "#46039f"
             ],
             [
              0.2222222222222222,
              "#7201a8"
             ],
             [
              0.3333333333333333,
              "#9c179e"
             ],
             [
              0.4444444444444444,
              "#bd3786"
             ],
             [
              0.5555555555555556,
              "#d8576b"
             ],
             [
              0.6666666666666666,
              "#ed7953"
             ],
             [
              0.7777777777777778,
              "#fb9f3a"
             ],
             [
              0.8888888888888888,
              "#fdca26"
             ],
             [
              1,
              "#f0f921"
             ]
            ],
            "type": "histogram2dcontour"
           }
          ],
          "mesh3d": [
           {
            "colorbar": {
             "outlinewidth": 0,
             "ticks": ""
            },
            "type": "mesh3d"
           }
          ],
          "parcoords": [
           {
            "line": {
             "colorbar": {
              "outlinewidth": 0,
              "ticks": ""
             }
            },
            "type": "parcoords"
           }
          ],
          "pie": [
           {
            "automargin": true,
            "type": "pie"
           }
          ],
          "scatter": [
           {
            "marker": {
             "colorbar": {
              "outlinewidth": 0,
              "ticks": ""
             }
            },
            "type": "scatter"
           }
          ],
          "scatter3d": [
           {
            "line": {
             "colorbar": {
              "outlinewidth": 0,
              "ticks": ""
             }
            },
            "marker": {
             "colorbar": {
              "outlinewidth": 0,
              "ticks": ""
             }
            },
            "type": "scatter3d"
           }
          ],
          "scattercarpet": [
           {
            "marker": {
             "colorbar": {
              "outlinewidth": 0,
              "ticks": ""
             }
            },
            "type": "scattercarpet"
           }
          ],
          "scattergeo": [
           {
            "marker": {
             "colorbar": {
              "outlinewidth": 0,
              "ticks": ""
             }
            },
            "type": "scattergeo"
           }
          ],
          "scattergl": [
           {
            "marker": {
             "colorbar": {
              "outlinewidth": 0,
              "ticks": ""
             }
            },
            "type": "scattergl"
           }
          ],
          "scattermapbox": [
           {
            "marker": {
             "colorbar": {
              "outlinewidth": 0,
              "ticks": ""
             }
            },
            "type": "scattermapbox"
           }
          ],
          "scatterpolar": [
           {
            "marker": {
             "colorbar": {
              "outlinewidth": 0,
              "ticks": ""
             }
            },
            "type": "scatterpolar"
           }
          ],
          "scatterpolargl": [
           {
            "marker": {
             "colorbar": {
              "outlinewidth": 0,
              "ticks": ""
             }
            },
            "type": "scatterpolargl"
           }
          ],
          "scatterternary": [
           {
            "marker": {
             "colorbar": {
              "outlinewidth": 0,
              "ticks": ""
             }
            },
            "type": "scatterternary"
           }
          ],
          "surface": [
           {
            "colorbar": {
             "outlinewidth": 0,
             "ticks": ""
            },
            "colorscale": [
             [
              0,
              "#0d0887"
             ],
             [
              0.1111111111111111,
              "#46039f"
             ],
             [
              0.2222222222222222,
              "#7201a8"
             ],
             [
              0.3333333333333333,
              "#9c179e"
             ],
             [
              0.4444444444444444,
              "#bd3786"
             ],
             [
              0.5555555555555556,
              "#d8576b"
             ],
             [
              0.6666666666666666,
              "#ed7953"
             ],
             [
              0.7777777777777778,
              "#fb9f3a"
             ],
             [
              0.8888888888888888,
              "#fdca26"
             ],
             [
              1,
              "#f0f921"
             ]
            ],
            "type": "surface"
           }
          ],
          "table": [
           {
            "cells": {
             "fill": {
              "color": "#EBF0F8"
             },
             "line": {
              "color": "white"
             }
            },
            "header": {
             "fill": {
              "color": "#C8D4E3"
             },
             "line": {
              "color": "white"
             }
            },
            "type": "table"
           }
          ]
         },
         "layout": {
          "annotationdefaults": {
           "arrowcolor": "#2a3f5f",
           "arrowhead": 0,
           "arrowwidth": 1
          },
          "coloraxis": {
           "colorbar": {
            "outlinewidth": 0,
            "ticks": ""
           }
          },
          "colorscale": {
           "diverging": [
            [
             0,
             "#8e0152"
            ],
            [
             0.1,
             "#c51b7d"
            ],
            [
             0.2,
             "#de77ae"
            ],
            [
             0.3,
             "#f1b6da"
            ],
            [
             0.4,
             "#fde0ef"
            ],
            [
             0.5,
             "#f7f7f7"
            ],
            [
             0.6,
             "#e6f5d0"
            ],
            [
             0.7,
             "#b8e186"
            ],
            [
             0.8,
             "#7fbc41"
            ],
            [
             0.9,
             "#4d9221"
            ],
            [
             1,
             "#276419"
            ]
           ],
           "sequential": [
            [
             0,
             "#0d0887"
            ],
            [
             0.1111111111111111,
             "#46039f"
            ],
            [
             0.2222222222222222,
             "#7201a8"
            ],
            [
             0.3333333333333333,
             "#9c179e"
            ],
            [
             0.4444444444444444,
             "#bd3786"
            ],
            [
             0.5555555555555556,
             "#d8576b"
            ],
            [
             0.6666666666666666,
             "#ed7953"
            ],
            [
             0.7777777777777778,
             "#fb9f3a"
            ],
            [
             0.8888888888888888,
             "#fdca26"
            ],
            [
             1,
             "#f0f921"
            ]
           ],
           "sequentialminus": [
            [
             0,
             "#0d0887"
            ],
            [
             0.1111111111111111,
             "#46039f"
            ],
            [
             0.2222222222222222,
             "#7201a8"
            ],
            [
             0.3333333333333333,
             "#9c179e"
            ],
            [
             0.4444444444444444,
             "#bd3786"
            ],
            [
             0.5555555555555556,
             "#d8576b"
            ],
            [
             0.6666666666666666,
             "#ed7953"
            ],
            [
             0.7777777777777778,
             "#fb9f3a"
            ],
            [
             0.8888888888888888,
             "#fdca26"
            ],
            [
             1,
             "#f0f921"
            ]
           ]
          },
          "colorway": [
           "#636efa",
           "#EF553B",
           "#00cc96",
           "#ab63fa",
           "#FFA15A",
           "#19d3f3",
           "#FF6692",
           "#B6E880",
           "#FF97FF",
           "#FECB52"
          ],
          "font": {
           "color": "#2a3f5f"
          },
          "geo": {
           "bgcolor": "white",
           "lakecolor": "white",
           "landcolor": "#E5ECF6",
           "showlakes": true,
           "showland": true,
           "subunitcolor": "white"
          },
          "hoverlabel": {
           "align": "left"
          },
          "hovermode": "closest",
          "mapbox": {
           "style": "light"
          },
          "paper_bgcolor": "white",
          "plot_bgcolor": "#E5ECF6",
          "polar": {
           "angularaxis": {
            "gridcolor": "white",
            "linecolor": "white",
            "ticks": ""
           },
           "bgcolor": "#E5ECF6",
           "radialaxis": {
            "gridcolor": "white",
            "linecolor": "white",
            "ticks": ""
           }
          },
          "scene": {
           "xaxis": {
            "backgroundcolor": "#E5ECF6",
            "gridcolor": "white",
            "gridwidth": 2,
            "linecolor": "white",
            "showbackground": true,
            "ticks": "",
            "zerolinecolor": "white"
           },
           "yaxis": {
            "backgroundcolor": "#E5ECF6",
            "gridcolor": "white",
            "gridwidth": 2,
            "linecolor": "white",
            "showbackground": true,
            "ticks": "",
            "zerolinecolor": "white"
           },
           "zaxis": {
            "backgroundcolor": "#E5ECF6",
            "gridcolor": "white",
            "gridwidth": 2,
            "linecolor": "white",
            "showbackground": true,
            "ticks": "",
            "zerolinecolor": "white"
           }
          },
          "shapedefaults": {
           "line": {
            "color": "#2a3f5f"
           }
          },
          "ternary": {
           "aaxis": {
            "gridcolor": "white",
            "linecolor": "white",
            "ticks": ""
           },
           "baxis": {
            "gridcolor": "white",
            "linecolor": "white",
            "ticks": ""
           },
           "bgcolor": "#E5ECF6",
           "caxis": {
            "gridcolor": "white",
            "linecolor": "white",
            "ticks": ""
           }
          },
          "title": {
           "x": 0.05
          },
          "xaxis": {
           "automargin": true,
           "gridcolor": "white",
           "linecolor": "white",
           "ticks": "",
           "title": {
            "standoff": 15
           },
           "zerolinecolor": "white",
           "zerolinewidth": 2
          },
          "yaxis": {
           "automargin": true,
           "gridcolor": "white",
           "linecolor": "white",
           "ticks": "",
           "title": {
            "standoff": 15
           },
           "zerolinecolor": "white",
           "zerolinewidth": 2
          }
         }
        },
        "xaxis": {
         "anchor": "y",
         "domain": [
          0,
          1
         ],
         "title": {
          "text": "days_needed"
         }
        },
        "yaxis": {
         "anchor": "x",
         "domain": [
          0,
          1
         ],
         "title": {
          "text": "resolution"
         }
        }
       }
      },
      "text/html": [
       "<div>\n",
       "        \n",
       "        \n",
       "            <div id=\"415f422a-6396-4842-bbce-29caac7ef027\" class=\"plotly-graph-div\" style=\"height:525px; width:100%;\"></div>\n",
       "            <script type=\"text/javascript\">\n",
       "                require([\"plotly\"], function(Plotly) {\n",
       "                    window.PLOTLYENV=window.PLOTLYENV || {};\n",
       "                    \n",
       "                if (document.getElementById(\"415f422a-6396-4842-bbce-29caac7ef027\")) {\n",
       "                    Plotly.newPlot(\n",
       "                        '415f422a-6396-4842-bbce-29caac7ef027',\n",
       "                        [{\"alignmentgroup\": \"True\", \"hovertemplate\": \"days_needed=%{x}<br>resolution=%{y}<extra></extra>\", \"legendgroup\": \"\", \"marker\": {\"color\": \"#636efa\"}, \"name\": \"\", \"notched\": false, \"offsetgroup\": \"\", \"orientation\": \"h\", \"showlegend\": false, \"type\": \"box\", \"x\": [17.0, 18.0, 19.0, 19.0, 5.0, 3.0, 13.0, 9.0, 0.0, 35.0, 0.0, 12.0, 19.0, 14.0, 8.0, 9.0, 6.0, 3.0, 115.0, 0.0, 31.0, 14.0, 0.0, 12.0, 48.0, 2.0, 5.0, 83.0, 0.0, 12.0, 18.0, 69.0, 10.0, 0.0, 46.0, 9.0, 55.0, 9.0, 55.0, 4.0, 11.0, 11.0, 13.0, 35.0, 0.0, 39.0, 0.0, 11.0, 3.0, 3.0, 98.0, 41.0, 79.0, 0.0, 0.0, 14.0, 11.0, 3.0, 47.0, 0.0, 21.0, 15.0, 0.0, 20.0, 0.0, 12.0, 2.0, 12.0, 16.0, 33.0, 37.0, 51.0, 47.0, 22.0, 108.0, 15.0, 0.0, 0.0, 86.0, 98.0, 73.0, 0.0, 0.0, 0.0, 0.0, 0.0, 6.0, 4.0, 35.0, 119.0, 118.0, 5.0, 115.0, 3.0, 12.0, 0.0, 0.0, 9.0, 10.0, 7.0, 1.0, 1.0, 3.0, 65.0, 0.0, 27.0, 22.0, 89.0, 27.0, 0.0, 34.0, 41.0, 48.0, 110.0, 56.0, 14.0, 62.0, 74.0, 2.0, 19.0, 0.0, 0.0, 4.0, 0.0, 125.0, 122.0, 125.0, 107.0, 35.0, 1.0, 3.0, 3.0, 2.0, 6.0, 4.0, 3.0, 0.0, 32.0, 0.0, 3.0, 20.0, 8.0, 8.0, 1.0, 10.0, 18.0, 18.0, 41.0, 22.0, 67.0, 0.0, 0.0, 19.0, 73.0, 2.0, 0.0, 16.0, 2.0, 87.0, 9.0, 1.0, 8.0, 1.0, 6.0, 26.0, 20.0, 20.0, 15.0, 15.0, 15.0, 35.0, 4.0, 0.0, 55.0, 16.0, 21.0, 57.0, 0.0, 23.0, 82.0, 82.0, 83.0, 38.0, 38.0, 82.0, 82.0, 38.0, 95.0, 82.0, 110.0, 61.0, 1.0, 46.0, 46.0, 2.0, 68.0, 1.0, 7.0, 0.0, 18.0, 1.0, 7.0, 9.0, 12.0, 15.0, 82.0, 86.0, 47.0, 41.0, 0.0, 1.0, 0.0, 17.0, 1.0, 0.0, 126.0, 64.0, 9.0, 20.0, 4.0, 23.0, 1.0, 0.0, 7.0, 5.0, 14.0, 20.0, 7.0, 12.0, 4.0, 5.0, 14.0, 26.0, 30.0, 1.0, 9.0, 2.0, 5.0, 66.0, 1.0, 110.0, 5.0, 0.0, 60.0, 0.0, 23.0, 4.0, 1.0, 0.0, 8.0, 6.0, 7.0, 0.0, 6.0, 19.0, 8.0, 8.0, 0.0, 2.0, 64.0, 37.0, 69.0, 84.0, 0.0, 5.0, 82.0, 117.0, 10.0, 11.0, 13.0, 103.0, 17.0, 110.0, 25.0, 12.0, 105.0, 0.0, 19.0, 23.0, 6.0, 0.0, 3.0, 4.0, 127.0, 11.0, 20.0, 15.0, 0.0, 0.0, 1.0, 3.0, 2.0, 5.0, 13.0, 18.0, 24.0, 21.0, 6.0, 0.0, 7.0, 12.0, 9.0, 19.0, 26.0, 29.0, 9.0, 31.0, 32.0, 35.0, 1.0, 1.0, 1.0, 20.0, 8.0, 8.0, 28.0, 98.0, 101.0, 88.0, 9.0, 1.0, 67.0, 112.0, 8.0, 17.0, 119.0, 126.0, 0.0, 22.0, 17.0, 30.0, 20.0, 7.0, 0.0, 13.0, 71.0, 77.0, 0.0, 13.0, 17.0, 1.0, 1.0, 82.0, 17.0, 2.0, 1.0, 3.0, 7.0, 15.0, 1.0, 21.0, 0.0, 1.0, 4.0, 3.0, 4.0, 6.0, 0.0, 94.0, 13.0, 6.0, 83.0, 83.0, 69.0, 10.0, 10.0, 38.0, 126.0, 32.0, 47.0, 8.0, 0.0, 26.0, 3.0, 43.0, 0.0, 9.0, 35.0, 0.0, 0.0, 0.0, 5.0, 0.0, 7.0, 2.0, 1.0, 1.0, 0.0, 4.0, 0.0, 5.0, 1.0, 3.0, 3.0, 3.0, 112.0, 2.0, 6.0, 3.0, 4.0, 8.0, 25.0, 15.0, 40.0, 29.0, 0.0, 57.0, 0.0, 73.0, 27.0, 7.0, 9.0, 3.0, 12.0, 7.0, 7.0, 12.0, 0.0, 6.0, 96.0, 0.0, 10.0, 6.0, 21.0, 42.0, 58.0, 61.0, 64.0, 2.0, 7.0, 6.0, 0.0, 3.0, 3.0, 3.0, 76.0, 0.0, 4.0, 0.0, 0.0, 0.0, 50.0, 0.0, 2.0, 1.0, 0.0, 1.0, 9.0, 4.0, 5.0, 9.0, 0.0, 11.0, 24.0, 5.0, 4.0, 0.0, 31.0, 0.0, 15.0, 124.0, 1.0, 56.0, 2.0, 0.0, 35.0, 11.0, 15.0, 0.0, 4.0, 18.0, 9.0, 0.0, 6.0, 94.0, 10.0, 35.0, 13.0, 11.0, 21.0, 67.0, 13.0, 112.0, 16.0, 1.0, 2.0, 0.0, 1.0, 1.0, 1.0, 4.0, 4.0, 3.0, 6.0, 9.0, 8.0, 4.0, 9.0, 9.0, 9.0, 7.0, 3.0, 11.0, 11.0, 11.0, 18.0, 9.0, 20.0, 15.0, 16.0, 52.0, 2.0, 22.0, 24.0, 29.0, 1.0, 34.0, 4.0, 0.0, 51.0, 50.0, 56.0, 54.0, 36.0, 62.0, 2.0, 63.0, 0.0, 1.0, 0.0, 0.0, 0.0, 1.0, 8.0, 9.0, 13.0, 7.0, 20.0, 99.0, 1.0, 0.0, 0.0, 0.0, 3.0, 5.0, 1.0, 9.0, 12.0, 11.0, 13.0, 14.0, 42.0, 14.0, 1.0, 1.0, 0.0, 17.0, 3.0, 35.0, 0.0, 21.0, 22.0, 1.0, 1.0, 35.0, 7.0, 1.0, 57.0, 0.0, 0.0, 0.0, 1.0, 62.0, 53.0, 0.0, 7.0, 10.0, 7.0, 7.0, 21.0, 18.0, 0.0, 28.0, 87.0, 33.0, 0.0, 1.0, 0.0, 7.0, 0.0, 3.0, 7.0, 1.0, 6.0, 0.0, 0.0, 0.0, 1.0, 6.0, 0.0, 0.0, 0.0, 0.0, 8.0, 0.0, 0.0, 3.0, 103.0, 1.0, 5.0, 4.0, 4.0, 4.0, 4.0, 8.0, 3.0, 4.0, 4.0, 0.0, 5.0, 0.0, 1.0, 0.0, 1.0, 3.0, 0.0, 0.0, 0.0, 2.0, 2.0, 2.0, 3.0, 4.0, 2.0, 6.0, 10.0, 5.0, 0.0, 3.0, 1.0, 2.0, 8.0, 2.0, 4.0, 12.0, 12.0, 1.0, 21.0, 2.0, 3.0, 55.0, 8.0, 8.0, 1.0, 41.0, 1.0, 3.0, 59.0, 70.0, 14.0, 41.0, 61.0, 3.0, 65.0, 0.0, 67.0, 14.0, 4.0, 37.0, 0.0, 60.0, 1.0, 3.0, 7.0, 1.0, 117.0, 71.0, 19.0, 36.0, 17.0, 0.0, 2.0, 3.0, 0.0, 9.0, 43.0, 42.0, 0.0, 5.0, 0.0, 0.0, 0.0, 4.0, 2.0, 6.0, 69.0, 26.0, 5.0, 0.0, 6.0, 12.0, 12.0, 12.0, 99.0, 0.0, 0.0, 29.0, 91.0, 30.0, 20.0, 1.0, 13.0, 8.0, 7.0, 8.0, 7.0, 5.0, 19.0, 0.0, 113.0, 2.0, 2.0, 2.0, 3.0, 1.0, 8.0, 0.0, 0.0, 2.0, 69.0, 16.0, 26.0, 7.0, 3.0, 19.0, 19.0, 23.0, 23.0, 7.0, 27.0, 17.0, 2.0, 0.0, 21.0, 14.0, 2.0, 5.0, 0.0, 54.0, 9.0, 5.0, 13.0, 0.0, 0.0, 0.0, 39.0, 2.0, 4.0, 5.0, 60.0, 6.0, 5.0, 8.0, 15.0, 6.0, 14.0, 46.0, 42.0, 1.0, 69.0, 1.0, 115.0, 33.0, 5.0, 0.0, 9.0, 9.0, 5.0, 93.0, 69.0, 2.0, 4.0, 0.0, 59.0, 0.0, 34.0, 35.0, 77.0, 43.0, 1.0, 28.0, 2.0, 2.0, 0.0, 16.0, 5.0, 5.0, 13.0, 18.0, 2.0, 103.0, 5.0, 0.0, 0.0, 4.0, 127.0, 9.0, 6.0, 10.0, 0.0, 0.0, 1.0, 0.0, 61.0, 105.0, 0.0, 0.0, 107.0, 62.0, 21.0, 0.0, 0.0, 4.0, 1.0, 18.0, 0.0, 0.0, 0.0, 4.0, 0.0, 0.0, 3.0, 0.0, 1.0, 6.0, 1.0, 2.0, 13.0, 9.0, 5.0, 6.0, 4.0, 20.0, 8.0, 5.0, 0.0, 0.0, 1.0, 7.0, 25.0, 8.0, 40.0, 6.0, 31.0, 0.0, 53.0, 3.0, 56.0, 33.0, 48.0, 1.0, 42.0, 35.0, 34.0, 34.0, 7.0, 10.0, 1.0, 0.0, 47.0, 0.0, 10.0, 0.0, 0.0, 0.0, 0.0, 0.0, 69.0, 5.0, 0.0, 4.0, 2.0, 62.0, 4.0, 0.0, 102.0, 0.0, 4.0, 115.0, 0.0, 123.0, 11.0, 11.0, 11.0, 3.0, 4.0, 0.0, 1.0, 3.0, 0.0, 0.0, 3.0, 104.0, 69.0, 21.0, 2.0, 1.0, 1.0, 0.0, 3.0, 41.0, 2.0, 2.0, 90.0, 1.0, 7.0, 0.0, 9.0, 1.0, 13.0, 0.0, 0.0, 0.0, 0.0, 2.0, 19.0, 20.0, 0.0, 0.0, 6.0, 0.0, 0.0, 14.0, 32.0, 11.0, 0.0, 99.0, 9.0, 1.0, 1.0, 1.0, 1.0, 3.0, 0.0, 1.0, 0.0, 4.0, 5.0, 4.0, 0.0, 0.0, 2.0, 5.0, 27.0, 0.0, 0.0, 26.0, 2.0, 1.0, 3.0, 7.0, 0.0, 0.0, 0.0, 0.0, 0.0, 0.0, 3.0, 0.0, 0.0, 0.0, 1.0, 6.0, 1.0, 0.0, 0.0, 0.0, 0.0, 16.0, 1.0, 1.0, 3.0, 3.0, 4.0, 1.0, 0.0, 5.0, 0.0, 0.0, 2.0, 0.0, 0.0, 0.0, 1.0, 23.0, 3.0, 0.0, 0.0, 0.0, 4.0, 0.0, 0.0, 0.0, 0.0, 12.0, 0.0, 0.0, 0.0, 5.0, 6.0, 0.0, 0.0, 0.0, 14.0, 28.0, 0.0, 0.0, 3.0, 0.0, 10.0, 19.0, 19.0, 3.0, 0.0, 0.0, 3.0, 0.0, 63.0, 0.0, 0.0, 1.0, 21.0, 0.0, 35.0, 47.0, 19.0, 21.0, 21.0, 0.0, 34.0, 0.0, 2.0, 1.0, 0.0, 2.0, 0.0, 0.0, 2.0, 0.0, 8.0, 2.0, 0.0, 1.0, 4.0, 4.0, 33.0, 2.0, 0.0, 0.0, 1.0, 0.0, 3.0, 7.0, 41.0, 8.0, 6.0, 3.0, 7.0, 7.0, 0.0, 8.0, 13.0, 8.0, 0.0, 5.0, 1.0, 16.0, 2.0, 13.0, 6.0, 7.0, 52.0, 11.0, 21.0, 13.0, 0.0, 1.0, 1.0, 21.0, 29.0, 31.0, 1.0, 1.0, 7.0, 7.0, 29.0, 99.0, 45.0, 7.0, 9.0, 6.0, 7.0, 0.0, 0.0, 3.0, 4.0, 0.0, 54.0, 0.0, 0.0, 56.0, 0.0, 0.0, 0.0, 0.0, 0.0, 1.0, 46.0, 46.0, 0.0, 46.0, 5.0, 2.0, 1.0, 1.0, 78.0, 53.0, 56.0, 47.0, 0.0, 2.0, 3.0, 2.0, 0.0, 3.0, 63.0, 1.0, 1.0, 0.0, 0.0, 0.0, 1.0, 1.0, 0.0, 0.0, 0.0, 1.0, 5.0, 27.0, 6.0, 70.0, 0.0, 0.0, 1.0, 6.0, 0.0, 2.0, 0.0, 19.0, 19.0, 13.0, 0.0, 0.0, 0.0, 0.0, 21.0, 83.0, 1.0, 63.0, 71.0, 17.0, 8.0, 0.0, 0.0, 34.0, 84.0, 0.0, 12.0, 6.0, 1.0, 8.0, 1.0, 1.0, 0.0, 1.0, 0.0, 1.0, 108.0, 1.0, 1.0, 5.0, 6.0, 99.0, 0.0, 107.0, 0.0, 106.0, 0.0, 0.0, 0.0, 0.0, 1.0, 2.0, 1.0, 2.0, 1.0, 2.0, 12.0, 0.0, 13.0, 3.0, 1.0, 0.0, 6.0, 3.0, 0.0, 5.0, 42.0, 2.0, 37.0, 0.0, 35.0, 15.0, 0.0, 38.0, 2.0, 9.0, 3.0, 13.0, 4.0, 0.0, 7.0, 11.0, 2.0, 3.0, 26.0, 5.0, 6.0, 123.0, 2.0, 1.0, 0.0, 25.0, 0.0, 2.0, 11.0, 11.0, 0.0, 1.0, 0.0, 0.0, 1.0, 16.0, 7.0, 63.0, 0.0, 55.0, 22.0, 4.0, 3.0, 3.0, 0.0, 0.0, 31.0, 0.0, 1.0, 39.0, 12.0, 2.0, 22.0, 0.0, 0.0, 0.0, 1.0, 93.0, 1.0, 0.0, 0.0, 3.0, 32.0, 7.0, 0.0, 20.0, 0.0, 44.0, 51.0, 47.0, 16.0, 36.0, 41.0, 18.0, 81.0, 25.0, 17.0, 0.0, 6.0, 0.0, 0.0, 38.0, 0.0, 38.0, 14.0, 27.0, 1.0, 3.0, 3.0, 3.0, 0.0, 53.0, 17.0], \"x0\": \" \", \"xaxis\": \"x\", \"y\": [\"Not A Bug\", \"Not A Bug\", \"Not A Bug\", \"Not A Bug\", \"Fixed\", \"Invalid\", \"Fixed\", \"Fixed\", \"Fixed\", \"Fixed\", \"Fixed\", \"Not A Bug\", \"Fixed\", \"Fixed\", \"Fixed\", \"Fixed\", \"Fixed\", \"Fixed\", \"Fixed\", \"Invalid\", \"Fixed\", \"Not A Bug\", \"Fixed\", \"Not A Problem\", \"Not A Problem\", \"Cannot Reproduce\", \"Not A Bug\", \"Fixed\", \"Not A Problem\", \"Fixed\", \"Fixed\", \"Fixed\", \"Fixed\", \"Fixed\", \"Fixed\", \"Fixed\", \"Fixed\", \"Fixed\", \"Fixed\", \"Not A Problem\", \"Fixed\", \"Fixed\", \"Fixed\", \"Fixed\", \"Not A Problem\", \"Fixed\", \"Fixed\", \"Fixed\", \"Fixed\", \"Duplicate\", \"Fixed\", \"Invalid\", \"Fixed\", \"Fixed\", \"Fixed\", \"Duplicate\", \"Fixed\", \"Not A Bug\", \"Fixed\", \"Invalid\", \"Fixed\", \"Fixed\", \"Fixed\", \"Fixed\", \"Fixed\", \"Fixed\", \"Fixed\", \"Fixed\", \"Fixed\", \"Duplicate\", \"Fixed\", \"Fixed\", \"Fixed\", \"Fixed\", \"Fixed\", \"Fixed\", \"Fixed\", \"Not A Problem\", \"Fixed\", \"Duplicate\", \"Fixed\", \"Fixed\", \"Duplicate\", \"Information Provided\", \"Fixed\", \"Not A Bug\", \"Fixed\", \"Fixed\", \"Duplicate\", \"Fixed\", \"Duplicate\", \"Fixed\", \"Fixed\", \"Cannot Reproduce\", \"Fixed\", \"Fixed\", \"Duplicate\", \"Fixed\", \"Fixed\", \"Not A Problem\", \"Fixed\", \"Fixed\", \"Fixed\", \"Fixed\", \"Information Provided\", \"Fixed\", \"Fixed\", \"Fixed\", \"Fixed\", \"Fixed\", \"Fixed\", \"Fixed\", \"Fixed\", \"Fixed\", \"Fixed\", \"Fixed\", \"Fixed\", \"Fixed\", \"Fixed\", \"Duplicate\", \"Fixed\", \"Fixed\", \"Won't Fix\", \"Not A Problem\", \"Fixed\", \"Fixed\", \"Fixed\", \"Fixed\", \"Fixed\", \"Duplicate\", \"Fixed\", \"Fixed\", \"Fixed\", \"Fixed\", \"Not A Problem\", \"Fixed\", \"Fixed\", \"Fixed\", \"Duplicate\", \"Fixed\", \"Fixed\", \"Fixed\", \"Fixed\", \"Fixed\", \"Fixed\", \"Fixed\", \"Fixed\", \"Fixed\", \"Won't Fix\", \"Fixed\", \"Not A Problem\", \"Done\", \"Fixed\", \"Fixed\", \"Fixed\", \"Invalid\", \"Fixed\", \"Won't Fix\", \"Fixed\", \"Fixed\", \"Fixed\", \"Fixed\", \"Fixed\", \"Fixed\", \"Fixed\", \"Fixed\", \"Fixed\", \"Fixed\", \"Fixed\", \"Fixed\", \"Fixed\", \"Fixed\", \"Fixed\", \"Fixed\", \"Fixed\", \"Fixed\", \"Fixed\", \"Duplicate\", \"Fixed\", \"Fixed\", \"Fixed\", \"Fixed\", \"Fixed\", \"Fixed\", \"Fixed\", \"Fixed\", \"Fixed\", \"Fixed\", \"Fixed\", \"Fixed\", \"Fixed\", \"Fixed\", \"Fixed\", \"Fixed\", \"Fixed\", \"Fixed\", \"Fixed\", \"Fixed\", \"Fixed\", \"Fixed\", \"Duplicate\", \"Fixed\", \"Fixed\", \"Fixed\", \"Fixed\", \"Fixed\", \"Duplicate\", \"Fixed\", \"Fixed\", \"Invalid\", \"Invalid\", \"Fixed\", \"Fixed\", \"Fixed\", \"Not A Problem\", \"Fixed\", \"Invalid\", \"Not A Problem\", \"Fixed\", \"Fixed\", \"Fixed\", \"Fixed\", \"Fixed\", \"Fixed\", \"Fixed\", \"Fixed\", \"Fixed\", \"Not A Problem\", \"Fixed\", \"Fixed\", \"Fixed\", \"Fixed\", \"Fixed\", \"Fixed\", \"Fixed\", \"Fixed\", \"Fixed\", \"Duplicate\", \"Fixed\", \"Fixed\", \"Fixed\", \"Fixed\", \"Fixed\", \"Fixed\", \"Fixed\", \"Fixed\", \"Fixed\", \"Fixed\", \"Fixed\", \"Implemented\", \"Fixed\", \"Won't Fix\", \"Fixed\", \"Fixed\", \"Fixed\", \"Fixed\", \"Invalid\", \"Not A Problem\", \"Invalid\", \"Fixed\", \"Fixed\", \"Fixed\", \"Fixed\", \"Fixed\", \"Fixed\", \"Fixed\", \"Fixed\", \"Fixed\", \"Fixed\", \"Fixed\", \"Fixed\", \"Fixed\", \"Fixed\", \"Fixed\", \"Fixed\", \"Fixed\", \"Not A Problem\", \"Fixed\", \"Fixed\", \"Fixed\", \"Fixed\", \"Fixed\", \"Fixed\", \"Fixed\", \"Fixed\", \"Fixed\", \"Fixed\", \"Fixed\", \"Fixed\", \"Fixed\", \"Fixed\", \"Fixed\", \"Fixed\", \"Fixed\", \"Fixed\", \"Fixed\", \"Fixed\", \"Fixed\", \"Duplicate\", \"Fixed\", \"Fixed\", \"Not A Problem\", \"Fixed\", \"Fixed\", \"Fixed\", \"Fixed\", \"Fixed\", \"Fixed\", \"Fixed\", \"Fixed\", \"Not A Problem\", \"Not A Problem\", \"Fixed\", \"Fixed\", \"Invalid\", \"Fixed\", \"Fixed\", \"Fixed\", \"Fixed\", \"Fixed\", \"Fixed\", \"Fixed\", \"Fixed\", \"Fixed\", \"Fixed\", \"Duplicate\", \"Not A Problem\", \"Invalid\", \"Duplicate\", \"Fixed\", \"Fixed\", \"Fixed\", \"Fixed\", \"Fixed\", \"Fixed\", \"Fixed\", \"Fixed\", \"Fixed\", \"Duplicate\", \"Duplicate\", \"Fixed\", \"Fixed\", \"Fixed\", \"Fixed\", \"Fixed\", \"Fixed\", \"Fixed\", \"Fixed\", \"Fixed\", \"Fixed\", \"Fixed\", \"Fixed\", \"Fixed\", \"Fixed\", \"Fixed\", \"Fixed\", \"Fixed\", \"Invalid\", \"Fixed\", \"Fixed\", \"Fixed\", \"Fixed\", \"Fixed\", \"Fixed\", \"Fixed\", \"Fixed\", \"Fixed\", \"Fixed\", \"Duplicate\", \"Fixed\", \"Fixed\", \"Later\", \"Fixed\", \"Fixed\", \"Fixed\", \"Duplicate\", \"Fixed\", \"Fixed\", \"Fixed\", \"Fixed\", \"Fixed\", \"Fixed\", \"Fixed\", \"Fixed\", \"Fixed\", \"Fixed\", \"Fixed\", \"Fixed\", \"Fixed\", \"Invalid\", \"Fixed\", \"Fixed\", \"Fixed\", \"Fixed\", \"Duplicate\", \"Fixed\", \"Fixed\", \"Fixed\", \"Fixed\", \"Fixed\", \"Fixed\", \"Fixed\", \"Fixed\", \"Fixed\", \"Fixed\", \"Fixed\", \"Fixed\", \"Fixed\", \"Fixed\", \"Fixed\", \"Fixed\", \"Fixed\", \"Fixed\", \"Fixed\", \"Fixed\", \"Fixed\", \"Fixed\", \"Fixed\", \"Fixed\", \"Fixed\", \"Fixed\", \"Fixed\", \"Fixed\", \"Fixed\", \"Fixed\", \"Fixed\", \"Fixed\", \"Fixed\", \"Fixed\", \"Fixed\", \"Fixed\", \"Invalid\", \"Fixed\", \"Fixed\", \"Fixed\", \"Fixed\", \"Fixed\", \"Fixed\", \"Fixed\", \"Fixed\", \"Fixed\", \"Fixed\", \"Fixed\", \"Fixed\", \"Fixed\", \"Fixed\", \"Fixed\", \"Fixed\", \"Fixed\", \"Fixed\", \"Fixed\", \"Not A Problem\", \"Fixed\", \"Fixed\", \"Fixed\", \"Fixed\", \"Invalid\", \"Fixed\", \"Won't Fix\", \"Fixed\", \"Duplicate\", \"Fixed\", \"Fixed\", \"Fixed\", \"Fixed\", \"Duplicate\", \"Fixed\", \"Fixed\", \"Not A Problem\", \"Fixed\", \"Fixed\", \"Fixed\", \"Fixed\", \"Fixed\", \"Fixed\", \"Duplicate\", \"Fixed\", \"Fixed\", \"Fixed\", \"Fixed\", \"Fixed\", \"Fixed\", \"Won't Fix\", \"Fixed\", \"Fixed\", \"Fixed\", \"Fixed\", \"Fixed\", \"Fixed\", \"Invalid\", \"Fixed\", \"Fixed\", \"Fixed\", \"Fixed\", \"Fixed\", \"Fixed\", \"Fixed\", \"Fixed\", \"Fixed\", \"Fixed\", \"Fixed\", \"Fixed\", \"Fixed\", \"Fixed\", \"Fixed\", \"Fixed\", \"Fixed\", \"Fixed\", \"Fixed\", \"Fixed\", \"Fixed\", \"Fixed\", \"Fixed\", \"Fixed\", \"Fixed\", \"Fixed\", \"Fixed\", \"Fixed\", \"Invalid\", \"Fixed\", \"Fixed\", \"Fixed\", \"Fixed\", \"Fixed\", \"Fixed\", \"Fixed\", \"Duplicate\", \"Fixed\", \"Fixed\", \"Fixed\", \"Fixed\", \"Fixed\", \"Fixed\", \"Fixed\", \"Fixed\", \"Fixed\", \"Fixed\", \"Fixed\", \"Fixed\", \"Fixed\", \"Fixed\", \"Fixed\", \"Fixed\", \"Fixed\", \"Fixed\", \"Fixed\", \"Fixed\", \"Fixed\", \"Fixed\", \"Fixed\", \"Fixed\", \"Fixed\", \"Fixed\", \"Fixed\", \"Fixed\", \"Fixed\", \"Duplicate\", \"Fixed\", \"Duplicate\", \"Not A Problem\", \"Fixed\", \"Fixed\", \"Fixed\", \"Fixed\", \"Fixed\", \"Fixed\", \"Fixed\", \"Fixed\", \"Fixed\", \"Fixed\", \"Fixed\", \"Fixed\", \"Fixed\", \"Fixed\", \"Duplicate\", \"Fixed\", \"Fixed\", \"Fixed\", \"Fixed\", \"Fixed\", \"Fixed\", \"Duplicate\", \"Fixed\", \"Fixed\", \"Fixed\", \"Fixed\", \"Fixed\", \"Fixed\", \"Fixed\", \"Fixed\", \"Fixed\", \"Fixed\", \"Fixed\", \"Fixed\", \"Fixed\", \"Fixed\", \"Fixed\", \"Fixed\", \"Fixed\", \"Fixed\", \"Fixed\", \"Fixed\", \"Fixed\", \"Fixed\", \"Fixed\", \"Fixed\", \"Fixed\", \"Fixed\", \"Fixed\", \"Fixed\", \"Fixed\", \"Fixed\", \"Fixed\", \"Fixed\", \"Fixed\", \"Fixed\", \"Fixed\", \"Fixed\", \"Fixed\", \"Fixed\", \"Fixed\", \"Won't Fix\", \"Fixed\", \"Won't Fix\", \"Fixed\", \"Fixed\", \"Fixed\", \"Fixed\", \"Fixed\", \"Fixed\", \"Fixed\", \"Fixed\", \"Fixed\", \"Fixed\", \"Fixed\", \"Duplicate\", \"Fixed\", \"Fixed\", \"Fixed\", \"Fixed\", \"Fixed\", \"Fixed\", \"Fixed\", \"Fixed\", \"Fixed\", \"Fixed\", \"Fixed\", \"Fixed\", \"Fixed\", \"Fixed\", \"Not A Problem\", \"Fixed\", \"Won't Fix\", \"Not A Problem\", \"Fixed\", \"Fixed\", \"Fixed\", \"Fixed\", \"Fixed\", \"Cannot Reproduce\", \"Fixed\", \"Fixed\", \"Fixed\", \"Fixed\", \"Fixed\", \"Fixed\", \"Fixed\", \"Fixed\", \"Fixed\", \"Fixed\", \"Duplicate\", \"Fixed\", \"Fixed\", \"Fixed\", \"Fixed\", \"Fixed\", \"Fixed\", \"Fixed\", \"Fixed\", \"Fixed\", \"Fixed\", \"Fixed\", \"Fixed\", \"Invalid\", \"Fixed\", \"Fixed\", \"Fixed\", \"Invalid\", \"Fixed\", \"Fixed\", \"Fixed\", \"Fixed\", \"Later\", \"Fixed\", \"Fixed\", \"Fixed\", \"Fixed\", \"Fixed\", \"Fixed\", \"Fixed\", \"Fixed\", \"Fixed\", \"Fixed\", \"Not A Problem\", \"Fixed\", \"Fixed\", \"Fixed\", \"Cannot Reproduce\", \"Fixed\", \"Fixed\", \"Fixed\", \"Fixed\", \"Fixed\", \"Fixed\", \"Fixed\", \"Fixed\", \"Fixed\", \"Fixed\", \"Won't Fix\", \"Fixed\", \"Fixed\", \"Fixed\", \"Fixed\", \"Fixed\", \"Fixed\", \"Fixed\", \"Duplicate\", \"Fixed\", \"Fixed\", \"Fixed\", \"Fixed\", \"Fixed\", \"Fixed\", \"Fixed\", \"Fixed\", \"Fixed\", \"Fixed\", \"Fixed\", \"Fixed\", \"Fixed\", \"Fixed\", \"Fixed\", \"Fixed\", \"Fixed\", \"Fixed\", \"Fixed\", \"Fixed\", \"Fixed\", \"Duplicate\", \"Fixed\", \"Fixed\", \"Fixed\", \"Fixed\", \"Fixed\", \"Fixed\", \"Fixed\", \"Fixed\", \"Fixed\", \"Fixed\", \"Fixed\", \"Fixed\", \"Fixed\", \"Fixed\", \"Fixed\", \"Fixed\", \"Fixed\", \"Fixed\", \"Fixed\", \"Fixed\", \"Fixed\", \"Fixed\", \"Fixed\", \"Fixed\", \"Fixed\", \"Fixed\", \"Fixed\", \"Fixed\", \"Fixed\", \"Fixed\", \"Fixed\", \"Duplicate\", \"Fixed\", \"Fixed\", \"Fixed\", \"Fixed\", \"Fixed\", \"Fixed\", \"Fixed\", \"Fixed\", \"Fixed\", \"Fixed\", \"Fixed\", \"Fixed\", \"Fixed\", \"Fixed\", \"Fixed\", \"Fixed\", \"Fixed\", \"Fixed\", \"Fixed\", \"Fixed\", \"Fixed\", \"Fixed\", \"Fixed\", \"Fixed\", \"Fixed\", \"Fixed\", \"Fixed\", \"Fixed\", \"Fixed\", \"Fixed\", \"Fixed\", \"Invalid\", \"Fixed\", \"Fixed\", \"Fixed\", \"Fixed\", \"Not A Problem\", \"Fixed\", \"Fixed\", \"Fixed\", \"Fixed\", \"Fixed\", \"Fixed\", \"Fixed\", \"Fixed\", \"Fixed\", \"Fixed\", \"Fixed\", \"Fixed\", \"Fixed\", \"Fixed\", \"Fixed\", \"Fixed\", \"Fixed\", \"Fixed\", \"Fixed\", \"Fixed\", \"Fixed\", \"Fixed\", \"Fixed\", \"Fixed\", \"Duplicate\", \"Fixed\", \"Fixed\", \"Fixed\", \"Fixed\", \"Fixed\", \"Fixed\", \"Fixed\", \"Won't Fix\", \"Fixed\", \"Fixed\", \"Fixed\", \"Duplicate\", \"Fixed\", \"Fixed\", \"Duplicate\", \"Fixed\", \"Fixed\", \"Fixed\", \"Fixed\", \"Fixed\", \"Fixed\", \"Fixed\", \"Duplicate\", \"Fixed\", \"Fixed\", \"Duplicate\", \"Fixed\", \"Fixed\", \"Fixed\", \"Fixed\", \"Fixed\", \"Fixed\", \"Fixed\", \"Won't Fix\", \"Fixed\", \"Fixed\", \"Fixed\", \"Fixed\", \"Fixed\", \"Fixed\", \"Fixed\", \"Duplicate\", \"Fixed\", \"Fixed\", \"Invalid\", \"Fixed\", \"Won't Fix\", \"Fixed\", \"Fixed\", \"Fixed\", \"Fixed\", \"Fixed\", \"Fixed\", \"Fixed\", \"Fixed\", \"Fixed\", \"Fixed\", \"Fixed\", \"Fixed\", \"Duplicate\", \"Fixed\", \"Fixed\", \"Fixed\", \"Invalid\", \"Fixed\", \"Fixed\", \"Fixed\", \"Fixed\", \"Fixed\", \"Fixed\", \"Fixed\", \"Fixed\", \"Fixed\", \"Fixed\", \"Fixed\", \"Fixed\", \"Fixed\", \"Duplicate\", \"Fixed\", \"Fixed\", \"Fixed\", \"Fixed\", \"Fixed\", \"Fixed\", \"Fixed\", \"Fixed\", \"Fixed\", \"Fixed\", \"Fixed\", \"Fixed\", \"Fixed\", \"Fixed\", \"Fixed\", \"Fixed\", \"Fixed\", \"Fixed\", \"Fixed\", \"Fixed\", \"Fixed\", \"Fixed\", \"Fixed\", \"Fixed\", \"Fixed\", \"Fixed\", \"Fixed\", \"Fixed\", \"Fixed\", \"Fixed\", \"Fixed\", \"Fixed\", \"Fixed\", \"Fixed\", \"Fixed\", \"Fixed\", \"Fixed\", \"Fixed\", \"Fixed\", \"Fixed\", \"Fixed\", \"Fixed\", \"Fixed\", \"Fixed\", \"Fixed\", \"Fixed\", \"Fixed\", \"Fixed\", \"Fixed\", \"Fixed\", \"Fixed\", \"Fixed\", \"Fixed\", \"Fixed\", \"Fixed\", \"Fixed\", \"Fixed\", \"Fixed\", \"Fixed\", \"Fixed\", \"Fixed\", \"Fixed\", \"Fixed\", \"Fixed\", \"Fixed\", \"Fixed\", \"Fixed\", \"Fixed\", \"Fixed\", \"Fixed\", \"Fixed\", \"Fixed\", \"Fixed\", \"Fixed\", \"Fixed\", \"Fixed\", \"Fixed\", \"Fixed\", \"Fixed\", \"Fixed\", \"Fixed\", \"Fixed\", \"Fixed\", \"Fixed\", \"Fixed\", \"Fixed\", \"Fixed\", \"Fixed\", \"Fixed\", \"Fixed\", \"Fixed\", \"Fixed\", \"Fixed\", \"Fixed\", \"Fixed\", \"Fixed\", \"Fixed\", \"Fixed\", \"Fixed\", \"Fixed\", \"Fixed\", \"Fixed\", \"Won't Fix\", \"Fixed\", \"Fixed\", \"Fixed\", \"Won't Fix\", \"Fixed\", \"Fixed\", \"Fixed\", \"Duplicate\", \"Fixed\", \"Fixed\", \"Fixed\", \"Won't Fix\", \"Fixed\", \"Fixed\", \"Fixed\", \"Fixed\", \"Fixed\", \"Fixed\", \"Fixed\", \"Fixed\", \"Fixed\", \"Fixed\", \"Fixed\", \"Fixed\", \"Fixed\", \"Fixed\", \"Invalid\", \"Duplicate\", \"Fixed\", \"Fixed\", \"Fixed\", \"Not A Problem\", \"Fixed\", \"Duplicate\", \"Fixed\", \"Fixed\", \"Duplicate\", \"Fixed\", \"Fixed\", \"Fixed\", \"Fixed\", \"Fixed\", \"Fixed\", \"Fixed\", \"Fixed\", \"Fixed\", \"Fixed\", \"Fixed\", \"Fixed\", \"Fixed\", \"Fixed\", \"Fixed\", \"Won't Fix\", \"Fixed\", \"Fixed\", \"Fixed\", \"Fixed\", \"Fixed\", \"Fixed\", \"Fixed\", \"Fixed\", \"Fixed\", \"Fixed\", \"Fixed\", \"Won't Fix\", \"Fixed\", \"Invalid\", \"Fixed\", \"Fixed\", \"Fixed\", \"Fixed\", \"Fixed\", \"Fixed\", \"Fixed\", \"Fixed\", \"Fixed\", \"Fixed\", \"Fixed\", \"Fixed\", \"Fixed\", \"Fixed\", \"Fixed\", \"Fixed\", \"Fixed\", \"Fixed\", \"Fixed\", \"Won't Fix\", \"Fixed\", \"Fixed\", \"Fixed\", \"Fixed\", \"Fixed\", \"Fixed\", \"Fixed\", \"Won't Fix\", \"Fixed\", \"Won't Fix\", \"Fixed\", \"Duplicate\", \"Fixed\", \"Fixed\", \"Fixed\", \"Fixed\", \"Not A Problem\", \"Fixed\", \"Fixed\", \"Fixed\", \"Fixed\", \"Fixed\", \"Won't Fix\", \"Fixed\", \"Fixed\", \"Fixed\", \"Fixed\", \"Fixed\", \"Fixed\", \"Fixed\", \"Fixed\", \"Fixed\", \"Fixed\", \"Fixed\", \"Fixed\", \"Fixed\", \"Fixed\", \"Fixed\", \"Fixed\", \"Fixed\", \"Fixed\", \"Fixed\", \"Fixed\", \"Fixed\", \"Fixed\", \"Fixed\", \"Fixed\", \"Fixed\", \"Duplicate\", \"Fixed\", \"Fixed\", \"Fixed\", \"Fixed\", \"Fixed\", \"Duplicate\", \"Fixed\", \"Fixed\", \"Duplicate\", \"Fixed\", \"Fixed\", \"Fixed\", \"Fixed\", \"Fixed\", \"Fixed\", \"Fixed\", \"Fixed\", \"Fixed\", \"Fixed\", \"Fixed\", \"Fixed\", \"Fixed\", \"Fixed\", \"Fixed\", \"Fixed\", \"Fixed\", \"Fixed\", \"Fixed\", \"Fixed\", \"Fixed\", \"Fixed\", \"Fixed\", \"Fixed\", \"Fixed\", \"Not A Problem\", \"Fixed\", \"Duplicate\", \"Fixed\", \"Fixed\", \"Fixed\", \"Fixed\", \"Fixed\", \"Fixed\", \"Fixed\", \"Fixed\", \"Fixed\", \"Fixed\", \"Fixed\", \"Fixed\", \"Fixed\", \"Fixed\", \"Fixed\", \"Fixed\", \"Fixed\", \"Fixed\", \"Fixed\", \"Fixed\", \"Fixed\", \"Fixed\", \"Fixed\", \"Fixed\", \"Fixed\", \"Fixed\", \"Fixed\", \"Duplicate\", \"Fixed\", \"Invalid\", \"Won't Fix\", \"Fixed\", \"Fixed\", \"Fixed\", \"Fixed\", \"Fixed\", \"Fixed\", \"Fixed\", \"Fixed\", \"Fixed\", \"Fixed\", \"Fixed\", \"Fixed\", \"Fixed\", \"Fixed\", \"Fixed\", \"Fixed\", \"Fixed\", \"Fixed\", \"Fixed\", \"Fixed\", \"Fixed\", \"Fixed\", \"Fixed\", \"Fixed\", \"Duplicate\", \"Fixed\", \"Won't Fix\", \"Won't Fix\", \"Fixed\", \"Fixed\", \"Fixed\", \"Fixed\", \"Fixed\", \"Fixed\", \"Fixed\", \"Fixed\", \"Fixed\", \"Fixed\", \"Fixed\", \"Won't Fix\", \"Fixed\", \"Fixed\", \"Fixed\", \"Fixed\", \"Invalid\", \"Fixed\", \"Fixed\", \"Fixed\", \"Fixed\", \"Fixed\", \"Fixed\", \"Fixed\", \"Fixed\", \"Fixed\", \"Fixed\", \"Fixed\", \"Fixed\", \"Fixed\", \"Later\", \"Fixed\", \"Fixed\", \"Fixed\", \"Fixed\", \"Fixed\", \"Fixed\", \"Won't Fix\", \"Fixed\", \"Fixed\", \"Fixed\", \"Fixed\", \"Fixed\", \"Fixed\", \"Fixed\", \"Fixed\", \"Fixed\", \"Invalid\", \"Fixed\", \"Fixed\", \"Fixed\", \"Fixed\", \"Fixed\", \"Fixed\"], \"y0\": \" \", \"yaxis\": \"y\"}],\n",
       "                        {\"boxmode\": \"group\", \"legend\": {\"tracegroupgap\": 0}, \"margin\": {\"t\": 60}, \"template\": {\"data\": {\"bar\": [{\"error_x\": {\"color\": \"#2a3f5f\"}, \"error_y\": {\"color\": \"#2a3f5f\"}, \"marker\": {\"line\": {\"color\": \"#E5ECF6\", \"width\": 0.5}}, \"type\": \"bar\"}], \"barpolar\": [{\"marker\": {\"line\": {\"color\": \"#E5ECF6\", \"width\": 0.5}}, \"type\": \"barpolar\"}], \"carpet\": [{\"aaxis\": {\"endlinecolor\": \"#2a3f5f\", \"gridcolor\": \"white\", \"linecolor\": \"white\", \"minorgridcolor\": \"white\", \"startlinecolor\": \"#2a3f5f\"}, \"baxis\": {\"endlinecolor\": \"#2a3f5f\", \"gridcolor\": \"white\", \"linecolor\": \"white\", \"minorgridcolor\": \"white\", \"startlinecolor\": \"#2a3f5f\"}, \"type\": \"carpet\"}], \"choropleth\": [{\"colorbar\": {\"outlinewidth\": 0, \"ticks\": \"\"}, \"type\": \"choropleth\"}], \"contour\": [{\"colorbar\": {\"outlinewidth\": 0, \"ticks\": \"\"}, \"colorscale\": [[0.0, \"#0d0887\"], [0.1111111111111111, \"#46039f\"], [0.2222222222222222, \"#7201a8\"], [0.3333333333333333, \"#9c179e\"], [0.4444444444444444, \"#bd3786\"], [0.5555555555555556, \"#d8576b\"], [0.6666666666666666, \"#ed7953\"], [0.7777777777777778, \"#fb9f3a\"], [0.8888888888888888, \"#fdca26\"], [1.0, \"#f0f921\"]], \"type\": \"contour\"}], \"contourcarpet\": [{\"colorbar\": {\"outlinewidth\": 0, \"ticks\": \"\"}, \"type\": \"contourcarpet\"}], \"heatmap\": [{\"colorbar\": {\"outlinewidth\": 0, \"ticks\": \"\"}, \"colorscale\": [[0.0, \"#0d0887\"], [0.1111111111111111, \"#46039f\"], [0.2222222222222222, \"#7201a8\"], [0.3333333333333333, \"#9c179e\"], [0.4444444444444444, \"#bd3786\"], [0.5555555555555556, \"#d8576b\"], [0.6666666666666666, \"#ed7953\"], [0.7777777777777778, \"#fb9f3a\"], [0.8888888888888888, \"#fdca26\"], [1.0, \"#f0f921\"]], \"type\": \"heatmap\"}], \"heatmapgl\": [{\"colorbar\": {\"outlinewidth\": 0, \"ticks\": \"\"}, \"colorscale\": [[0.0, \"#0d0887\"], [0.1111111111111111, \"#46039f\"], [0.2222222222222222, \"#7201a8\"], [0.3333333333333333, \"#9c179e\"], [0.4444444444444444, \"#bd3786\"], [0.5555555555555556, \"#d8576b\"], [0.6666666666666666, \"#ed7953\"], [0.7777777777777778, \"#fb9f3a\"], [0.8888888888888888, \"#fdca26\"], [1.0, \"#f0f921\"]], \"type\": \"heatmapgl\"}], \"histogram\": [{\"marker\": {\"colorbar\": {\"outlinewidth\": 0, \"ticks\": \"\"}}, \"type\": \"histogram\"}], \"histogram2d\": [{\"colorbar\": {\"outlinewidth\": 0, \"ticks\": \"\"}, \"colorscale\": [[0.0, \"#0d0887\"], [0.1111111111111111, \"#46039f\"], [0.2222222222222222, \"#7201a8\"], [0.3333333333333333, \"#9c179e\"], [0.4444444444444444, \"#bd3786\"], [0.5555555555555556, \"#d8576b\"], [0.6666666666666666, \"#ed7953\"], [0.7777777777777778, \"#fb9f3a\"], [0.8888888888888888, \"#fdca26\"], [1.0, \"#f0f921\"]], \"type\": \"histogram2d\"}], \"histogram2dcontour\": [{\"colorbar\": {\"outlinewidth\": 0, \"ticks\": \"\"}, \"colorscale\": [[0.0, \"#0d0887\"], [0.1111111111111111, \"#46039f\"], [0.2222222222222222, \"#7201a8\"], [0.3333333333333333, \"#9c179e\"], [0.4444444444444444, \"#bd3786\"], [0.5555555555555556, \"#d8576b\"], [0.6666666666666666, \"#ed7953\"], [0.7777777777777778, \"#fb9f3a\"], [0.8888888888888888, \"#fdca26\"], [1.0, \"#f0f921\"]], \"type\": \"histogram2dcontour\"}], \"mesh3d\": [{\"colorbar\": {\"outlinewidth\": 0, \"ticks\": \"\"}, \"type\": \"mesh3d\"}], \"parcoords\": [{\"line\": {\"colorbar\": {\"outlinewidth\": 0, \"ticks\": \"\"}}, \"type\": \"parcoords\"}], \"pie\": [{\"automargin\": true, \"type\": \"pie\"}], \"scatter\": [{\"marker\": {\"colorbar\": {\"outlinewidth\": 0, \"ticks\": \"\"}}, \"type\": \"scatter\"}], \"scatter3d\": [{\"line\": {\"colorbar\": {\"outlinewidth\": 0, \"ticks\": \"\"}}, \"marker\": {\"colorbar\": {\"outlinewidth\": 0, \"ticks\": \"\"}}, \"type\": \"scatter3d\"}], \"scattercarpet\": [{\"marker\": {\"colorbar\": {\"outlinewidth\": 0, \"ticks\": \"\"}}, \"type\": \"scattercarpet\"}], \"scattergeo\": [{\"marker\": {\"colorbar\": {\"outlinewidth\": 0, \"ticks\": \"\"}}, \"type\": \"scattergeo\"}], \"scattergl\": [{\"marker\": {\"colorbar\": {\"outlinewidth\": 0, \"ticks\": \"\"}}, \"type\": \"scattergl\"}], \"scattermapbox\": [{\"marker\": {\"colorbar\": {\"outlinewidth\": 0, \"ticks\": \"\"}}, \"type\": \"scattermapbox\"}], \"scatterpolar\": [{\"marker\": {\"colorbar\": {\"outlinewidth\": 0, \"ticks\": \"\"}}, \"type\": \"scatterpolar\"}], \"scatterpolargl\": [{\"marker\": {\"colorbar\": {\"outlinewidth\": 0, \"ticks\": \"\"}}, \"type\": \"scatterpolargl\"}], \"scatterternary\": [{\"marker\": {\"colorbar\": {\"outlinewidth\": 0, \"ticks\": \"\"}}, \"type\": \"scatterternary\"}], \"surface\": [{\"colorbar\": {\"outlinewidth\": 0, \"ticks\": \"\"}, \"colorscale\": [[0.0, \"#0d0887\"], [0.1111111111111111, \"#46039f\"], [0.2222222222222222, \"#7201a8\"], [0.3333333333333333, \"#9c179e\"], [0.4444444444444444, \"#bd3786\"], [0.5555555555555556, \"#d8576b\"], [0.6666666666666666, \"#ed7953\"], [0.7777777777777778, \"#fb9f3a\"], [0.8888888888888888, \"#fdca26\"], [1.0, \"#f0f921\"]], \"type\": \"surface\"}], \"table\": [{\"cells\": {\"fill\": {\"color\": \"#EBF0F8\"}, \"line\": {\"color\": \"white\"}}, \"header\": {\"fill\": {\"color\": \"#C8D4E3\"}, \"line\": {\"color\": \"white\"}}, \"type\": \"table\"}]}, \"layout\": {\"annotationdefaults\": {\"arrowcolor\": \"#2a3f5f\", \"arrowhead\": 0, \"arrowwidth\": 1}, \"coloraxis\": {\"colorbar\": {\"outlinewidth\": 0, \"ticks\": \"\"}}, \"colorscale\": {\"diverging\": [[0, \"#8e0152\"], [0.1, \"#c51b7d\"], [0.2, \"#de77ae\"], [0.3, \"#f1b6da\"], [0.4, \"#fde0ef\"], [0.5, \"#f7f7f7\"], [0.6, \"#e6f5d0\"], [0.7, \"#b8e186\"], [0.8, \"#7fbc41\"], [0.9, \"#4d9221\"], [1, \"#276419\"]], \"sequential\": [[0.0, \"#0d0887\"], [0.1111111111111111, \"#46039f\"], [0.2222222222222222, \"#7201a8\"], [0.3333333333333333, \"#9c179e\"], [0.4444444444444444, \"#bd3786\"], [0.5555555555555556, \"#d8576b\"], [0.6666666666666666, \"#ed7953\"], [0.7777777777777778, \"#fb9f3a\"], [0.8888888888888888, \"#fdca26\"], [1.0, \"#f0f921\"]], \"sequentialminus\": [[0.0, \"#0d0887\"], [0.1111111111111111, \"#46039f\"], [0.2222222222222222, \"#7201a8\"], [0.3333333333333333, \"#9c179e\"], [0.4444444444444444, \"#bd3786\"], [0.5555555555555556, \"#d8576b\"], [0.6666666666666666, \"#ed7953\"], [0.7777777777777778, \"#fb9f3a\"], [0.8888888888888888, \"#fdca26\"], [1.0, \"#f0f921\"]]}, \"colorway\": [\"#636efa\", \"#EF553B\", \"#00cc96\", \"#ab63fa\", \"#FFA15A\", \"#19d3f3\", \"#FF6692\", \"#B6E880\", \"#FF97FF\", \"#FECB52\"], \"font\": {\"color\": \"#2a3f5f\"}, \"geo\": {\"bgcolor\": \"white\", \"lakecolor\": \"white\", \"landcolor\": \"#E5ECF6\", \"showlakes\": true, \"showland\": true, \"subunitcolor\": \"white\"}, \"hoverlabel\": {\"align\": \"left\"}, \"hovermode\": \"closest\", \"mapbox\": {\"style\": \"light\"}, \"paper_bgcolor\": \"white\", \"plot_bgcolor\": \"#E5ECF6\", \"polar\": {\"angularaxis\": {\"gridcolor\": \"white\", \"linecolor\": \"white\", \"ticks\": \"\"}, \"bgcolor\": \"#E5ECF6\", \"radialaxis\": {\"gridcolor\": \"white\", \"linecolor\": \"white\", \"ticks\": \"\"}}, \"scene\": {\"xaxis\": {\"backgroundcolor\": \"#E5ECF6\", \"gridcolor\": \"white\", \"gridwidth\": 2, \"linecolor\": \"white\", \"showbackground\": true, \"ticks\": \"\", \"zerolinecolor\": \"white\"}, \"yaxis\": {\"backgroundcolor\": \"#E5ECF6\", \"gridcolor\": \"white\", \"gridwidth\": 2, \"linecolor\": \"white\", \"showbackground\": true, \"ticks\": \"\", \"zerolinecolor\": \"white\"}, \"zaxis\": {\"backgroundcolor\": \"#E5ECF6\", \"gridcolor\": \"white\", \"gridwidth\": 2, \"linecolor\": \"white\", \"showbackground\": true, \"ticks\": \"\", \"zerolinecolor\": \"white\"}}, \"shapedefaults\": {\"line\": {\"color\": \"#2a3f5f\"}}, \"ternary\": {\"aaxis\": {\"gridcolor\": \"white\", \"linecolor\": \"white\", \"ticks\": \"\"}, \"baxis\": {\"gridcolor\": \"white\", \"linecolor\": \"white\", \"ticks\": \"\"}, \"bgcolor\": \"#E5ECF6\", \"caxis\": {\"gridcolor\": \"white\", \"linecolor\": \"white\", \"ticks\": \"\"}}, \"title\": {\"x\": 0.05}, \"xaxis\": {\"automargin\": true, \"gridcolor\": \"white\", \"linecolor\": \"white\", \"ticks\": \"\", \"title\": {\"standoff\": 15}, \"zerolinecolor\": \"white\", \"zerolinewidth\": 2}, \"yaxis\": {\"automargin\": true, \"gridcolor\": \"white\", \"linecolor\": \"white\", \"ticks\": \"\", \"title\": {\"standoff\": 15}, \"zerolinecolor\": \"white\", \"zerolinewidth\": 2}}}, \"xaxis\": {\"anchor\": \"y\", \"domain\": [0.0, 1.0], \"title\": {\"text\": \"days_needed\"}}, \"yaxis\": {\"anchor\": \"x\", \"domain\": [0.0, 1.0], \"title\": {\"text\": \"resolution\"}}},\n",
       "                        {\"responsive\": true}\n",
       "                    ).then(function(){\n",
       "                            \n",
       "var gd = document.getElementById('415f422a-6396-4842-bbce-29caac7ef027');\n",
       "var x = new MutationObserver(function (mutations, observer) {{\n",
       "        var display = window.getComputedStyle(gd).display;\n",
       "        if (!display || display === 'none') {{\n",
       "            console.log([gd, 'removed!']);\n",
       "            Plotly.purge(gd);\n",
       "            observer.disconnect();\n",
       "        }}\n",
       "}});\n",
       "\n",
       "// Listen for the removal of the full notebook cells\n",
       "var notebookContainer = gd.closest('#notebook-container');\n",
       "if (notebookContainer) {{\n",
       "    x.observe(notebookContainer, {childList: true});\n",
       "}}\n",
       "\n",
       "// Listen for the clearing of the current output cell\n",
       "var outputEl = gd.closest('.output');\n",
       "if (outputEl) {{\n",
       "    x.observe(outputEl, {childList: true});\n",
       "}}\n",
       "\n",
       "                        })\n",
       "                };\n",
       "                });\n",
       "            </script>\n",
       "        </div>"
      ]
     },
     "metadata": {},
     "output_type": "display_data"
    }
   ],
   "source": [
    "test = df[['days_needed', 'resolution']]\n",
    "fig = px.box(test, x='days_needed', y=\"resolution\", orientation='h')\n",
    "fig.show()"
   ]
  },
  {
   "cell_type": "code",
   "execution_count": 11,
   "metadata": {},
   "outputs": [
    {
     "data": {
      "application/vnd.plotly.v1+json": {
       "config": {
        "plotlyServerURL": "https://plot.ly"
       },
       "data": [
        {
         "alignmentgroup": "True",
         "hovertemplate": "days_needed=%{x}<br>issue_type=%{y}<extra></extra>",
         "legendgroup": "",
         "marker": {
          "color": "#636efa"
         },
         "name": "",
         "notched": false,
         "offsetgroup": "",
         "orientation": "h",
         "showlegend": false,
         "type": "box",
         "x": [
          17,
          18,
          19,
          19,
          5,
          3,
          13,
          9,
          0,
          35,
          0,
          12,
          19,
          14,
          8,
          9,
          6,
          3,
          115,
          0,
          31,
          14,
          0,
          12,
          48,
          2,
          5,
          83,
          0,
          12,
          18,
          69,
          10,
          0,
          46,
          9,
          55,
          9,
          55,
          4,
          11,
          11,
          13,
          35,
          0,
          39,
          0,
          11,
          3,
          3,
          98,
          41,
          79,
          0,
          0,
          14,
          11,
          3,
          47,
          0,
          21,
          15,
          0,
          20,
          0,
          12,
          2,
          12,
          16,
          33,
          37,
          51,
          47,
          22,
          108,
          15,
          0,
          0,
          86,
          98,
          73,
          0,
          0,
          0,
          0,
          0,
          6,
          4,
          35,
          119,
          118,
          5,
          115,
          3,
          12,
          0,
          0,
          9,
          10,
          7,
          1,
          1,
          3,
          65,
          0,
          27,
          22,
          89,
          27,
          0,
          34,
          41,
          48,
          110,
          56,
          14,
          62,
          74,
          2,
          19,
          0,
          0,
          4,
          0,
          125,
          122,
          125,
          107,
          35,
          1,
          3,
          3,
          2,
          6,
          4,
          3,
          0,
          32,
          0,
          3,
          20,
          8,
          8,
          1,
          10,
          18,
          18,
          41,
          22,
          67,
          0,
          0,
          19,
          73,
          2,
          0,
          16,
          2,
          87,
          9,
          1,
          8,
          1,
          6,
          26,
          20,
          20,
          15,
          15,
          15,
          35,
          4,
          0,
          55,
          16,
          21,
          57,
          0,
          23,
          82,
          82,
          83,
          38,
          38,
          82,
          82,
          38,
          95,
          82,
          110,
          61,
          1,
          46,
          46,
          2,
          68,
          1,
          7,
          0,
          18,
          1,
          7,
          9,
          12,
          15,
          82,
          86,
          47,
          41,
          0,
          1,
          0,
          17,
          1,
          0,
          126,
          64,
          9,
          20,
          4,
          23,
          1,
          0,
          7,
          5,
          14,
          20,
          7,
          12,
          4,
          5,
          14,
          26,
          30,
          1,
          9,
          2,
          5,
          66,
          1,
          110,
          5,
          0,
          60,
          0,
          23,
          4,
          1,
          0,
          8,
          6,
          7,
          0,
          6,
          19,
          8,
          8,
          0,
          2,
          64,
          37,
          69,
          84,
          0,
          5,
          82,
          117,
          10,
          11,
          13,
          103,
          17,
          110,
          25,
          12,
          105,
          0,
          19,
          23,
          6,
          0,
          3,
          4,
          127,
          11,
          20,
          15,
          0,
          0,
          1,
          3,
          2,
          5,
          13,
          18,
          24,
          21,
          6,
          0,
          7,
          12,
          9,
          19,
          26,
          29,
          9,
          31,
          32,
          35,
          1,
          1,
          1,
          20,
          8,
          8,
          28,
          98,
          101,
          88,
          9,
          1,
          67,
          112,
          8,
          17,
          119,
          126,
          0,
          22,
          17,
          30,
          20,
          7,
          0,
          13,
          71,
          77,
          0,
          13,
          17,
          1,
          1,
          82,
          17,
          2,
          1,
          3,
          7,
          15,
          1,
          21,
          0,
          1,
          4,
          3,
          4,
          6,
          0,
          94,
          13,
          6,
          83,
          83,
          69,
          10,
          10,
          38,
          126,
          32,
          47,
          8,
          0,
          26,
          3,
          43,
          0,
          9,
          35,
          0,
          0,
          0,
          5,
          0,
          7,
          2,
          1,
          1,
          0,
          4,
          0,
          5,
          1,
          3,
          3,
          3,
          112,
          2,
          6,
          3,
          4,
          8,
          25,
          15,
          40,
          29,
          0,
          57,
          0,
          73,
          27,
          7,
          9,
          3,
          12,
          7,
          7,
          12,
          0,
          6,
          96,
          0,
          10,
          6,
          21,
          42,
          58,
          61,
          64,
          2,
          7,
          6,
          0,
          3,
          3,
          3,
          76,
          0,
          4,
          0,
          0,
          0,
          50,
          0,
          2,
          1,
          0,
          1,
          9,
          4,
          5,
          9,
          0,
          11,
          24,
          5,
          4,
          0,
          31,
          0,
          15,
          124,
          1,
          56,
          2,
          0,
          35,
          11,
          15,
          0,
          4,
          18,
          9,
          0,
          6,
          94,
          10,
          35,
          13,
          11,
          21,
          67,
          13,
          112,
          16,
          1,
          2,
          0,
          1,
          1,
          1,
          4,
          4,
          3,
          6,
          9,
          8,
          4,
          9,
          9,
          9,
          7,
          3,
          11,
          11,
          11,
          18,
          9,
          20,
          15,
          16,
          52,
          2,
          22,
          24,
          29,
          1,
          34,
          4,
          0,
          51,
          50,
          56,
          54,
          36,
          62,
          2,
          63,
          0,
          1,
          0,
          0,
          0,
          1,
          8,
          9,
          13,
          7,
          20,
          99,
          1,
          0,
          0,
          0,
          3,
          5,
          1,
          9,
          12,
          11,
          13,
          14,
          42,
          14,
          1,
          1,
          0,
          17,
          3,
          35,
          0,
          21,
          22,
          1,
          1,
          35,
          7,
          1,
          57,
          0,
          0,
          0,
          1,
          62,
          53,
          0,
          7,
          10,
          7,
          7,
          21,
          18,
          0,
          28,
          87,
          33,
          0,
          1,
          0,
          7,
          0,
          3,
          7,
          1,
          6,
          0,
          0,
          0,
          1,
          6,
          0,
          0,
          0,
          0,
          8,
          0,
          0,
          3,
          103,
          1,
          5,
          4,
          4,
          4,
          4,
          8,
          3,
          4,
          4,
          0,
          5,
          0,
          1,
          0,
          1,
          3,
          0,
          0,
          0,
          2,
          2,
          2,
          3,
          4,
          2,
          6,
          10,
          5,
          0,
          3,
          1,
          2,
          8,
          2,
          4,
          12,
          12,
          1,
          21,
          2,
          3,
          55,
          8,
          8,
          1,
          41,
          1,
          3,
          59,
          70,
          14,
          41,
          61,
          3,
          65,
          0,
          67,
          14,
          4,
          37,
          0,
          60,
          1,
          3,
          7,
          1,
          117,
          71,
          19,
          36,
          17,
          0,
          2,
          3,
          0,
          9,
          43,
          42,
          0,
          5,
          0,
          0,
          0,
          4,
          2,
          6,
          69,
          26,
          5,
          0,
          6,
          12,
          12,
          12,
          99,
          0,
          0,
          29,
          91,
          30,
          20,
          1,
          13,
          8,
          7,
          8,
          7,
          5,
          19,
          0,
          113,
          2,
          2,
          2,
          3,
          1,
          8,
          0,
          0,
          2,
          69,
          16,
          26,
          7,
          3,
          19,
          19,
          23,
          23,
          7,
          27,
          17,
          2,
          0,
          21,
          14,
          2,
          5,
          0,
          54,
          9,
          5,
          13,
          0,
          0,
          0,
          39,
          2,
          4,
          5,
          60,
          6,
          5,
          8,
          15,
          6,
          14,
          46,
          42,
          1,
          69,
          1,
          115,
          33,
          5,
          0,
          9,
          9,
          5,
          93,
          69,
          2,
          4,
          0,
          59,
          0,
          34,
          35,
          77,
          43,
          1,
          28,
          2,
          2,
          0,
          16,
          5,
          5,
          13,
          18,
          2,
          103,
          5,
          0,
          0,
          4,
          127,
          9,
          6,
          10,
          0,
          0,
          1,
          0,
          61,
          105,
          0,
          0,
          107,
          62,
          21,
          0,
          0,
          4,
          1,
          18,
          0,
          0,
          0,
          4,
          0,
          0,
          3,
          0,
          1,
          6,
          1,
          2,
          13,
          9,
          5,
          6,
          4,
          20,
          8,
          5,
          0,
          0,
          1,
          7,
          25,
          8,
          40,
          6,
          31,
          0,
          53,
          3,
          56,
          33,
          48,
          1,
          42,
          35,
          34,
          34,
          7,
          10,
          1,
          0,
          47,
          0,
          10,
          0,
          0,
          0,
          0,
          0,
          69,
          5,
          0,
          4,
          2,
          62,
          4,
          0,
          102,
          0,
          4,
          115,
          0,
          123,
          11,
          11,
          11,
          3,
          4,
          0,
          1,
          3,
          0,
          0,
          3,
          104,
          69,
          21,
          2,
          1,
          1,
          0,
          3,
          41,
          2,
          2,
          90,
          1,
          7,
          0,
          9,
          1,
          13,
          0,
          0,
          0,
          0,
          2,
          19,
          20,
          0,
          0,
          6,
          0,
          0,
          14,
          32,
          11,
          0,
          99,
          9,
          1,
          1,
          1,
          1,
          3,
          0,
          1,
          0,
          4,
          5,
          4,
          0,
          0,
          2,
          5,
          27,
          0,
          0,
          26,
          2,
          1,
          3,
          7,
          0,
          0,
          0,
          0,
          0,
          0,
          3,
          0,
          0,
          0,
          1,
          6,
          1,
          0,
          0,
          0,
          0,
          16,
          1,
          1,
          3,
          3,
          4,
          1,
          0,
          5,
          0,
          0,
          2,
          0,
          0,
          0,
          1,
          23,
          3,
          0,
          0,
          0,
          4,
          0,
          0,
          0,
          0,
          12,
          0,
          0,
          0,
          5,
          6,
          0,
          0,
          0,
          14,
          28,
          0,
          0,
          3,
          0,
          10,
          19,
          19,
          3,
          0,
          0,
          3,
          0,
          63,
          0,
          0,
          1,
          21,
          0,
          35,
          47,
          19,
          21,
          21,
          0,
          34,
          0,
          2,
          1,
          0,
          2,
          0,
          0,
          2,
          0,
          8,
          2,
          0,
          1,
          4,
          4,
          33,
          2,
          0,
          0,
          1,
          0,
          3,
          7,
          41,
          8,
          6,
          3,
          7,
          7,
          0,
          8,
          13,
          8,
          0,
          5,
          1,
          16,
          2,
          13,
          6,
          7,
          52,
          11,
          21,
          13,
          0,
          1,
          1,
          21,
          29,
          31,
          1,
          1,
          7,
          7,
          29,
          99,
          45,
          7,
          9,
          6,
          7,
          0,
          0,
          3,
          4,
          0,
          54,
          0,
          0,
          56,
          0,
          0,
          0,
          0,
          0,
          1,
          46,
          46,
          0,
          46,
          5,
          2,
          1,
          1,
          78,
          53,
          56,
          47,
          0,
          2,
          3,
          2,
          0,
          3,
          63,
          1,
          1,
          0,
          0,
          0,
          1,
          1,
          0,
          0,
          0,
          1,
          5,
          27,
          6,
          70,
          0,
          0,
          1,
          6,
          0,
          2,
          0,
          19,
          19,
          13,
          0,
          0,
          0,
          0,
          21,
          83,
          1,
          63,
          71,
          17,
          8,
          0,
          0,
          34,
          84,
          0,
          12,
          6,
          1,
          8,
          1,
          1,
          0,
          1,
          0,
          1,
          108,
          1,
          1,
          5,
          6,
          99,
          0,
          107,
          0,
          106,
          0,
          0,
          0,
          0,
          1,
          2,
          1,
          2,
          1,
          2,
          12,
          0,
          13,
          3,
          1,
          0,
          6,
          3,
          0,
          5,
          42,
          2,
          37,
          0,
          35,
          15,
          0,
          38,
          2,
          9,
          3,
          13,
          4,
          0,
          7,
          11,
          2,
          3,
          26,
          5,
          6,
          123,
          2,
          1,
          0,
          25,
          0,
          2,
          11,
          11,
          0,
          1,
          0,
          0,
          1,
          16,
          7,
          63,
          0,
          55,
          22,
          4,
          3,
          3,
          0,
          0,
          31,
          0,
          1,
          39,
          12,
          2,
          22,
          0,
          0,
          0,
          1,
          93,
          1,
          0,
          0,
          3,
          32,
          7,
          0,
          20,
          0,
          44,
          51,
          47,
          16,
          36,
          41,
          18,
          81,
          25,
          17,
          0,
          6,
          0,
          0,
          38,
          0,
          38,
          14,
          27,
          1,
          3,
          3,
          3,
          0,
          53,
          17
         ],
         "x0": " ",
         "xaxis": "x",
         "y": [
          "Improvement",
          "Bug",
          "Bug",
          "Bug",
          "Bug",
          "Bug",
          "Improvement",
          "Improvement",
          "Improvement",
          "Improvement",
          "Task",
          "Bug",
          "Bug",
          "Improvement",
          "Improvement",
          "Bug",
          "Improvement",
          "Improvement",
          "Improvement",
          "Bug",
          "Improvement",
          "Bug",
          "Task",
          "Bug",
          "New Feature",
          "Bug",
          "Task",
          "Bug",
          "Wish",
          "Bug",
          "Bug",
          "Sub-task",
          "Improvement",
          "Bug",
          "New Feature",
          "Improvement",
          "Improvement",
          "Improvement",
          "Improvement",
          "Improvement",
          "Improvement",
          "Improvement",
          "Improvement",
          "Improvement",
          "Bug",
          "Improvement",
          "Improvement",
          "Bug",
          "Bug",
          "Improvement",
          "Task",
          "Bug",
          "Improvement",
          "Bug",
          "Task",
          "Bug",
          "Bug",
          "Bug",
          "New Feature",
          "Improvement",
          "Bug",
          "Bug",
          "Bug",
          "Bug",
          "Improvement",
          "Task",
          "Bug",
          "Bug",
          "Task",
          "Task",
          "Improvement",
          "Improvement",
          "Bug",
          "Bug",
          "Improvement",
          "Bug",
          "Bug",
          "Bug",
          "Improvement",
          "Bug",
          "Bug",
          "Bug",
          "Bug",
          "Bug",
          "Bug",
          "Bug",
          "Bug",
          "Bug",
          "Bug",
          "Bug",
          "Bug",
          "Improvement",
          "Bug",
          "Bug",
          "Bug",
          "Bug",
          "Task",
          "Task",
          "Improvement",
          "Bug",
          "Bug",
          "Improvement",
          "Bug",
          "Improvement",
          "Bug",
          "Bug",
          "Bug",
          "Bug",
          "Improvement",
          "Bug",
          "Bug",
          "Bug",
          "Wish",
          "Bug",
          "Improvement",
          "Bug",
          "Bug",
          "Bug",
          "Bug",
          "Bug",
          "Bug",
          "Bug",
          "Bug",
          "Improvement",
          "Bug",
          "Bug",
          "Bug",
          "Bug",
          "New Feature",
          "Bug",
          "Improvement",
          "Improvement",
          "Improvement",
          "Improvement",
          "Bug",
          "Improvement",
          "Improvement",
          "New Feature",
          "Bug",
          "Improvement",
          "Improvement",
          "Bug",
          "Improvement",
          "Bug",
          "Improvement",
          "Bug",
          "Bug",
          "Bug",
          "Wish",
          "Bug",
          "Bug",
          "Bug",
          "Bug",
          "Task",
          "Improvement",
          "Bug",
          "Task",
          "Bug",
          "Improvement",
          "Bug",
          "Bug",
          "Bug",
          "Bug",
          "Bug",
          "Improvement",
          "Bug",
          "Sub-task",
          "Bug",
          "Sub-task",
          "Bug",
          "Improvement",
          "Improvement",
          "Task",
          "Improvement",
          "Bug",
          "Bug",
          "Improvement",
          "Bug",
          "Bug",
          "Sub-task",
          "Sub-task",
          "Sub-task",
          "Sub-task",
          "Sub-task",
          "Sub-task",
          "Sub-task",
          "Sub-task",
          "Sub-task",
          "Sub-task",
          "Task",
          "Bug",
          "Bug",
          "Improvement",
          "Bug",
          "Improvement",
          "Wish",
          "Improvement",
          "Task",
          "Bug",
          "Bug",
          "Bug",
          "Improvement",
          "Improvement",
          "Wish",
          "Improvement",
          "Bug",
          "Bug",
          "Bug",
          "Improvement",
          "Improvement",
          "Bug",
          "Task",
          "Bug",
          "Bug",
          "Bug",
          "Improvement",
          "Bug",
          "Bug",
          "Bug",
          "Improvement",
          "Bug",
          "Bug",
          "Bug",
          "Bug",
          "Improvement",
          "Improvement",
          "New Feature",
          "Wish",
          "Bug",
          "Bug",
          "Bug",
          "Bug",
          "Bug",
          "Bug",
          "Bug",
          "Bug",
          "Bug",
          "Bug",
          "Sub-task",
          "Improvement",
          "Bug",
          "Improvement",
          "Bug",
          "Improvement",
          "Bug",
          "Bug",
          "Bug",
          "Improvement",
          "Improvement",
          "New Feature",
          "New Feature",
          "Bug",
          "Bug",
          "Bug",
          "Improvement",
          "Bug",
          "Bug",
          "Bug",
          "Bug",
          "Improvement",
          "Bug",
          "Bug",
          "Bug",
          "Improvement",
          "Improvement",
          "Improvement",
          "Bug",
          "Bug",
          "Improvement",
          "Improvement",
          "Bug",
          "Bug",
          "Bug",
          "Bug",
          "Bug",
          "Bug",
          "Bug",
          "Bug",
          "Bug",
          "Improvement",
          "Bug",
          "Bug",
          "Bug",
          "Bug",
          "Bug",
          "New Feature",
          "Bug",
          "Bug",
          "Bug",
          "Improvement",
          "Bug",
          "Improvement",
          "Bug",
          "Improvement",
          "New Feature",
          "Bug",
          "Improvement",
          "Bug",
          "Improvement",
          "Bug",
          "New Feature",
          "Bug",
          "Bug",
          "Bug",
          "Improvement",
          "Test",
          "Improvement",
          "New Feature",
          "New Feature",
          "Improvement",
          "Bug",
          "Bug",
          "New Feature",
          "Bug",
          "Bug",
          "Improvement",
          "Bug",
          "Bug",
          "Improvement",
          "Bug",
          "Bug",
          "New Feature",
          "Bug",
          "Bug",
          "Bug",
          "Bug",
          "Bug",
          "Improvement",
          "New Feature",
          "Bug",
          "Bug",
          "Improvement",
          "Improvement",
          "Bug",
          "Bug",
          "New Feature",
          "Improvement",
          "Bug",
          "New Feature",
          "New Feature",
          "Improvement",
          "Bug",
          "Improvement",
          "Improvement",
          "Bug",
          "Bug",
          "New Feature",
          "Bug",
          "Improvement",
          "Improvement",
          "Bug",
          "Bug",
          "Bug",
          "New Feature",
          "Improvement",
          "Bug",
          "Improvement",
          "Improvement",
          "Bug",
          "Bug",
          "Bug",
          "Bug",
          "Bug",
          "Bug",
          "New Feature",
          "Test",
          "Improvement",
          "Bug",
          "Improvement",
          "New Feature",
          "Bug",
          "Bug",
          "Improvement",
          "Improvement",
          "Bug",
          "Bug",
          "Improvement",
          "Improvement",
          "Bug",
          "Bug",
          "Improvement",
          "Improvement",
          "Improvement",
          "New Feature",
          "Bug",
          "New Feature",
          "Bug",
          "Improvement",
          "Bug",
          "Improvement",
          "Improvement",
          "Bug",
          "Improvement",
          "Bug",
          "Bug",
          "Improvement",
          "Bug",
          "Improvement",
          "Bug",
          "Bug",
          "Improvement",
          "Bug",
          "Bug",
          "Bug",
          "Improvement",
          "Bug",
          "Bug",
          "Bug",
          "Bug",
          "Improvement",
          "Improvement",
          "Improvement",
          "Improvement",
          "Bug",
          "New Feature",
          "Improvement",
          "Bug",
          "Bug",
          "Bug",
          "Bug",
          "Bug",
          "New Feature",
          "New Feature",
          "Bug",
          "Bug",
          "Bug",
          "Bug",
          "Bug",
          "Bug",
          "Bug",
          "Improvement",
          "Bug",
          "Bug",
          "Bug",
          "Bug",
          "Bug",
          "Bug",
          "Bug",
          "Improvement",
          "Bug",
          "Bug",
          "Improvement",
          "Bug",
          "Bug",
          "Bug",
          "Bug",
          "Improvement",
          "Bug",
          "Improvement",
          "Improvement",
          "Bug",
          "Bug",
          "Bug",
          "Bug",
          "Bug",
          "Bug",
          "Improvement",
          "Bug",
          "Bug",
          "Bug",
          "Bug",
          "Bug",
          "Improvement",
          "Bug",
          "Improvement",
          "Bug",
          "Improvement",
          "Bug",
          "Bug",
          "Improvement",
          "Bug",
          "Bug",
          "Bug",
          "Bug",
          "Bug",
          "Bug",
          "Bug",
          "New Feature",
          "New Feature",
          "New Feature",
          "Improvement",
          "Bug",
          "Bug",
          "Bug",
          "Bug",
          "Bug",
          "Bug",
          "Improvement",
          "Bug",
          "Bug",
          "Bug",
          "Improvement",
          "Bug",
          "Improvement",
          "Bug",
          "Bug",
          "New Feature",
          "Bug",
          "Bug",
          "Bug",
          "Bug",
          "Bug",
          "Improvement",
          "Bug",
          "Bug",
          "Bug",
          "Improvement",
          "Improvement",
          "Bug",
          "Bug",
          "Bug",
          "Improvement",
          "Bug",
          "Bug",
          "Improvement",
          "Improvement",
          "Bug",
          "Bug",
          "Bug",
          "New Feature",
          "Bug",
          "Bug",
          "Bug",
          "Bug",
          "Bug",
          "Bug",
          "Improvement",
          "Improvement",
          "Bug",
          "Bug",
          "Bug",
          "Bug",
          "Bug",
          "Bug",
          "Bug",
          "Bug",
          "Bug",
          "Bug",
          "Improvement",
          "Bug",
          "Bug",
          "Improvement",
          "Improvement",
          "Bug",
          "Improvement",
          "Bug",
          "Bug",
          "Improvement",
          "Improvement",
          "Improvement",
          "Bug",
          "New Feature",
          "Improvement",
          "Bug",
          "Bug",
          "Bug",
          "Improvement",
          "Bug",
          "Bug",
          "Bug",
          "Bug",
          "Improvement",
          "Bug",
          "Bug",
          "Bug",
          "Bug",
          "Improvement",
          "Bug",
          "Bug",
          "Improvement",
          "Improvement",
          "Bug",
          "Improvement",
          "Bug",
          "Bug",
          "Bug",
          "Improvement",
          "Improvement",
          "Bug",
          "Improvement",
          "Improvement",
          "New Feature",
          "New Feature",
          "Improvement",
          "Improvement",
          "Bug",
          "Bug",
          "Bug",
          "Improvement",
          "Bug",
          "Bug",
          "Bug",
          "Bug",
          "Improvement",
          "Improvement",
          "Improvement",
          "Improvement",
          "Bug",
          "Improvement",
          "Improvement",
          "Bug",
          "Improvement",
          "Bug",
          "Bug",
          "Bug",
          "Bug",
          "Bug",
          "Improvement",
          "Bug",
          "New Feature",
          "New Feature",
          "New Feature",
          "New Feature",
          "New Feature",
          "Improvement",
          "Bug",
          "Bug",
          "Improvement",
          "Bug",
          "Bug",
          "Bug",
          "Improvement",
          "Improvement",
          "Sub-task",
          "New Feature",
          "Improvement",
          "Bug",
          "Improvement",
          "Bug",
          "Bug",
          "Bug",
          "Bug",
          "Bug",
          "Improvement",
          "Bug",
          "Bug",
          "Bug",
          "Bug",
          "Improvement",
          "Bug",
          "Improvement",
          "Improvement",
          "Improvement",
          "Improvement",
          "Improvement",
          "Improvement",
          "Bug",
          "New Feature",
          "Task",
          "Bug",
          "Test",
          "Improvement",
          "Task",
          "New Feature",
          "Improvement",
          "Improvement",
          "Improvement",
          "Bug",
          "Bug",
          "Bug",
          "New Feature",
          "Improvement",
          "Bug",
          "New Feature",
          "Bug",
          "Improvement",
          "Improvement",
          "Improvement",
          "Improvement",
          "Test",
          "Bug",
          "Bug",
          "Improvement",
          "Bug",
          "Improvement",
          "Improvement",
          "Improvement",
          "Improvement",
          "New Feature",
          "New Feature",
          "Bug",
          "Bug",
          "New Feature",
          "Improvement",
          "Improvement",
          "Bug",
          "Bug",
          "Bug",
          "Bug",
          "Bug",
          "Bug",
          "Bug",
          "Bug",
          "Improvement",
          "Task",
          "Improvement",
          "Bug",
          "New Feature",
          "New Feature",
          "Improvement",
          "Bug",
          "Improvement",
          "Improvement",
          "Bug",
          "Improvement",
          "Improvement",
          "Bug",
          "Bug",
          "Wish",
          "Bug",
          "Improvement",
          "New Feature",
          "Improvement",
          "Bug",
          "Improvement",
          "Improvement",
          "Improvement",
          "Bug",
          "Test",
          "Bug",
          "Bug",
          "Improvement",
          "Improvement",
          "Bug",
          "Improvement",
          "Improvement",
          "Improvement",
          "Improvement",
          "Bug",
          "Improvement",
          "New Feature",
          "Bug",
          "Bug",
          "New Feature",
          "Improvement",
          "Bug",
          "Improvement",
          "Improvement",
          "Improvement",
          "Improvement",
          "New Feature",
          "Bug",
          "Bug",
          "New Feature",
          "Bug",
          "Bug",
          "Bug",
          "Bug",
          "Bug",
          "Sub-task",
          "Bug",
          "Bug",
          "Improvement",
          "Bug",
          "Improvement",
          "New Feature",
          "New Feature",
          "Task",
          "Improvement",
          "Improvement",
          "New Feature",
          "Bug",
          "Bug",
          "Improvement",
          "Bug",
          "Bug",
          "Task",
          "Task",
          "Bug",
          "Improvement",
          "Bug",
          "Improvement",
          "Bug",
          "Improvement",
          "Bug",
          "Bug",
          "Bug",
          "Bug",
          "Bug",
          "Improvement",
          "Bug",
          "Test",
          "Bug",
          "Bug",
          "Bug",
          "Improvement",
          "New Feature",
          "Bug",
          "New Feature",
          "Bug",
          "New Feature",
          "Improvement",
          "Improvement",
          "Bug",
          "Sub-task",
          "Bug",
          "New Feature",
          "Improvement",
          "Bug",
          "Improvement",
          "Bug",
          "Improvement",
          "Bug",
          "Bug",
          "Bug",
          "Bug",
          "New Feature",
          "Bug",
          "Improvement",
          "Bug",
          "Bug",
          "Bug",
          "Improvement",
          "Improvement",
          "Improvement",
          "Test",
          "Improvement",
          "Bug",
          "Improvement",
          "New Feature",
          "Bug",
          "Improvement",
          "New Feature",
          "Sub-task",
          "Improvement",
          "Bug",
          "Bug",
          "Bug",
          "New Feature",
          "Improvement",
          "Bug",
          "Bug",
          "Improvement",
          "Bug",
          "Improvement",
          "New Feature",
          "Improvement",
          "Sub-task",
          "Sub-task",
          "Bug",
          "New Feature",
          "Bug",
          "Bug",
          "Sub-task",
          "Improvement",
          "Bug",
          "Improvement",
          "Improvement",
          "Improvement",
          "New Feature",
          "Improvement",
          "Bug",
          "Bug",
          "Sub-task",
          "Bug",
          "Bug",
          "Bug",
          "Improvement",
          "Sub-task",
          "Improvement",
          "Sub-task",
          "Bug",
          "Improvement",
          "New Feature",
          "New Feature",
          "Sub-task",
          "Sub-task",
          "New Feature",
          "Bug",
          "Bug",
          "Bug",
          "New Feature",
          "Wish",
          "Bug",
          "Improvement",
          "Improvement",
          "Bug",
          "Improvement",
          "Improvement",
          "Bug",
          "Bug",
          "Bug",
          "New Feature",
          "Improvement",
          "Bug",
          "Bug",
          "New Feature",
          "Bug",
          "New Feature",
          "Bug",
          "New Feature",
          "Bug",
          "Improvement",
          "Improvement",
          "Bug",
          "Bug",
          "Improvement",
          "Bug",
          "Bug",
          "Bug",
          "Bug",
          "Improvement",
          "Improvement",
          "New Feature",
          "Improvement",
          "Improvement",
          "Bug",
          "Improvement",
          "Bug",
          "Bug",
          "Bug",
          "Improvement",
          "Bug",
          "Improvement",
          "New Feature",
          "Improvement",
          "Improvement",
          "Bug",
          "Bug",
          "Improvement",
          "Bug",
          "Improvement",
          "Bug",
          "Bug",
          "Wish",
          "Bug",
          "Bug",
          "Improvement",
          "Improvement",
          "Improvement",
          "Improvement",
          "Improvement",
          "Improvement",
          "Bug",
          "New Feature",
          "Bug",
          "Bug",
          "Improvement",
          "New Feature",
          "Improvement",
          "Sub-task",
          "Sub-task",
          "Bug",
          "Improvement",
          "Improvement",
          "Bug",
          "Bug",
          "New Feature",
          "Bug",
          "Improvement",
          "Improvement",
          "Improvement",
          "Bug",
          "Improvement",
          "Bug",
          "Bug",
          "Bug",
          "Bug",
          "Bug",
          "Improvement",
          "New Feature",
          "Bug",
          "Improvement",
          "Bug",
          "Improvement",
          "Improvement",
          "Bug",
          "Bug",
          "Improvement",
          "New Feature",
          "Bug",
          "Improvement",
          "Test",
          "Bug",
          "Improvement",
          "Improvement",
          "Improvement",
          "New Feature",
          "Improvement",
          "Bug",
          "Bug",
          "Improvement",
          "Bug",
          "Improvement",
          "Bug",
          "Improvement",
          "Improvement",
          "Bug",
          "Improvement",
          "Improvement",
          "Improvement",
          "Improvement",
          "Improvement",
          "Bug",
          "Bug",
          "Bug",
          "Improvement",
          "Improvement",
          "Improvement",
          "Improvement",
          "Improvement",
          "Improvement",
          "Improvement",
          "Test",
          "Bug",
          "Task",
          "Improvement",
          "Bug",
          "Bug",
          "Improvement",
          "Improvement",
          "Bug",
          "Improvement",
          "Sub-task",
          "Improvement",
          "Bug",
          "New Feature",
          "Improvement",
          "Improvement",
          "Improvement",
          "Improvement",
          "Improvement",
          "Improvement",
          "Bug",
          "Bug",
          "Bug",
          "Bug",
          "Improvement",
          "Improvement",
          "Bug",
          "Improvement",
          "Improvement",
          "New Feature",
          "New Feature",
          "Improvement",
          "New Feature",
          "New Feature",
          "Test",
          "Improvement",
          "Bug",
          "Test",
          "Improvement",
          "Improvement",
          "Improvement",
          "Bug",
          "Improvement",
          "Bug",
          "Bug",
          "New Feature",
          "Improvement",
          "Improvement",
          "New Feature",
          "Test",
          "Improvement",
          "Improvement",
          "Improvement",
          "Improvement",
          "Test",
          "Test",
          "Bug",
          "Bug",
          "Test",
          "Improvement",
          "Test",
          "Bug",
          "Bug",
          "Bug",
          "New Feature",
          "Improvement",
          "Bug",
          "New Feature",
          "New Feature",
          "New Feature",
          "New Feature",
          "New Feature",
          "Test",
          "Improvement",
          "New Feature",
          "Improvement",
          "Improvement",
          "Bug",
          "New Feature",
          "Improvement",
          "Bug",
          "New Feature",
          "Bug",
          "Bug",
          "Bug",
          "New Feature",
          "Improvement",
          "Improvement",
          "New Feature",
          "Improvement",
          "Bug",
          "Improvement",
          "New Feature",
          "Improvement",
          "Improvement",
          "New Feature",
          "Improvement",
          "Improvement",
          "Bug",
          "Improvement",
          "Improvement",
          "Improvement",
          "Improvement",
          "Bug",
          "Improvement",
          "Improvement",
          "Bug",
          "Improvement",
          "Bug",
          "Improvement",
          "Bug",
          "Bug",
          "Improvement",
          "Improvement",
          "Improvement",
          "Improvement",
          "Improvement",
          "Improvement",
          "Improvement",
          "Bug",
          "Bug",
          "Bug",
          "Bug",
          "Bug",
          "Bug",
          "Improvement",
          "Improvement",
          "Improvement",
          "Improvement",
          "Improvement",
          "Improvement",
          "Improvement",
          "Bug",
          "Improvement",
          "Improvement",
          "Bug",
          "Bug",
          "Improvement",
          "Bug",
          "Improvement",
          "Bug",
          "Bug",
          "Improvement",
          "Improvement",
          "Improvement",
          "Bug",
          "Bug",
          "Task",
          "Improvement",
          "Improvement",
          "Improvement",
          "Improvement",
          "Bug",
          "Improvement",
          "Improvement",
          "Bug",
          "Bug",
          "Bug",
          "Improvement",
          "Improvement",
          "Improvement",
          "Bug",
          "Improvement",
          "Improvement",
          "Bug",
          "Test",
          "Improvement",
          "New Feature",
          "Improvement",
          "Bug",
          "Improvement",
          "New Feature",
          "New Feature",
          "New Feature",
          "New Feature",
          "Improvement",
          "Improvement",
          "New Feature",
          "Improvement",
          "Bug",
          "Improvement",
          "New Feature",
          "Bug",
          "Bug",
          "New Feature",
          "Bug",
          "Bug",
          "Bug",
          "Improvement",
          "Bug",
          "New Feature",
          "Improvement",
          "New Feature",
          "Improvement",
          "Bug",
          "Bug",
          "Bug",
          "Bug",
          "Improvement",
          "Improvement",
          "Bug",
          "Bug",
          "Bug",
          "Improvement",
          "Improvement",
          "Bug",
          "Bug",
          "Improvement",
          "Improvement",
          "Improvement",
          "New Feature",
          "New Feature",
          "Bug",
          "Bug",
          "New Feature",
          "Task",
          "Bug",
          "Wish",
          "Improvement",
          "Improvement",
          "Bug",
          "Improvement",
          "Bug",
          "Bug",
          "Bug",
          "New Feature",
          "Bug",
          "Improvement",
          "Bug",
          "Bug",
          "Bug",
          "Bug",
          "Improvement",
          "Improvement",
          "Test",
          "Bug",
          "Bug",
          "Bug",
          "Bug",
          "Sub-task",
          "Bug",
          "Sub-task",
          "Task",
          "Improvement",
          "Sub-task",
          "Sub-task",
          "Improvement",
          "Sub-task",
          "New Feature",
          "New Feature",
          "Bug",
          "Improvement",
          "Improvement",
          "Bug",
          "Sub-task",
          "Improvement",
          "New Feature",
          "Improvement",
          "Improvement",
          "Improvement",
          "Improvement",
          "Improvement",
          "Bug",
          "New Feature",
          "Improvement",
          "Task",
          "Bug",
          "Bug",
          "Bug",
          "Bug",
          "New Feature",
          "New Feature",
          "Bug",
          "Bug",
          "Improvement",
          "Improvement",
          "Bug",
          "Improvement",
          "New Feature",
          "Improvement",
          "Bug",
          "Improvement",
          "Improvement",
          "New Feature",
          "Test",
          "Improvement",
          "Bug",
          "Improvement",
          "New Feature",
          "New Feature",
          "Improvement",
          "Improvement",
          "Improvement",
          "Bug",
          "Improvement",
          "Bug",
          "Improvement",
          "Improvement",
          "Improvement",
          "Improvement",
          "Bug",
          "Improvement",
          "Test",
          "Bug",
          "Bug",
          "Improvement",
          "Bug"
         ],
         "y0": " ",
         "yaxis": "y"
        }
       ],
       "layout": {
        "boxmode": "group",
        "legend": {
         "tracegroupgap": 0
        },
        "margin": {
         "t": 60
        },
        "template": {
         "data": {
          "bar": [
           {
            "error_x": {
             "color": "#2a3f5f"
            },
            "error_y": {
             "color": "#2a3f5f"
            },
            "marker": {
             "line": {
              "color": "#E5ECF6",
              "width": 0.5
             }
            },
            "type": "bar"
           }
          ],
          "barpolar": [
           {
            "marker": {
             "line": {
              "color": "#E5ECF6",
              "width": 0.5
             }
            },
            "type": "barpolar"
           }
          ],
          "carpet": [
           {
            "aaxis": {
             "endlinecolor": "#2a3f5f",
             "gridcolor": "white",
             "linecolor": "white",
             "minorgridcolor": "white",
             "startlinecolor": "#2a3f5f"
            },
            "baxis": {
             "endlinecolor": "#2a3f5f",
             "gridcolor": "white",
             "linecolor": "white",
             "minorgridcolor": "white",
             "startlinecolor": "#2a3f5f"
            },
            "type": "carpet"
           }
          ],
          "choropleth": [
           {
            "colorbar": {
             "outlinewidth": 0,
             "ticks": ""
            },
            "type": "choropleth"
           }
          ],
          "contour": [
           {
            "colorbar": {
             "outlinewidth": 0,
             "ticks": ""
            },
            "colorscale": [
             [
              0,
              "#0d0887"
             ],
             [
              0.1111111111111111,
              "#46039f"
             ],
             [
              0.2222222222222222,
              "#7201a8"
             ],
             [
              0.3333333333333333,
              "#9c179e"
             ],
             [
              0.4444444444444444,
              "#bd3786"
             ],
             [
              0.5555555555555556,
              "#d8576b"
             ],
             [
              0.6666666666666666,
              "#ed7953"
             ],
             [
              0.7777777777777778,
              "#fb9f3a"
             ],
             [
              0.8888888888888888,
              "#fdca26"
             ],
             [
              1,
              "#f0f921"
             ]
            ],
            "type": "contour"
           }
          ],
          "contourcarpet": [
           {
            "colorbar": {
             "outlinewidth": 0,
             "ticks": ""
            },
            "type": "contourcarpet"
           }
          ],
          "heatmap": [
           {
            "colorbar": {
             "outlinewidth": 0,
             "ticks": ""
            },
            "colorscale": [
             [
              0,
              "#0d0887"
             ],
             [
              0.1111111111111111,
              "#46039f"
             ],
             [
              0.2222222222222222,
              "#7201a8"
             ],
             [
              0.3333333333333333,
              "#9c179e"
             ],
             [
              0.4444444444444444,
              "#bd3786"
             ],
             [
              0.5555555555555556,
              "#d8576b"
             ],
             [
              0.6666666666666666,
              "#ed7953"
             ],
             [
              0.7777777777777778,
              "#fb9f3a"
             ],
             [
              0.8888888888888888,
              "#fdca26"
             ],
             [
              1,
              "#f0f921"
             ]
            ],
            "type": "heatmap"
           }
          ],
          "heatmapgl": [
           {
            "colorbar": {
             "outlinewidth": 0,
             "ticks": ""
            },
            "colorscale": [
             [
              0,
              "#0d0887"
             ],
             [
              0.1111111111111111,
              "#46039f"
             ],
             [
              0.2222222222222222,
              "#7201a8"
             ],
             [
              0.3333333333333333,
              "#9c179e"
             ],
             [
              0.4444444444444444,
              "#bd3786"
             ],
             [
              0.5555555555555556,
              "#d8576b"
             ],
             [
              0.6666666666666666,
              "#ed7953"
             ],
             [
              0.7777777777777778,
              "#fb9f3a"
             ],
             [
              0.8888888888888888,
              "#fdca26"
             ],
             [
              1,
              "#f0f921"
             ]
            ],
            "type": "heatmapgl"
           }
          ],
          "histogram": [
           {
            "marker": {
             "colorbar": {
              "outlinewidth": 0,
              "ticks": ""
             }
            },
            "type": "histogram"
           }
          ],
          "histogram2d": [
           {
            "colorbar": {
             "outlinewidth": 0,
             "ticks": ""
            },
            "colorscale": [
             [
              0,
              "#0d0887"
             ],
             [
              0.1111111111111111,
              "#46039f"
             ],
             [
              0.2222222222222222,
              "#7201a8"
             ],
             [
              0.3333333333333333,
              "#9c179e"
             ],
             [
              0.4444444444444444,
              "#bd3786"
             ],
             [
              0.5555555555555556,
              "#d8576b"
             ],
             [
              0.6666666666666666,
              "#ed7953"
             ],
             [
              0.7777777777777778,
              "#fb9f3a"
             ],
             [
              0.8888888888888888,
              "#fdca26"
             ],
             [
              1,
              "#f0f921"
             ]
            ],
            "type": "histogram2d"
           }
          ],
          "histogram2dcontour": [
           {
            "colorbar": {
             "outlinewidth": 0,
             "ticks": ""
            },
            "colorscale": [
             [
              0,
              "#0d0887"
             ],
             [
              0.1111111111111111,
              "#46039f"
             ],
             [
              0.2222222222222222,
              "#7201a8"
             ],
             [
              0.3333333333333333,
              "#9c179e"
             ],
             [
              0.4444444444444444,
              "#bd3786"
             ],
             [
              0.5555555555555556,
              "#d8576b"
             ],
             [
              0.6666666666666666,
              "#ed7953"
             ],
             [
              0.7777777777777778,
              "#fb9f3a"
             ],
             [
              0.8888888888888888,
              "#fdca26"
             ],
             [
              1,
              "#f0f921"
             ]
            ],
            "type": "histogram2dcontour"
           }
          ],
          "mesh3d": [
           {
            "colorbar": {
             "outlinewidth": 0,
             "ticks": ""
            },
            "type": "mesh3d"
           }
          ],
          "parcoords": [
           {
            "line": {
             "colorbar": {
              "outlinewidth": 0,
              "ticks": ""
             }
            },
            "type": "parcoords"
           }
          ],
          "pie": [
           {
            "automargin": true,
            "type": "pie"
           }
          ],
          "scatter": [
           {
            "marker": {
             "colorbar": {
              "outlinewidth": 0,
              "ticks": ""
             }
            },
            "type": "scatter"
           }
          ],
          "scatter3d": [
           {
            "line": {
             "colorbar": {
              "outlinewidth": 0,
              "ticks": ""
             }
            },
            "marker": {
             "colorbar": {
              "outlinewidth": 0,
              "ticks": ""
             }
            },
            "type": "scatter3d"
           }
          ],
          "scattercarpet": [
           {
            "marker": {
             "colorbar": {
              "outlinewidth": 0,
              "ticks": ""
             }
            },
            "type": "scattercarpet"
           }
          ],
          "scattergeo": [
           {
            "marker": {
             "colorbar": {
              "outlinewidth": 0,
              "ticks": ""
             }
            },
            "type": "scattergeo"
           }
          ],
          "scattergl": [
           {
            "marker": {
             "colorbar": {
              "outlinewidth": 0,
              "ticks": ""
             }
            },
            "type": "scattergl"
           }
          ],
          "scattermapbox": [
           {
            "marker": {
             "colorbar": {
              "outlinewidth": 0,
              "ticks": ""
             }
            },
            "type": "scattermapbox"
           }
          ],
          "scatterpolar": [
           {
            "marker": {
             "colorbar": {
              "outlinewidth": 0,
              "ticks": ""
             }
            },
            "type": "scatterpolar"
           }
          ],
          "scatterpolargl": [
           {
            "marker": {
             "colorbar": {
              "outlinewidth": 0,
              "ticks": ""
             }
            },
            "type": "scatterpolargl"
           }
          ],
          "scatterternary": [
           {
            "marker": {
             "colorbar": {
              "outlinewidth": 0,
              "ticks": ""
             }
            },
            "type": "scatterternary"
           }
          ],
          "surface": [
           {
            "colorbar": {
             "outlinewidth": 0,
             "ticks": ""
            },
            "colorscale": [
             [
              0,
              "#0d0887"
             ],
             [
              0.1111111111111111,
              "#46039f"
             ],
             [
              0.2222222222222222,
              "#7201a8"
             ],
             [
              0.3333333333333333,
              "#9c179e"
             ],
             [
              0.4444444444444444,
              "#bd3786"
             ],
             [
              0.5555555555555556,
              "#d8576b"
             ],
             [
              0.6666666666666666,
              "#ed7953"
             ],
             [
              0.7777777777777778,
              "#fb9f3a"
             ],
             [
              0.8888888888888888,
              "#fdca26"
             ],
             [
              1,
              "#f0f921"
             ]
            ],
            "type": "surface"
           }
          ],
          "table": [
           {
            "cells": {
             "fill": {
              "color": "#EBF0F8"
             },
             "line": {
              "color": "white"
             }
            },
            "header": {
             "fill": {
              "color": "#C8D4E3"
             },
             "line": {
              "color": "white"
             }
            },
            "type": "table"
           }
          ]
         },
         "layout": {
          "annotationdefaults": {
           "arrowcolor": "#2a3f5f",
           "arrowhead": 0,
           "arrowwidth": 1
          },
          "coloraxis": {
           "colorbar": {
            "outlinewidth": 0,
            "ticks": ""
           }
          },
          "colorscale": {
           "diverging": [
            [
             0,
             "#8e0152"
            ],
            [
             0.1,
             "#c51b7d"
            ],
            [
             0.2,
             "#de77ae"
            ],
            [
             0.3,
             "#f1b6da"
            ],
            [
             0.4,
             "#fde0ef"
            ],
            [
             0.5,
             "#f7f7f7"
            ],
            [
             0.6,
             "#e6f5d0"
            ],
            [
             0.7,
             "#b8e186"
            ],
            [
             0.8,
             "#7fbc41"
            ],
            [
             0.9,
             "#4d9221"
            ],
            [
             1,
             "#276419"
            ]
           ],
           "sequential": [
            [
             0,
             "#0d0887"
            ],
            [
             0.1111111111111111,
             "#46039f"
            ],
            [
             0.2222222222222222,
             "#7201a8"
            ],
            [
             0.3333333333333333,
             "#9c179e"
            ],
            [
             0.4444444444444444,
             "#bd3786"
            ],
            [
             0.5555555555555556,
             "#d8576b"
            ],
            [
             0.6666666666666666,
             "#ed7953"
            ],
            [
             0.7777777777777778,
             "#fb9f3a"
            ],
            [
             0.8888888888888888,
             "#fdca26"
            ],
            [
             1,
             "#f0f921"
            ]
           ],
           "sequentialminus": [
            [
             0,
             "#0d0887"
            ],
            [
             0.1111111111111111,
             "#46039f"
            ],
            [
             0.2222222222222222,
             "#7201a8"
            ],
            [
             0.3333333333333333,
             "#9c179e"
            ],
            [
             0.4444444444444444,
             "#bd3786"
            ],
            [
             0.5555555555555556,
             "#d8576b"
            ],
            [
             0.6666666666666666,
             "#ed7953"
            ],
            [
             0.7777777777777778,
             "#fb9f3a"
            ],
            [
             0.8888888888888888,
             "#fdca26"
            ],
            [
             1,
             "#f0f921"
            ]
           ]
          },
          "colorway": [
           "#636efa",
           "#EF553B",
           "#00cc96",
           "#ab63fa",
           "#FFA15A",
           "#19d3f3",
           "#FF6692",
           "#B6E880",
           "#FF97FF",
           "#FECB52"
          ],
          "font": {
           "color": "#2a3f5f"
          },
          "geo": {
           "bgcolor": "white",
           "lakecolor": "white",
           "landcolor": "#E5ECF6",
           "showlakes": true,
           "showland": true,
           "subunitcolor": "white"
          },
          "hoverlabel": {
           "align": "left"
          },
          "hovermode": "closest",
          "mapbox": {
           "style": "light"
          },
          "paper_bgcolor": "white",
          "plot_bgcolor": "#E5ECF6",
          "polar": {
           "angularaxis": {
            "gridcolor": "white",
            "linecolor": "white",
            "ticks": ""
           },
           "bgcolor": "#E5ECF6",
           "radialaxis": {
            "gridcolor": "white",
            "linecolor": "white",
            "ticks": ""
           }
          },
          "scene": {
           "xaxis": {
            "backgroundcolor": "#E5ECF6",
            "gridcolor": "white",
            "gridwidth": 2,
            "linecolor": "white",
            "showbackground": true,
            "ticks": "",
            "zerolinecolor": "white"
           },
           "yaxis": {
            "backgroundcolor": "#E5ECF6",
            "gridcolor": "white",
            "gridwidth": 2,
            "linecolor": "white",
            "showbackground": true,
            "ticks": "",
            "zerolinecolor": "white"
           },
           "zaxis": {
            "backgroundcolor": "#E5ECF6",
            "gridcolor": "white",
            "gridwidth": 2,
            "linecolor": "white",
            "showbackground": true,
            "ticks": "",
            "zerolinecolor": "white"
           }
          },
          "shapedefaults": {
           "line": {
            "color": "#2a3f5f"
           }
          },
          "ternary": {
           "aaxis": {
            "gridcolor": "white",
            "linecolor": "white",
            "ticks": ""
           },
           "baxis": {
            "gridcolor": "white",
            "linecolor": "white",
            "ticks": ""
           },
           "bgcolor": "#E5ECF6",
           "caxis": {
            "gridcolor": "white",
            "linecolor": "white",
            "ticks": ""
           }
          },
          "title": {
           "x": 0.05
          },
          "xaxis": {
           "automargin": true,
           "gridcolor": "white",
           "linecolor": "white",
           "ticks": "",
           "title": {
            "standoff": 15
           },
           "zerolinecolor": "white",
           "zerolinewidth": 2
          },
          "yaxis": {
           "automargin": true,
           "gridcolor": "white",
           "linecolor": "white",
           "ticks": "",
           "title": {
            "standoff": 15
           },
           "zerolinecolor": "white",
           "zerolinewidth": 2
          }
         }
        },
        "xaxis": {
         "anchor": "y",
         "domain": [
          0,
          1
         ],
         "title": {
          "text": "days_needed"
         }
        },
        "yaxis": {
         "anchor": "x",
         "domain": [
          0,
          1
         ],
         "title": {
          "text": "issue_type"
         }
        }
       }
      },
      "text/html": [
       "<div>\n",
       "        \n",
       "        \n",
       "            <div id=\"2d863fa1-f1ca-48bc-9959-27209d64ab24\" class=\"plotly-graph-div\" style=\"height:525px; width:100%;\"></div>\n",
       "            <script type=\"text/javascript\">\n",
       "                require([\"plotly\"], function(Plotly) {\n",
       "                    window.PLOTLYENV=window.PLOTLYENV || {};\n",
       "                    \n",
       "                if (document.getElementById(\"2d863fa1-f1ca-48bc-9959-27209d64ab24\")) {\n",
       "                    Plotly.newPlot(\n",
       "                        '2d863fa1-f1ca-48bc-9959-27209d64ab24',\n",
       "                        [{\"alignmentgroup\": \"True\", \"hovertemplate\": \"days_needed=%{x}<br>issue_type=%{y}<extra></extra>\", \"legendgroup\": \"\", \"marker\": {\"color\": \"#636efa\"}, \"name\": \"\", \"notched\": false, \"offsetgroup\": \"\", \"orientation\": \"h\", \"showlegend\": false, \"type\": \"box\", \"x\": [17.0, 18.0, 19.0, 19.0, 5.0, 3.0, 13.0, 9.0, 0.0, 35.0, 0.0, 12.0, 19.0, 14.0, 8.0, 9.0, 6.0, 3.0, 115.0, 0.0, 31.0, 14.0, 0.0, 12.0, 48.0, 2.0, 5.0, 83.0, 0.0, 12.0, 18.0, 69.0, 10.0, 0.0, 46.0, 9.0, 55.0, 9.0, 55.0, 4.0, 11.0, 11.0, 13.0, 35.0, 0.0, 39.0, 0.0, 11.0, 3.0, 3.0, 98.0, 41.0, 79.0, 0.0, 0.0, 14.0, 11.0, 3.0, 47.0, 0.0, 21.0, 15.0, 0.0, 20.0, 0.0, 12.0, 2.0, 12.0, 16.0, 33.0, 37.0, 51.0, 47.0, 22.0, 108.0, 15.0, 0.0, 0.0, 86.0, 98.0, 73.0, 0.0, 0.0, 0.0, 0.0, 0.0, 6.0, 4.0, 35.0, 119.0, 118.0, 5.0, 115.0, 3.0, 12.0, 0.0, 0.0, 9.0, 10.0, 7.0, 1.0, 1.0, 3.0, 65.0, 0.0, 27.0, 22.0, 89.0, 27.0, 0.0, 34.0, 41.0, 48.0, 110.0, 56.0, 14.0, 62.0, 74.0, 2.0, 19.0, 0.0, 0.0, 4.0, 0.0, 125.0, 122.0, 125.0, 107.0, 35.0, 1.0, 3.0, 3.0, 2.0, 6.0, 4.0, 3.0, 0.0, 32.0, 0.0, 3.0, 20.0, 8.0, 8.0, 1.0, 10.0, 18.0, 18.0, 41.0, 22.0, 67.0, 0.0, 0.0, 19.0, 73.0, 2.0, 0.0, 16.0, 2.0, 87.0, 9.0, 1.0, 8.0, 1.0, 6.0, 26.0, 20.0, 20.0, 15.0, 15.0, 15.0, 35.0, 4.0, 0.0, 55.0, 16.0, 21.0, 57.0, 0.0, 23.0, 82.0, 82.0, 83.0, 38.0, 38.0, 82.0, 82.0, 38.0, 95.0, 82.0, 110.0, 61.0, 1.0, 46.0, 46.0, 2.0, 68.0, 1.0, 7.0, 0.0, 18.0, 1.0, 7.0, 9.0, 12.0, 15.0, 82.0, 86.0, 47.0, 41.0, 0.0, 1.0, 0.0, 17.0, 1.0, 0.0, 126.0, 64.0, 9.0, 20.0, 4.0, 23.0, 1.0, 0.0, 7.0, 5.0, 14.0, 20.0, 7.0, 12.0, 4.0, 5.0, 14.0, 26.0, 30.0, 1.0, 9.0, 2.0, 5.0, 66.0, 1.0, 110.0, 5.0, 0.0, 60.0, 0.0, 23.0, 4.0, 1.0, 0.0, 8.0, 6.0, 7.0, 0.0, 6.0, 19.0, 8.0, 8.0, 0.0, 2.0, 64.0, 37.0, 69.0, 84.0, 0.0, 5.0, 82.0, 117.0, 10.0, 11.0, 13.0, 103.0, 17.0, 110.0, 25.0, 12.0, 105.0, 0.0, 19.0, 23.0, 6.0, 0.0, 3.0, 4.0, 127.0, 11.0, 20.0, 15.0, 0.0, 0.0, 1.0, 3.0, 2.0, 5.0, 13.0, 18.0, 24.0, 21.0, 6.0, 0.0, 7.0, 12.0, 9.0, 19.0, 26.0, 29.0, 9.0, 31.0, 32.0, 35.0, 1.0, 1.0, 1.0, 20.0, 8.0, 8.0, 28.0, 98.0, 101.0, 88.0, 9.0, 1.0, 67.0, 112.0, 8.0, 17.0, 119.0, 126.0, 0.0, 22.0, 17.0, 30.0, 20.0, 7.0, 0.0, 13.0, 71.0, 77.0, 0.0, 13.0, 17.0, 1.0, 1.0, 82.0, 17.0, 2.0, 1.0, 3.0, 7.0, 15.0, 1.0, 21.0, 0.0, 1.0, 4.0, 3.0, 4.0, 6.0, 0.0, 94.0, 13.0, 6.0, 83.0, 83.0, 69.0, 10.0, 10.0, 38.0, 126.0, 32.0, 47.0, 8.0, 0.0, 26.0, 3.0, 43.0, 0.0, 9.0, 35.0, 0.0, 0.0, 0.0, 5.0, 0.0, 7.0, 2.0, 1.0, 1.0, 0.0, 4.0, 0.0, 5.0, 1.0, 3.0, 3.0, 3.0, 112.0, 2.0, 6.0, 3.0, 4.0, 8.0, 25.0, 15.0, 40.0, 29.0, 0.0, 57.0, 0.0, 73.0, 27.0, 7.0, 9.0, 3.0, 12.0, 7.0, 7.0, 12.0, 0.0, 6.0, 96.0, 0.0, 10.0, 6.0, 21.0, 42.0, 58.0, 61.0, 64.0, 2.0, 7.0, 6.0, 0.0, 3.0, 3.0, 3.0, 76.0, 0.0, 4.0, 0.0, 0.0, 0.0, 50.0, 0.0, 2.0, 1.0, 0.0, 1.0, 9.0, 4.0, 5.0, 9.0, 0.0, 11.0, 24.0, 5.0, 4.0, 0.0, 31.0, 0.0, 15.0, 124.0, 1.0, 56.0, 2.0, 0.0, 35.0, 11.0, 15.0, 0.0, 4.0, 18.0, 9.0, 0.0, 6.0, 94.0, 10.0, 35.0, 13.0, 11.0, 21.0, 67.0, 13.0, 112.0, 16.0, 1.0, 2.0, 0.0, 1.0, 1.0, 1.0, 4.0, 4.0, 3.0, 6.0, 9.0, 8.0, 4.0, 9.0, 9.0, 9.0, 7.0, 3.0, 11.0, 11.0, 11.0, 18.0, 9.0, 20.0, 15.0, 16.0, 52.0, 2.0, 22.0, 24.0, 29.0, 1.0, 34.0, 4.0, 0.0, 51.0, 50.0, 56.0, 54.0, 36.0, 62.0, 2.0, 63.0, 0.0, 1.0, 0.0, 0.0, 0.0, 1.0, 8.0, 9.0, 13.0, 7.0, 20.0, 99.0, 1.0, 0.0, 0.0, 0.0, 3.0, 5.0, 1.0, 9.0, 12.0, 11.0, 13.0, 14.0, 42.0, 14.0, 1.0, 1.0, 0.0, 17.0, 3.0, 35.0, 0.0, 21.0, 22.0, 1.0, 1.0, 35.0, 7.0, 1.0, 57.0, 0.0, 0.0, 0.0, 1.0, 62.0, 53.0, 0.0, 7.0, 10.0, 7.0, 7.0, 21.0, 18.0, 0.0, 28.0, 87.0, 33.0, 0.0, 1.0, 0.0, 7.0, 0.0, 3.0, 7.0, 1.0, 6.0, 0.0, 0.0, 0.0, 1.0, 6.0, 0.0, 0.0, 0.0, 0.0, 8.0, 0.0, 0.0, 3.0, 103.0, 1.0, 5.0, 4.0, 4.0, 4.0, 4.0, 8.0, 3.0, 4.0, 4.0, 0.0, 5.0, 0.0, 1.0, 0.0, 1.0, 3.0, 0.0, 0.0, 0.0, 2.0, 2.0, 2.0, 3.0, 4.0, 2.0, 6.0, 10.0, 5.0, 0.0, 3.0, 1.0, 2.0, 8.0, 2.0, 4.0, 12.0, 12.0, 1.0, 21.0, 2.0, 3.0, 55.0, 8.0, 8.0, 1.0, 41.0, 1.0, 3.0, 59.0, 70.0, 14.0, 41.0, 61.0, 3.0, 65.0, 0.0, 67.0, 14.0, 4.0, 37.0, 0.0, 60.0, 1.0, 3.0, 7.0, 1.0, 117.0, 71.0, 19.0, 36.0, 17.0, 0.0, 2.0, 3.0, 0.0, 9.0, 43.0, 42.0, 0.0, 5.0, 0.0, 0.0, 0.0, 4.0, 2.0, 6.0, 69.0, 26.0, 5.0, 0.0, 6.0, 12.0, 12.0, 12.0, 99.0, 0.0, 0.0, 29.0, 91.0, 30.0, 20.0, 1.0, 13.0, 8.0, 7.0, 8.0, 7.0, 5.0, 19.0, 0.0, 113.0, 2.0, 2.0, 2.0, 3.0, 1.0, 8.0, 0.0, 0.0, 2.0, 69.0, 16.0, 26.0, 7.0, 3.0, 19.0, 19.0, 23.0, 23.0, 7.0, 27.0, 17.0, 2.0, 0.0, 21.0, 14.0, 2.0, 5.0, 0.0, 54.0, 9.0, 5.0, 13.0, 0.0, 0.0, 0.0, 39.0, 2.0, 4.0, 5.0, 60.0, 6.0, 5.0, 8.0, 15.0, 6.0, 14.0, 46.0, 42.0, 1.0, 69.0, 1.0, 115.0, 33.0, 5.0, 0.0, 9.0, 9.0, 5.0, 93.0, 69.0, 2.0, 4.0, 0.0, 59.0, 0.0, 34.0, 35.0, 77.0, 43.0, 1.0, 28.0, 2.0, 2.0, 0.0, 16.0, 5.0, 5.0, 13.0, 18.0, 2.0, 103.0, 5.0, 0.0, 0.0, 4.0, 127.0, 9.0, 6.0, 10.0, 0.0, 0.0, 1.0, 0.0, 61.0, 105.0, 0.0, 0.0, 107.0, 62.0, 21.0, 0.0, 0.0, 4.0, 1.0, 18.0, 0.0, 0.0, 0.0, 4.0, 0.0, 0.0, 3.0, 0.0, 1.0, 6.0, 1.0, 2.0, 13.0, 9.0, 5.0, 6.0, 4.0, 20.0, 8.0, 5.0, 0.0, 0.0, 1.0, 7.0, 25.0, 8.0, 40.0, 6.0, 31.0, 0.0, 53.0, 3.0, 56.0, 33.0, 48.0, 1.0, 42.0, 35.0, 34.0, 34.0, 7.0, 10.0, 1.0, 0.0, 47.0, 0.0, 10.0, 0.0, 0.0, 0.0, 0.0, 0.0, 69.0, 5.0, 0.0, 4.0, 2.0, 62.0, 4.0, 0.0, 102.0, 0.0, 4.0, 115.0, 0.0, 123.0, 11.0, 11.0, 11.0, 3.0, 4.0, 0.0, 1.0, 3.0, 0.0, 0.0, 3.0, 104.0, 69.0, 21.0, 2.0, 1.0, 1.0, 0.0, 3.0, 41.0, 2.0, 2.0, 90.0, 1.0, 7.0, 0.0, 9.0, 1.0, 13.0, 0.0, 0.0, 0.0, 0.0, 2.0, 19.0, 20.0, 0.0, 0.0, 6.0, 0.0, 0.0, 14.0, 32.0, 11.0, 0.0, 99.0, 9.0, 1.0, 1.0, 1.0, 1.0, 3.0, 0.0, 1.0, 0.0, 4.0, 5.0, 4.0, 0.0, 0.0, 2.0, 5.0, 27.0, 0.0, 0.0, 26.0, 2.0, 1.0, 3.0, 7.0, 0.0, 0.0, 0.0, 0.0, 0.0, 0.0, 3.0, 0.0, 0.0, 0.0, 1.0, 6.0, 1.0, 0.0, 0.0, 0.0, 0.0, 16.0, 1.0, 1.0, 3.0, 3.0, 4.0, 1.0, 0.0, 5.0, 0.0, 0.0, 2.0, 0.0, 0.0, 0.0, 1.0, 23.0, 3.0, 0.0, 0.0, 0.0, 4.0, 0.0, 0.0, 0.0, 0.0, 12.0, 0.0, 0.0, 0.0, 5.0, 6.0, 0.0, 0.0, 0.0, 14.0, 28.0, 0.0, 0.0, 3.0, 0.0, 10.0, 19.0, 19.0, 3.0, 0.0, 0.0, 3.0, 0.0, 63.0, 0.0, 0.0, 1.0, 21.0, 0.0, 35.0, 47.0, 19.0, 21.0, 21.0, 0.0, 34.0, 0.0, 2.0, 1.0, 0.0, 2.0, 0.0, 0.0, 2.0, 0.0, 8.0, 2.0, 0.0, 1.0, 4.0, 4.0, 33.0, 2.0, 0.0, 0.0, 1.0, 0.0, 3.0, 7.0, 41.0, 8.0, 6.0, 3.0, 7.0, 7.0, 0.0, 8.0, 13.0, 8.0, 0.0, 5.0, 1.0, 16.0, 2.0, 13.0, 6.0, 7.0, 52.0, 11.0, 21.0, 13.0, 0.0, 1.0, 1.0, 21.0, 29.0, 31.0, 1.0, 1.0, 7.0, 7.0, 29.0, 99.0, 45.0, 7.0, 9.0, 6.0, 7.0, 0.0, 0.0, 3.0, 4.0, 0.0, 54.0, 0.0, 0.0, 56.0, 0.0, 0.0, 0.0, 0.0, 0.0, 1.0, 46.0, 46.0, 0.0, 46.0, 5.0, 2.0, 1.0, 1.0, 78.0, 53.0, 56.0, 47.0, 0.0, 2.0, 3.0, 2.0, 0.0, 3.0, 63.0, 1.0, 1.0, 0.0, 0.0, 0.0, 1.0, 1.0, 0.0, 0.0, 0.0, 1.0, 5.0, 27.0, 6.0, 70.0, 0.0, 0.0, 1.0, 6.0, 0.0, 2.0, 0.0, 19.0, 19.0, 13.0, 0.0, 0.0, 0.0, 0.0, 21.0, 83.0, 1.0, 63.0, 71.0, 17.0, 8.0, 0.0, 0.0, 34.0, 84.0, 0.0, 12.0, 6.0, 1.0, 8.0, 1.0, 1.0, 0.0, 1.0, 0.0, 1.0, 108.0, 1.0, 1.0, 5.0, 6.0, 99.0, 0.0, 107.0, 0.0, 106.0, 0.0, 0.0, 0.0, 0.0, 1.0, 2.0, 1.0, 2.0, 1.0, 2.0, 12.0, 0.0, 13.0, 3.0, 1.0, 0.0, 6.0, 3.0, 0.0, 5.0, 42.0, 2.0, 37.0, 0.0, 35.0, 15.0, 0.0, 38.0, 2.0, 9.0, 3.0, 13.0, 4.0, 0.0, 7.0, 11.0, 2.0, 3.0, 26.0, 5.0, 6.0, 123.0, 2.0, 1.0, 0.0, 25.0, 0.0, 2.0, 11.0, 11.0, 0.0, 1.0, 0.0, 0.0, 1.0, 16.0, 7.0, 63.0, 0.0, 55.0, 22.0, 4.0, 3.0, 3.0, 0.0, 0.0, 31.0, 0.0, 1.0, 39.0, 12.0, 2.0, 22.0, 0.0, 0.0, 0.0, 1.0, 93.0, 1.0, 0.0, 0.0, 3.0, 32.0, 7.0, 0.0, 20.0, 0.0, 44.0, 51.0, 47.0, 16.0, 36.0, 41.0, 18.0, 81.0, 25.0, 17.0, 0.0, 6.0, 0.0, 0.0, 38.0, 0.0, 38.0, 14.0, 27.0, 1.0, 3.0, 3.0, 3.0, 0.0, 53.0, 17.0], \"x0\": \" \", \"xaxis\": \"x\", \"y\": [\"Improvement\", \"Bug\", \"Bug\", \"Bug\", \"Bug\", \"Bug\", \"Improvement\", \"Improvement\", \"Improvement\", \"Improvement\", \"Task\", \"Bug\", \"Bug\", \"Improvement\", \"Improvement\", \"Bug\", \"Improvement\", \"Improvement\", \"Improvement\", \"Bug\", \"Improvement\", \"Bug\", \"Task\", \"Bug\", \"New Feature\", \"Bug\", \"Task\", \"Bug\", \"Wish\", \"Bug\", \"Bug\", \"Sub-task\", \"Improvement\", \"Bug\", \"New Feature\", \"Improvement\", \"Improvement\", \"Improvement\", \"Improvement\", \"Improvement\", \"Improvement\", \"Improvement\", \"Improvement\", \"Improvement\", \"Bug\", \"Improvement\", \"Improvement\", \"Bug\", \"Bug\", \"Improvement\", \"Task\", \"Bug\", \"Improvement\", \"Bug\", \"Task\", \"Bug\", \"Bug\", \"Bug\", \"New Feature\", \"Improvement\", \"Bug\", \"Bug\", \"Bug\", \"Bug\", \"Improvement\", \"Task\", \"Bug\", \"Bug\", \"Task\", \"Task\", \"Improvement\", \"Improvement\", \"Bug\", \"Bug\", \"Improvement\", \"Bug\", \"Bug\", \"Bug\", \"Improvement\", \"Bug\", \"Bug\", \"Bug\", \"Bug\", \"Bug\", \"Bug\", \"Bug\", \"Bug\", \"Bug\", \"Bug\", \"Bug\", \"Bug\", \"Improvement\", \"Bug\", \"Bug\", \"Bug\", \"Bug\", \"Task\", \"Task\", \"Improvement\", \"Bug\", \"Bug\", \"Improvement\", \"Bug\", \"Improvement\", \"Bug\", \"Bug\", \"Bug\", \"Bug\", \"Improvement\", \"Bug\", \"Bug\", \"Bug\", \"Wish\", \"Bug\", \"Improvement\", \"Bug\", \"Bug\", \"Bug\", \"Bug\", \"Bug\", \"Bug\", \"Bug\", \"Bug\", \"Improvement\", \"Bug\", \"Bug\", \"Bug\", \"Bug\", \"New Feature\", \"Bug\", \"Improvement\", \"Improvement\", \"Improvement\", \"Improvement\", \"Bug\", \"Improvement\", \"Improvement\", \"New Feature\", \"Bug\", \"Improvement\", \"Improvement\", \"Bug\", \"Improvement\", \"Bug\", \"Improvement\", \"Bug\", \"Bug\", \"Bug\", \"Wish\", \"Bug\", \"Bug\", \"Bug\", \"Bug\", \"Task\", \"Improvement\", \"Bug\", \"Task\", \"Bug\", \"Improvement\", \"Bug\", \"Bug\", \"Bug\", \"Bug\", \"Bug\", \"Improvement\", \"Bug\", \"Sub-task\", \"Bug\", \"Sub-task\", \"Bug\", \"Improvement\", \"Improvement\", \"Task\", \"Improvement\", \"Bug\", \"Bug\", \"Improvement\", \"Bug\", \"Bug\", \"Sub-task\", \"Sub-task\", \"Sub-task\", \"Sub-task\", \"Sub-task\", \"Sub-task\", \"Sub-task\", \"Sub-task\", \"Sub-task\", \"Sub-task\", \"Task\", \"Bug\", \"Bug\", \"Improvement\", \"Bug\", \"Improvement\", \"Wish\", \"Improvement\", \"Task\", \"Bug\", \"Bug\", \"Bug\", \"Improvement\", \"Improvement\", \"Wish\", \"Improvement\", \"Bug\", \"Bug\", \"Bug\", \"Improvement\", \"Improvement\", \"Bug\", \"Task\", \"Bug\", \"Bug\", \"Bug\", \"Improvement\", \"Bug\", \"Bug\", \"Bug\", \"Improvement\", \"Bug\", \"Bug\", \"Bug\", \"Bug\", \"Improvement\", \"Improvement\", \"New Feature\", \"Wish\", \"Bug\", \"Bug\", \"Bug\", \"Bug\", \"Bug\", \"Bug\", \"Bug\", \"Bug\", \"Bug\", \"Bug\", \"Sub-task\", \"Improvement\", \"Bug\", \"Improvement\", \"Bug\", \"Improvement\", \"Bug\", \"Bug\", \"Bug\", \"Improvement\", \"Improvement\", \"New Feature\", \"New Feature\", \"Bug\", \"Bug\", \"Bug\", \"Improvement\", \"Bug\", \"Bug\", \"Bug\", \"Bug\", \"Improvement\", \"Bug\", \"Bug\", \"Bug\", \"Improvement\", \"Improvement\", \"Improvement\", \"Bug\", \"Bug\", \"Improvement\", \"Improvement\", \"Bug\", \"Bug\", \"Bug\", \"Bug\", \"Bug\", \"Bug\", \"Bug\", \"Bug\", \"Bug\", \"Improvement\", \"Bug\", \"Bug\", \"Bug\", \"Bug\", \"Bug\", \"New Feature\", \"Bug\", \"Bug\", \"Bug\", \"Improvement\", \"Bug\", \"Improvement\", \"Bug\", \"Improvement\", \"New Feature\", \"Bug\", \"Improvement\", \"Bug\", \"Improvement\", \"Bug\", \"New Feature\", \"Bug\", \"Bug\", \"Bug\", \"Improvement\", \"Test\", \"Improvement\", \"New Feature\", \"New Feature\", \"Improvement\", \"Bug\", \"Bug\", \"New Feature\", \"Bug\", \"Bug\", \"Improvement\", \"Bug\", \"Bug\", \"Improvement\", \"Bug\", \"Bug\", \"New Feature\", \"Bug\", \"Bug\", \"Bug\", \"Bug\", \"Bug\", \"Improvement\", \"New Feature\", \"Bug\", \"Bug\", \"Improvement\", \"Improvement\", \"Bug\", \"Bug\", \"New Feature\", \"Improvement\", \"Bug\", \"New Feature\", \"New Feature\", \"Improvement\", \"Bug\", \"Improvement\", \"Improvement\", \"Bug\", \"Bug\", \"New Feature\", \"Bug\", \"Improvement\", \"Improvement\", \"Bug\", \"Bug\", \"Bug\", \"New Feature\", \"Improvement\", \"Bug\", \"Improvement\", \"Improvement\", \"Bug\", \"Bug\", \"Bug\", \"Bug\", \"Bug\", \"Bug\", \"New Feature\", \"Test\", \"Improvement\", \"Bug\", \"Improvement\", \"New Feature\", \"Bug\", \"Bug\", \"Improvement\", \"Improvement\", \"Bug\", \"Bug\", \"Improvement\", \"Improvement\", \"Bug\", \"Bug\", \"Improvement\", \"Improvement\", \"Improvement\", \"New Feature\", \"Bug\", \"New Feature\", \"Bug\", \"Improvement\", \"Bug\", \"Improvement\", \"Improvement\", \"Bug\", \"Improvement\", \"Bug\", \"Bug\", \"Improvement\", \"Bug\", \"Improvement\", \"Bug\", \"Bug\", \"Improvement\", \"Bug\", \"Bug\", \"Bug\", \"Improvement\", \"Bug\", \"Bug\", \"Bug\", \"Bug\", \"Improvement\", \"Improvement\", \"Improvement\", \"Improvement\", \"Bug\", \"New Feature\", \"Improvement\", \"Bug\", \"Bug\", \"Bug\", \"Bug\", \"Bug\", \"New Feature\", \"New Feature\", \"Bug\", \"Bug\", \"Bug\", \"Bug\", \"Bug\", \"Bug\", \"Bug\", \"Improvement\", \"Bug\", \"Bug\", \"Bug\", \"Bug\", \"Bug\", \"Bug\", \"Bug\", \"Improvement\", \"Bug\", \"Bug\", \"Improvement\", \"Bug\", \"Bug\", \"Bug\", \"Bug\", \"Improvement\", \"Bug\", \"Improvement\", \"Improvement\", \"Bug\", \"Bug\", \"Bug\", \"Bug\", \"Bug\", \"Bug\", \"Improvement\", \"Bug\", \"Bug\", \"Bug\", \"Bug\", \"Bug\", \"Improvement\", \"Bug\", \"Improvement\", \"Bug\", \"Improvement\", \"Bug\", \"Bug\", \"Improvement\", \"Bug\", \"Bug\", \"Bug\", \"Bug\", \"Bug\", \"Bug\", \"Bug\", \"New Feature\", \"New Feature\", \"New Feature\", \"Improvement\", \"Bug\", \"Bug\", \"Bug\", \"Bug\", \"Bug\", \"Bug\", \"Improvement\", \"Bug\", \"Bug\", \"Bug\", \"Improvement\", \"Bug\", \"Improvement\", \"Bug\", \"Bug\", \"New Feature\", \"Bug\", \"Bug\", \"Bug\", \"Bug\", \"Bug\", \"Improvement\", \"Bug\", \"Bug\", \"Bug\", \"Improvement\", \"Improvement\", \"Bug\", \"Bug\", \"Bug\", \"Improvement\", \"Bug\", \"Bug\", \"Improvement\", \"Improvement\", \"Bug\", \"Bug\", \"Bug\", \"New Feature\", \"Bug\", \"Bug\", \"Bug\", \"Bug\", \"Bug\", \"Bug\", \"Improvement\", \"Improvement\", \"Bug\", \"Bug\", \"Bug\", \"Bug\", \"Bug\", \"Bug\", \"Bug\", \"Bug\", \"Bug\", \"Bug\", \"Improvement\", \"Bug\", \"Bug\", \"Improvement\", \"Improvement\", \"Bug\", \"Improvement\", \"Bug\", \"Bug\", \"Improvement\", \"Improvement\", \"Improvement\", \"Bug\", \"New Feature\", \"Improvement\", \"Bug\", \"Bug\", \"Bug\", \"Improvement\", \"Bug\", \"Bug\", \"Bug\", \"Bug\", \"Improvement\", \"Bug\", \"Bug\", \"Bug\", \"Bug\", \"Improvement\", \"Bug\", \"Bug\", \"Improvement\", \"Improvement\", \"Bug\", \"Improvement\", \"Bug\", \"Bug\", \"Bug\", \"Improvement\", \"Improvement\", \"Bug\", \"Improvement\", \"Improvement\", \"New Feature\", \"New Feature\", \"Improvement\", \"Improvement\", \"Bug\", \"Bug\", \"Bug\", \"Improvement\", \"Bug\", \"Bug\", \"Bug\", \"Bug\", \"Improvement\", \"Improvement\", \"Improvement\", \"Improvement\", \"Bug\", \"Improvement\", \"Improvement\", \"Bug\", \"Improvement\", \"Bug\", \"Bug\", \"Bug\", \"Bug\", \"Bug\", \"Improvement\", \"Bug\", \"New Feature\", \"New Feature\", \"New Feature\", \"New Feature\", \"New Feature\", \"Improvement\", \"Bug\", \"Bug\", \"Improvement\", \"Bug\", \"Bug\", \"Bug\", \"Improvement\", \"Improvement\", \"Sub-task\", \"New Feature\", \"Improvement\", \"Bug\", \"Improvement\", \"Bug\", \"Bug\", \"Bug\", \"Bug\", \"Bug\", \"Improvement\", \"Bug\", \"Bug\", \"Bug\", \"Bug\", \"Improvement\", \"Bug\", \"Improvement\", \"Improvement\", \"Improvement\", \"Improvement\", \"Improvement\", \"Improvement\", \"Bug\", \"New Feature\", \"Task\", \"Bug\", \"Test\", \"Improvement\", \"Task\", \"New Feature\", \"Improvement\", \"Improvement\", \"Improvement\", \"Bug\", \"Bug\", \"Bug\", \"New Feature\", \"Improvement\", \"Bug\", \"New Feature\", \"Bug\", \"Improvement\", \"Improvement\", \"Improvement\", \"Improvement\", \"Test\", \"Bug\", \"Bug\", \"Improvement\", \"Bug\", \"Improvement\", \"Improvement\", \"Improvement\", \"Improvement\", \"New Feature\", \"New Feature\", \"Bug\", \"Bug\", \"New Feature\", \"Improvement\", \"Improvement\", \"Bug\", \"Bug\", \"Bug\", \"Bug\", \"Bug\", \"Bug\", \"Bug\", \"Bug\", \"Improvement\", \"Task\", \"Improvement\", \"Bug\", \"New Feature\", \"New Feature\", \"Improvement\", \"Bug\", \"Improvement\", \"Improvement\", \"Bug\", \"Improvement\", \"Improvement\", \"Bug\", \"Bug\", \"Wish\", \"Bug\", \"Improvement\", \"New Feature\", \"Improvement\", \"Bug\", \"Improvement\", \"Improvement\", \"Improvement\", \"Bug\", \"Test\", \"Bug\", \"Bug\", \"Improvement\", \"Improvement\", \"Bug\", \"Improvement\", \"Improvement\", \"Improvement\", \"Improvement\", \"Bug\", \"Improvement\", \"New Feature\", \"Bug\", \"Bug\", \"New Feature\", \"Improvement\", \"Bug\", \"Improvement\", \"Improvement\", \"Improvement\", \"Improvement\", \"New Feature\", \"Bug\", \"Bug\", \"New Feature\", \"Bug\", \"Bug\", \"Bug\", \"Bug\", \"Bug\", \"Sub-task\", \"Bug\", \"Bug\", \"Improvement\", \"Bug\", \"Improvement\", \"New Feature\", \"New Feature\", \"Task\", \"Improvement\", \"Improvement\", \"New Feature\", \"Bug\", \"Bug\", \"Improvement\", \"Bug\", \"Bug\", \"Task\", \"Task\", \"Bug\", \"Improvement\", \"Bug\", \"Improvement\", \"Bug\", \"Improvement\", \"Bug\", \"Bug\", \"Bug\", \"Bug\", \"Bug\", \"Improvement\", \"Bug\", \"Test\", \"Bug\", \"Bug\", \"Bug\", \"Improvement\", \"New Feature\", \"Bug\", \"New Feature\", \"Bug\", \"New Feature\", \"Improvement\", \"Improvement\", \"Bug\", \"Sub-task\", \"Bug\", \"New Feature\", \"Improvement\", \"Bug\", \"Improvement\", \"Bug\", \"Improvement\", \"Bug\", \"Bug\", \"Bug\", \"Bug\", \"New Feature\", \"Bug\", \"Improvement\", \"Bug\", \"Bug\", \"Bug\", \"Improvement\", \"Improvement\", \"Improvement\", \"Test\", \"Improvement\", \"Bug\", \"Improvement\", \"New Feature\", \"Bug\", \"Improvement\", \"New Feature\", \"Sub-task\", \"Improvement\", \"Bug\", \"Bug\", \"Bug\", \"New Feature\", \"Improvement\", \"Bug\", \"Bug\", \"Improvement\", \"Bug\", \"Improvement\", \"New Feature\", \"Improvement\", \"Sub-task\", \"Sub-task\", \"Bug\", \"New Feature\", \"Bug\", \"Bug\", \"Sub-task\", \"Improvement\", \"Bug\", \"Improvement\", \"Improvement\", \"Improvement\", \"New Feature\", \"Improvement\", \"Bug\", \"Bug\", \"Sub-task\", \"Bug\", \"Bug\", \"Bug\", \"Improvement\", \"Sub-task\", \"Improvement\", \"Sub-task\", \"Bug\", \"Improvement\", \"New Feature\", \"New Feature\", \"Sub-task\", \"Sub-task\", \"New Feature\", \"Bug\", \"Bug\", \"Bug\", \"New Feature\", \"Wish\", \"Bug\", \"Improvement\", \"Improvement\", \"Bug\", \"Improvement\", \"Improvement\", \"Bug\", \"Bug\", \"Bug\", \"New Feature\", \"Improvement\", \"Bug\", \"Bug\", \"New Feature\", \"Bug\", \"New Feature\", \"Bug\", \"New Feature\", \"Bug\", \"Improvement\", \"Improvement\", \"Bug\", \"Bug\", \"Improvement\", \"Bug\", \"Bug\", \"Bug\", \"Bug\", \"Improvement\", \"Improvement\", \"New Feature\", \"Improvement\", \"Improvement\", \"Bug\", \"Improvement\", \"Bug\", \"Bug\", \"Bug\", \"Improvement\", \"Bug\", \"Improvement\", \"New Feature\", \"Improvement\", \"Improvement\", \"Bug\", \"Bug\", \"Improvement\", \"Bug\", \"Improvement\", \"Bug\", \"Bug\", \"Wish\", \"Bug\", \"Bug\", \"Improvement\", \"Improvement\", \"Improvement\", \"Improvement\", \"Improvement\", \"Improvement\", \"Bug\", \"New Feature\", \"Bug\", \"Bug\", \"Improvement\", \"New Feature\", \"Improvement\", \"Sub-task\", \"Sub-task\", \"Bug\", \"Improvement\", \"Improvement\", \"Bug\", \"Bug\", \"New Feature\", \"Bug\", \"Improvement\", \"Improvement\", \"Improvement\", \"Bug\", \"Improvement\", \"Bug\", \"Bug\", \"Bug\", \"Bug\", \"Bug\", \"Improvement\", \"New Feature\", \"Bug\", \"Improvement\", \"Bug\", \"Improvement\", \"Improvement\", \"Bug\", \"Bug\", \"Improvement\", \"New Feature\", \"Bug\", \"Improvement\", \"Test\", \"Bug\", \"Improvement\", \"Improvement\", \"Improvement\", \"New Feature\", \"Improvement\", \"Bug\", \"Bug\", \"Improvement\", \"Bug\", \"Improvement\", \"Bug\", \"Improvement\", \"Improvement\", \"Bug\", \"Improvement\", \"Improvement\", \"Improvement\", \"Improvement\", \"Improvement\", \"Bug\", \"Bug\", \"Bug\", \"Improvement\", \"Improvement\", \"Improvement\", \"Improvement\", \"Improvement\", \"Improvement\", \"Improvement\", \"Test\", \"Bug\", \"Task\", \"Improvement\", \"Bug\", \"Bug\", \"Improvement\", \"Improvement\", \"Bug\", \"Improvement\", \"Sub-task\", \"Improvement\", \"Bug\", \"New Feature\", \"Improvement\", \"Improvement\", \"Improvement\", \"Improvement\", \"Improvement\", \"Improvement\", \"Bug\", \"Bug\", \"Bug\", \"Bug\", \"Improvement\", \"Improvement\", \"Bug\", \"Improvement\", \"Improvement\", \"New Feature\", \"New Feature\", \"Improvement\", \"New Feature\", \"New Feature\", \"Test\", \"Improvement\", \"Bug\", \"Test\", \"Improvement\", \"Improvement\", \"Improvement\", \"Bug\", \"Improvement\", \"Bug\", \"Bug\", \"New Feature\", \"Improvement\", \"Improvement\", \"New Feature\", \"Test\", \"Improvement\", \"Improvement\", \"Improvement\", \"Improvement\", \"Test\", \"Test\", \"Bug\", \"Bug\", \"Test\", \"Improvement\", \"Test\", \"Bug\", \"Bug\", \"Bug\", \"New Feature\", \"Improvement\", \"Bug\", \"New Feature\", \"New Feature\", \"New Feature\", \"New Feature\", \"New Feature\", \"Test\", \"Improvement\", \"New Feature\", \"Improvement\", \"Improvement\", \"Bug\", \"New Feature\", \"Improvement\", \"Bug\", \"New Feature\", \"Bug\", \"Bug\", \"Bug\", \"New Feature\", \"Improvement\", \"Improvement\", \"New Feature\", \"Improvement\", \"Bug\", \"Improvement\", \"New Feature\", \"Improvement\", \"Improvement\", \"New Feature\", \"Improvement\", \"Improvement\", \"Bug\", \"Improvement\", \"Improvement\", \"Improvement\", \"Improvement\", \"Bug\", \"Improvement\", \"Improvement\", \"Bug\", \"Improvement\", \"Bug\", \"Improvement\", \"Bug\", \"Bug\", \"Improvement\", \"Improvement\", \"Improvement\", \"Improvement\", \"Improvement\", \"Improvement\", \"Improvement\", \"Bug\", \"Bug\", \"Bug\", \"Bug\", \"Bug\", \"Bug\", \"Improvement\", \"Improvement\", \"Improvement\", \"Improvement\", \"Improvement\", \"Improvement\", \"Improvement\", \"Bug\", \"Improvement\", \"Improvement\", \"Bug\", \"Bug\", \"Improvement\", \"Bug\", \"Improvement\", \"Bug\", \"Bug\", \"Improvement\", \"Improvement\", \"Improvement\", \"Bug\", \"Bug\", \"Task\", \"Improvement\", \"Improvement\", \"Improvement\", \"Improvement\", \"Bug\", \"Improvement\", \"Improvement\", \"Bug\", \"Bug\", \"Bug\", \"Improvement\", \"Improvement\", \"Improvement\", \"Bug\", \"Improvement\", \"Improvement\", \"Bug\", \"Test\", \"Improvement\", \"New Feature\", \"Improvement\", \"Bug\", \"Improvement\", \"New Feature\", \"New Feature\", \"New Feature\", \"New Feature\", \"Improvement\", \"Improvement\", \"New Feature\", \"Improvement\", \"Bug\", \"Improvement\", \"New Feature\", \"Bug\", \"Bug\", \"New Feature\", \"Bug\", \"Bug\", \"Bug\", \"Improvement\", \"Bug\", \"New Feature\", \"Improvement\", \"New Feature\", \"Improvement\", \"Bug\", \"Bug\", \"Bug\", \"Bug\", \"Improvement\", \"Improvement\", \"Bug\", \"Bug\", \"Bug\", \"Improvement\", \"Improvement\", \"Bug\", \"Bug\", \"Improvement\", \"Improvement\", \"Improvement\", \"New Feature\", \"New Feature\", \"Bug\", \"Bug\", \"New Feature\", \"Task\", \"Bug\", \"Wish\", \"Improvement\", \"Improvement\", \"Bug\", \"Improvement\", \"Bug\", \"Bug\", \"Bug\", \"New Feature\", \"Bug\", \"Improvement\", \"Bug\", \"Bug\", \"Bug\", \"Bug\", \"Improvement\", \"Improvement\", \"Test\", \"Bug\", \"Bug\", \"Bug\", \"Bug\", \"Sub-task\", \"Bug\", \"Sub-task\", \"Task\", \"Improvement\", \"Sub-task\", \"Sub-task\", \"Improvement\", \"Sub-task\", \"New Feature\", \"New Feature\", \"Bug\", \"Improvement\", \"Improvement\", \"Bug\", \"Sub-task\", \"Improvement\", \"New Feature\", \"Improvement\", \"Improvement\", \"Improvement\", \"Improvement\", \"Improvement\", \"Bug\", \"New Feature\", \"Improvement\", \"Task\", \"Bug\", \"Bug\", \"Bug\", \"Bug\", \"New Feature\", \"New Feature\", \"Bug\", \"Bug\", \"Improvement\", \"Improvement\", \"Bug\", \"Improvement\", \"New Feature\", \"Improvement\", \"Bug\", \"Improvement\", \"Improvement\", \"New Feature\", \"Test\", \"Improvement\", \"Bug\", \"Improvement\", \"New Feature\", \"New Feature\", \"Improvement\", \"Improvement\", \"Improvement\", \"Bug\", \"Improvement\", \"Bug\", \"Improvement\", \"Improvement\", \"Improvement\", \"Improvement\", \"Bug\", \"Improvement\", \"Test\", \"Bug\", \"Bug\", \"Improvement\", \"Bug\"], \"y0\": \" \", \"yaxis\": \"y\"}],\n",
       "                        {\"boxmode\": \"group\", \"legend\": {\"tracegroupgap\": 0}, \"margin\": {\"t\": 60}, \"template\": {\"data\": {\"bar\": [{\"error_x\": {\"color\": \"#2a3f5f\"}, \"error_y\": {\"color\": \"#2a3f5f\"}, \"marker\": {\"line\": {\"color\": \"#E5ECF6\", \"width\": 0.5}}, \"type\": \"bar\"}], \"barpolar\": [{\"marker\": {\"line\": {\"color\": \"#E5ECF6\", \"width\": 0.5}}, \"type\": \"barpolar\"}], \"carpet\": [{\"aaxis\": {\"endlinecolor\": \"#2a3f5f\", \"gridcolor\": \"white\", \"linecolor\": \"white\", \"minorgridcolor\": \"white\", \"startlinecolor\": \"#2a3f5f\"}, \"baxis\": {\"endlinecolor\": \"#2a3f5f\", \"gridcolor\": \"white\", \"linecolor\": \"white\", \"minorgridcolor\": \"white\", \"startlinecolor\": \"#2a3f5f\"}, \"type\": \"carpet\"}], \"choropleth\": [{\"colorbar\": {\"outlinewidth\": 0, \"ticks\": \"\"}, \"type\": \"choropleth\"}], \"contour\": [{\"colorbar\": {\"outlinewidth\": 0, \"ticks\": \"\"}, \"colorscale\": [[0.0, \"#0d0887\"], [0.1111111111111111, \"#46039f\"], [0.2222222222222222, \"#7201a8\"], [0.3333333333333333, \"#9c179e\"], [0.4444444444444444, \"#bd3786\"], [0.5555555555555556, \"#d8576b\"], [0.6666666666666666, \"#ed7953\"], [0.7777777777777778, \"#fb9f3a\"], [0.8888888888888888, \"#fdca26\"], [1.0, \"#f0f921\"]], \"type\": \"contour\"}], \"contourcarpet\": [{\"colorbar\": {\"outlinewidth\": 0, \"ticks\": \"\"}, \"type\": \"contourcarpet\"}], \"heatmap\": [{\"colorbar\": {\"outlinewidth\": 0, \"ticks\": \"\"}, \"colorscale\": [[0.0, \"#0d0887\"], [0.1111111111111111, \"#46039f\"], [0.2222222222222222, \"#7201a8\"], [0.3333333333333333, \"#9c179e\"], [0.4444444444444444, \"#bd3786\"], [0.5555555555555556, \"#d8576b\"], [0.6666666666666666, \"#ed7953\"], [0.7777777777777778, \"#fb9f3a\"], [0.8888888888888888, \"#fdca26\"], [1.0, \"#f0f921\"]], \"type\": \"heatmap\"}], \"heatmapgl\": [{\"colorbar\": {\"outlinewidth\": 0, \"ticks\": \"\"}, \"colorscale\": [[0.0, \"#0d0887\"], [0.1111111111111111, \"#46039f\"], [0.2222222222222222, \"#7201a8\"], [0.3333333333333333, \"#9c179e\"], [0.4444444444444444, \"#bd3786\"], [0.5555555555555556, \"#d8576b\"], [0.6666666666666666, \"#ed7953\"], [0.7777777777777778, \"#fb9f3a\"], [0.8888888888888888, \"#fdca26\"], [1.0, \"#f0f921\"]], \"type\": \"heatmapgl\"}], \"histogram\": [{\"marker\": {\"colorbar\": {\"outlinewidth\": 0, \"ticks\": \"\"}}, \"type\": \"histogram\"}], \"histogram2d\": [{\"colorbar\": {\"outlinewidth\": 0, \"ticks\": \"\"}, \"colorscale\": [[0.0, \"#0d0887\"], [0.1111111111111111, \"#46039f\"], [0.2222222222222222, \"#7201a8\"], [0.3333333333333333, \"#9c179e\"], [0.4444444444444444, \"#bd3786\"], [0.5555555555555556, \"#d8576b\"], [0.6666666666666666, \"#ed7953\"], [0.7777777777777778, \"#fb9f3a\"], [0.8888888888888888, \"#fdca26\"], [1.0, \"#f0f921\"]], \"type\": \"histogram2d\"}], \"histogram2dcontour\": [{\"colorbar\": {\"outlinewidth\": 0, \"ticks\": \"\"}, \"colorscale\": [[0.0, \"#0d0887\"], [0.1111111111111111, \"#46039f\"], [0.2222222222222222, \"#7201a8\"], [0.3333333333333333, \"#9c179e\"], [0.4444444444444444, \"#bd3786\"], [0.5555555555555556, \"#d8576b\"], [0.6666666666666666, \"#ed7953\"], [0.7777777777777778, \"#fb9f3a\"], [0.8888888888888888, \"#fdca26\"], [1.0, \"#f0f921\"]], \"type\": \"histogram2dcontour\"}], \"mesh3d\": [{\"colorbar\": {\"outlinewidth\": 0, \"ticks\": \"\"}, \"type\": \"mesh3d\"}], \"parcoords\": [{\"line\": {\"colorbar\": {\"outlinewidth\": 0, \"ticks\": \"\"}}, \"type\": \"parcoords\"}], \"pie\": [{\"automargin\": true, \"type\": \"pie\"}], \"scatter\": [{\"marker\": {\"colorbar\": {\"outlinewidth\": 0, \"ticks\": \"\"}}, \"type\": \"scatter\"}], \"scatter3d\": [{\"line\": {\"colorbar\": {\"outlinewidth\": 0, \"ticks\": \"\"}}, \"marker\": {\"colorbar\": {\"outlinewidth\": 0, \"ticks\": \"\"}}, \"type\": \"scatter3d\"}], \"scattercarpet\": [{\"marker\": {\"colorbar\": {\"outlinewidth\": 0, \"ticks\": \"\"}}, \"type\": \"scattercarpet\"}], \"scattergeo\": [{\"marker\": {\"colorbar\": {\"outlinewidth\": 0, \"ticks\": \"\"}}, \"type\": \"scattergeo\"}], \"scattergl\": [{\"marker\": {\"colorbar\": {\"outlinewidth\": 0, \"ticks\": \"\"}}, \"type\": \"scattergl\"}], \"scattermapbox\": [{\"marker\": {\"colorbar\": {\"outlinewidth\": 0, \"ticks\": \"\"}}, \"type\": \"scattermapbox\"}], \"scatterpolar\": [{\"marker\": {\"colorbar\": {\"outlinewidth\": 0, \"ticks\": \"\"}}, \"type\": \"scatterpolar\"}], \"scatterpolargl\": [{\"marker\": {\"colorbar\": {\"outlinewidth\": 0, \"ticks\": \"\"}}, \"type\": \"scatterpolargl\"}], \"scatterternary\": [{\"marker\": {\"colorbar\": {\"outlinewidth\": 0, \"ticks\": \"\"}}, \"type\": \"scatterternary\"}], \"surface\": [{\"colorbar\": {\"outlinewidth\": 0, \"ticks\": \"\"}, \"colorscale\": [[0.0, \"#0d0887\"], [0.1111111111111111, \"#46039f\"], [0.2222222222222222, \"#7201a8\"], [0.3333333333333333, \"#9c179e\"], [0.4444444444444444, \"#bd3786\"], [0.5555555555555556, \"#d8576b\"], [0.6666666666666666, \"#ed7953\"], [0.7777777777777778, \"#fb9f3a\"], [0.8888888888888888, \"#fdca26\"], [1.0, \"#f0f921\"]], \"type\": \"surface\"}], \"table\": [{\"cells\": {\"fill\": {\"color\": \"#EBF0F8\"}, \"line\": {\"color\": \"white\"}}, \"header\": {\"fill\": {\"color\": \"#C8D4E3\"}, \"line\": {\"color\": \"white\"}}, \"type\": \"table\"}]}, \"layout\": {\"annotationdefaults\": {\"arrowcolor\": \"#2a3f5f\", \"arrowhead\": 0, \"arrowwidth\": 1}, \"coloraxis\": {\"colorbar\": {\"outlinewidth\": 0, \"ticks\": \"\"}}, \"colorscale\": {\"diverging\": [[0, \"#8e0152\"], [0.1, \"#c51b7d\"], [0.2, \"#de77ae\"], [0.3, \"#f1b6da\"], [0.4, \"#fde0ef\"], [0.5, \"#f7f7f7\"], [0.6, \"#e6f5d0\"], [0.7, \"#b8e186\"], [0.8, \"#7fbc41\"], [0.9, \"#4d9221\"], [1, \"#276419\"]], \"sequential\": [[0.0, \"#0d0887\"], [0.1111111111111111, \"#46039f\"], [0.2222222222222222, \"#7201a8\"], [0.3333333333333333, \"#9c179e\"], [0.4444444444444444, \"#bd3786\"], [0.5555555555555556, \"#d8576b\"], [0.6666666666666666, \"#ed7953\"], [0.7777777777777778, \"#fb9f3a\"], [0.8888888888888888, \"#fdca26\"], [1.0, \"#f0f921\"]], \"sequentialminus\": [[0.0, \"#0d0887\"], [0.1111111111111111, \"#46039f\"], [0.2222222222222222, \"#7201a8\"], [0.3333333333333333, \"#9c179e\"], [0.4444444444444444, \"#bd3786\"], [0.5555555555555556, \"#d8576b\"], [0.6666666666666666, \"#ed7953\"], [0.7777777777777778, \"#fb9f3a\"], [0.8888888888888888, \"#fdca26\"], [1.0, \"#f0f921\"]]}, \"colorway\": [\"#636efa\", \"#EF553B\", \"#00cc96\", \"#ab63fa\", \"#FFA15A\", \"#19d3f3\", \"#FF6692\", \"#B6E880\", \"#FF97FF\", \"#FECB52\"], \"font\": {\"color\": \"#2a3f5f\"}, \"geo\": {\"bgcolor\": \"white\", \"lakecolor\": \"white\", \"landcolor\": \"#E5ECF6\", \"showlakes\": true, \"showland\": true, \"subunitcolor\": \"white\"}, \"hoverlabel\": {\"align\": \"left\"}, \"hovermode\": \"closest\", \"mapbox\": {\"style\": \"light\"}, \"paper_bgcolor\": \"white\", \"plot_bgcolor\": \"#E5ECF6\", \"polar\": {\"angularaxis\": {\"gridcolor\": \"white\", \"linecolor\": \"white\", \"ticks\": \"\"}, \"bgcolor\": \"#E5ECF6\", \"radialaxis\": {\"gridcolor\": \"white\", \"linecolor\": \"white\", \"ticks\": \"\"}}, \"scene\": {\"xaxis\": {\"backgroundcolor\": \"#E5ECF6\", \"gridcolor\": \"white\", \"gridwidth\": 2, \"linecolor\": \"white\", \"showbackground\": true, \"ticks\": \"\", \"zerolinecolor\": \"white\"}, \"yaxis\": {\"backgroundcolor\": \"#E5ECF6\", \"gridcolor\": \"white\", \"gridwidth\": 2, \"linecolor\": \"white\", \"showbackground\": true, \"ticks\": \"\", \"zerolinecolor\": \"white\"}, \"zaxis\": {\"backgroundcolor\": \"#E5ECF6\", \"gridcolor\": \"white\", \"gridwidth\": 2, \"linecolor\": \"white\", \"showbackground\": true, \"ticks\": \"\", \"zerolinecolor\": \"white\"}}, \"shapedefaults\": {\"line\": {\"color\": \"#2a3f5f\"}}, \"ternary\": {\"aaxis\": {\"gridcolor\": \"white\", \"linecolor\": \"white\", \"ticks\": \"\"}, \"baxis\": {\"gridcolor\": \"white\", \"linecolor\": \"white\", \"ticks\": \"\"}, \"bgcolor\": \"#E5ECF6\", \"caxis\": {\"gridcolor\": \"white\", \"linecolor\": \"white\", \"ticks\": \"\"}}, \"title\": {\"x\": 0.05}, \"xaxis\": {\"automargin\": true, \"gridcolor\": \"white\", \"linecolor\": \"white\", \"ticks\": \"\", \"title\": {\"standoff\": 15}, \"zerolinecolor\": \"white\", \"zerolinewidth\": 2}, \"yaxis\": {\"automargin\": true, \"gridcolor\": \"white\", \"linecolor\": \"white\", \"ticks\": \"\", \"title\": {\"standoff\": 15}, \"zerolinecolor\": \"white\", \"zerolinewidth\": 2}}}, \"xaxis\": {\"anchor\": \"y\", \"domain\": [0.0, 1.0], \"title\": {\"text\": \"days_needed\"}}, \"yaxis\": {\"anchor\": \"x\", \"domain\": [0.0, 1.0], \"title\": {\"text\": \"issue_type\"}}},\n",
       "                        {\"responsive\": true}\n",
       "                    ).then(function(){\n",
       "                            \n",
       "var gd = document.getElementById('2d863fa1-f1ca-48bc-9959-27209d64ab24');\n",
       "var x = new MutationObserver(function (mutations, observer) {{\n",
       "        var display = window.getComputedStyle(gd).display;\n",
       "        if (!display || display === 'none') {{\n",
       "            console.log([gd, 'removed!']);\n",
       "            Plotly.purge(gd);\n",
       "            observer.disconnect();\n",
       "        }}\n",
       "}});\n",
       "\n",
       "// Listen for the removal of the full notebook cells\n",
       "var notebookContainer = gd.closest('#notebook-container');\n",
       "if (notebookContainer) {{\n",
       "    x.observe(notebookContainer, {childList: true});\n",
       "}}\n",
       "\n",
       "// Listen for the clearing of the current output cell\n",
       "var outputEl = gd.closest('.output');\n",
       "if (outputEl) {{\n",
       "    x.observe(outputEl, {childList: true});\n",
       "}}\n",
       "\n",
       "                        })\n",
       "                };\n",
       "                });\n",
       "            </script>\n",
       "        </div>"
      ]
     },
     "metadata": {},
     "output_type": "display_data"
    }
   ],
   "source": [
    "test = df[['days_needed', 'issue_type']]\n",
    "fig = px.box(test, x='days_needed', y=\"issue_type\", orientation='h')\n",
    "fig.show()"
   ]
  },
  {
   "cell_type": "code",
   "execution_count": 12,
   "metadata": {},
   "outputs": [
    {
     "data": {
      "application/vnd.plotly.v1+json": {
       "config": {
        "plotlyServerURL": "https://plot.ly"
       },
       "data": [
        {
         "alignmentgroup": "True",
         "hovertemplate": "days_needed=%{x}<br>priority=%{y}<extra></extra>",
         "legendgroup": "",
         "marker": {
          "color": "#636efa"
         },
         "name": "",
         "notched": false,
         "offsetgroup": "",
         "orientation": "h",
         "showlegend": false,
         "type": "box",
         "x": [
          17,
          18,
          19,
          19,
          5,
          3,
          13,
          9,
          0,
          35,
          0,
          12,
          19,
          14,
          8,
          9,
          6,
          3,
          115,
          0,
          31,
          14,
          0,
          12,
          48,
          2,
          5,
          83,
          0,
          12,
          18,
          69,
          10,
          0,
          46,
          9,
          55,
          9,
          55,
          4,
          11,
          11,
          13,
          35,
          0,
          39,
          0,
          11,
          3,
          3,
          98,
          41,
          79,
          0,
          0,
          14,
          11,
          3,
          47,
          0,
          21,
          15,
          0,
          20,
          0,
          12,
          2,
          12,
          16,
          33,
          37,
          51,
          47,
          22,
          108,
          15,
          0,
          0,
          86,
          98,
          73,
          0,
          0,
          0,
          0,
          0,
          6,
          4,
          35,
          119,
          118,
          5,
          115,
          3,
          12,
          0,
          0,
          9,
          10,
          7,
          1,
          1,
          3,
          65,
          0,
          27,
          22,
          89,
          27,
          0,
          34,
          41,
          48,
          110,
          56,
          14,
          62,
          74,
          2,
          19,
          0,
          0,
          4,
          0,
          125,
          122,
          125,
          107,
          35,
          1,
          3,
          3,
          2,
          6,
          4,
          3,
          0,
          32,
          0,
          3,
          20,
          8,
          8,
          1,
          10,
          18,
          18,
          41,
          22,
          67,
          0,
          0,
          19,
          73,
          2,
          0,
          16,
          2,
          87,
          9,
          1,
          8,
          1,
          6,
          26,
          20,
          20,
          15,
          15,
          15,
          35,
          4,
          0,
          55,
          16,
          21,
          57,
          0,
          23,
          82,
          82,
          83,
          38,
          38,
          82,
          82,
          38,
          95,
          82,
          110,
          61,
          1,
          46,
          46,
          2,
          68,
          1,
          7,
          0,
          18,
          1,
          7,
          9,
          12,
          15,
          82,
          86,
          47,
          41,
          0,
          1,
          0,
          17,
          1,
          0,
          126,
          64,
          9,
          20,
          4,
          23,
          1,
          0,
          7,
          5,
          14,
          20,
          7,
          12,
          4,
          5,
          14,
          26,
          30,
          1,
          9,
          2,
          5,
          66,
          1,
          110,
          5,
          0,
          60,
          0,
          23,
          4,
          1,
          0,
          8,
          6,
          7,
          0,
          6,
          19,
          8,
          8,
          0,
          2,
          64,
          37,
          69,
          84,
          0,
          5,
          82,
          117,
          10,
          11,
          13,
          103,
          17,
          110,
          25,
          12,
          105,
          0,
          19,
          23,
          6,
          0,
          3,
          4,
          127,
          11,
          20,
          15,
          0,
          0,
          1,
          3,
          2,
          5,
          13,
          18,
          24,
          21,
          6,
          0,
          7,
          12,
          9,
          19,
          26,
          29,
          9,
          31,
          32,
          35,
          1,
          1,
          1,
          20,
          8,
          8,
          28,
          98,
          101,
          88,
          9,
          1,
          67,
          112,
          8,
          17,
          119,
          126,
          0,
          22,
          17,
          30,
          20,
          7,
          0,
          13,
          71,
          77,
          0,
          13,
          17,
          1,
          1,
          82,
          17,
          2,
          1,
          3,
          7,
          15,
          1,
          21,
          0,
          1,
          4,
          3,
          4,
          6,
          0,
          94,
          13,
          6,
          83,
          83,
          69,
          10,
          10,
          38,
          126,
          32,
          47,
          8,
          0,
          26,
          3,
          43,
          0,
          9,
          35,
          0,
          0,
          0,
          5,
          0,
          7,
          2,
          1,
          1,
          0,
          4,
          0,
          5,
          1,
          3,
          3,
          3,
          112,
          2,
          6,
          3,
          4,
          8,
          25,
          15,
          40,
          29,
          0,
          57,
          0,
          73,
          27,
          7,
          9,
          3,
          12,
          7,
          7,
          12,
          0,
          6,
          96,
          0,
          10,
          6,
          21,
          42,
          58,
          61,
          64,
          2,
          7,
          6,
          0,
          3,
          3,
          3,
          76,
          0,
          4,
          0,
          0,
          0,
          50,
          0,
          2,
          1,
          0,
          1,
          9,
          4,
          5,
          9,
          0,
          11,
          24,
          5,
          4,
          0,
          31,
          0,
          15,
          124,
          1,
          56,
          2,
          0,
          35,
          11,
          15,
          0,
          4,
          18,
          9,
          0,
          6,
          94,
          10,
          35,
          13,
          11,
          21,
          67,
          13,
          112,
          16,
          1,
          2,
          0,
          1,
          1,
          1,
          4,
          4,
          3,
          6,
          9,
          8,
          4,
          9,
          9,
          9,
          7,
          3,
          11,
          11,
          11,
          18,
          9,
          20,
          15,
          16,
          52,
          2,
          22,
          24,
          29,
          1,
          34,
          4,
          0,
          51,
          50,
          56,
          54,
          36,
          62,
          2,
          63,
          0,
          1,
          0,
          0,
          0,
          1,
          8,
          9,
          13,
          7,
          20,
          99,
          1,
          0,
          0,
          0,
          3,
          5,
          1,
          9,
          12,
          11,
          13,
          14,
          42,
          14,
          1,
          1,
          0,
          17,
          3,
          35,
          0,
          21,
          22,
          1,
          1,
          35,
          7,
          1,
          57,
          0,
          0,
          0,
          1,
          62,
          53,
          0,
          7,
          10,
          7,
          7,
          21,
          18,
          0,
          28,
          87,
          33,
          0,
          1,
          0,
          7,
          0,
          3,
          7,
          1,
          6,
          0,
          0,
          0,
          1,
          6,
          0,
          0,
          0,
          0,
          8,
          0,
          0,
          3,
          103,
          1,
          5,
          4,
          4,
          4,
          4,
          8,
          3,
          4,
          4,
          0,
          5,
          0,
          1,
          0,
          1,
          3,
          0,
          0,
          0,
          2,
          2,
          2,
          3,
          4,
          2,
          6,
          10,
          5,
          0,
          3,
          1,
          2,
          8,
          2,
          4,
          12,
          12,
          1,
          21,
          2,
          3,
          55,
          8,
          8,
          1,
          41,
          1,
          3,
          59,
          70,
          14,
          41,
          61,
          3,
          65,
          0,
          67,
          14,
          4,
          37,
          0,
          60,
          1,
          3,
          7,
          1,
          117,
          71,
          19,
          36,
          17,
          0,
          2,
          3,
          0,
          9,
          43,
          42,
          0,
          5,
          0,
          0,
          0,
          4,
          2,
          6,
          69,
          26,
          5,
          0,
          6,
          12,
          12,
          12,
          99,
          0,
          0,
          29,
          91,
          30,
          20,
          1,
          13,
          8,
          7,
          8,
          7,
          5,
          19,
          0,
          113,
          2,
          2,
          2,
          3,
          1,
          8,
          0,
          0,
          2,
          69,
          16,
          26,
          7,
          3,
          19,
          19,
          23,
          23,
          7,
          27,
          17,
          2,
          0,
          21,
          14,
          2,
          5,
          0,
          54,
          9,
          5,
          13,
          0,
          0,
          0,
          39,
          2,
          4,
          5,
          60,
          6,
          5,
          8,
          15,
          6,
          14,
          46,
          42,
          1,
          69,
          1,
          115,
          33,
          5,
          0,
          9,
          9,
          5,
          93,
          69,
          2,
          4,
          0,
          59,
          0,
          34,
          35,
          77,
          43,
          1,
          28,
          2,
          2,
          0,
          16,
          5,
          5,
          13,
          18,
          2,
          103,
          5,
          0,
          0,
          4,
          127,
          9,
          6,
          10,
          0,
          0,
          1,
          0,
          61,
          105,
          0,
          0,
          107,
          62,
          21,
          0,
          0,
          4,
          1,
          18,
          0,
          0,
          0,
          4,
          0,
          0,
          3,
          0,
          1,
          6,
          1,
          2,
          13,
          9,
          5,
          6,
          4,
          20,
          8,
          5,
          0,
          0,
          1,
          7,
          25,
          8,
          40,
          6,
          31,
          0,
          53,
          3,
          56,
          33,
          48,
          1,
          42,
          35,
          34,
          34,
          7,
          10,
          1,
          0,
          47,
          0,
          10,
          0,
          0,
          0,
          0,
          0,
          69,
          5,
          0,
          4,
          2,
          62,
          4,
          0,
          102,
          0,
          4,
          115,
          0,
          123,
          11,
          11,
          11,
          3,
          4,
          0,
          1,
          3,
          0,
          0,
          3,
          104,
          69,
          21,
          2,
          1,
          1,
          0,
          3,
          41,
          2,
          2,
          90,
          1,
          7,
          0,
          9,
          1,
          13,
          0,
          0,
          0,
          0,
          2,
          19,
          20,
          0,
          0,
          6,
          0,
          0,
          14,
          32,
          11,
          0,
          99,
          9,
          1,
          1,
          1,
          1,
          3,
          0,
          1,
          0,
          4,
          5,
          4,
          0,
          0,
          2,
          5,
          27,
          0,
          0,
          26,
          2,
          1,
          3,
          7,
          0,
          0,
          0,
          0,
          0,
          0,
          3,
          0,
          0,
          0,
          1,
          6,
          1,
          0,
          0,
          0,
          0,
          16,
          1,
          1,
          3,
          3,
          4,
          1,
          0,
          5,
          0,
          0,
          2,
          0,
          0,
          0,
          1,
          23,
          3,
          0,
          0,
          0,
          4,
          0,
          0,
          0,
          0,
          12,
          0,
          0,
          0,
          5,
          6,
          0,
          0,
          0,
          14,
          28,
          0,
          0,
          3,
          0,
          10,
          19,
          19,
          3,
          0,
          0,
          3,
          0,
          63,
          0,
          0,
          1,
          21,
          0,
          35,
          47,
          19,
          21,
          21,
          0,
          34,
          0,
          2,
          1,
          0,
          2,
          0,
          0,
          2,
          0,
          8,
          2,
          0,
          1,
          4,
          4,
          33,
          2,
          0,
          0,
          1,
          0,
          3,
          7,
          41,
          8,
          6,
          3,
          7,
          7,
          0,
          8,
          13,
          8,
          0,
          5,
          1,
          16,
          2,
          13,
          6,
          7,
          52,
          11,
          21,
          13,
          0,
          1,
          1,
          21,
          29,
          31,
          1,
          1,
          7,
          7,
          29,
          99,
          45,
          7,
          9,
          6,
          7,
          0,
          0,
          3,
          4,
          0,
          54,
          0,
          0,
          56,
          0,
          0,
          0,
          0,
          0,
          1,
          46,
          46,
          0,
          46,
          5,
          2,
          1,
          1,
          78,
          53,
          56,
          47,
          0,
          2,
          3,
          2,
          0,
          3,
          63,
          1,
          1,
          0,
          0,
          0,
          1,
          1,
          0,
          0,
          0,
          1,
          5,
          27,
          6,
          70,
          0,
          0,
          1,
          6,
          0,
          2,
          0,
          19,
          19,
          13,
          0,
          0,
          0,
          0,
          21,
          83,
          1,
          63,
          71,
          17,
          8,
          0,
          0,
          34,
          84,
          0,
          12,
          6,
          1,
          8,
          1,
          1,
          0,
          1,
          0,
          1,
          108,
          1,
          1,
          5,
          6,
          99,
          0,
          107,
          0,
          106,
          0,
          0,
          0,
          0,
          1,
          2,
          1,
          2,
          1,
          2,
          12,
          0,
          13,
          3,
          1,
          0,
          6,
          3,
          0,
          5,
          42,
          2,
          37,
          0,
          35,
          15,
          0,
          38,
          2,
          9,
          3,
          13,
          4,
          0,
          7,
          11,
          2,
          3,
          26,
          5,
          6,
          123,
          2,
          1,
          0,
          25,
          0,
          2,
          11,
          11,
          0,
          1,
          0,
          0,
          1,
          16,
          7,
          63,
          0,
          55,
          22,
          4,
          3,
          3,
          0,
          0,
          31,
          0,
          1,
          39,
          12,
          2,
          22,
          0,
          0,
          0,
          1,
          93,
          1,
          0,
          0,
          3,
          32,
          7,
          0,
          20,
          0,
          44,
          51,
          47,
          16,
          36,
          41,
          18,
          81,
          25,
          17,
          0,
          6,
          0,
          0,
          38,
          0,
          38,
          14,
          27,
          1,
          3,
          3,
          3,
          0,
          53,
          17
         ],
         "x0": " ",
         "xaxis": "x",
         "y": [
          "Major",
          "Major",
          "Major",
          "Major",
          "Trivial",
          "Trivial",
          "Major",
          "Major",
          "Minor",
          "Major",
          "Major",
          "Major",
          "Major",
          "Major",
          "Major",
          "Major",
          "Minor",
          "Minor",
          "Minor",
          "Minor",
          "Major",
          "Major",
          "Minor",
          "Blocker",
          "Major",
          "Major",
          "Major",
          "Minor",
          "Major",
          "Major",
          "Trivial",
          "Blocker",
          "Trivial",
          "Critical",
          "Major",
          "Minor",
          "Trivial",
          "Trivial",
          "Trivial",
          "Trivial",
          "Minor",
          "Trivial",
          "Minor",
          "Blocker",
          "Major",
          "Minor",
          "Major",
          "Minor",
          "Major",
          "Major",
          "Blocker",
          "Major",
          "Minor",
          "Blocker",
          "Major",
          "Critical",
          "Major",
          "Major",
          "Minor",
          "Major",
          "Major",
          "Minor",
          "Minor",
          "Major",
          "Minor",
          "Major",
          "Major",
          "Trivial",
          "Major",
          "Major",
          "Major",
          "Major",
          "Minor",
          "Minor",
          "Major",
          "Critical",
          "Critical",
          "Major",
          "Major",
          "Major",
          "Minor",
          "Major",
          "Minor",
          "Minor",
          "Major",
          "Major",
          "Major",
          "Major",
          "Major",
          "Major",
          "Major",
          "Major",
          "Major",
          "Minor",
          "Major",
          "Major",
          "Minor",
          "Minor",
          "Major",
          "Major",
          "Trivial",
          "Major",
          "Major",
          "Major",
          "Major",
          "Major",
          "Major",
          "Blocker",
          "Critical",
          "Major",
          "Major",
          "Blocker",
          "Major",
          "Major",
          "Major",
          "Blocker",
          "Critical",
          "Blocker",
          "Major",
          "Major",
          "Major",
          "Blocker",
          "Minor",
          "Blocker",
          "Major",
          "Major",
          "Critical",
          "Critical",
          "Major",
          "Critical",
          "Major",
          "Major",
          "Major",
          "Major",
          "Blocker",
          "Major",
          "Major",
          "Major",
          "Major",
          "Trivial",
          "Major",
          "Major",
          "Major",
          "Trivial",
          "Trivial",
          "Major",
          "Major",
          "Major",
          "Minor",
          "Blocker",
          "Minor",
          "Major",
          "Critical",
          "Major",
          "Major",
          "Minor",
          "Major",
          "Major",
          "Major",
          "Major",
          "Major",
          "Blocker",
          "Blocker",
          "Blocker",
          "Major",
          "Major",
          "Critical",
          "Major",
          "Major",
          "Major",
          "Major",
          "Major",
          "Major",
          "Critical",
          "Minor",
          "Major",
          "Major",
          "Major",
          "Minor",
          "Major",
          "Major",
          "Major",
          "Major",
          "Major",
          "Major",
          "Major",
          "Major",
          "Major",
          "Blocker",
          "Blocker",
          "Major",
          "Major",
          "Major",
          "Minor",
          "Major",
          "Major",
          "Major",
          "Major",
          "Major",
          "Blocker",
          "Major",
          "Minor",
          "Major",
          "Minor",
          "Minor",
          "Major",
          "Major",
          "Major",
          "Major",
          "Major",
          "Major",
          "Major",
          "Major",
          "Trivial",
          "Major",
          "Major",
          "Minor",
          "Major",
          "Major",
          "Trivial",
          "Major",
          "Major",
          "Major",
          "Major",
          "Major",
          "Trivial",
          "Major",
          "Minor",
          "Major",
          "Major",
          "Major",
          "Major",
          "Major",
          "Major",
          "Major",
          "Major",
          "Major",
          "Major",
          "Major",
          "Major",
          "Major",
          "Minor",
          "Major",
          "Major",
          "Minor",
          "Major",
          "Blocker",
          "Major",
          "Major",
          "Major",
          "Major",
          "Major",
          "Major",
          "Major",
          "Trivial",
          "Major",
          "Major",
          "Major",
          "Major",
          "Major",
          "Major",
          "Major",
          "Major",
          "Major",
          "Major",
          "Minor",
          "Major",
          "Major",
          "Minor",
          "Minor",
          "Major",
          "Minor",
          "Minor",
          "Major",
          "Blocker",
          "Major",
          "Major",
          "Major",
          "Major",
          "Major",
          "Major",
          "Minor",
          "Major",
          "Major",
          "Major",
          "Minor",
          "Trivial",
          "Major",
          "Major",
          "Major",
          "Minor",
          "Major",
          "Major",
          "Minor",
          "Major",
          "Major",
          "Major",
          "Major",
          "Minor",
          "Major",
          "Major",
          "Major",
          "Major",
          "Minor",
          "Major",
          "Major",
          "Minor",
          "Minor",
          "Minor",
          "Minor",
          "Major",
          "Blocker",
          "Major",
          "Major",
          "Major",
          "Major",
          "Major",
          "Minor",
          "Major",
          "Major",
          "Minor",
          "Major",
          "Major",
          "Major",
          "Major",
          "Major",
          "Major",
          "Major",
          "Major",
          "Major",
          "Major",
          "Major",
          "Major",
          "Critical",
          "Major",
          "Major",
          "Minor",
          "Major",
          "Minor",
          "Minor",
          "Major",
          "Critical",
          "Major",
          "Major",
          "Major",
          "Major",
          "Major",
          "Minor",
          "Minor",
          "Major",
          "Major",
          "Major",
          "Major",
          "Minor",
          "Minor",
          "Major",
          "Minor",
          "Minor",
          "Major",
          "Major",
          "Major",
          "Major",
          "Major",
          "Major",
          "Major",
          "Major",
          "Minor",
          "Major",
          "Minor",
          "Major",
          "Major",
          "Major",
          "Minor",
          "Major",
          "Major",
          "Major",
          "Major",
          "Major",
          "Major",
          "Major",
          "Minor",
          "Minor",
          "Minor",
          "Minor",
          "Minor",
          "Major",
          "Major",
          "Minor",
          "Major",
          "Minor",
          "Minor",
          "Major",
          "Major",
          "Major",
          "Minor",
          "Major",
          "Minor",
          "Minor",
          "Major",
          "Blocker",
          "Major",
          "Major",
          "Major",
          "Trivial",
          "Trivial",
          "Major",
          "Major",
          "Major",
          "Major",
          "Major",
          "Trivial",
          "Minor",
          "Minor",
          "Major",
          "Minor",
          "Major",
          "Major",
          "Major",
          "Major",
          "Major",
          "Major",
          "Major",
          "Major",
          "Minor",
          "Trivial",
          "Major",
          "Major",
          "Minor",
          "Minor",
          "Major",
          "Major",
          "Minor",
          "Major",
          "Major",
          "Trivial",
          "Major",
          "Major",
          "Major",
          "Minor",
          "Major",
          "Major",
          "Minor",
          "Major",
          "Major",
          "Major",
          "Major",
          "Minor",
          "Minor",
          "Major",
          "Major",
          "Major",
          "Major",
          "Major",
          "Major",
          "Major",
          "Major",
          "Minor",
          "Major",
          "Minor",
          "Major",
          "Major",
          "Minor",
          "Major",
          "Critical",
          "Major",
          "Major",
          "Major",
          "Major",
          "Major",
          "Major",
          "Major",
          "Critical",
          "Major",
          "Minor",
          "Major",
          "Major",
          "Major",
          "Major",
          "Major",
          "Major",
          "Major",
          "Major",
          "Critical",
          "Major",
          "Major",
          "Major",
          "Major",
          "Minor",
          "Major",
          "Major",
          "Critical",
          "Minor",
          "Major",
          "Major",
          "Blocker",
          "Critical",
          "Major",
          "Major",
          "Major",
          "Major",
          "Major",
          "Major",
          "Minor",
          "Major",
          "Major",
          "Major",
          "Minor",
          "Major",
          "Minor",
          "Major",
          "Major",
          "Major",
          "Major",
          "Major",
          "Major",
          "Major",
          "Major",
          "Minor",
          "Major",
          "Major",
          "Major",
          "Major",
          "Minor",
          "Major",
          "Minor",
          "Minor",
          "Trivial",
          "Trivial",
          "Minor",
          "Minor",
          "Major",
          "Major",
          "Major",
          "Major",
          "Major",
          "Minor",
          "Minor",
          "Major",
          "Major",
          "Minor",
          "Major",
          "Minor",
          "Trivial",
          "Trivial",
          "Major",
          "Major",
          "Blocker",
          "Minor",
          "Minor",
          "Minor",
          "Major",
          "Major",
          "Minor",
          "Major",
          "Major",
          "Major",
          "Major",
          "Major",
          "Major",
          "Major",
          "Critical",
          "Major",
          "Minor",
          "Major",
          "Critical",
          "Major",
          "Minor",
          "Minor",
          "Major",
          "Minor",
          "Minor",
          "Minor",
          "Minor",
          "Minor",
          "Major",
          "Major",
          "Minor",
          "Minor",
          "Minor",
          "Trivial",
          "Minor",
          "Major",
          "Major",
          "Major",
          "Minor",
          "Blocker",
          "Major",
          "Major",
          "Major",
          "Major",
          "Major",
          "Major",
          "Major",
          "Major",
          "Major",
          "Minor",
          "Minor",
          "Major",
          "Blocker",
          "Major",
          "Major",
          "Major",
          "Major",
          "Blocker",
          "Major",
          "Minor",
          "Major",
          "Major",
          "Major",
          "Major",
          "Major",
          "Major",
          "Major",
          "Major",
          "Major",
          "Major",
          "Major",
          "Major",
          "Major",
          "Major",
          "Major",
          "Major",
          "Major",
          "Major",
          "Major",
          "Major",
          "Major",
          "Minor",
          "Major",
          "Major",
          "Major",
          "Major",
          "Major",
          "Major",
          "Critical",
          "Major",
          "Major",
          "Major",
          "Major",
          "Major",
          "Major",
          "Minor",
          "Major",
          "Major",
          "Trivial",
          "Major",
          "Major",
          "Major",
          "Critical",
          "Major",
          "Major",
          "Major",
          "Critical",
          "Major",
          "Major",
          "Major",
          "Major",
          "Major",
          "Major",
          "Blocker",
          "Major",
          "Major",
          "Major",
          "Major",
          "Minor",
          "Major",
          "Minor",
          "Major",
          "Major",
          "Minor",
          "Major",
          "Major",
          "Major",
          "Major",
          "Minor",
          "Critical",
          "Major",
          "Major",
          "Major",
          "Major",
          "Minor",
          "Major",
          "Major",
          "Major",
          "Minor",
          "Blocker",
          "Trivial",
          "Major",
          "Critical",
          "Major",
          "Major",
          "Minor",
          "Major",
          "Minor",
          "Minor",
          "Minor",
          "Major",
          "Major",
          "Major",
          "Major",
          "Major",
          "Major",
          "Major",
          "Minor",
          "Major",
          "Minor",
          "Critical",
          "Blocker",
          "Major",
          "Major",
          "Major",
          "Major",
          "Major",
          "Minor",
          "Minor",
          "Major",
          "Major",
          "Major",
          "Minor",
          "Minor",
          "Major",
          "Minor",
          "Trivial",
          "Blocker",
          "Major",
          "Blocker",
          "Major",
          "Minor",
          "Critical",
          "Major",
          "Blocker",
          "Major",
          "Major",
          "Major",
          "Major",
          "Blocker",
          "Major",
          "Blocker",
          "Minor",
          "Blocker",
          "Major",
          "Major",
          "Major",
          "Major",
          "Critical",
          "Major",
          "Blocker",
          "Major",
          "Critical",
          "Major",
          "Major",
          "Major",
          "Trivial",
          "Critical",
          "Major",
          "Major",
          "Major",
          "Major",
          "Major",
          "Major",
          "Minor",
          "Minor",
          "Minor",
          "Minor",
          "Major",
          "Major",
          "Blocker",
          "Major",
          "Major",
          "Blocker",
          "Major",
          "Minor",
          "Minor",
          "Major",
          "Major",
          "Major",
          "Major",
          "Major",
          "Critical",
          "Major",
          "Major",
          "Major",
          "Major",
          "Major",
          "Minor",
          "Major",
          "Major",
          "Major",
          "Major",
          "Critical",
          "Major",
          "Trivial",
          "Minor",
          "Minor",
          "Major",
          "Major",
          "Trivial",
          "Minor",
          "Major",
          "Major",
          "Major",
          "Major",
          "Blocker",
          "Major",
          "Major",
          "Major",
          "Major",
          "Minor",
          "Major",
          "Major",
          "Minor",
          "Blocker",
          "Major",
          "Major",
          "Major",
          "Major",
          "Major",
          "Major",
          "Minor",
          "Major",
          "Blocker",
          "Major",
          "Major",
          "Major",
          "Major",
          "Major",
          "Major",
          "Major",
          "Major",
          "Minor",
          "Major",
          "Major",
          "Trivial",
          "Major",
          "Major",
          "Major",
          "Major",
          "Major",
          "Major",
          "Minor",
          "Major",
          "Major",
          "Major",
          "Major",
          "Major",
          "Major",
          "Minor",
          "Major",
          "Minor",
          "Major",
          "Major",
          "Major",
          "Minor",
          "Major",
          "Major",
          "Major",
          "Major",
          "Major",
          "Major",
          "Minor",
          "Major",
          "Minor",
          "Major",
          "Major",
          "Major",
          "Major",
          "Major",
          "Major",
          "Major",
          "Major",
          "Major",
          "Major",
          "Major",
          "Major",
          "Major",
          "Major",
          "Major",
          "Major",
          "Major",
          "Major",
          "Major",
          "Major",
          "Major",
          "Major",
          "Major",
          "Critical",
          "Minor",
          "Major",
          "Trivial",
          "Major",
          "Major",
          "Minor",
          "Minor",
          "Minor",
          "Major",
          "Major",
          "Major",
          "Major",
          "Critical",
          "Major",
          "Major",
          "Major",
          "Major",
          "Major",
          "Major",
          "Major",
          "Critical",
          "Major",
          "Major",
          "Major",
          "Major",
          "Major",
          "Major",
          "Minor",
          "Major",
          "Minor",
          "Major",
          "Major",
          "Major",
          "Minor",
          "Major",
          "Major",
          "Major",
          "Major",
          "Major",
          "Major",
          "Major",
          "Major",
          "Minor",
          "Minor",
          "Major",
          "Major",
          "Major",
          "Blocker",
          "Major",
          "Major",
          "Blocker",
          "Major",
          "Major",
          "Major",
          "Major",
          "Major",
          "Major",
          "Minor",
          "Trivial",
          "Trivial",
          "Major",
          "Major",
          "Major",
          "Major",
          "Major",
          "Minor",
          "Major",
          "Major",
          "Major",
          "Major",
          "Major",
          "Major",
          "Major",
          "Major",
          "Major",
          "Major",
          "Major",
          "Major",
          "Major",
          "Major",
          "Major",
          "Blocker",
          "Major",
          "Major",
          "Major",
          "Minor",
          "Major",
          "Major",
          "Trivial",
          "Major",
          "Major",
          "Minor",
          "Critical",
          "Major",
          "Major",
          "Major",
          "Minor",
          "Major",
          "Major",
          "Major",
          "Major",
          "Minor",
          "Major",
          "Major",
          "Major",
          "Major",
          "Major",
          "Major",
          "Minor",
          "Major",
          "Major",
          "Major",
          "Major",
          "Blocker",
          "Major",
          "Major",
          "Major",
          "Major",
          "Blocker",
          "Major",
          "Major",
          "Major",
          "Minor",
          "Minor",
          "Major",
          "Major",
          "Major",
          "Major",
          "Major",
          "Major",
          "Major",
          "Major",
          "Major",
          "Minor",
          "Major",
          "Major",
          "Major",
          "Major",
          "Major",
          "Major",
          "Major",
          "Major",
          "Major",
          "Major",
          "Major",
          "Major",
          "Major",
          "Major",
          "Major",
          "Major",
          "Major",
          "Major",
          "Major",
          "Blocker",
          "Major",
          "Major",
          "Major",
          "Major",
          "Major",
          "Major",
          "Major",
          "Major",
          "Major",
          "Major",
          "Major",
          "Major",
          "Major",
          "Major",
          "Minor",
          "Major",
          "Major",
          "Major",
          "Major",
          "Major",
          "Major",
          "Major",
          "Major",
          "Major",
          "Minor",
          "Major",
          "Major",
          "Minor",
          "Major",
          "Minor",
          "Minor",
          "Major",
          "Minor",
          "Major",
          "Major",
          "Minor",
          "Major",
          "Major",
          "Major",
          "Minor",
          "Major",
          "Minor",
          "Major",
          "Trivial",
          "Major",
          "Trivial",
          "Major",
          "Major",
          "Major",
          "Major",
          "Minor",
          "Major",
          "Major",
          "Major",
          "Minor",
          "Minor",
          "Minor",
          "Major",
          "Major",
          "Major",
          "Major",
          "Blocker",
          "Major",
          "Major",
          "Major",
          "Major",
          "Major",
          "Major",
          "Major",
          "Major",
          "Major",
          "Major",
          "Major",
          "Minor",
          "Major",
          "Major",
          "Major",
          "Major",
          "Major",
          "Major",
          "Major",
          "Major",
          "Major",
          "Major",
          "Major",
          "Major",
          "Minor",
          "Major",
          "Major",
          "Major",
          "Major",
          "Minor",
          "Major",
          "Minor",
          "Major",
          "Major",
          "Major",
          "Major",
          "Major",
          "Major",
          "Minor",
          "Major",
          "Major",
          "Minor",
          "Trivial",
          "Major",
          "Major",
          "Major",
          "Minor",
          "Major",
          "Major",
          "Major",
          "Major",
          "Major",
          "Major",
          "Major",
          "Major",
          "Major",
          "Major",
          "Major",
          "Trivial",
          "Major",
          "Major",
          "Major",
          "Minor",
          "Major",
          "Critical",
          "Major",
          "Major",
          "Major",
          "Major",
          "Major",
          "Trivial",
          "Major",
          "Major",
          "Major",
          "Major",
          "Major",
          "Major",
          "Major",
          "Major",
          "Minor",
          "Major",
          "Major",
          "Major",
          "Major",
          "Major",
          "Blocker",
          "Major",
          "Major",
          "Major",
          "Major",
          "Major",
          "Major",
          "Minor",
          "Major",
          "Major",
          "Major",
          "Blocker",
          "Blocker",
          "Minor",
          "Critical",
          "Major",
          "Major",
          "Major",
          "Major",
          "Major",
          "Major",
          "Major",
          "Major",
          "Trivial",
          "Major",
          "Major",
          "Major",
          "Major",
          "Minor",
          "Major",
          "Major",
          "Trivial",
          "Major",
          "Major",
          "Major",
          "Major",
          "Major",
          "Trivial",
          "Major",
          "Major",
          "Major",
          "Major",
          "Major",
          "Major",
          "Major",
          "Major",
          "Major",
          "Major",
          "Major",
          "Minor",
          "Major",
          "Major",
          "Major",
          "Major",
          "Major",
          "Major",
          "Blocker",
          "Major",
          "Major",
          "Major",
          "Major",
          "Major",
          "Major",
          "Major",
          "Major",
          "Major",
          "Major",
          "Major",
          "Major",
          "Major",
          "Major",
          "Major",
          "Major",
          "Major",
          "Major",
          "Major",
          "Major",
          "Major",
          "Major",
          "Major",
          "Major",
          "Minor",
          "Major",
          "Major",
          "Minor",
          "Trivial",
          "Minor",
          "Major",
          "Major",
          "Major",
          "Major",
          "Major",
          "Major",
          "Major",
          "Major",
          "Major",
          "Major",
          "Major",
          "Major",
          "Major",
          "Major",
          "Major",
          "Major",
          "Major",
          "Major",
          "Major",
          "Major",
          "Minor",
          "Major",
          "Major",
          "Major",
          "Major",
          "Minor",
          "Major",
          "Major",
          "Major",
          "Major",
          "Major",
          "Major",
          "Major",
          "Critical",
          "Major",
          "Major"
         ],
         "y0": " ",
         "yaxis": "y"
        }
       ],
       "layout": {
        "boxmode": "group",
        "legend": {
         "tracegroupgap": 0
        },
        "margin": {
         "t": 60
        },
        "template": {
         "data": {
          "bar": [
           {
            "error_x": {
             "color": "#2a3f5f"
            },
            "error_y": {
             "color": "#2a3f5f"
            },
            "marker": {
             "line": {
              "color": "#E5ECF6",
              "width": 0.5
             }
            },
            "type": "bar"
           }
          ],
          "barpolar": [
           {
            "marker": {
             "line": {
              "color": "#E5ECF6",
              "width": 0.5
             }
            },
            "type": "barpolar"
           }
          ],
          "carpet": [
           {
            "aaxis": {
             "endlinecolor": "#2a3f5f",
             "gridcolor": "white",
             "linecolor": "white",
             "minorgridcolor": "white",
             "startlinecolor": "#2a3f5f"
            },
            "baxis": {
             "endlinecolor": "#2a3f5f",
             "gridcolor": "white",
             "linecolor": "white",
             "minorgridcolor": "white",
             "startlinecolor": "#2a3f5f"
            },
            "type": "carpet"
           }
          ],
          "choropleth": [
           {
            "colorbar": {
             "outlinewidth": 0,
             "ticks": ""
            },
            "type": "choropleth"
           }
          ],
          "contour": [
           {
            "colorbar": {
             "outlinewidth": 0,
             "ticks": ""
            },
            "colorscale": [
             [
              0,
              "#0d0887"
             ],
             [
              0.1111111111111111,
              "#46039f"
             ],
             [
              0.2222222222222222,
              "#7201a8"
             ],
             [
              0.3333333333333333,
              "#9c179e"
             ],
             [
              0.4444444444444444,
              "#bd3786"
             ],
             [
              0.5555555555555556,
              "#d8576b"
             ],
             [
              0.6666666666666666,
              "#ed7953"
             ],
             [
              0.7777777777777778,
              "#fb9f3a"
             ],
             [
              0.8888888888888888,
              "#fdca26"
             ],
             [
              1,
              "#f0f921"
             ]
            ],
            "type": "contour"
           }
          ],
          "contourcarpet": [
           {
            "colorbar": {
             "outlinewidth": 0,
             "ticks": ""
            },
            "type": "contourcarpet"
           }
          ],
          "heatmap": [
           {
            "colorbar": {
             "outlinewidth": 0,
             "ticks": ""
            },
            "colorscale": [
             [
              0,
              "#0d0887"
             ],
             [
              0.1111111111111111,
              "#46039f"
             ],
             [
              0.2222222222222222,
              "#7201a8"
             ],
             [
              0.3333333333333333,
              "#9c179e"
             ],
             [
              0.4444444444444444,
              "#bd3786"
             ],
             [
              0.5555555555555556,
              "#d8576b"
             ],
             [
              0.6666666666666666,
              "#ed7953"
             ],
             [
              0.7777777777777778,
              "#fb9f3a"
             ],
             [
              0.8888888888888888,
              "#fdca26"
             ],
             [
              1,
              "#f0f921"
             ]
            ],
            "type": "heatmap"
           }
          ],
          "heatmapgl": [
           {
            "colorbar": {
             "outlinewidth": 0,
             "ticks": ""
            },
            "colorscale": [
             [
              0,
              "#0d0887"
             ],
             [
              0.1111111111111111,
              "#46039f"
             ],
             [
              0.2222222222222222,
              "#7201a8"
             ],
             [
              0.3333333333333333,
              "#9c179e"
             ],
             [
              0.4444444444444444,
              "#bd3786"
             ],
             [
              0.5555555555555556,
              "#d8576b"
             ],
             [
              0.6666666666666666,
              "#ed7953"
             ],
             [
              0.7777777777777778,
              "#fb9f3a"
             ],
             [
              0.8888888888888888,
              "#fdca26"
             ],
             [
              1,
              "#f0f921"
             ]
            ],
            "type": "heatmapgl"
           }
          ],
          "histogram": [
           {
            "marker": {
             "colorbar": {
              "outlinewidth": 0,
              "ticks": ""
             }
            },
            "type": "histogram"
           }
          ],
          "histogram2d": [
           {
            "colorbar": {
             "outlinewidth": 0,
             "ticks": ""
            },
            "colorscale": [
             [
              0,
              "#0d0887"
             ],
             [
              0.1111111111111111,
              "#46039f"
             ],
             [
              0.2222222222222222,
              "#7201a8"
             ],
             [
              0.3333333333333333,
              "#9c179e"
             ],
             [
              0.4444444444444444,
              "#bd3786"
             ],
             [
              0.5555555555555556,
              "#d8576b"
             ],
             [
              0.6666666666666666,
              "#ed7953"
             ],
             [
              0.7777777777777778,
              "#fb9f3a"
             ],
             [
              0.8888888888888888,
              "#fdca26"
             ],
             [
              1,
              "#f0f921"
             ]
            ],
            "type": "histogram2d"
           }
          ],
          "histogram2dcontour": [
           {
            "colorbar": {
             "outlinewidth": 0,
             "ticks": ""
            },
            "colorscale": [
             [
              0,
              "#0d0887"
             ],
             [
              0.1111111111111111,
              "#46039f"
             ],
             [
              0.2222222222222222,
              "#7201a8"
             ],
             [
              0.3333333333333333,
              "#9c179e"
             ],
             [
              0.4444444444444444,
              "#bd3786"
             ],
             [
              0.5555555555555556,
              "#d8576b"
             ],
             [
              0.6666666666666666,
              "#ed7953"
             ],
             [
              0.7777777777777778,
              "#fb9f3a"
             ],
             [
              0.8888888888888888,
              "#fdca26"
             ],
             [
              1,
              "#f0f921"
             ]
            ],
            "type": "histogram2dcontour"
           }
          ],
          "mesh3d": [
           {
            "colorbar": {
             "outlinewidth": 0,
             "ticks": ""
            },
            "type": "mesh3d"
           }
          ],
          "parcoords": [
           {
            "line": {
             "colorbar": {
              "outlinewidth": 0,
              "ticks": ""
             }
            },
            "type": "parcoords"
           }
          ],
          "pie": [
           {
            "automargin": true,
            "type": "pie"
           }
          ],
          "scatter": [
           {
            "marker": {
             "colorbar": {
              "outlinewidth": 0,
              "ticks": ""
             }
            },
            "type": "scatter"
           }
          ],
          "scatter3d": [
           {
            "line": {
             "colorbar": {
              "outlinewidth": 0,
              "ticks": ""
             }
            },
            "marker": {
             "colorbar": {
              "outlinewidth": 0,
              "ticks": ""
             }
            },
            "type": "scatter3d"
           }
          ],
          "scattercarpet": [
           {
            "marker": {
             "colorbar": {
              "outlinewidth": 0,
              "ticks": ""
             }
            },
            "type": "scattercarpet"
           }
          ],
          "scattergeo": [
           {
            "marker": {
             "colorbar": {
              "outlinewidth": 0,
              "ticks": ""
             }
            },
            "type": "scattergeo"
           }
          ],
          "scattergl": [
           {
            "marker": {
             "colorbar": {
              "outlinewidth": 0,
              "ticks": ""
             }
            },
            "type": "scattergl"
           }
          ],
          "scattermapbox": [
           {
            "marker": {
             "colorbar": {
              "outlinewidth": 0,
              "ticks": ""
             }
            },
            "type": "scattermapbox"
           }
          ],
          "scatterpolar": [
           {
            "marker": {
             "colorbar": {
              "outlinewidth": 0,
              "ticks": ""
             }
            },
            "type": "scatterpolar"
           }
          ],
          "scatterpolargl": [
           {
            "marker": {
             "colorbar": {
              "outlinewidth": 0,
              "ticks": ""
             }
            },
            "type": "scatterpolargl"
           }
          ],
          "scatterternary": [
           {
            "marker": {
             "colorbar": {
              "outlinewidth": 0,
              "ticks": ""
             }
            },
            "type": "scatterternary"
           }
          ],
          "surface": [
           {
            "colorbar": {
             "outlinewidth": 0,
             "ticks": ""
            },
            "colorscale": [
             [
              0,
              "#0d0887"
             ],
             [
              0.1111111111111111,
              "#46039f"
             ],
             [
              0.2222222222222222,
              "#7201a8"
             ],
             [
              0.3333333333333333,
              "#9c179e"
             ],
             [
              0.4444444444444444,
              "#bd3786"
             ],
             [
              0.5555555555555556,
              "#d8576b"
             ],
             [
              0.6666666666666666,
              "#ed7953"
             ],
             [
              0.7777777777777778,
              "#fb9f3a"
             ],
             [
              0.8888888888888888,
              "#fdca26"
             ],
             [
              1,
              "#f0f921"
             ]
            ],
            "type": "surface"
           }
          ],
          "table": [
           {
            "cells": {
             "fill": {
              "color": "#EBF0F8"
             },
             "line": {
              "color": "white"
             }
            },
            "header": {
             "fill": {
              "color": "#C8D4E3"
             },
             "line": {
              "color": "white"
             }
            },
            "type": "table"
           }
          ]
         },
         "layout": {
          "annotationdefaults": {
           "arrowcolor": "#2a3f5f",
           "arrowhead": 0,
           "arrowwidth": 1
          },
          "coloraxis": {
           "colorbar": {
            "outlinewidth": 0,
            "ticks": ""
           }
          },
          "colorscale": {
           "diverging": [
            [
             0,
             "#8e0152"
            ],
            [
             0.1,
             "#c51b7d"
            ],
            [
             0.2,
             "#de77ae"
            ],
            [
             0.3,
             "#f1b6da"
            ],
            [
             0.4,
             "#fde0ef"
            ],
            [
             0.5,
             "#f7f7f7"
            ],
            [
             0.6,
             "#e6f5d0"
            ],
            [
             0.7,
             "#b8e186"
            ],
            [
             0.8,
             "#7fbc41"
            ],
            [
             0.9,
             "#4d9221"
            ],
            [
             1,
             "#276419"
            ]
           ],
           "sequential": [
            [
             0,
             "#0d0887"
            ],
            [
             0.1111111111111111,
             "#46039f"
            ],
            [
             0.2222222222222222,
             "#7201a8"
            ],
            [
             0.3333333333333333,
             "#9c179e"
            ],
            [
             0.4444444444444444,
             "#bd3786"
            ],
            [
             0.5555555555555556,
             "#d8576b"
            ],
            [
             0.6666666666666666,
             "#ed7953"
            ],
            [
             0.7777777777777778,
             "#fb9f3a"
            ],
            [
             0.8888888888888888,
             "#fdca26"
            ],
            [
             1,
             "#f0f921"
            ]
           ],
           "sequentialminus": [
            [
             0,
             "#0d0887"
            ],
            [
             0.1111111111111111,
             "#46039f"
            ],
            [
             0.2222222222222222,
             "#7201a8"
            ],
            [
             0.3333333333333333,
             "#9c179e"
            ],
            [
             0.4444444444444444,
             "#bd3786"
            ],
            [
             0.5555555555555556,
             "#d8576b"
            ],
            [
             0.6666666666666666,
             "#ed7953"
            ],
            [
             0.7777777777777778,
             "#fb9f3a"
            ],
            [
             0.8888888888888888,
             "#fdca26"
            ],
            [
             1,
             "#f0f921"
            ]
           ]
          },
          "colorway": [
           "#636efa",
           "#EF553B",
           "#00cc96",
           "#ab63fa",
           "#FFA15A",
           "#19d3f3",
           "#FF6692",
           "#B6E880",
           "#FF97FF",
           "#FECB52"
          ],
          "font": {
           "color": "#2a3f5f"
          },
          "geo": {
           "bgcolor": "white",
           "lakecolor": "white",
           "landcolor": "#E5ECF6",
           "showlakes": true,
           "showland": true,
           "subunitcolor": "white"
          },
          "hoverlabel": {
           "align": "left"
          },
          "hovermode": "closest",
          "mapbox": {
           "style": "light"
          },
          "paper_bgcolor": "white",
          "plot_bgcolor": "#E5ECF6",
          "polar": {
           "angularaxis": {
            "gridcolor": "white",
            "linecolor": "white",
            "ticks": ""
           },
           "bgcolor": "#E5ECF6",
           "radialaxis": {
            "gridcolor": "white",
            "linecolor": "white",
            "ticks": ""
           }
          },
          "scene": {
           "xaxis": {
            "backgroundcolor": "#E5ECF6",
            "gridcolor": "white",
            "gridwidth": 2,
            "linecolor": "white",
            "showbackground": true,
            "ticks": "",
            "zerolinecolor": "white"
           },
           "yaxis": {
            "backgroundcolor": "#E5ECF6",
            "gridcolor": "white",
            "gridwidth": 2,
            "linecolor": "white",
            "showbackground": true,
            "ticks": "",
            "zerolinecolor": "white"
           },
           "zaxis": {
            "backgroundcolor": "#E5ECF6",
            "gridcolor": "white",
            "gridwidth": 2,
            "linecolor": "white",
            "showbackground": true,
            "ticks": "",
            "zerolinecolor": "white"
           }
          },
          "shapedefaults": {
           "line": {
            "color": "#2a3f5f"
           }
          },
          "ternary": {
           "aaxis": {
            "gridcolor": "white",
            "linecolor": "white",
            "ticks": ""
           },
           "baxis": {
            "gridcolor": "white",
            "linecolor": "white",
            "ticks": ""
           },
           "bgcolor": "#E5ECF6",
           "caxis": {
            "gridcolor": "white",
            "linecolor": "white",
            "ticks": ""
           }
          },
          "title": {
           "x": 0.05
          },
          "xaxis": {
           "automargin": true,
           "gridcolor": "white",
           "linecolor": "white",
           "ticks": "",
           "title": {
            "standoff": 15
           },
           "zerolinecolor": "white",
           "zerolinewidth": 2
          },
          "yaxis": {
           "automargin": true,
           "gridcolor": "white",
           "linecolor": "white",
           "ticks": "",
           "title": {
            "standoff": 15
           },
           "zerolinecolor": "white",
           "zerolinewidth": 2
          }
         }
        },
        "xaxis": {
         "anchor": "y",
         "domain": [
          0,
          1
         ],
         "title": {
          "text": "days_needed"
         }
        },
        "yaxis": {
         "anchor": "x",
         "domain": [
          0,
          1
         ],
         "title": {
          "text": "priority"
         }
        }
       }
      },
      "text/html": [
       "<div>\n",
       "        \n",
       "        \n",
       "            <div id=\"1c790857-39db-48dd-9307-d55dc862dd2b\" class=\"plotly-graph-div\" style=\"height:525px; width:100%;\"></div>\n",
       "            <script type=\"text/javascript\">\n",
       "                require([\"plotly\"], function(Plotly) {\n",
       "                    window.PLOTLYENV=window.PLOTLYENV || {};\n",
       "                    \n",
       "                if (document.getElementById(\"1c790857-39db-48dd-9307-d55dc862dd2b\")) {\n",
       "                    Plotly.newPlot(\n",
       "                        '1c790857-39db-48dd-9307-d55dc862dd2b',\n",
       "                        [{\"alignmentgroup\": \"True\", \"hovertemplate\": \"days_needed=%{x}<br>priority=%{y}<extra></extra>\", \"legendgroup\": \"\", \"marker\": {\"color\": \"#636efa\"}, \"name\": \"\", \"notched\": false, \"offsetgroup\": \"\", \"orientation\": \"h\", \"showlegend\": false, \"type\": \"box\", \"x\": [17.0, 18.0, 19.0, 19.0, 5.0, 3.0, 13.0, 9.0, 0.0, 35.0, 0.0, 12.0, 19.0, 14.0, 8.0, 9.0, 6.0, 3.0, 115.0, 0.0, 31.0, 14.0, 0.0, 12.0, 48.0, 2.0, 5.0, 83.0, 0.0, 12.0, 18.0, 69.0, 10.0, 0.0, 46.0, 9.0, 55.0, 9.0, 55.0, 4.0, 11.0, 11.0, 13.0, 35.0, 0.0, 39.0, 0.0, 11.0, 3.0, 3.0, 98.0, 41.0, 79.0, 0.0, 0.0, 14.0, 11.0, 3.0, 47.0, 0.0, 21.0, 15.0, 0.0, 20.0, 0.0, 12.0, 2.0, 12.0, 16.0, 33.0, 37.0, 51.0, 47.0, 22.0, 108.0, 15.0, 0.0, 0.0, 86.0, 98.0, 73.0, 0.0, 0.0, 0.0, 0.0, 0.0, 6.0, 4.0, 35.0, 119.0, 118.0, 5.0, 115.0, 3.0, 12.0, 0.0, 0.0, 9.0, 10.0, 7.0, 1.0, 1.0, 3.0, 65.0, 0.0, 27.0, 22.0, 89.0, 27.0, 0.0, 34.0, 41.0, 48.0, 110.0, 56.0, 14.0, 62.0, 74.0, 2.0, 19.0, 0.0, 0.0, 4.0, 0.0, 125.0, 122.0, 125.0, 107.0, 35.0, 1.0, 3.0, 3.0, 2.0, 6.0, 4.0, 3.0, 0.0, 32.0, 0.0, 3.0, 20.0, 8.0, 8.0, 1.0, 10.0, 18.0, 18.0, 41.0, 22.0, 67.0, 0.0, 0.0, 19.0, 73.0, 2.0, 0.0, 16.0, 2.0, 87.0, 9.0, 1.0, 8.0, 1.0, 6.0, 26.0, 20.0, 20.0, 15.0, 15.0, 15.0, 35.0, 4.0, 0.0, 55.0, 16.0, 21.0, 57.0, 0.0, 23.0, 82.0, 82.0, 83.0, 38.0, 38.0, 82.0, 82.0, 38.0, 95.0, 82.0, 110.0, 61.0, 1.0, 46.0, 46.0, 2.0, 68.0, 1.0, 7.0, 0.0, 18.0, 1.0, 7.0, 9.0, 12.0, 15.0, 82.0, 86.0, 47.0, 41.0, 0.0, 1.0, 0.0, 17.0, 1.0, 0.0, 126.0, 64.0, 9.0, 20.0, 4.0, 23.0, 1.0, 0.0, 7.0, 5.0, 14.0, 20.0, 7.0, 12.0, 4.0, 5.0, 14.0, 26.0, 30.0, 1.0, 9.0, 2.0, 5.0, 66.0, 1.0, 110.0, 5.0, 0.0, 60.0, 0.0, 23.0, 4.0, 1.0, 0.0, 8.0, 6.0, 7.0, 0.0, 6.0, 19.0, 8.0, 8.0, 0.0, 2.0, 64.0, 37.0, 69.0, 84.0, 0.0, 5.0, 82.0, 117.0, 10.0, 11.0, 13.0, 103.0, 17.0, 110.0, 25.0, 12.0, 105.0, 0.0, 19.0, 23.0, 6.0, 0.0, 3.0, 4.0, 127.0, 11.0, 20.0, 15.0, 0.0, 0.0, 1.0, 3.0, 2.0, 5.0, 13.0, 18.0, 24.0, 21.0, 6.0, 0.0, 7.0, 12.0, 9.0, 19.0, 26.0, 29.0, 9.0, 31.0, 32.0, 35.0, 1.0, 1.0, 1.0, 20.0, 8.0, 8.0, 28.0, 98.0, 101.0, 88.0, 9.0, 1.0, 67.0, 112.0, 8.0, 17.0, 119.0, 126.0, 0.0, 22.0, 17.0, 30.0, 20.0, 7.0, 0.0, 13.0, 71.0, 77.0, 0.0, 13.0, 17.0, 1.0, 1.0, 82.0, 17.0, 2.0, 1.0, 3.0, 7.0, 15.0, 1.0, 21.0, 0.0, 1.0, 4.0, 3.0, 4.0, 6.0, 0.0, 94.0, 13.0, 6.0, 83.0, 83.0, 69.0, 10.0, 10.0, 38.0, 126.0, 32.0, 47.0, 8.0, 0.0, 26.0, 3.0, 43.0, 0.0, 9.0, 35.0, 0.0, 0.0, 0.0, 5.0, 0.0, 7.0, 2.0, 1.0, 1.0, 0.0, 4.0, 0.0, 5.0, 1.0, 3.0, 3.0, 3.0, 112.0, 2.0, 6.0, 3.0, 4.0, 8.0, 25.0, 15.0, 40.0, 29.0, 0.0, 57.0, 0.0, 73.0, 27.0, 7.0, 9.0, 3.0, 12.0, 7.0, 7.0, 12.0, 0.0, 6.0, 96.0, 0.0, 10.0, 6.0, 21.0, 42.0, 58.0, 61.0, 64.0, 2.0, 7.0, 6.0, 0.0, 3.0, 3.0, 3.0, 76.0, 0.0, 4.0, 0.0, 0.0, 0.0, 50.0, 0.0, 2.0, 1.0, 0.0, 1.0, 9.0, 4.0, 5.0, 9.0, 0.0, 11.0, 24.0, 5.0, 4.0, 0.0, 31.0, 0.0, 15.0, 124.0, 1.0, 56.0, 2.0, 0.0, 35.0, 11.0, 15.0, 0.0, 4.0, 18.0, 9.0, 0.0, 6.0, 94.0, 10.0, 35.0, 13.0, 11.0, 21.0, 67.0, 13.0, 112.0, 16.0, 1.0, 2.0, 0.0, 1.0, 1.0, 1.0, 4.0, 4.0, 3.0, 6.0, 9.0, 8.0, 4.0, 9.0, 9.0, 9.0, 7.0, 3.0, 11.0, 11.0, 11.0, 18.0, 9.0, 20.0, 15.0, 16.0, 52.0, 2.0, 22.0, 24.0, 29.0, 1.0, 34.0, 4.0, 0.0, 51.0, 50.0, 56.0, 54.0, 36.0, 62.0, 2.0, 63.0, 0.0, 1.0, 0.0, 0.0, 0.0, 1.0, 8.0, 9.0, 13.0, 7.0, 20.0, 99.0, 1.0, 0.0, 0.0, 0.0, 3.0, 5.0, 1.0, 9.0, 12.0, 11.0, 13.0, 14.0, 42.0, 14.0, 1.0, 1.0, 0.0, 17.0, 3.0, 35.0, 0.0, 21.0, 22.0, 1.0, 1.0, 35.0, 7.0, 1.0, 57.0, 0.0, 0.0, 0.0, 1.0, 62.0, 53.0, 0.0, 7.0, 10.0, 7.0, 7.0, 21.0, 18.0, 0.0, 28.0, 87.0, 33.0, 0.0, 1.0, 0.0, 7.0, 0.0, 3.0, 7.0, 1.0, 6.0, 0.0, 0.0, 0.0, 1.0, 6.0, 0.0, 0.0, 0.0, 0.0, 8.0, 0.0, 0.0, 3.0, 103.0, 1.0, 5.0, 4.0, 4.0, 4.0, 4.0, 8.0, 3.0, 4.0, 4.0, 0.0, 5.0, 0.0, 1.0, 0.0, 1.0, 3.0, 0.0, 0.0, 0.0, 2.0, 2.0, 2.0, 3.0, 4.0, 2.0, 6.0, 10.0, 5.0, 0.0, 3.0, 1.0, 2.0, 8.0, 2.0, 4.0, 12.0, 12.0, 1.0, 21.0, 2.0, 3.0, 55.0, 8.0, 8.0, 1.0, 41.0, 1.0, 3.0, 59.0, 70.0, 14.0, 41.0, 61.0, 3.0, 65.0, 0.0, 67.0, 14.0, 4.0, 37.0, 0.0, 60.0, 1.0, 3.0, 7.0, 1.0, 117.0, 71.0, 19.0, 36.0, 17.0, 0.0, 2.0, 3.0, 0.0, 9.0, 43.0, 42.0, 0.0, 5.0, 0.0, 0.0, 0.0, 4.0, 2.0, 6.0, 69.0, 26.0, 5.0, 0.0, 6.0, 12.0, 12.0, 12.0, 99.0, 0.0, 0.0, 29.0, 91.0, 30.0, 20.0, 1.0, 13.0, 8.0, 7.0, 8.0, 7.0, 5.0, 19.0, 0.0, 113.0, 2.0, 2.0, 2.0, 3.0, 1.0, 8.0, 0.0, 0.0, 2.0, 69.0, 16.0, 26.0, 7.0, 3.0, 19.0, 19.0, 23.0, 23.0, 7.0, 27.0, 17.0, 2.0, 0.0, 21.0, 14.0, 2.0, 5.0, 0.0, 54.0, 9.0, 5.0, 13.0, 0.0, 0.0, 0.0, 39.0, 2.0, 4.0, 5.0, 60.0, 6.0, 5.0, 8.0, 15.0, 6.0, 14.0, 46.0, 42.0, 1.0, 69.0, 1.0, 115.0, 33.0, 5.0, 0.0, 9.0, 9.0, 5.0, 93.0, 69.0, 2.0, 4.0, 0.0, 59.0, 0.0, 34.0, 35.0, 77.0, 43.0, 1.0, 28.0, 2.0, 2.0, 0.0, 16.0, 5.0, 5.0, 13.0, 18.0, 2.0, 103.0, 5.0, 0.0, 0.0, 4.0, 127.0, 9.0, 6.0, 10.0, 0.0, 0.0, 1.0, 0.0, 61.0, 105.0, 0.0, 0.0, 107.0, 62.0, 21.0, 0.0, 0.0, 4.0, 1.0, 18.0, 0.0, 0.0, 0.0, 4.0, 0.0, 0.0, 3.0, 0.0, 1.0, 6.0, 1.0, 2.0, 13.0, 9.0, 5.0, 6.0, 4.0, 20.0, 8.0, 5.0, 0.0, 0.0, 1.0, 7.0, 25.0, 8.0, 40.0, 6.0, 31.0, 0.0, 53.0, 3.0, 56.0, 33.0, 48.0, 1.0, 42.0, 35.0, 34.0, 34.0, 7.0, 10.0, 1.0, 0.0, 47.0, 0.0, 10.0, 0.0, 0.0, 0.0, 0.0, 0.0, 69.0, 5.0, 0.0, 4.0, 2.0, 62.0, 4.0, 0.0, 102.0, 0.0, 4.0, 115.0, 0.0, 123.0, 11.0, 11.0, 11.0, 3.0, 4.0, 0.0, 1.0, 3.0, 0.0, 0.0, 3.0, 104.0, 69.0, 21.0, 2.0, 1.0, 1.0, 0.0, 3.0, 41.0, 2.0, 2.0, 90.0, 1.0, 7.0, 0.0, 9.0, 1.0, 13.0, 0.0, 0.0, 0.0, 0.0, 2.0, 19.0, 20.0, 0.0, 0.0, 6.0, 0.0, 0.0, 14.0, 32.0, 11.0, 0.0, 99.0, 9.0, 1.0, 1.0, 1.0, 1.0, 3.0, 0.0, 1.0, 0.0, 4.0, 5.0, 4.0, 0.0, 0.0, 2.0, 5.0, 27.0, 0.0, 0.0, 26.0, 2.0, 1.0, 3.0, 7.0, 0.0, 0.0, 0.0, 0.0, 0.0, 0.0, 3.0, 0.0, 0.0, 0.0, 1.0, 6.0, 1.0, 0.0, 0.0, 0.0, 0.0, 16.0, 1.0, 1.0, 3.0, 3.0, 4.0, 1.0, 0.0, 5.0, 0.0, 0.0, 2.0, 0.0, 0.0, 0.0, 1.0, 23.0, 3.0, 0.0, 0.0, 0.0, 4.0, 0.0, 0.0, 0.0, 0.0, 12.0, 0.0, 0.0, 0.0, 5.0, 6.0, 0.0, 0.0, 0.0, 14.0, 28.0, 0.0, 0.0, 3.0, 0.0, 10.0, 19.0, 19.0, 3.0, 0.0, 0.0, 3.0, 0.0, 63.0, 0.0, 0.0, 1.0, 21.0, 0.0, 35.0, 47.0, 19.0, 21.0, 21.0, 0.0, 34.0, 0.0, 2.0, 1.0, 0.0, 2.0, 0.0, 0.0, 2.0, 0.0, 8.0, 2.0, 0.0, 1.0, 4.0, 4.0, 33.0, 2.0, 0.0, 0.0, 1.0, 0.0, 3.0, 7.0, 41.0, 8.0, 6.0, 3.0, 7.0, 7.0, 0.0, 8.0, 13.0, 8.0, 0.0, 5.0, 1.0, 16.0, 2.0, 13.0, 6.0, 7.0, 52.0, 11.0, 21.0, 13.0, 0.0, 1.0, 1.0, 21.0, 29.0, 31.0, 1.0, 1.0, 7.0, 7.0, 29.0, 99.0, 45.0, 7.0, 9.0, 6.0, 7.0, 0.0, 0.0, 3.0, 4.0, 0.0, 54.0, 0.0, 0.0, 56.0, 0.0, 0.0, 0.0, 0.0, 0.0, 1.0, 46.0, 46.0, 0.0, 46.0, 5.0, 2.0, 1.0, 1.0, 78.0, 53.0, 56.0, 47.0, 0.0, 2.0, 3.0, 2.0, 0.0, 3.0, 63.0, 1.0, 1.0, 0.0, 0.0, 0.0, 1.0, 1.0, 0.0, 0.0, 0.0, 1.0, 5.0, 27.0, 6.0, 70.0, 0.0, 0.0, 1.0, 6.0, 0.0, 2.0, 0.0, 19.0, 19.0, 13.0, 0.0, 0.0, 0.0, 0.0, 21.0, 83.0, 1.0, 63.0, 71.0, 17.0, 8.0, 0.0, 0.0, 34.0, 84.0, 0.0, 12.0, 6.0, 1.0, 8.0, 1.0, 1.0, 0.0, 1.0, 0.0, 1.0, 108.0, 1.0, 1.0, 5.0, 6.0, 99.0, 0.0, 107.0, 0.0, 106.0, 0.0, 0.0, 0.0, 0.0, 1.0, 2.0, 1.0, 2.0, 1.0, 2.0, 12.0, 0.0, 13.0, 3.0, 1.0, 0.0, 6.0, 3.0, 0.0, 5.0, 42.0, 2.0, 37.0, 0.0, 35.0, 15.0, 0.0, 38.0, 2.0, 9.0, 3.0, 13.0, 4.0, 0.0, 7.0, 11.0, 2.0, 3.0, 26.0, 5.0, 6.0, 123.0, 2.0, 1.0, 0.0, 25.0, 0.0, 2.0, 11.0, 11.0, 0.0, 1.0, 0.0, 0.0, 1.0, 16.0, 7.0, 63.0, 0.0, 55.0, 22.0, 4.0, 3.0, 3.0, 0.0, 0.0, 31.0, 0.0, 1.0, 39.0, 12.0, 2.0, 22.0, 0.0, 0.0, 0.0, 1.0, 93.0, 1.0, 0.0, 0.0, 3.0, 32.0, 7.0, 0.0, 20.0, 0.0, 44.0, 51.0, 47.0, 16.0, 36.0, 41.0, 18.0, 81.0, 25.0, 17.0, 0.0, 6.0, 0.0, 0.0, 38.0, 0.0, 38.0, 14.0, 27.0, 1.0, 3.0, 3.0, 3.0, 0.0, 53.0, 17.0], \"x0\": \" \", \"xaxis\": \"x\", \"y\": [\"Major\", \"Major\", \"Major\", \"Major\", \"Trivial\", \"Trivial\", \"Major\", \"Major\", \"Minor\", \"Major\", \"Major\", \"Major\", \"Major\", \"Major\", \"Major\", \"Major\", \"Minor\", \"Minor\", \"Minor\", \"Minor\", \"Major\", \"Major\", \"Minor\", \"Blocker\", \"Major\", \"Major\", \"Major\", \"Minor\", \"Major\", \"Major\", \"Trivial\", \"Blocker\", \"Trivial\", \"Critical\", \"Major\", \"Minor\", \"Trivial\", \"Trivial\", \"Trivial\", \"Trivial\", \"Minor\", \"Trivial\", \"Minor\", \"Blocker\", \"Major\", \"Minor\", \"Major\", \"Minor\", \"Major\", \"Major\", \"Blocker\", \"Major\", \"Minor\", \"Blocker\", \"Major\", \"Critical\", \"Major\", \"Major\", \"Minor\", \"Major\", \"Major\", \"Minor\", \"Minor\", \"Major\", \"Minor\", \"Major\", \"Major\", \"Trivial\", \"Major\", \"Major\", \"Major\", \"Major\", \"Minor\", \"Minor\", \"Major\", \"Critical\", \"Critical\", \"Major\", \"Major\", \"Major\", \"Minor\", \"Major\", \"Minor\", \"Minor\", \"Major\", \"Major\", \"Major\", \"Major\", \"Major\", \"Major\", \"Major\", \"Major\", \"Major\", \"Minor\", \"Major\", \"Major\", \"Minor\", \"Minor\", \"Major\", \"Major\", \"Trivial\", \"Major\", \"Major\", \"Major\", \"Major\", \"Major\", \"Major\", \"Blocker\", \"Critical\", \"Major\", \"Major\", \"Blocker\", \"Major\", \"Major\", \"Major\", \"Blocker\", \"Critical\", \"Blocker\", \"Major\", \"Major\", \"Major\", \"Blocker\", \"Minor\", \"Blocker\", \"Major\", \"Major\", \"Critical\", \"Critical\", \"Major\", \"Critical\", \"Major\", \"Major\", \"Major\", \"Major\", \"Blocker\", \"Major\", \"Major\", \"Major\", \"Major\", \"Trivial\", \"Major\", \"Major\", \"Major\", \"Trivial\", \"Trivial\", \"Major\", \"Major\", \"Major\", \"Minor\", \"Blocker\", \"Minor\", \"Major\", \"Critical\", \"Major\", \"Major\", \"Minor\", \"Major\", \"Major\", \"Major\", \"Major\", \"Major\", \"Blocker\", \"Blocker\", \"Blocker\", \"Major\", \"Major\", \"Critical\", \"Major\", \"Major\", \"Major\", \"Major\", \"Major\", \"Major\", \"Critical\", \"Minor\", \"Major\", \"Major\", \"Major\", \"Minor\", \"Major\", \"Major\", \"Major\", \"Major\", \"Major\", \"Major\", \"Major\", \"Major\", \"Major\", \"Blocker\", \"Blocker\", \"Major\", \"Major\", \"Major\", \"Minor\", \"Major\", \"Major\", \"Major\", \"Major\", \"Major\", \"Blocker\", \"Major\", \"Minor\", \"Major\", \"Minor\", \"Minor\", \"Major\", \"Major\", \"Major\", \"Major\", \"Major\", \"Major\", \"Major\", \"Major\", \"Trivial\", \"Major\", \"Major\", \"Minor\", \"Major\", \"Major\", \"Trivial\", \"Major\", \"Major\", \"Major\", \"Major\", \"Major\", \"Trivial\", \"Major\", \"Minor\", \"Major\", \"Major\", \"Major\", \"Major\", \"Major\", \"Major\", \"Major\", \"Major\", \"Major\", \"Major\", \"Major\", \"Major\", \"Major\", \"Minor\", \"Major\", \"Major\", \"Minor\", \"Major\", \"Blocker\", \"Major\", \"Major\", \"Major\", \"Major\", \"Major\", \"Major\", \"Major\", \"Trivial\", \"Major\", \"Major\", \"Major\", \"Major\", \"Major\", \"Major\", \"Major\", \"Major\", \"Major\", \"Major\", \"Minor\", \"Major\", \"Major\", \"Minor\", \"Minor\", \"Major\", \"Minor\", \"Minor\", \"Major\", \"Blocker\", \"Major\", \"Major\", \"Major\", \"Major\", \"Major\", \"Major\", \"Minor\", \"Major\", \"Major\", \"Major\", \"Minor\", \"Trivial\", \"Major\", \"Major\", \"Major\", \"Minor\", \"Major\", \"Major\", \"Minor\", \"Major\", \"Major\", \"Major\", \"Major\", \"Minor\", \"Major\", \"Major\", \"Major\", \"Major\", \"Minor\", \"Major\", \"Major\", \"Minor\", \"Minor\", \"Minor\", \"Minor\", \"Major\", \"Blocker\", \"Major\", \"Major\", \"Major\", \"Major\", \"Major\", \"Minor\", \"Major\", \"Major\", \"Minor\", \"Major\", \"Major\", \"Major\", \"Major\", \"Major\", \"Major\", \"Major\", \"Major\", \"Major\", \"Major\", \"Major\", \"Major\", \"Critical\", \"Major\", \"Major\", \"Minor\", \"Major\", \"Minor\", \"Minor\", \"Major\", \"Critical\", \"Major\", \"Major\", \"Major\", \"Major\", \"Major\", \"Minor\", \"Minor\", \"Major\", \"Major\", \"Major\", \"Major\", \"Minor\", \"Minor\", \"Major\", \"Minor\", \"Minor\", \"Major\", \"Major\", \"Major\", \"Major\", \"Major\", \"Major\", \"Major\", \"Major\", \"Minor\", \"Major\", \"Minor\", \"Major\", \"Major\", \"Major\", \"Minor\", \"Major\", \"Major\", \"Major\", \"Major\", \"Major\", \"Major\", \"Major\", \"Minor\", \"Minor\", \"Minor\", \"Minor\", \"Minor\", \"Major\", \"Major\", \"Minor\", \"Major\", \"Minor\", \"Minor\", \"Major\", \"Major\", \"Major\", \"Minor\", \"Major\", \"Minor\", \"Minor\", \"Major\", \"Blocker\", \"Major\", \"Major\", \"Major\", \"Trivial\", \"Trivial\", \"Major\", \"Major\", \"Major\", \"Major\", \"Major\", \"Trivial\", \"Minor\", \"Minor\", \"Major\", \"Minor\", \"Major\", \"Major\", \"Major\", \"Major\", \"Major\", \"Major\", \"Major\", \"Major\", \"Minor\", \"Trivial\", \"Major\", \"Major\", \"Minor\", \"Minor\", \"Major\", \"Major\", \"Minor\", \"Major\", \"Major\", \"Trivial\", \"Major\", \"Major\", \"Major\", \"Minor\", \"Major\", \"Major\", \"Minor\", \"Major\", \"Major\", \"Major\", \"Major\", \"Minor\", \"Minor\", \"Major\", \"Major\", \"Major\", \"Major\", \"Major\", \"Major\", \"Major\", \"Major\", \"Minor\", \"Major\", \"Minor\", \"Major\", \"Major\", \"Minor\", \"Major\", \"Critical\", \"Major\", \"Major\", \"Major\", \"Major\", \"Major\", \"Major\", \"Major\", \"Critical\", \"Major\", \"Minor\", \"Major\", \"Major\", \"Major\", \"Major\", \"Major\", \"Major\", \"Major\", \"Major\", \"Critical\", \"Major\", \"Major\", \"Major\", \"Major\", \"Minor\", \"Major\", \"Major\", \"Critical\", \"Minor\", \"Major\", \"Major\", \"Blocker\", \"Critical\", \"Major\", \"Major\", \"Major\", \"Major\", \"Major\", \"Major\", \"Minor\", \"Major\", \"Major\", \"Major\", \"Minor\", \"Major\", \"Minor\", \"Major\", \"Major\", \"Major\", \"Major\", \"Major\", \"Major\", \"Major\", \"Major\", \"Minor\", \"Major\", \"Major\", \"Major\", \"Major\", \"Minor\", \"Major\", \"Minor\", \"Minor\", \"Trivial\", \"Trivial\", \"Minor\", \"Minor\", \"Major\", \"Major\", \"Major\", \"Major\", \"Major\", \"Minor\", \"Minor\", \"Major\", \"Major\", \"Minor\", \"Major\", \"Minor\", \"Trivial\", \"Trivial\", \"Major\", \"Major\", \"Blocker\", \"Minor\", \"Minor\", \"Minor\", \"Major\", \"Major\", \"Minor\", \"Major\", \"Major\", \"Major\", \"Major\", \"Major\", \"Major\", \"Major\", \"Critical\", \"Major\", \"Minor\", \"Major\", \"Critical\", \"Major\", \"Minor\", \"Minor\", \"Major\", \"Minor\", \"Minor\", \"Minor\", \"Minor\", \"Minor\", \"Major\", \"Major\", \"Minor\", \"Minor\", \"Minor\", \"Trivial\", \"Minor\", \"Major\", \"Major\", \"Major\", \"Minor\", \"Blocker\", \"Major\", \"Major\", \"Major\", \"Major\", \"Major\", \"Major\", \"Major\", \"Major\", \"Major\", \"Minor\", \"Minor\", \"Major\", \"Blocker\", \"Major\", \"Major\", \"Major\", \"Major\", \"Blocker\", \"Major\", \"Minor\", \"Major\", \"Major\", \"Major\", \"Major\", \"Major\", \"Major\", \"Major\", \"Major\", \"Major\", \"Major\", \"Major\", \"Major\", \"Major\", \"Major\", \"Major\", \"Major\", \"Major\", \"Major\", \"Major\", \"Major\", \"Major\", \"Minor\", \"Major\", \"Major\", \"Major\", \"Major\", \"Major\", \"Major\", \"Critical\", \"Major\", \"Major\", \"Major\", \"Major\", \"Major\", \"Major\", \"Minor\", \"Major\", \"Major\", \"Trivial\", \"Major\", \"Major\", \"Major\", \"Critical\", \"Major\", \"Major\", \"Major\", \"Critical\", \"Major\", \"Major\", \"Major\", \"Major\", \"Major\", \"Major\", \"Blocker\", \"Major\", \"Major\", \"Major\", \"Major\", \"Minor\", \"Major\", \"Minor\", \"Major\", \"Major\", \"Minor\", \"Major\", \"Major\", \"Major\", \"Major\", \"Minor\", \"Critical\", \"Major\", \"Major\", \"Major\", \"Major\", \"Minor\", \"Major\", \"Major\", \"Major\", \"Minor\", \"Blocker\", \"Trivial\", \"Major\", \"Critical\", \"Major\", \"Major\", \"Minor\", \"Major\", \"Minor\", \"Minor\", \"Minor\", \"Major\", \"Major\", \"Major\", \"Major\", \"Major\", \"Major\", \"Major\", \"Minor\", \"Major\", \"Minor\", \"Critical\", \"Blocker\", \"Major\", \"Major\", \"Major\", \"Major\", \"Major\", \"Minor\", \"Minor\", \"Major\", \"Major\", \"Major\", \"Minor\", \"Minor\", \"Major\", \"Minor\", \"Trivial\", \"Blocker\", \"Major\", \"Blocker\", \"Major\", \"Minor\", \"Critical\", \"Major\", \"Blocker\", \"Major\", \"Major\", \"Major\", \"Major\", \"Blocker\", \"Major\", \"Blocker\", \"Minor\", \"Blocker\", \"Major\", \"Major\", \"Major\", \"Major\", \"Critical\", \"Major\", \"Blocker\", \"Major\", \"Critical\", \"Major\", \"Major\", \"Major\", \"Trivial\", \"Critical\", \"Major\", \"Major\", \"Major\", \"Major\", \"Major\", \"Major\", \"Minor\", \"Minor\", \"Minor\", \"Minor\", \"Major\", \"Major\", \"Blocker\", \"Major\", \"Major\", \"Blocker\", \"Major\", \"Minor\", \"Minor\", \"Major\", \"Major\", \"Major\", \"Major\", \"Major\", \"Critical\", \"Major\", \"Major\", \"Major\", \"Major\", \"Major\", \"Minor\", \"Major\", \"Major\", \"Major\", \"Major\", \"Critical\", \"Major\", \"Trivial\", \"Minor\", \"Minor\", \"Major\", \"Major\", \"Trivial\", \"Minor\", \"Major\", \"Major\", \"Major\", \"Major\", \"Blocker\", \"Major\", \"Major\", \"Major\", \"Major\", \"Minor\", \"Major\", \"Major\", \"Minor\", \"Blocker\", \"Major\", \"Major\", \"Major\", \"Major\", \"Major\", \"Major\", \"Minor\", \"Major\", \"Blocker\", \"Major\", \"Major\", \"Major\", \"Major\", \"Major\", \"Major\", \"Major\", \"Major\", \"Minor\", \"Major\", \"Major\", \"Trivial\", \"Major\", \"Major\", \"Major\", \"Major\", \"Major\", \"Major\", \"Minor\", \"Major\", \"Major\", \"Major\", \"Major\", \"Major\", \"Major\", \"Minor\", \"Major\", \"Minor\", \"Major\", \"Major\", \"Major\", \"Minor\", \"Major\", \"Major\", \"Major\", \"Major\", \"Major\", \"Major\", \"Minor\", \"Major\", \"Minor\", \"Major\", \"Major\", \"Major\", \"Major\", \"Major\", \"Major\", \"Major\", \"Major\", \"Major\", \"Major\", \"Major\", \"Major\", \"Major\", \"Major\", \"Major\", \"Major\", \"Major\", \"Major\", \"Major\", \"Major\", \"Major\", \"Major\", \"Major\", \"Critical\", \"Minor\", \"Major\", \"Trivial\", \"Major\", \"Major\", \"Minor\", \"Minor\", \"Minor\", \"Major\", \"Major\", \"Major\", \"Major\", \"Critical\", \"Major\", \"Major\", \"Major\", \"Major\", \"Major\", \"Major\", \"Major\", \"Critical\", \"Major\", \"Major\", \"Major\", \"Major\", \"Major\", \"Major\", \"Minor\", \"Major\", \"Minor\", \"Major\", \"Major\", \"Major\", \"Minor\", \"Major\", \"Major\", \"Major\", \"Major\", \"Major\", \"Major\", \"Major\", \"Major\", \"Minor\", \"Minor\", \"Major\", \"Major\", \"Major\", \"Blocker\", \"Major\", \"Major\", \"Blocker\", \"Major\", \"Major\", \"Major\", \"Major\", \"Major\", \"Major\", \"Minor\", \"Trivial\", \"Trivial\", \"Major\", \"Major\", \"Major\", \"Major\", \"Major\", \"Minor\", \"Major\", \"Major\", \"Major\", \"Major\", \"Major\", \"Major\", \"Major\", \"Major\", \"Major\", \"Major\", \"Major\", \"Major\", \"Major\", \"Major\", \"Major\", \"Blocker\", \"Major\", \"Major\", \"Major\", \"Minor\", \"Major\", \"Major\", \"Trivial\", \"Major\", \"Major\", \"Minor\", \"Critical\", \"Major\", \"Major\", \"Major\", \"Minor\", \"Major\", \"Major\", \"Major\", \"Major\", \"Minor\", \"Major\", \"Major\", \"Major\", \"Major\", \"Major\", \"Major\", \"Minor\", \"Major\", \"Major\", \"Major\", \"Major\", \"Blocker\", \"Major\", \"Major\", \"Major\", \"Major\", \"Blocker\", \"Major\", \"Major\", \"Major\", \"Minor\", \"Minor\", \"Major\", \"Major\", \"Major\", \"Major\", \"Major\", \"Major\", \"Major\", \"Major\", \"Major\", \"Minor\", \"Major\", \"Major\", \"Major\", \"Major\", \"Major\", \"Major\", \"Major\", \"Major\", \"Major\", \"Major\", \"Major\", \"Major\", \"Major\", \"Major\", \"Major\", \"Major\", \"Major\", \"Major\", \"Major\", \"Blocker\", \"Major\", \"Major\", \"Major\", \"Major\", \"Major\", \"Major\", \"Major\", \"Major\", \"Major\", \"Major\", \"Major\", \"Major\", \"Major\", \"Major\", \"Minor\", \"Major\", \"Major\", \"Major\", \"Major\", \"Major\", \"Major\", \"Major\", \"Major\", \"Major\", \"Minor\", \"Major\", \"Major\", \"Minor\", \"Major\", \"Minor\", \"Minor\", \"Major\", \"Minor\", \"Major\", \"Major\", \"Minor\", \"Major\", \"Major\", \"Major\", \"Minor\", \"Major\", \"Minor\", \"Major\", \"Trivial\", \"Major\", \"Trivial\", \"Major\", \"Major\", \"Major\", \"Major\", \"Minor\", \"Major\", \"Major\", \"Major\", \"Minor\", \"Minor\", \"Minor\", \"Major\", \"Major\", \"Major\", \"Major\", \"Blocker\", \"Major\", \"Major\", \"Major\", \"Major\", \"Major\", \"Major\", \"Major\", \"Major\", \"Major\", \"Major\", \"Major\", \"Minor\", \"Major\", \"Major\", \"Major\", \"Major\", \"Major\", \"Major\", \"Major\", \"Major\", \"Major\", \"Major\", \"Major\", \"Major\", \"Minor\", \"Major\", \"Major\", \"Major\", \"Major\", \"Minor\", \"Major\", \"Minor\", \"Major\", \"Major\", \"Major\", \"Major\", \"Major\", \"Major\", \"Minor\", \"Major\", \"Major\", \"Minor\", \"Trivial\", \"Major\", \"Major\", \"Major\", \"Minor\", \"Major\", \"Major\", \"Major\", \"Major\", \"Major\", \"Major\", \"Major\", \"Major\", \"Major\", \"Major\", \"Major\", \"Trivial\", \"Major\", \"Major\", \"Major\", \"Minor\", \"Major\", \"Critical\", \"Major\", \"Major\", \"Major\", \"Major\", \"Major\", \"Trivial\", \"Major\", \"Major\", \"Major\", \"Major\", \"Major\", \"Major\", \"Major\", \"Major\", \"Minor\", \"Major\", \"Major\", \"Major\", \"Major\", \"Major\", \"Blocker\", \"Major\", \"Major\", \"Major\", \"Major\", \"Major\", \"Major\", \"Minor\", \"Major\", \"Major\", \"Major\", \"Blocker\", \"Blocker\", \"Minor\", \"Critical\", \"Major\", \"Major\", \"Major\", \"Major\", \"Major\", \"Major\", \"Major\", \"Major\", \"Trivial\", \"Major\", \"Major\", \"Major\", \"Major\", \"Minor\", \"Major\", \"Major\", \"Trivial\", \"Major\", \"Major\", \"Major\", \"Major\", \"Major\", \"Trivial\", \"Major\", \"Major\", \"Major\", \"Major\", \"Major\", \"Major\", \"Major\", \"Major\", \"Major\", \"Major\", \"Major\", \"Minor\", \"Major\", \"Major\", \"Major\", \"Major\", \"Major\", \"Major\", \"Blocker\", \"Major\", \"Major\", \"Major\", \"Major\", \"Major\", \"Major\", \"Major\", \"Major\", \"Major\", \"Major\", \"Major\", \"Major\", \"Major\", \"Major\", \"Major\", \"Major\", \"Major\", \"Major\", \"Major\", \"Major\", \"Major\", \"Major\", \"Major\", \"Major\", \"Minor\", \"Major\", \"Major\", \"Minor\", \"Trivial\", \"Minor\", \"Major\", \"Major\", \"Major\", \"Major\", \"Major\", \"Major\", \"Major\", \"Major\", \"Major\", \"Major\", \"Major\", \"Major\", \"Major\", \"Major\", \"Major\", \"Major\", \"Major\", \"Major\", \"Major\", \"Major\", \"Minor\", \"Major\", \"Major\", \"Major\", \"Major\", \"Minor\", \"Major\", \"Major\", \"Major\", \"Major\", \"Major\", \"Major\", \"Major\", \"Critical\", \"Major\", \"Major\"], \"y0\": \" \", \"yaxis\": \"y\"}],\n",
       "                        {\"boxmode\": \"group\", \"legend\": {\"tracegroupgap\": 0}, \"margin\": {\"t\": 60}, \"template\": {\"data\": {\"bar\": [{\"error_x\": {\"color\": \"#2a3f5f\"}, \"error_y\": {\"color\": \"#2a3f5f\"}, \"marker\": {\"line\": {\"color\": \"#E5ECF6\", \"width\": 0.5}}, \"type\": \"bar\"}], \"barpolar\": [{\"marker\": {\"line\": {\"color\": \"#E5ECF6\", \"width\": 0.5}}, \"type\": \"barpolar\"}], \"carpet\": [{\"aaxis\": {\"endlinecolor\": \"#2a3f5f\", \"gridcolor\": \"white\", \"linecolor\": \"white\", \"minorgridcolor\": \"white\", \"startlinecolor\": \"#2a3f5f\"}, \"baxis\": {\"endlinecolor\": \"#2a3f5f\", \"gridcolor\": \"white\", \"linecolor\": \"white\", \"minorgridcolor\": \"white\", \"startlinecolor\": \"#2a3f5f\"}, \"type\": \"carpet\"}], \"choropleth\": [{\"colorbar\": {\"outlinewidth\": 0, \"ticks\": \"\"}, \"type\": \"choropleth\"}], \"contour\": [{\"colorbar\": {\"outlinewidth\": 0, \"ticks\": \"\"}, \"colorscale\": [[0.0, \"#0d0887\"], [0.1111111111111111, \"#46039f\"], [0.2222222222222222, \"#7201a8\"], [0.3333333333333333, \"#9c179e\"], [0.4444444444444444, \"#bd3786\"], [0.5555555555555556, \"#d8576b\"], [0.6666666666666666, \"#ed7953\"], [0.7777777777777778, \"#fb9f3a\"], [0.8888888888888888, \"#fdca26\"], [1.0, \"#f0f921\"]], \"type\": \"contour\"}], \"contourcarpet\": [{\"colorbar\": {\"outlinewidth\": 0, \"ticks\": \"\"}, \"type\": \"contourcarpet\"}], \"heatmap\": [{\"colorbar\": {\"outlinewidth\": 0, \"ticks\": \"\"}, \"colorscale\": [[0.0, \"#0d0887\"], [0.1111111111111111, \"#46039f\"], [0.2222222222222222, \"#7201a8\"], [0.3333333333333333, \"#9c179e\"], [0.4444444444444444, \"#bd3786\"], [0.5555555555555556, \"#d8576b\"], [0.6666666666666666, \"#ed7953\"], [0.7777777777777778, \"#fb9f3a\"], [0.8888888888888888, \"#fdca26\"], [1.0, \"#f0f921\"]], \"type\": \"heatmap\"}], \"heatmapgl\": [{\"colorbar\": {\"outlinewidth\": 0, \"ticks\": \"\"}, \"colorscale\": [[0.0, \"#0d0887\"], [0.1111111111111111, \"#46039f\"], [0.2222222222222222, \"#7201a8\"], [0.3333333333333333, \"#9c179e\"], [0.4444444444444444, \"#bd3786\"], [0.5555555555555556, \"#d8576b\"], [0.6666666666666666, \"#ed7953\"], [0.7777777777777778, \"#fb9f3a\"], [0.8888888888888888, \"#fdca26\"], [1.0, \"#f0f921\"]], \"type\": \"heatmapgl\"}], \"histogram\": [{\"marker\": {\"colorbar\": {\"outlinewidth\": 0, \"ticks\": \"\"}}, \"type\": \"histogram\"}], \"histogram2d\": [{\"colorbar\": {\"outlinewidth\": 0, \"ticks\": \"\"}, \"colorscale\": [[0.0, \"#0d0887\"], [0.1111111111111111, \"#46039f\"], [0.2222222222222222, \"#7201a8\"], [0.3333333333333333, \"#9c179e\"], [0.4444444444444444, \"#bd3786\"], [0.5555555555555556, \"#d8576b\"], [0.6666666666666666, \"#ed7953\"], [0.7777777777777778, \"#fb9f3a\"], [0.8888888888888888, \"#fdca26\"], [1.0, \"#f0f921\"]], \"type\": \"histogram2d\"}], \"histogram2dcontour\": [{\"colorbar\": {\"outlinewidth\": 0, \"ticks\": \"\"}, \"colorscale\": [[0.0, \"#0d0887\"], [0.1111111111111111, \"#46039f\"], [0.2222222222222222, \"#7201a8\"], [0.3333333333333333, \"#9c179e\"], [0.4444444444444444, \"#bd3786\"], [0.5555555555555556, \"#d8576b\"], [0.6666666666666666, \"#ed7953\"], [0.7777777777777778, \"#fb9f3a\"], [0.8888888888888888, \"#fdca26\"], [1.0, \"#f0f921\"]], \"type\": \"histogram2dcontour\"}], \"mesh3d\": [{\"colorbar\": {\"outlinewidth\": 0, \"ticks\": \"\"}, \"type\": \"mesh3d\"}], \"parcoords\": [{\"line\": {\"colorbar\": {\"outlinewidth\": 0, \"ticks\": \"\"}}, \"type\": \"parcoords\"}], \"pie\": [{\"automargin\": true, \"type\": \"pie\"}], \"scatter\": [{\"marker\": {\"colorbar\": {\"outlinewidth\": 0, \"ticks\": \"\"}}, \"type\": \"scatter\"}], \"scatter3d\": [{\"line\": {\"colorbar\": {\"outlinewidth\": 0, \"ticks\": \"\"}}, \"marker\": {\"colorbar\": {\"outlinewidth\": 0, \"ticks\": \"\"}}, \"type\": \"scatter3d\"}], \"scattercarpet\": [{\"marker\": {\"colorbar\": {\"outlinewidth\": 0, \"ticks\": \"\"}}, \"type\": \"scattercarpet\"}], \"scattergeo\": [{\"marker\": {\"colorbar\": {\"outlinewidth\": 0, \"ticks\": \"\"}}, \"type\": \"scattergeo\"}], \"scattergl\": [{\"marker\": {\"colorbar\": {\"outlinewidth\": 0, \"ticks\": \"\"}}, \"type\": \"scattergl\"}], \"scattermapbox\": [{\"marker\": {\"colorbar\": {\"outlinewidth\": 0, \"ticks\": \"\"}}, \"type\": \"scattermapbox\"}], \"scatterpolar\": [{\"marker\": {\"colorbar\": {\"outlinewidth\": 0, \"ticks\": \"\"}}, \"type\": \"scatterpolar\"}], \"scatterpolargl\": [{\"marker\": {\"colorbar\": {\"outlinewidth\": 0, \"ticks\": \"\"}}, \"type\": \"scatterpolargl\"}], \"scatterternary\": [{\"marker\": {\"colorbar\": {\"outlinewidth\": 0, \"ticks\": \"\"}}, \"type\": \"scatterternary\"}], \"surface\": [{\"colorbar\": {\"outlinewidth\": 0, \"ticks\": \"\"}, \"colorscale\": [[0.0, \"#0d0887\"], [0.1111111111111111, \"#46039f\"], [0.2222222222222222, \"#7201a8\"], [0.3333333333333333, \"#9c179e\"], [0.4444444444444444, \"#bd3786\"], [0.5555555555555556, \"#d8576b\"], [0.6666666666666666, \"#ed7953\"], [0.7777777777777778, \"#fb9f3a\"], [0.8888888888888888, \"#fdca26\"], [1.0, \"#f0f921\"]], \"type\": \"surface\"}], \"table\": [{\"cells\": {\"fill\": {\"color\": \"#EBF0F8\"}, \"line\": {\"color\": \"white\"}}, \"header\": {\"fill\": {\"color\": \"#C8D4E3\"}, \"line\": {\"color\": \"white\"}}, \"type\": \"table\"}]}, \"layout\": {\"annotationdefaults\": {\"arrowcolor\": \"#2a3f5f\", \"arrowhead\": 0, \"arrowwidth\": 1}, \"coloraxis\": {\"colorbar\": {\"outlinewidth\": 0, \"ticks\": \"\"}}, \"colorscale\": {\"diverging\": [[0, \"#8e0152\"], [0.1, \"#c51b7d\"], [0.2, \"#de77ae\"], [0.3, \"#f1b6da\"], [0.4, \"#fde0ef\"], [0.5, \"#f7f7f7\"], [0.6, \"#e6f5d0\"], [0.7, \"#b8e186\"], [0.8, \"#7fbc41\"], [0.9, \"#4d9221\"], [1, \"#276419\"]], \"sequential\": [[0.0, \"#0d0887\"], [0.1111111111111111, \"#46039f\"], [0.2222222222222222, \"#7201a8\"], [0.3333333333333333, \"#9c179e\"], [0.4444444444444444, \"#bd3786\"], [0.5555555555555556, \"#d8576b\"], [0.6666666666666666, \"#ed7953\"], [0.7777777777777778, \"#fb9f3a\"], [0.8888888888888888, \"#fdca26\"], [1.0, \"#f0f921\"]], \"sequentialminus\": [[0.0, \"#0d0887\"], [0.1111111111111111, \"#46039f\"], [0.2222222222222222, \"#7201a8\"], [0.3333333333333333, \"#9c179e\"], [0.4444444444444444, \"#bd3786\"], [0.5555555555555556, \"#d8576b\"], [0.6666666666666666, \"#ed7953\"], [0.7777777777777778, \"#fb9f3a\"], [0.8888888888888888, \"#fdca26\"], [1.0, \"#f0f921\"]]}, \"colorway\": [\"#636efa\", \"#EF553B\", \"#00cc96\", \"#ab63fa\", \"#FFA15A\", \"#19d3f3\", \"#FF6692\", \"#B6E880\", \"#FF97FF\", \"#FECB52\"], \"font\": {\"color\": \"#2a3f5f\"}, \"geo\": {\"bgcolor\": \"white\", \"lakecolor\": \"white\", \"landcolor\": \"#E5ECF6\", \"showlakes\": true, \"showland\": true, \"subunitcolor\": \"white\"}, \"hoverlabel\": {\"align\": \"left\"}, \"hovermode\": \"closest\", \"mapbox\": {\"style\": \"light\"}, \"paper_bgcolor\": \"white\", \"plot_bgcolor\": \"#E5ECF6\", \"polar\": {\"angularaxis\": {\"gridcolor\": \"white\", \"linecolor\": \"white\", \"ticks\": \"\"}, \"bgcolor\": \"#E5ECF6\", \"radialaxis\": {\"gridcolor\": \"white\", \"linecolor\": \"white\", \"ticks\": \"\"}}, \"scene\": {\"xaxis\": {\"backgroundcolor\": \"#E5ECF6\", \"gridcolor\": \"white\", \"gridwidth\": 2, \"linecolor\": \"white\", \"showbackground\": true, \"ticks\": \"\", \"zerolinecolor\": \"white\"}, \"yaxis\": {\"backgroundcolor\": \"#E5ECF6\", \"gridcolor\": \"white\", \"gridwidth\": 2, \"linecolor\": \"white\", \"showbackground\": true, \"ticks\": \"\", \"zerolinecolor\": \"white\"}, \"zaxis\": {\"backgroundcolor\": \"#E5ECF6\", \"gridcolor\": \"white\", \"gridwidth\": 2, \"linecolor\": \"white\", \"showbackground\": true, \"ticks\": \"\", \"zerolinecolor\": \"white\"}}, \"shapedefaults\": {\"line\": {\"color\": \"#2a3f5f\"}}, \"ternary\": {\"aaxis\": {\"gridcolor\": \"white\", \"linecolor\": \"white\", \"ticks\": \"\"}, \"baxis\": {\"gridcolor\": \"white\", \"linecolor\": \"white\", \"ticks\": \"\"}, \"bgcolor\": \"#E5ECF6\", \"caxis\": {\"gridcolor\": \"white\", \"linecolor\": \"white\", \"ticks\": \"\"}}, \"title\": {\"x\": 0.05}, \"xaxis\": {\"automargin\": true, \"gridcolor\": \"white\", \"linecolor\": \"white\", \"ticks\": \"\", \"title\": {\"standoff\": 15}, \"zerolinecolor\": \"white\", \"zerolinewidth\": 2}, \"yaxis\": {\"automargin\": true, \"gridcolor\": \"white\", \"linecolor\": \"white\", \"ticks\": \"\", \"title\": {\"standoff\": 15}, \"zerolinecolor\": \"white\", \"zerolinewidth\": 2}}}, \"xaxis\": {\"anchor\": \"y\", \"domain\": [0.0, 1.0], \"title\": {\"text\": \"days_needed\"}}, \"yaxis\": {\"anchor\": \"x\", \"domain\": [0.0, 1.0], \"title\": {\"text\": \"priority\"}}},\n",
       "                        {\"responsive\": true}\n",
       "                    ).then(function(){\n",
       "                            \n",
       "var gd = document.getElementById('1c790857-39db-48dd-9307-d55dc862dd2b');\n",
       "var x = new MutationObserver(function (mutations, observer) {{\n",
       "        var display = window.getComputedStyle(gd).display;\n",
       "        if (!display || display === 'none') {{\n",
       "            console.log([gd, 'removed!']);\n",
       "            Plotly.purge(gd);\n",
       "            observer.disconnect();\n",
       "        }}\n",
       "}});\n",
       "\n",
       "// Listen for the removal of the full notebook cells\n",
       "var notebookContainer = gd.closest('#notebook-container');\n",
       "if (notebookContainer) {{\n",
       "    x.observe(notebookContainer, {childList: true});\n",
       "}}\n",
       "\n",
       "// Listen for the clearing of the current output cell\n",
       "var outputEl = gd.closest('.output');\n",
       "if (outputEl) {{\n",
       "    x.observe(outputEl, {childList: true});\n",
       "}}\n",
       "\n",
       "                        })\n",
       "                };\n",
       "                });\n",
       "            </script>\n",
       "        </div>"
      ]
     },
     "metadata": {},
     "output_type": "display_data"
    }
   ],
   "source": [
    "test = df[['days_needed', 'priority']]\n",
    "fig = px.box(test, x='days_needed', y=\"priority\", orientation='h')\n",
    "fig.show()"
   ]
  }
 ],
 "metadata": {
  "kernelspec": {
   "display_name": "Python 3",
   "language": "python",
   "name": "python3"
  },
  "language_info": {
   "codemirror_mode": {
    "name": "ipython",
    "version": 3
   },
   "file_extension": ".py",
   "mimetype": "text/x-python",
   "name": "python",
   "nbconvert_exporter": "python",
   "pygments_lexer": "ipython3",
   "version": "3.7.3"
  }
 },
 "nbformat": 4,
 "nbformat_minor": 2
}
