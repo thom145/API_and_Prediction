{
 "cells": [
  {
   "cell_type": "markdown",
   "metadata": {},
   "source": [
    "# Loading Data"
   ]
  },
  {
   "cell_type": "code",
   "execution_count": 36,
   "metadata": {
    "scrolled": true
   },
   "outputs": [],
   "source": [
    "import pandas as pd\n",
    "import pdpipe as pdp\n",
    "from sklearn.preprocessing import RobustScaler\n",
    "from sklearn.preprocessing import LabelEncoder\n",
    "\n",
    "df = pd.read_csv(\"../data/transformed/data_for_train.csv\")\n",
    "\n",
    "df = df.loc[df['days_needed'] < 60]\n",
    "df = df.sort_values(by = ['createdYear', 'createdMonth', 'createdDay'], ascending = True)\n",
    "df = df.dropna(subset=['assignee'])"
   ]
  },
  {
   "cell_type": "markdown",
   "metadata": {},
   "source": [
    "## Pipeline"
   ]
  },
  {
   "cell_type": "code",
   "execution_count": 37,
   "metadata": {},
   "outputs": [],
   "source": [
    "# columns to drop\n",
    "columns_to_drop = ['Unnamed: 0', 'project', 'status', 'updated', 'key',\n",
    "                   'days_in_current_status', 'reporter',\n",
    "                   'resolutiondate', 'time_needed','created_date','Non-existent_Open', \n",
    "                   '0','1','2','3','4','5','6','7','8','9','10', 'days_needed',\n",
    "                   'Open_Patch Available','Patch Available_In Progress', 'Open_Resolved',\n",
    "                   'Patch Available_Resolved', 'Resolved_Reopened', 'Reopened_Resolved',\n",
    "                   'In Progress_Patch Available', 'Patch Available_Open','Reopened_Patch Available',\n",
    "                   'Open_In Progress', 'In Progress_Resolved', 'index.1', 'createdElapsed', 'step5', 'step0']\n",
    "\n",
    "# columns that will be scaled with robust scaler\n",
    "columns_scaling = ['comment_count', 'description_length', 'summary_length', 'watch_count']\n",
    "# columsn to be one hot encoded\n",
    "columns_one_hot_encoding = ['steps_taken', 'resolution', ]\n",
    "# from categorical to numerical data\n",
    "columns_numerical = ['priority', 'issue_type']\n",
    "columns_to_change = ['step1', 'step2', 'step3', 'step4']"
   ]
  },
  {
   "cell_type": "code",
   "execution_count": 38,
   "metadata": {},
   "outputs": [
    {
     "name": "stdout",
     "output_type": "stream",
     "text": [
      "A pdpipe pipeline:\n",
      "[ 0]  Drop columns Unnamed: 0, project, status, updated, key,\n",
      "      days_in_current_status, reporter, resolutiondate, time_needed,\n",
      "      created_date, Non-existent_Open, 0, 1, 2, 3, 4, 5, 6, 7, 8, 9, 10,\n",
      "      days_needed, Open_Patch Available, Patch Available_In Progress,\n",
      "      Open_Resolved, Patch Available_Resolved, Resolved_Reopened,\n",
      "      Reopened_Resolved, In Progress_Patch Available, Patch Available_Open,\n",
      "      Reopened_Patch Available, Open_In Progress, In Progress_Resolved,\n",
      "      index.1, createdElapsed, step5, step0\n",
      "[ 1]  Scale columns comment_count, description_length, summary_length,\n",
      "      watch_count\n",
      "[ 2]  One-hot encode steps_taken, resolution\n",
      "[ 3]  Encode assignee\n",
      "[ 4]  Map values of columns priority with {'Minor': 0, 'Trival': 1,\n",
      "      'Blocker': 2, 'Major': 3, 'Critical': 4}.\n",
      "[ 5]  Map values of columns issue_type with {'Test': 0, 'Bug': 1,\n",
      "      'Improvement': 2, 'Task': 3, 'Wish': 4, 'New Feature': 5, 'Sub-task':\n",
      "      6}.\n",
      "[ 6]  Map values of columns step1, step2, step3, step4 with {'Non-existent':\n",
      "      0, 'Open': 1, 'Resolved': 2, 'Patch Available': 3, 'Reopened': 6, 'In\n",
      "      Progress': 5, '0': 0}.\n",
      "\n"
     ]
    }
   ],
   "source": [
    "pipeline = pdp.ColDrop(columns_to_drop) # drop columns\n",
    "pipeline += pdp.Scale('RobustScaler', columns_scaling) # scale data -> robust scaler, handles outliers\n",
    "pipeline += pdp.OneHotEncode(columns_one_hot_encoding) # one hote encoding technique\n",
    "pipeline += pdp.Encode(['assignee'])\n",
    "pipeline += pdp.MapColVals('priority', {'Minor': 0, \n",
    "                                       'Trival': 1, \n",
    "                                       'Blocker': 2,\n",
    "                                       'Major': 3,\n",
    "                                       'Critical': 4})\n",
    "pipeline += pdp.MapColVals('issue_type',{'Test': 0,\n",
    "                                        'Bug': 1,\n",
    "                                        'Improvement':2,\n",
    "                                        'Task':3,\n",
    "                                        'Wish':4,\n",
    "                                        'New Feature':5,\n",
    "                                        'Sub-task':6})\n",
    "\n",
    "\n",
    "pipeline += pdp.MapColVals(columns_to_change, {'Non-existent': 0,\n",
    "                                               'Open': 1,\n",
    "                                               'Resolved': 2,\n",
    "                                               'Patch Available': 3,\n",
    "                                               'Reopened': 4,\n",
    "                                               'In Progress': 5,\n",
    "                                               'Reopened': 6,\n",
    "                                                '0': 0,\n",
    "                                              })\n",
    "\n",
    "\n",
    "print(pipeline)\n",
    "\n",
    "df2 = pipeline(df)\n",
    "\n"
   ]
  },
  {
   "cell_type": "code",
   "execution_count": 39,
   "metadata": {},
   "outputs": [
    {
     "data": {
      "text/plain": [
       "(1024, 72)"
      ]
     },
     "execution_count": 39,
     "metadata": {},
     "output_type": "execute_result"
    }
   ],
   "source": [
    "df2 = df2.fillna(0)\n",
    "df2.shape"
   ]
  },
  {
   "cell_type": "code",
   "execution_count": 40,
   "metadata": {},
   "outputs": [],
   "source": [
    "### df2 = df2.reset_index().drop(columns = 'index')"
   ]
  },
  {
   "cell_type": "markdown",
   "metadata": {},
   "source": [
    "## Machine Learning Model\n",
    "### Train test split"
   ]
  },
  {
   "cell_type": "code",
   "execution_count": 41,
   "metadata": {},
   "outputs": [],
   "source": [
    "from sklearn.model_selection import train_test_split\n",
    "\n",
    "X = df2.drop(columns = ['hours_needed', 'index']).to_numpy()\n",
    "y = df2[['hours_needed']].to_numpy()\n",
    "\n",
    "X_train, X_test, y_train, y_test = train_test_split(X, y, test_size = 0.2, random_state = 0)"
   ]
  },
  {
   "cell_type": "markdown",
   "metadata": {},
   "source": [
    "### Linear Regressor"
   ]
  },
  {
   "cell_type": "code",
   "execution_count": 42,
   "metadata": {},
   "outputs": [
    {
     "name": "stderr",
     "output_type": "stream",
     "text": [
      "/Users/thomsuykerbuyk/anaconda3/lib/python3.7/site-packages/ipykernel_launcher.py:13: SettingWithCopyWarning: \n",
      "A value is trying to be set on a copy of a slice from a DataFrame.\n",
      "Try using .loc[row_indexer,col_indexer] = value instead\n",
      "\n",
      "See the caveats in the documentation: http://pandas.pydata.org/pandas-docs/stable/user_guide/indexing.html#returning-a-view-versus-a-copy\n",
      "  del sys.path[0]\n"
     ]
    },
    {
     "data": {
      "image/png": "[encoded data removed]",
      "text/plain": [
       "<Figure size 1152x720 with 1 Axes>"
      ]
     },
     "metadata": {
      "needs_background": "light"
     },
     "output_type": "display_data"
    }
   ],
   "source": [
    "from sklearn.linear_model import LinearRegression\n",
    "from sklearn.metrics import mean_squared_error, r2_score\n",
    "from matplotlib import pyplot as plt\n",
    "\n",
    "regression_model = LinearRegression()\n",
    "# Fit the data(train the model)\n",
    "regression_model.fit(X_train, y_train)\n",
    "\n",
    "y_pred = regression_model.predict(X_test)\n",
    "\n",
    "df = pd.DataFrame({'Actual': y_test.flatten(), 'Predicted': y_pred.flatten()})\n",
    "df1 = df.head(25)\n",
    "df1['Predicted'] = [int(i) for i in df1['Predicted']]\n",
    "df1.plot(kind='bar',figsize=(16,10))\n",
    "plt.grid(which='major', linestyle='-', linewidth='0.5', color='green')\n",
    "plt.grid(which='minor', linestyle=':', linewidth='0.5', color='black')\n",
    "plt.show()"
   ]
  },
  {
   "cell_type": "code",
   "execution_count": 43,
   "metadata": {},
   "outputs": [
    {
     "name": "stdout",
     "output_type": "stream",
     "text": [
      "Mean Absolute Error: 8.160022865853659\n",
      "Mean Squared Error: 75477.83191692074\n",
      "Root Mean Squared Error: 274.7322913618287\n"
     ]
    }
   ],
   "source": [
    "import numpy as np\n",
    "from sklearn import metrics\n",
    "print('Mean Absolute Error:', metrics.mean_absolute_error(y_test, y_pred) / 24)  \n",
    "print('Mean Squared Error:', metrics.mean_squared_error(y_test, y_pred))  \n",
    "print('Root Mean Squared Error:', np.sqrt(metrics.mean_squared_error(y_test, y_pred)))"
   ]
  },
  {
   "cell_type": "markdown",
   "metadata": {},
   "source": [
    "# Save model"
   ]
  },
  {
   "cell_type": "code",
   "execution_count": 44,
   "metadata": {},
   "outputs": [
    {
     "data": {
      "text/plain": [
       "['../model/machine_learning_model.sav']"
      ]
     },
     "execution_count": 44,
     "metadata": {},
     "output_type": "execute_result"
    }
   ],
   "source": [
    "from joblib import Memory\n",
    "import joblib as joblib\n",
    "\n",
    "filename = '../model/machine_learning_model.sav'\n",
    "joblib.dump(regression_model, filename)"
   ]
  },
  {
   "cell_type": "markdown",
   "metadata": {},
   "source": [
    "# Load model"
   ]
  },
  {
   "cell_type": "code",
   "execution_count": 50,
   "metadata": {},
   "outputs": [
    {
     "name": "stdout",
     "output_type": "stream",
     "text": [
      "(1119, 72)\n"
     ]
    }
   ],
   "source": [
    "# read dataset\n",
    "import pandas as pd\n",
    "from joblib import Memory\n",
    "import joblib as joblib\n",
    "\n",
    "import pandas as pd\n",
    "import pdpipe as pdp\n",
    "from sklearn.preprocessing import RobustScaler\n",
    "from sklearn.preprocessing import LabelEncoder\n",
    "\n",
    "df = pd.read_csv(\"../data/transformed/data_for_train.csv\")\n",
    "df = df.sort_values(by = ['createdYear', 'createdMonth', 'createdDay'], ascending = True)\n",
    "df = df.dropna(subset=['assignee'])\n",
    "\n",
    "# columns to drop\n",
    "columns_to_drop = ['Unnamed: 0', 'project', 'status', 'updated', 'key',\n",
    "                   'days_in_current_status', 'reporter',\n",
    "                   'resolutiondate', 'time_needed','created_date','Non-existent_Open', \n",
    "                   '0','1','2','3','4','5','6','7','8','9','10', 'days_needed',\n",
    "                   'Open_Patch Available','Patch Available_In Progress', 'Open_Resolved',\n",
    "                   'Patch Available_Resolved', 'Resolved_Reopened', 'Reopened_Resolved',\n",
    "                   'In Progress_Patch Available', 'Patch Available_Open','Reopened_Patch Available',\n",
    "                   'Open_In Progress', 'In Progress_Resolved', 'index.1', 'createdElapsed', 'step5', 'step0']\n",
    "\n",
    "# columns that will be scaled with robust scaler\n",
    "columns_scaling = ['comment_count', 'description_length', 'summary_length', 'watch_count']\n",
    "# columsn to be one hot encoded\n",
    "columns_one_hot_encoding = ['steps_taken', 'resolution', ]\n",
    "# from categorical to numerical data\n",
    "columns_numerical = ['priority', 'issue_type']\n",
    "columns_to_change = ['step1', 'step2', 'step3', 'step4']\n",
    "# columns that will be scaled with robust scaler\n",
    "columns_scaling = ['comment_count', 'description_length', 'summary_length', 'watch_count']\n",
    "# columsn to be one hot encoded\n",
    "columns_one_hot_encoding = ['steps_taken', 'resolution', ]\n",
    "# from categorical to numerical data\n",
    "columns_numerical = ['priority', 'issue_type']\n",
    "columns_to_change = ['step1', 'step2', 'step3', 'step4']\n",
    "\n",
    "pipeline = pdp.ColDrop(columns_to_drop) # drop columns\n",
    "pipeline += pdp.Scale('RobustScaler', columns_scaling) # scale data -> robust scaler, handles outliers\n",
    "pipeline += pdp.OneHotEncode(columns_one_hot_encoding) # one hote encoding technique\n",
    "pipeline += pdp.Encode(['assignee'])\n",
    "pipeline += pdp.MapColVals('priority', {'Minor': 0, \n",
    "                                       'Trival': 1, \n",
    "                                       'Blocker': 2,\n",
    "                                       'Major': 3,\n",
    "                                       'Critical': 4})\n",
    "pipeline += pdp.MapColVals('issue_type',{'Test': 0,\n",
    "                                        'Bug': 1,\n",
    "                                        'Improvement':2,\n",
    "                                        'Task':3,\n",
    "                                        'Wish':4,\n",
    "                                        'New Feature':5,\n",
    "                                        'Sub-task':6})\n",
    "\n",
    "\n",
    "pipeline += pdp.MapColVals(columns_to_change, {'Non-existent': 0,\n",
    "                                               'Open': 1,\n",
    "                                               'Resolved': 2,\n",
    "                                               'Patch Available': 3,\n",
    "                                               'Reopened': 4,\n",
    "                                               'In Progress': 5,\n",
    "                                               'Reopened': 6,\n",
    "                                                '0': 0,\n",
    "                                              })\n",
    "\n",
    "\n",
    "\n",
    "df2 = pipeline(df)\n",
    "df2 = df2.fillna(0)\n",
    "print(df2.shape)\n",
    "\n",
    "# load the model from disk\n",
    "filename = '../model/machine_learning_model.sav'\n",
    "loaded_model = joblib.load(filename)\n",
    "\n"
   ]
  },
  {
   "cell_type": "code",
   "execution_count": null,
   "metadata": {},
   "outputs": [],
   "source": []
  },
  {
   "cell_type": "code",
   "execution_count": 51,
   "metadata": {},
   "outputs": [],
   "source": [
    "X = df2.drop(columns = ['hours_needed', 'index']).to_numpy()\n",
    "#y = df2[['hours_needed']].to_numpy()\n",
    "\n",
    "df['predicted_value'] = loaded_model.predict(X)"
   ]
  },
  {
   "cell_type": "code",
   "execution_count": 19,
   "metadata": {},
   "outputs": [
    {
     "data": {
      "text/plain": [
       "0        668.75\n",
       "1        -94.00\n",
       "2        594.50\n",
       "3       1227.75\n",
       "4       1504.00\n",
       "         ...   \n",
       "1417    -795.00\n",
       "1418      60.75\n",
       "1419   -2020.00\n",
       "1420    -867.25\n",
       "1421     -83.50\n",
       "Name: predicted_value, Length: 1422, dtype: float64"
      ]
     },
     "execution_count": 19,
     "metadata": {},
     "output_type": "execute_result"
    }
   ],
   "source": [
    "df['']"
   ]
  },
  {
   "cell_type": "code",
   "execution_count": 52,
   "metadata": {},
   "outputs": [],
   "source": [
    "from datetime import datetime, timedelta\n",
    "\n",
    "\n",
    "\n",
    "df[['key', 'created_date', 'hours_needed' ,'predicted_value']].to_csv('someting.csv')\n",
    "df['created_date'] = pd.to_datetime(df['created_date'])\n",
    "\n",
    "\n",
    "df = df.reset_index()\n",
    "\n",
    "df['predicted_value'] = df['predicted_value'].astype(int)\n",
    "\n",
    "j = []\n",
    "for i in df['predicted_value']:\n",
    "    if i > 1000000:\n",
    "        i = int(str(i)[:3])\n",
    "        j.append(timedelta(hours = i))\n",
    "    else:\n",
    "        j.append(timedelta(hours = i))\n",
    "df['j'] = j\n",
    "df['predicted_date'] = df['created_date'] + df['j']\n",
    "df= df[['key','created_date','predicted_value', 'predicted_date' ,'resolutiondate']]\n",
    "\n",
    "df.to_csv('../data/result/prediction.csv')"
   ]
  },
  {
   "cell_type": "code",
   "execution_count": 53,
   "metadata": {},
   "outputs": [
    {
     "data": {
      "text/html": [
       "<div>\n",
       "<style scoped>\n",
       "    .dataframe tbody tr th:only-of-type {\n",
       "        vertical-align: middle;\n",
       "    }\n",
       "\n",
       "    .dataframe tbody tr th {\n",
       "        vertical-align: top;\n",
       "    }\n",
       "\n",
       "    .dataframe thead th {\n",
       "        text-align: right;\n",
       "    }\n",
       "</style>\n",
       "<table border=\"1\" class=\"dataframe\">\n",
       "  <thead>\n",
       "    <tr style=\"text-align: right;\">\n",
       "      <th></th>\n",
       "      <th>key</th>\n",
       "      <th>created_date</th>\n",
       "      <th>predicted_value</th>\n",
       "      <th>predicted_date</th>\n",
       "      <th>resolutiondate</th>\n",
       "    </tr>\n",
       "  </thead>\n",
       "  <tbody>\n",
       "    <tr>\n",
       "      <th>0</th>\n",
       "      <td>AVRO-2</td>\n",
       "      <td>2009-04-09 22:34:55.599000+00:00</td>\n",
       "      <td>524</td>\n",
       "      <td>2009-05-01 18:34:55.599000+00:00</td>\n",
       "      <td>2009-06-02 19:04:10.508000+00:00</td>\n",
       "    </tr>\n",
       "    <tr>\n",
       "      <th>1</th>\n",
       "      <td>AVRO-1</td>\n",
       "      <td>2009-04-09 22:09:08.216000+00:00</td>\n",
       "      <td>258</td>\n",
       "      <td>2009-04-20 16:09:08.216000+00:00</td>\n",
       "      <td>2009-04-27 20:14:06.572000+00:00</td>\n",
       "    </tr>\n",
       "    <tr>\n",
       "      <th>2</th>\n",
       "      <td>AVRO-4</td>\n",
       "      <td>2009-04-10 23:20:38.998000+00:00</td>\n",
       "      <td>87</td>\n",
       "      <td>2009-04-14 14:20:38.998000+00:00</td>\n",
       "      <td>2009-04-14 22:12:34.962000+00:00</td>\n",
       "    </tr>\n",
       "    <tr>\n",
       "      <th>3</th>\n",
       "      <td>AVRO-3</td>\n",
       "      <td>2009-04-10 20:14:54.370000+00:00</td>\n",
       "      <td>132</td>\n",
       "      <td>2009-04-16 08:14:54.370000+00:00</td>\n",
       "      <td>2009-04-10 23:31:56.052000+00:00</td>\n",
       "    </tr>\n",
       "    <tr>\n",
       "      <th>4</th>\n",
       "      <td>AVRO-6</td>\n",
       "      <td>2009-04-11 17:32:37.971000+00:00</td>\n",
       "      <td>388</td>\n",
       "      <td>2009-04-27 21:32:37.971000+00:00</td>\n",
       "      <td>2009-04-14 21:43:08.903000+00:00</td>\n",
       "    </tr>\n",
       "  </tbody>\n",
       "</table>\n",
       "</div>"
      ],
      "text/plain": [
       "      key                     created_date  predicted_value  \\\n",
       "0  AVRO-2 2009-04-09 22:34:55.599000+00:00              524   \n",
       "1  AVRO-1 2009-04-09 22:09:08.216000+00:00              258   \n",
       "2  AVRO-4 2009-04-10 23:20:38.998000+00:00               87   \n",
       "3  AVRO-3 2009-04-10 20:14:54.370000+00:00              132   \n",
       "4  AVRO-6 2009-04-11 17:32:37.971000+00:00              388   \n",
       "\n",
       "                    predicted_date                    resolutiondate  \n",
       "0 2009-05-01 18:34:55.599000+00:00  2009-06-02 19:04:10.508000+00:00  \n",
       "1 2009-04-20 16:09:08.216000+00:00  2009-04-27 20:14:06.572000+00:00  \n",
       "2 2009-04-14 14:20:38.998000+00:00  2009-04-14 22:12:34.962000+00:00  \n",
       "3 2009-04-16 08:14:54.370000+00:00  2009-04-10 23:31:56.052000+00:00  \n",
       "4 2009-04-27 21:32:37.971000+00:00  2009-04-14 21:43:08.903000+00:00  "
      ]
     },
     "execution_count": 53,
     "metadata": {},
     "output_type": "execute_result"
    }
   ],
   "source": [
    "df.head()"
   ]
  },
  {
   "cell_type": "code",
   "execution_count": null,
   "metadata": {},
   "outputs": [],
   "source": []
  },
  {
   "cell_type": "code",
   "execution_count": null,
   "metadata": {},
   "outputs": [],
   "source": []
  },
  {
   "cell_type": "code",
   "execution_count": null,
   "metadata": {},
   "outputs": [],
   "source": []
  },
  {
   "cell_type": "code",
   "execution_count": null,
   "metadata": {},
   "outputs": [],
   "source": []
  },
  {
   "cell_type": "code",
   "execution_count": null,
   "metadata": {},
   "outputs": [],
   "source": []
  },
  {
   "cell_type": "code",
   "execution_count": null,
   "metadata": {},
   "outputs": [],
   "source": []
  },
  {
   "cell_type": "code",
   "execution_count": null,
   "metadata": {},
   "outputs": [],
   "source": []
  },
  {
   "cell_type": "code",
   "execution_count": null,
   "metadata": {},
   "outputs": [],
   "source": []
  },
  {
   "cell_type": "markdown",
   "metadata": {},
   "source": [
    "### DecisionTree Regressor"
   ]
  },
  {
   "cell_type": "code",
   "execution_count": null,
   "metadata": {},
   "outputs": [],
   "source": [
    "from sklearn.tree import DecisionTreeRegressor\n",
    "from sklearn.ensemble import BaggingRegressor\n",
    "from sklearn.svm import SVR\n",
    "\n",
    "dtm = DecisionTreeRegressor()\n",
    "\n",
    "dtm.fit(X_train,y_train)\n",
    "\n",
    "y_pred = dtm.predict(X_test)\n",
    "df = pd.DataFrame({'Actual': y_test.flatten(), 'Predicted': y_pred.flatten()})\n",
    "\n",
    "df1 = df.head(25)\n",
    "df1.plot(kind='bar',figsize=(16,10))\n",
    "plt.grid(which='major', linestyle='-', linewidth='0.5', color='green')\n",
    "plt.grid(which='minor', linestyle=':', linewidth='0.5', color='black')\n",
    "plt.show()"
   ]
  },
  {
   "cell_type": "code",
   "execution_count": null,
   "metadata": {
    "scrolled": true
   },
   "outputs": [],
   "source": [
    "from sklearn import metrics\n",
    "print('Mean Absolute Error:', metrics.mean_absolute_error(y_test, y_pred)/ 24)  \n",
    "print('Mean Squared Error:', metrics.mean_squared_error(y_test, y_pred))  \n",
    "print('Root Mean Squared Error:', np.sqrt(metrics.mean_squared_error(y_test, y_pred)))"
   ]
  },
  {
   "cell_type": "code",
   "execution_count": null,
   "metadata": {},
   "outputs": [],
   "source": [
    "from sklearn.model_selection import GridSearchCV\n",
    "\n",
    "param_grid = {\"criterion\": [\"mse\", \"mae\"],\n",
    "              \"min_samples_split\": [2, 4, 6, 8],\n",
    "              \"max_depth\": [2, 6, 8],\n",
    "              \"min_samples_leaf\": [20, 40, 100],\n",
    "              \"max_leaf_nodes\": [5, 10, 20],\n",
    "              }\n",
    "\n",
    "grid_cv_dtm = GridSearchCV(dtm, param_grid, cv=4)\n",
    "grid_cv_dtm.fit(X,y)"
   ]
  },
  {
   "cell_type": "code",
   "execution_count": null,
   "metadata": {},
   "outputs": [],
   "source": [
    "print(\"Best Hyperparameters::\\n{}\".format(grid_cv_dtm.best_params_))"
   ]
  },
  {
   "cell_type": "code",
   "execution_count": null,
   "metadata": {},
   "outputs": [],
   "source": [
    "df = pd.DataFrame(data=grid_cv_dtm.cv_results_)\n"
   ]
  },
  {
   "cell_type": "code",
   "execution_count": null,
   "metadata": {},
   "outputs": [],
   "source": [
    "import seaborn as sns\n",
    "fig,ax = plt.subplots()\n",
    "sns.pointplot(data=df[['mean_test_score',\n",
    "                           'param_max_leaf_nodes',\n",
    "                           'param_max_depth']],\n",
    "             y='mean_test_score',x='param_max_depth',\n",
    "             hue='param_max_leaf_nodes',ax=ax)\n",
    "ax.set(title=\"Effect of Depth and Leaf Nodes on Model Performance\")"
   ]
  },
  {
   "cell_type": "code",
   "execution_count": null,
   "metadata": {
    "scrolled": false
   },
   "outputs": [],
   "source": [
    "predicted = grid_cv_dtm.best_estimator_.predict(X)\n",
    "residuals = y.flatten()-predicted\n",
    "\n",
    "fig, ax = plt.subplots()\n",
    "ax.scatter(y.flatten(), residuals)\n",
    "ax.axhline(lw=2,color='black')\n",
    "ax.set_xlabel('Observed')\n",
    "ax.set_ylabel('Residual')\n",
    "plt.show()"
   ]
  },
  {
   "cell_type": "code",
   "execution_count": null,
   "metadata": {},
   "outputs": [],
   "source": [
    "best_dtm_model = grid_cv_dtm.best_estimator_\n",
    "\n",
    "y_pred = best_dtm_model.predict(X_test)\n",
    "residuals = y_test.flatten() - y_pred\n",
    "\n",
    "\n",
    "r2_score = best_dtm_model.score(X_test,y_test)\n",
    "print(\"R-squared:{:.3f}\".format(r2_score))\n",
    "print(\"MSE: %.2f\" % metrics.mean_squared_error(y_test, y_pred))"
   ]
  },
  {
   "cell_type": "code",
   "execution_count": null,
   "metadata": {},
   "outputs": [],
   "source": [
    "from sklearn import metrics\n",
    "\n",
    "best_dtm_model = grid_cv_dtm.best_estimator_\n",
    "\n",
    "y_pred = best_dtm_model.predict(X_test)\n",
    "residuals = y_test.flatten() - y_pred\n",
    "\n",
    "\n",
    "r2_score = best_dtm_model.score(X_test,y_test)\n",
    "print(\"R-squared:{:.3f}\".format(r2_score))\n",
    "print(\"MSE: %.2f\" % metrics.mean_squared_error(y_test, y_pred))\n",
    "\n",
    "print('Mean Absolute Error:', metrics.mean_absolute_error(y_test, y_pred) / 24)  \n",
    "print('Mean Squared Error:', metrics.mean_squared_error(y_test, y_pred))  \n",
    "print('Root Mean Squared Error:', np.sqrt(metrics.mean_squared_error(y_test, y_pred)))"
   ]
  },
  {
   "cell_type": "code",
   "execution_count": null,
   "metadata": {},
   "outputs": [],
   "source": [
    "from joblib import Memory\n",
    "import joblib as joblib\n",
    "\n",
    "filename = '../model/machine_learning_model.sav'\n",
    "joblib.dump(regression_model, filename)\n",
    "\n",
    "\n",
    "\n",
    "# load the model from disk\n",
    "loaded_model = joblib.load(filename)\n",
    "result = loaded_model.score(X_test, y_test)"
   ]
  },
  {
   "cell_type": "code",
   "execution_count": null,
   "metadata": {},
   "outputs": [],
   "source": [
    "from datetime import datetime, timedelta\n",
    "X = df2.drop(columns = ['hours_diff', 'index']).to_numpy()\n",
    "\n",
    "df['predicted_value'] = loaded_model.predict(X)\n",
    "df[['key', 'created_date', 'hours_diff' ,'predicted_value', 'differnce_days']].to_csv('someting.csv')\n",
    "df['created_date'] = pd.to_datetime(df['created_date'])\n",
    "\n",
    "df = df.drop(columns = 'level_0')\n",
    "df = df.reset_index()\n",
    "\n",
    "df['predicted_value'] = df['predicted_value'].astype(int)\n",
    "\n",
    "j = []\n",
    "for i in df['predicted_value']:\n",
    "    if i > 1000000:\n",
    "        i = int(str(i)[:3])\n",
    "        j.append(timedelta(hours = i))\n",
    "    else:\n",
    "        j.append(timedelta(hours = i))\n",
    "df['j'] = j\n",
    "df['predicted_date'] = df['created_date'] + df['j']\n",
    "df= df[['key','created_date','predicted_value', 'predicted_date' ,'resolutiondate']]\n",
    "\n",
    "df.to_csv('../data/result/prediction.csv')"
   ]
  },
  {
   "cell_type": "code",
   "execution_count": null,
   "metadata": {},
   "outputs": [],
   "source": [
    "import numpy as np\n",
    "import matplotlib.pyplot as plt\n",
    "\n",
    "from sklearn.datasets import make_classification\n",
    "from sklearn.ensemble import ExtraTreesClassifier\n",
    "\n",
    "\n",
    "# Build a forest and compute the feature importances\n",
    "forest = ExtraTreesClassifier(n_estimators=250,\n",
    "                              random_state=0)\n",
    "\n",
    "forest.fit(X, y)\n",
    "importances = forest.feature_importances_\n",
    "std = np.std([tree.feature_importances_ for tree in forest.estimators_],\n",
    "             axis=0)\n",
    "indices = np.argsort(importances)[::-1]\n",
    "\n",
    "# Print the feature ranking\n",
    "print(\"Feature ranking:\")\n",
    "for f in range(X.shape[1])[:10]:\n",
    "    print(\"%d. feature %d (%f)\" % (f + 1, indices[f], importances[indices[f]]))\n",
    "\n",
    "# Plot the feature importances of the forest\n",
    "plt.figure()\n",
    "plt.title(\"Feature importances\")\n",
    "plt.bar(range(X.shape[1]), importances[indices],\n",
    "       color=\"r\", yerr=std[indices], align=\"center\")\n",
    "plt.xticks(range(X.shape[1]), indices)\n",
    "plt.xlim([-1, X.shape[1]])\n",
    "plt.show()"
   ]
  },
  {
   "cell_type": "code",
   "execution_count": null,
   "metadata": {},
   "outputs": [],
   "source": []
  },
  {
   "cell_type": "code",
   "execution_count": null,
   "metadata": {},
   "outputs": [],
   "source": []
  },
  {
   "cell_type": "code",
   "execution_count": null,
   "metadata": {},
   "outputs": [],
   "source": []
  },
  {
   "cell_type": "code",
   "execution_count": null,
   "metadata": {},
   "outputs": [],
   "source": []
  }
 ],
 "metadata": {
  "kernelspec": {
   "display_name": "Python 3",
   "language": "python",
   "name": "python3"
  },
  "language_info": {
   "codemirror_mode": {
    "name": "ipython",
    "version": 3
   },
   "file_extension": ".py",
   "mimetype": "text/x-python",
   "name": "python",
   "nbconvert_exporter": "python",
   "pygments_lexer": "ipython3",
   "version": "3.7.3"
  }
 },
 "nbformat": 4,
 "nbformat_minor": 2
}
